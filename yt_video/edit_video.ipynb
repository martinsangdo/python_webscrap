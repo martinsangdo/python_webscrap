{
 "cells": [
  {
   "cell_type": "code",
   "execution_count": 18,
   "metadata": {},
   "outputs": [],
   "source": [
    "import os\n",
    "import sys\n",
    "from dotenv import load_dotenv\n",
    "import subprocess"
   ]
  },
  {
   "cell_type": "code",
   "execution_count": 19,
   "metadata": {},
   "outputs": [],
   "source": [
    "# Get the current working directory of the notebook\n",
    "notebook_dir = os.getcwd()\n",
    "# Get the path to the parent directory\n",
    "parent_dir = os.path.dirname(notebook_dir)\n",
    "\n",
    "# Add the parent directory to sys.path if it's not already there\n",
    "if parent_dir not in sys.path:\n",
    "    sys.path.append(parent_dir)"
   ]
  },
  {
   "cell_type": "code",
   "execution_count": 20,
   "metadata": {},
   "outputs": [
    {
     "name": "stdout",
     "output_type": "stream",
     "text": [
      "/Users/sang/Downloads/SetupFiles/ffmpeg/ffmpeg\n"
     ]
    }
   ],
   "source": [
    "load_dotenv(override=True) \n",
    "\n",
    "FF_FULL_PATH = os.environ['FF_FULL_PATH']\n",
    "print(FF_FULL_PATH)"
   ]
  },
  {
   "cell_type": "code",
   "execution_count": 21,
   "metadata": {},
   "outputs": [],
   "source": [
    "video_path = 'yt_cho_ban_chim_canh.mp4'\n",
    "flipped_path = 'flipped_' + video_path"
   ]
  },
  {
   "cell_type": "code",
   "execution_count": 22,
   "metadata": {},
   "outputs": [],
   "source": [
    "def process_command(ffmpeg_command):\n",
    "    abs_image_folder = os.path.abspath('.')\n",
    "\n",
    "    try:\n",
    "            result = subprocess.run(\n",
    "                ffmpeg_command,\n",
    "                cwd=abs_image_folder, # This changes the directory for THIS command execution\n",
    "                check=True,\n",
    "                capture_output=True,\n",
    "                text=True\n",
    "            )\n",
    "            print(\"\\nFFmpeg command executed successfully!\")\n",
    "            print(\"STDOUT:\")\n",
    "            print(result.stdout)\n",
    "            print(\"STDERR:\")\n",
    "            print(result.stderr) # ffmpeg often prints progress to stderr\n",
    "            print(f\"Video '{flipped_path}' created successfully\")\n",
    "            return True\n",
    "    except FileNotFoundError:\n",
    "            print(f\"Error: FFmpeg command not found. Make sure FFmpeg is installed and in your system's PATH.\")\n",
    "            return False\n",
    "    except subprocess.CalledProcessError as e:\n",
    "            print(f\"Error: FFmpeg command failed with exit code {e.returncode}\")\n",
    "            print(\"STDOUT:\")\n",
    "            print(e.stdout)\n",
    "            print(\"STDERR:\")\n",
    "            print(e.stderr)\n",
    "            return False\n",
    "    except Exception as e:\n",
    "            print(f\"An unexpected error occurred: {e}\")\n",
    "            return False"
   ]
  },
  {
   "cell_type": "code",
   "execution_count": 23,
   "metadata": {},
   "outputs": [],
   "source": [
    "#flip the video horizontally\n",
    "def flip_video():\n",
    "    ffmpeg_command = [\n",
    "        FF_FULL_PATH,\n",
    "        \"-i\", video_path,\n",
    "        \"-vf\", \"hflip\",\n",
    "        flipped_path\n",
    "    ]\n",
    "    process_command(ffmpeg_command)\n",
    "#test\n",
    "#flip_video()    #266MB ~ 8 minutes (size is bigger ???)"
   ]
  },
  {
   "cell_type": "code",
   "execution_count": null,
   "metadata": {},
   "outputs": [
    {
     "name": "stdout",
     "output_type": "stream",
     "text": [
      "\n",
      "FFmpeg command executed successfully!\n",
      "STDOUT:\n",
      "\n",
      "STDERR:\n",
      "ffmpeg version 7.1.1-tessus  https://evermeet.cx/ffmpeg/  Copyright (c) 2000-2025 the FFmpeg developers\n",
      "  built with Apple clang version 16.0.0 (clang-1600.0.26.6)\n",
      "  configuration: --cc=/usr/bin/clang --prefix=/opt/ffmpeg --extra-version=tessus --enable-avisynth --enable-fontconfig --enable-gpl --enable-libaom --enable-libass --enable-libbluray --enable-libdav1d --enable-libfreetype --enable-libgsm --enable-libharfbuzz --enable-libmodplug --enable-libmp3lame --enable-libmysofa --enable-libopencore-amrnb --enable-libopencore-amrwb --enable-libopenh264 --enable-libopenjpeg --enable-libopus --enable-librubberband --enable-libshine --enable-libsnappy --enable-libsoxr --enable-libspeex --enable-libtheora --enable-libtwolame --enable-libvidstab --enable-libvmaf --enable-libvo-amrwbenc --enable-libvorbis --enable-libvpx --enable-libwebp --enable-libx264 --enable-libx265 --enable-libxavs --enable-libxml2 --enable-libxvid --enable-libzimg --enable-libzmq --enable-libzvbi --enable-version3 --pkg-config-flags=--static --disable-ffplay\n",
      "  libavutil      59. 39.100 / 59. 39.100\n",
      "  libavcodec     61. 19.101 / 61. 19.101\n",
      "  libavformat    61.  7.100 / 61.  7.100\n",
      "  libavdevice    61.  3.100 / 61.  3.100\n",
      "  libavfilter    10.  4.100 / 10.  4.100\n",
      "  libswscale      8.  3.100 /  8.  3.100\n",
      "  libswresample   5.  3.100 /  5.  3.100\n",
      "  libpostproc    58.  3.100 / 58.  3.100\n",
      "Input #0, mov,mp4,m4a,3gp,3g2,mj2, from 'flipped_yt_cho_ban_chim_canh.mp4':\n",
      "  Metadata:\n",
      "    major_brand     : isom\n",
      "    minor_version   : 512\n",
      "    compatible_brands: isomiso2avc1mp41\n",
      "    encoder         : Lavf61.7.100\n",
      "  Duration: 00:15:30.53, start: 0.000000, bitrate: 3798 kb/s\n",
      "  Stream #0:0[0x1](und): Video: h264 (High) (avc1 / 0x31637661), yuv420p(tv, bt709, progressive), 1280x720 [SAR 1:1 DAR 16:9], 3796 kb/s, 30 fps, 30 tbr, 15360 tbn (default)\n",
      "      Metadata:\n",
      "        handler_name    : ISO Media file produced by Google Inc.\n",
      "        vendor_id       : [0][0][0][0]\n",
      "        encoder         : Lavc61.19.101 libx264\n",
      "Stream mapping:\n",
      "  Stream #0:0 -> #0:0 (copy)\n",
      "[segment @ 0x7fd20800b480] Opening 'part_000.mp4' for writing\n",
      "Output #0, segment, to 'part_%03d.mp4':\n",
      "  Metadata:\n",
      "    major_brand     : isom\n",
      "    minor_version   : 512\n",
      "    compatible_brands: isomiso2avc1mp41\n",
      "    encoder         : Lavf61.7.100\n",
      "  Stream #0:0(und): Video: h264 (High) (avc1 / 0x31637661), yuv420p(tv, bt709, progressive), 1280x720 [SAR 1:1 DAR 16:9], q=2-31, 3796 kb/s, 30 fps, 30 tbr, 15360 tbn (default)\n",
      "      Metadata:\n",
      "        handler_name    : ISO Media file produced by Google Inc.\n",
      "        vendor_id       : [0][0][0][0]\n",
      "        encoder         : Lavc61.19.101 libx264\n",
      "Press [q] to stop, [?] for help\n",
      "[segment @ 0x7fd20800b480] Opening 'part_001.mp4' for writing\n",
      "[segment @ 0x7fd20800b480] Opening 'part_002.mp4' for writing\n",
      "[segment @ 0x7fd20800b480] Opening 'part_003.mp4' for writing\n",
      "[segment @ 0x7fd20800b480] Opening 'part_004.mp4' for writing\n",
      "[segment @ 0x7fd20800b480] Opening 'part_005.mp4' for writing\n",
      "[segment @ 0x7fd20800b480] Opening 'part_006.mp4' for writing\n",
      "[segment @ 0x7fd20800b480] Opening 'part_007.mp4' for writing\n",
      "[segment @ 0x7fd20800b480] Opening 'part_008.mp4' for writing\n",
      "[segment @ 0x7fd20800b480] Opening 'part_009.mp4' for writing\n",
      "[segment @ 0x7fd20800b480] Opening 'part_010.mp4' for writing\n",
      "[segment @ 0x7fd20800b480] Opening 'part_011.mp4' for writing\n",
      "[segment @ 0x7fd20800b480] Opening 'part_012.mp4' for writing\n",
      "[segment @ 0x7fd20800b480] Opening 'part_013.mp4' for writing\n",
      "[segment @ 0x7fd20800b480] Opening 'part_014.mp4' for writing\n",
      "[segment @ 0x7fd20800b480] Opening 'part_015.mp4' for writing\n",
      "frame=14472 fps=0.0 q=-1.0 size=N/A time=00:08:02.60 bitrate=N/A speed= 964x    \n",
      "[segment @ 0x7fd20800b480] Opening 'part_016.mp4' for writing\n",
      "[segment @ 0x7fd20800b480] Opening 'part_017.mp4' for writing\n",
      "[segment @ 0x7fd20800b480] Opening 'part_018.mp4' for writing\n",
      "[segment @ 0x7fd20800b480] Opening 'part_019.mp4' for writing\n",
      "[segment @ 0x7fd20800b480] Opening 'part_020.mp4' for writing\n",
      "[segment @ 0x7fd20800b480] Opening 'part_021.mp4' for writing\n",
      "[segment @ 0x7fd20800b480] Opening 'part_022.mp4' for writing\n",
      "[segment @ 0x7fd20800b480] Opening 'part_023.mp4' for writing\n",
      "[segment @ 0x7fd20800b480] Opening 'part_024.mp4' for writing\n",
      "[segment @ 0x7fd20800b480] Opening 'part_025.mp4' for writing\n",
      "[segment @ 0x7fd20800b480] Opening 'part_026.mp4' for writing\n",
      "[segment @ 0x7fd20800b480] Opening 'part_027.mp4' for writing\n",
      "[segment @ 0x7fd20800b480] Opening 'part_028.mp4' for writing\n",
      "[segment @ 0x7fd20800b480] Opening 'part_029.mp4' for writing\n",
      "[segment @ 0x7fd20800b480] Opening 'part_030.mp4' for writing\n",
      "[out#0/segment @ 0x7fd20800b380] video:431203KiB audio:0KiB subtitle:0KiB other streams:0KiB global headers:0KiB muxing overhead: unknown\n",
      "frame=27916 fps=27445 q=-1.0 Lsize=N/A time=00:15:30.46 bitrate=N/A speed= 915x    \n",
      "\n",
      "Video 'flipped_yt_cho_ban_chim_canh.mp4' created successfully\n"
     ]
    }
   ],
   "source": [
    "#split file\n",
    "def split_file():\n",
    "    with open(flipped_path, \"r\") as f:\n",
    "        # ffmpeg -i input.mp4 -c copy -map 0 -f segment -segment_time 30 -reset_timestamps 1 part_%03d.mp4\n",
    "        ffmpeg_command = [\n",
    "            FF_FULL_PATH,\n",
    "            \"-i\", flipped_path,\n",
    "            \"-c\", \"copy\",\n",
    "            '-map', '0',\n",
    "            '-f', 'segment',\n",
    "            '-segment_time', '15',  #15 seconds per each part\n",
    "            '-reset_timestamps', '1',\n",
    "            'part_%03d.mp4'\n",
    "        ]\n",
    "        process_command(ffmpeg_command)\n",
    "\n",
    "#test\n",
    "split_file()"
   ]
  },
  {
   "cell_type": "code",
   "execution_count": null,
   "metadata": {},
   "outputs": [],
   "source": []
  }
 ],
 "metadata": {
  "kernelspec": {
   "display_name": "3.9.10",
   "language": "python",
   "name": "python3"
  },
  "language_info": {
   "codemirror_mode": {
    "name": "ipython",
    "version": 3
   },
   "file_extension": ".py",
   "mimetype": "text/x-python",
   "name": "python",
   "nbconvert_exporter": "python",
   "pygments_lexer": "ipython3",
   "version": "3.9.10"
  }
 },
 "nbformat": 4,
 "nbformat_minor": 2
}
