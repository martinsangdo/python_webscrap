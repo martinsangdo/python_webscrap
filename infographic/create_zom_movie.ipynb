{
 "cells": [
  {
   "cell_type": "code",
   "execution_count": null,
   "metadata": {},
   "outputs": [],
   "source": [
    "import numpy as np\n",
    "#moviepy==1.0.3 imageio==2.31.5 imageio-ffmpeg\n",
    "# from moviepy import *"
   ]
  },
  {
   "cell_type": "code",
   "execution_count": null,
   "metadata": {},
   "outputs": [
    {
     "ename": "AttributeError",
     "evalue": "'ImageClip' object has no attribute 'resize'",
     "output_type": "error",
     "traceback": [
      "\u001b[0;31m---------------------------------------------------------------------------\u001b[0m",
      "\u001b[0;31mAttributeError\u001b[0m                            Traceback (most recent call last)",
      "Cell \u001b[0;32mIn[38], line 120\u001b[0m\n\u001b[1;32m    118\u001b[0m     \u001b[38;5;28mprint\u001b[39m(\u001b[38;5;124m\"\u001b[39m\u001b[38;5;124mPlease place a large image file in the same directory and name it \u001b[39m\u001b[38;5;124m'\u001b[39m\u001b[38;5;124mlarge_image.jpg\u001b[39m\u001b[38;5;124m'\u001b[39m\u001b[38;5;124m.\u001b[39m\u001b[38;5;124m\"\u001b[39m)\n\u001b[1;32m    119\u001b[0m \u001b[38;5;28;01melse\u001b[39;00m:\n\u001b[0;32m--> 120\u001b[0m     \u001b[43mcreate_zoom_pan_video\u001b[49m\u001b[43m(\u001b[49m\u001b[43mimage_file\u001b[49m\u001b[43m,\u001b[49m\u001b[43m \u001b[49m\u001b[43moutput_video\u001b[49m\u001b[43m)\u001b[49m\n",
      "Cell \u001b[0;32mIn[38], line 85\u001b[0m, in \u001b[0;36mcreate_zoom_pan_video\u001b[0;34m(image_path, output_path, duration, fps)\u001b[0m\n\u001b[1;32m     82\u001b[0m initial_scale \u001b[38;5;241m=\u001b[39m \u001b[38;5;241m3.0\u001b[39m\n\u001b[1;32m     83\u001b[0m final_scale \u001b[38;5;241m=\u001b[39m \u001b[38;5;241m1.0\u001b[39m\n\u001b[0;32m---> 85\u001b[0m original_image \u001b[38;5;241m=\u001b[39m \u001b[43mImageClip\u001b[49m\u001b[43m(\u001b[49m\u001b[43mimage_path\u001b[49m\u001b[43m)\u001b[49m\u001b[38;5;241;43m.\u001b[39;49m\u001b[43mresize\u001b[49m(height\u001b[38;5;241m=\u001b[39mvideo_height)\n\u001b[1;32m     86\u001b[0m image_width, image_height \u001b[38;5;241m=\u001b[39m original_image\u001b[38;5;241m.\u001b[39msize\n\u001b[1;32m     88\u001b[0m \u001b[38;5;28;01mdef\u001b[39;00m\u001b[38;5;250m \u001b[39m\u001b[38;5;21mget_scale\u001b[39m(t):\n",
      "\u001b[0;31mAttributeError\u001b[0m: 'ImageClip' object has no attribute 'resize'"
     ]
    }
   ],
   "source": [
    "from moviepy.video.VideoClip import VideoClip\n",
    "from moviepy.video.compositing.CompositeVideoClip import CompositeVideoClip\n",
    "from PIL import Image\n",
    "\n",
    "def create_zoom_pan_video_manual(image_path, output_path, duration=180, fps=30):\n",
    "    \"\"\"\n",
    "    Creates a video with a zoom-in and pan-from-right-to-left effect on a large image\n",
    "    by manually generating each frame using Pillow. This version is compatible with the latest moviepy API.\n",
    "\n",
    "    Args:\n",
    "        image_path (str): Path to the large input image.\n",
    "        output_path (str): Path to save the output video file (e.g., 'output.mp4').\n",
    "        duration (int): The duration of the video in seconds (3 minutes = 180 seconds).\n",
    "        fps (int): Frames per second of the output video.\n",
    "    \"\"\"\n",
    "    \n",
    "    # --- Video and Image Parameters ---\n",
    "    video_width = 1920\n",
    "    video_height = 1080\n",
    "    initial_scale = 3.0\n",
    "    final_scale = 1.0\n",
    "\n",
    "    # 1. Load the original image once using Pillow\n",
    "    original_pil_image = Image.open(image_path)\n",
    "    image_width, image_height = original_pil_image.size\n",
    "\n",
    "    # --- Frame Generation Function ---\n",
    "    def make_frame(t):\n",
    "        \"\"\"\n",
    "        This function is called by VideoClip to generate each frame at time t.\n",
    "        It calculates the zoom and pan, resizes the image, and places it on a canvas.\n",
    "        \"\"\"\n",
    "        # Calculate the scale factor at time t (from 3.0 to 1.0)\n",
    "        scale = initial_scale + (final_scale - initial_scale) * (t / duration)\n",
    "        \n",
    "        # Calculate the new size of the frame\n",
    "        new_width = int(image_width * scale)\n",
    "        new_height = int(image_height * scale)\n",
    "        \n",
    "        # Resize the image using Pillow's high-quality resampling\n",
    "        resized_pil_image = original_pil_image.resize((new_width, new_height), Image.Resampling.LANCZOS)\n",
    "        \n",
    "        # Calculate the position (x, y)\n",
    "        x_start = video_width - image_width * initial_scale\n",
    "        x_end = 0\n",
    "        x = int(x_start + (x_end - x_start) * (t / duration))\n",
    "        \n",
    "        y = int((video_height - new_height) / 2)\n",
    "        \n",
    "        # Create a blank black canvas for the frame\n",
    "        frame_canvas = Image.new('RGB', (video_width, video_height), (0, 0, 0))\n",
    "        \n",
    "        # Paste the resized image onto the canvas at the calculated position\n",
    "        frame_canvas.paste(resized_pil_image, (x, y))\n",
    "        \n",
    "        # Return the frame as a NumPy array\n",
    "        return np.array(frame_canvas)\n",
    "\n",
    "    # --- Create the Video Clip ---\n",
    "    # 2. Create a VideoClip with our make_frame function and set the duration\n",
    "    animated_clip = VideoClip(make_frame, duration=duration)\n",
    "\n",
    "    # --- Write the Video File ---\n",
    "    # 3. Write the final video file\n",
    "    print(\"Writing video file...\")\n",
    "    animated_clip.write_videofile(output_path, fps=fps, codec='libx264')\n",
    "    print(f\"Video '{output_path}' created successfully!\")\n",
    "\n",
    "# Example usage:\n",
    "if __name__ == '__main__':\n",
    "    image_file = 'big_img_4k_3840x2160.png'\n",
    "    output_video = 'zoom_pan_video.mp4'\n",
    "\n",
    "    import os\n",
    "    if not os.path.exists(image_file):\n",
    "        print(f\"Error: The image file '{image_file}' was not found.\")\n",
    "        print(\"Please place a large image file in the same directory and name it 'large_image.jpg'.\")\n",
    "    else:\n",
    "        create_zoom_pan_video(image_file, output_video)"
   ]
  },
  {
   "cell_type": "code",
   "execution_count": null,
   "metadata": {},
   "outputs": [],
   "source": []
  }
 ],
 "metadata": {
  "kernelspec": {
   "display_name": "3.9.10",
   "language": "python",
   "name": "python3"
  },
  "language_info": {
   "codemirror_mode": {
    "name": "ipython",
    "version": 3
   },
   "file_extension": ".py",
   "mimetype": "text/x-python",
   "name": "python",
   "nbconvert_exporter": "python",
   "pygments_lexer": "ipython3",
   "version": "3.9.10"
  }
 },
 "nbformat": 4,
 "nbformat_minor": 2
}
