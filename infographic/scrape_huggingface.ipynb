{
 "cells": [
  {
   "cell_type": "markdown",
   "metadata": {},
   "source": [
    "# Scrape models info from Hugging face"
   ]
  },
  {
   "cell_type": "code",
   "execution_count": 19,
   "metadata": {},
   "outputs": [],
   "source": [
    "import requests\n",
    "from bs4 import BeautifulSoup\n",
    "import json"
   ]
  },
  {
   "cell_type": "markdown",
   "metadata": {},
   "source": [
    "Output:\n",
    "- List of categories\n",
    "- List of models inside each category\n",
    "- Model:\n",
    "    + Name\n",
    "    + ..."
   ]
  },
  {
   "cell_type": "code",
   "execution_count": 20,
   "metadata": {},
   "outputs": [],
   "source": [
    "#define list of tasks\n",
    "categories = [] #'Multimodal', 'Computer Vision', 'Natural Language Processing', 'Audio', 'Tabular', 'Reinforcement Learning'\n",
    "cat_map = {}    #key: category, value: list of tasks\n"
   ]
  },
  {
   "cell_type": "code",
   "execution_count": 21,
   "metadata": {},
   "outputs": [],
   "source": [
    "def custom_query(get_url):\n",
    "    #print(get_url)\n",
    "    try:\n",
    "        r = requests.get(get_url)\n",
    "        return r.json()\n",
    "    except Exception as e:\n",
    "       print(e)\n",
    "       return {'error': e}"
   ]
  },
  {
   "cell_type": "code",
   "execution_count": 22,
   "metadata": {},
   "outputs": [],
   "source": [
    "#find task statistics\n",
    "def find_task_details(tag):\n",
    "    simple_details = {}\n",
    "    details = custom_query('https://huggingface.co/models-json?sort=downloads&withCount=true&pipeline_tag=' + tag)\n",
    "    if 'error' in details:\n",
    "        return {}   #error\n",
    "    #extract basic info\n",
    "    simple_details['numTotalItems'] = details['numTotalItems']\n",
    "    if 'models' in details:\n",
    "        model_details = []\n",
    "        for model in details['models']:\n",
    "            model_details.append({\n",
    "                'id': model['id'],\n",
    "                'downloads': model['downloads']\n",
    "            })\n",
    "        simple_details['models'] = model_details\n",
    "    return simple_details"
   ]
  },
  {
   "cell_type": "code",
   "execution_count": 28,
   "metadata": {},
   "outputs": [],
   "source": [
    "list_url = 'https://huggingface.co/models?sort=trending'\n",
    "response = requests.get(list_url)\n",
    "\n",
    "soup = BeautifulSoup(response.content, 'html.parser')\n",
    "items = soup.find_all('div', attrs={'class': 'mb-3'})\n",
    "index = 0\n",
    "for item in items:\n",
    "    a_tags = item.find_all('a', attrs={'class': 'mb-1 mr-1 md:mb-1.5 md:mr-1.5 rounded-lg'})\n",
    "    if a_tags != None and len(a_tags) > 0:\n",
    "        cat_tag = item.find('div', attrs={'class': 'mb-3 text-sm font-medium text-gray-500'})\n",
    "        cat_name = cat_tag.text.strip().replace('\\n', \"\").replace('\\t', \"\")\n",
    "        categories.append(cat_name)\n",
    "        task_list = []\n",
    "        for a_tag in a_tags:\n",
    "            # if index > 0:\n",
    "            #     break\n",
    "            tag_name = a_tag['href'].replace('/models?pipeline_tag=', '')\n",
    "            task_details = find_task_details(tag_name)\n",
    "            task_list.append({\n",
    "                'tag': tag_name,\n",
    "                'name': a_tag.find('span').text,\n",
    "                'task_details': task_details\n",
    "            })\n",
    "            index += 1\n",
    "        cat_map[cat_name+''] = task_list\n",
    "        # if index > 0:\n",
    "        #     break\n",
    "\n",
    "#done (1m 40s)\n",
    "#print(cat_map)\n",
    "with open('huggingface_modellist.json', 'w') as f:\n",
    "    f.write(str(cat_map).replace(\"'\", '\"'))\n"
   ]
  },
  {
   "cell_type": "code",
   "execution_count": null,
   "metadata": {},
   "outputs": [],
   "source": [
    "#find details of each tasks"
   ]
  }
 ],
 "metadata": {
  "kernelspec": {
   "display_name": "3.9.10",
   "language": "python",
   "name": "python3"
  },
  "language_info": {
   "codemirror_mode": {
    "name": "ipython",
    "version": 3
   },
   "file_extension": ".py",
   "mimetype": "text/x-python",
   "name": "python",
   "nbconvert_exporter": "python",
   "pygments_lexer": "ipython3",
   "version": "3.9.10"
  }
 },
 "nbformat": 4,
 "nbformat_minor": 2
}
