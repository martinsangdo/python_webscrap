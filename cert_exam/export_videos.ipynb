{
 "cells": [
  {
   "cell_type": "markdown",
   "metadata": {},
   "source": [
    "# Export 2 videos for youtube"
   ]
  },
  {
   "cell_type": "code",
   "execution_count": 1,
   "metadata": {},
   "outputs": [],
   "source": [
    "import sys\n",
    "import os\n",
    "import importlib\n",
    "import pymongo\n",
    "from dotenv import load_dotenv\n",
    "# Get the current working directory of the notebook\n",
    "notebook_dir = os.getcwd()\n",
    "# Get the path to the parent directory\n",
    "parent_dir = os.path.dirname(notebook_dir)\n",
    "\n",
    "# Add the parent directory to sys.path if it's not already there\n",
    "if parent_dir not in sys.path:\n",
    "    sys.path.append(parent_dir)"
   ]
  },
  {
   "cell_type": "code",
   "execution_count": 2,
   "metadata": {},
   "outputs": [],
   "source": [
    "load_dotenv(override=True) \n",
    "import const\n",
    "FF_FULL_PATH = os.environ['FF_FULL_PATH']"
   ]
  },
  {
   "cell_type": "code",
   "execution_count": 3,
   "metadata": {},
   "outputs": [],
   "source": [
    "db_client = pymongo.MongoClient(os.environ['DB_URI'])\n",
    "db = db_client['db_certificates']"
   ]
  },
  {
   "cell_type": "code",
   "execution_count": 4,
   "metadata": {},
   "outputs": [
    {
     "data": {
      "text/plain": [
       "<module 'exam_settings' from '/Users/sang/Documents/Source/Python/python_webscrap/cert_exam/exam_settings/__init__.py'>"
      ]
     },
     "execution_count": 4,
     "metadata": {},
     "output_type": "execute_result"
    }
   ],
   "source": [
    "import exam_settings\n",
    "importlib.reload(exam_settings) #always get latest code"
   ]
  },
  {
   "cell_type": "code",
   "execution_count": 5,
   "metadata": {},
   "outputs": [],
   "source": [
    "def main(num_of_questions, cert_symbol, channel):\n",
    "    cert_metadata = exam_settings.get_cert_metadata(db, cert_symbol)\n",
    "    questions = exam_settings.query_random_questions(db, num_of_questions, channel, cert_metadata)\n",
    "    #print(questions)\n",
    "    today_yyyymmdd = const.get_current_date_yyyymmdd()\n",
    "    #export to images\n",
    "    exported_result = exam_settings.generate_images(today_yyyymmdd, cert_metadata, questions)\n",
    "    if exported_result == False:\n",
    "        print('Cannot export all images')\n",
    "        return\n",
    "    #create video for questions\n",
    "    exported_result = exam_settings.create_video_from_images(FF_FULL_PATH, cert_metadata['img_folder_path']+\"/\"+today_yyyymmdd, today_yyyymmdd+\".mp4\", \"1/30\", \"/%02d.png\")\n",
    "    if exported_result == False:\n",
    "        print('Cannot export video for questions')\n",
    "        return\n",
    "    #create video for answers\n",
    "    exported_result = exam_settings.create_video_from_images(FF_FULL_PATH, cert_metadata['img_folder_path']+\"/\"+today_yyyymmdd, today_yyyymmdd+\"_explan.mp4\", \"1/5\", \"/_%02d.png\")\n",
    "    if exported_result == False:\n",
    "        print('Cannot export video for explanations')\n",
    "        return\n",
    "    #update db\n",
    "    exam_settings.update_questions_posted(db, cert_metadata, channel, today_yyyymmdd, questions)\n",
    "\n"
   ]
  },
  {
   "cell_type": "code",
   "execution_count": 1,
   "metadata": {},
   "outputs": [],
   "source": [
    "#AWS_SAA, AWS_SAP, AWS_CLF_C02, AWS_DVA_C02, AWS_MLA\n",
    "#main(20, 'AWS_MLA', 'Youtube')  #export 1 video with 20 images (30 secs per each), total ~ 5min 20 secs"
   ]
  },
  {
   "cell_type": "code",
   "execution_count": null,
   "metadata": {},
   "outputs": [],
   "source": []
  }
 ],
 "metadata": {
  "kernelspec": {
   "display_name": "3.9.10",
   "language": "python",
   "name": "python3"
  },
  "language_info": {
   "codemirror_mode": {
    "name": "ipython",
    "version": 3
   },
   "file_extension": ".py",
   "mimetype": "text/x-python",
   "name": "python",
   "nbconvert_exporter": "python",
   "pygments_lexer": "ipython3",
   "version": "3.9.10"
  }
 },
 "nbformat": 4,
 "nbformat_minor": 2
}
