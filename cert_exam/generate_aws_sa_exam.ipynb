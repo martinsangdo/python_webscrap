{
 "cells": [
  {
   "cell_type": "markdown",
   "metadata": {},
   "source": [
    "Generate questions for AWS SA exam"
   ]
  },
  {
   "cell_type": "code",
   "execution_count": 2,
   "metadata": {},
   "outputs": [],
   "source": [
    "import requests\n",
    "import math"
   ]
  },
  {
   "cell_type": "code",
   "execution_count": null,
   "metadata": {},
   "outputs": [],
   "source": [
    "TOTAL_QUESTIONS = 65\n",
    "DOMAINS = [\n",
    "    {\n",
    "        \"name\": \"Secure\",\n",
    "        \"percent\": 30,\n",
    "        \"num\": 19\n",
    "    },\n",
    "    {\n",
    "        \"name\": \"Resilient\",\n",
    "        \"percent\": 26,\n",
    "        \"num\": 16\n",
    "    },\n",
    "    {\n",
    "        \"name\": \"High-Performing\",\n",
    "        \"percent\": 24,\n",
    "        \"num\": 15 \n",
    "    },\n",
    "    {\n",
    "        \"name\": \"Cost-Optimized\",\n",
    "        \"percent\": 20,\n",
    "        \"num\": 15 \n",
    "    }\n",
    "]"
   ]
  },
  {
   "cell_type": "code",
   "execution_count": null,
   "metadata": {},
   "outputs": [
    {
     "name": "stdout",
     "output_type": "stream",
     "text": [
      "19\n",
      "16\n",
      "15\n",
      "13\n"
     ]
    }
   ],
   "source": [
    "#determin how many questions in each domain\n",
    "def get_questions_each_domain():\n",
    "    \n",
    "    for domain in DOMAINS:\n",
    "        no_quest = int(domain['percent'] * TOTAL_QUESTIONS / 100)\n",
    "        print(no_quest)\n",
    "#test\n",
    "get_questions_each_domain()"
   ]
  },
  {
   "cell_type": "code",
   "execution_count": null,
   "metadata": {},
   "outputs": [],
   "source": []
  }
 ],
 "metadata": {
  "kernelspec": {
   "display_name": "3.9.10",
   "language": "python",
   "name": "python3"
  },
  "language_info": {
   "codemirror_mode": {
    "name": "ipython",
    "version": 3
   },
   "file_extension": ".py",
   "mimetype": "text/x-python",
   "name": "python",
   "nbconvert_exporter": "python",
   "pygments_lexer": "ipython3",
   "version": "3.9.10"
  }
 },
 "nbformat": 4,
 "nbformat_minor": 2
}
