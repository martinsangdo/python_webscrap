{
 "cells": [
  {
   "cell_type": "markdown",
   "metadata": {},
   "source": [
    "Generate questions for AWS SA exam"
   ]
  },
  {
   "cell_type": "code",
   "execution_count": 65,
   "metadata": {},
   "outputs": [],
   "source": [
    "import requests\n",
    "from dotenv import load_dotenv\n",
    "import pymongo\n",
    "import time\n",
    "import uuid\n",
    "import sys\n",
    "import os\n",
    "import importlib\n",
    "import re\n",
    "import json\n",
    "\n",
    "# Get the current working directory of the notebook\n",
    "notebook_dir = os.getcwd()\n",
    "# Get the path to the parent directory\n",
    "parent_dir = os.path.dirname(notebook_dir)\n",
    "\n",
    "# Add the parent directory to sys.path if it's not already there\n",
    "if parent_dir not in sys.path:\n",
    "    sys.path.append(parent_dir)\n",
    "\n",
    "import const\n",
    "#importlib.reload(const)    #if we update the file const.py"
   ]
  },
  {
   "cell_type": "code",
   "execution_count": 56,
   "metadata": {},
   "outputs": [],
   "source": [
    "load_dotenv() \n",
    "GENERATIVE_URI = os.environ['GENERATIVE_URI']"
   ]
  },
  {
   "cell_type": "code",
   "execution_count": 57,
   "metadata": {},
   "outputs": [],
   "source": [
    "db_client = pymongo.MongoClient(os.environ['DB_URI'])\n",
    "db = db_client['db_certificates']\n",
    "collection = db['tb_aws_sa']"
   ]
  },
  {
   "cell_type": "code",
   "execution_count": 58,
   "metadata": {},
   "outputs": [],
   "source": [
    "TOTAL_QUESTIONS = 65\n",
    "DOMAINS = [\n",
    "    {\n",
    "        \"name\": \"Secure\",\n",
    "        \"percent\": 30,\n",
    "        \"num\": 2\n",
    "    },\n",
    "    # {\n",
    "    #     \"name\": \"Resilient\",\n",
    "    #     \"percent\": 26,\n",
    "    #     \"num\": 16\n",
    "    # },\n",
    "    # {\n",
    "    #     \"name\": \"High-Performing\",\n",
    "    #     \"percent\": 24,\n",
    "    #     \"num\": 15\n",
    "    # },\n",
    "    # {\n",
    "    #     \"name\": \"Cost-Optimized\",\n",
    "    #     \"percent\": 20,\n",
    "    #     \"num\": 15 \n",
    "    # }\n",
    "]"
   ]
  },
  {
   "cell_type": "code",
   "execution_count": 59,
   "metadata": {},
   "outputs": [],
   "source": [
    "#determin how many questions in each domain\n",
    "def get_questions_each_domain():\n",
    "    for domain in DOMAINS:\n",
    "        no_quest = int(domain['percent'] * TOTAL_QUESTIONS / 100)\n",
    "        print(no_quest)\n",
    "#test\n",
    "#get_questions_each_domain()"
   ]
  },
  {
   "cell_type": "code",
   "execution_count": 60,
   "metadata": {},
   "outputs": [],
   "source": [
    "#Send a POST request\n",
    "def post_request_generative_ai(text_prompt):\n",
    "    HEADER = {'Content-Type': 'application/json'}\n",
    "    json_data = {\n",
    "        \"contents\": [\n",
    "            { \"parts\": [\n",
    "                {\"text\": text_prompt + \" Please provide a response in a structured JSON format.\"}]\n",
    "                #{\"text\": text_prompt + \" Please provide a plain string response.\"}]\n",
    "            }\n",
    "        ]\n",
    "    }\n",
    "\n",
    "    try:\n",
    "        r = requests.post(GENERATIVE_URI, headers=HEADER, json=json_data)\n",
    "        return r.json()\n",
    "    except Exception as e:\n",
    "       print(e)\n",
    "       return {'error': e}"
   ]
  },
  {
   "cell_type": "code",
   "execution_count": 61,
   "metadata": {},
   "outputs": [],
   "source": [
    "#insert questions first\n",
    "def upsert_questions(domain, question):\n",
    "    existed_doc = collection.find_one({'question': question})\n",
    "    if existed_doc == None:\n",
    "        #insert new post\n",
    "        new_doc = {\n",
    "            'uuid': const.generate_random_uuid(),\n",
    "            'domain': domain,\n",
    "            'question': question,\n",
    "        }\n",
    "        collection.insert_one(new_doc)\n",
    "        print('Inserted new doc')"
   ]
  },
  {
   "cell_type": "code",
   "execution_count": 66,
   "metadata": {},
   "outputs": [],
   "source": [
    "def parse_candidate_content(data):\n",
    "    \"\"\"\n",
    "    Parses the content from a dictionary in the 'candidates' list.\n",
    "    Specifically looks for JSON content within the 'text' part\n",
    "    and attempts to load it.\n",
    "\n",
    "    Args:\n",
    "        data (dict): A dictionary representing an item in the 'candidates' list.\n",
    "\n",
    "    Returns:\n",
    "        dict or str or None: If JSON content is found and successfully\n",
    "                             parsed, it returns the parsed dictionary.\n",
    "                             If no JSON is found, it returns the raw text.\n",
    "                             Returns None if the expected structure is not found.\n",
    "    \"\"\"\n",
    "    if not isinstance(data, dict) or 'content' not in data or not isinstance(data['content'], dict) or 'parts' not in data['content'] or not isinstance(data['content']['parts'], list):\n",
    "        return None\n",
    "\n",
    "    for part in data['content']['parts']:\n",
    "        if isinstance(part, dict) and 'text' in part:\n",
    "            text_content = part['text'].strip()\n",
    "            # Use regex to find JSON blocks within the text\n",
    "            json_match = re.search(r'```json\\n(.*?)\\n```', text_content, re.DOTALL)\n",
    "            if json_match:\n",
    "                try:\n",
    "                    return json.loads(json_match.group(1))\n",
    "                except json.JSONDecodeError as e:\n",
    "                    print(f\"Error decoding JSON: {e}\")\n",
    "                    return text_content  # Return the raw text in case of an error\n",
    "            elif text_content:\n",
    "                return text_content  # Return the raw text if no JSON block is found\n",
    "\n",
    "    return None\n",
    "\n",
    "def extract_questions_from_candidates(response_data):\n",
    "    \"\"\"\n",
    "    Extracts and parses the 'questions' list from the 'candidates'\n",
    "    in the given response data.\n",
    "\n",
    "    Args:\n",
    "        response_data (dict): The dictionary containing the response data.\n",
    "\n",
    "    Returns:\n",
    "        list or None: A list of question dictionaries if found and parsed,\n",
    "                     otherwise None.\n",
    "    \"\"\"\n",
    "    if not isinstance(response_data, dict) or 'candidates' not in response_data or not isinstance(response_data['candidates'], list):\n",
    "        return None\n",
    "\n",
    "    for candidate in response_data['candidates']:\n",
    "        parsed_content = parse_candidate_content(candidate)\n",
    "        if isinstance(parsed_content, dict) and 'questions' in parsed_content and isinstance(parsed_content['questions'], list):\n",
    "            return parsed_content['questions']\n",
    "\n",
    "    return None\n",
    "\n",
    "# Example usage with your provided data:\n",
    "#response_data = {'candidates': [{'content': {'parts': [{'text': '```json\\n{\\n  \"questions\": [\\n    {\\n      \"question\": \"Your company is launching a new e-commerce platform on AWS.  The platform will handle sensitive customer data, including credit card information and personally identifiable information (PII). You need to design a secure architecture that meets PCI DSS compliance requirements.  Describe a comprehensive approach to securing the application, covering data at rest, data in transit, and access control. Consider the use of specific AWS services and explain your rationale for choosing them.  Focus on practical implementation details rather than just naming services.\",\\n      \"topics\": [\"Data Security\", \"PCI DSS Compliance\", \"IAM\", \"KMS\", \"VPC\", \"Security Groups\", \"WAF\", \"S3\", \"Encryption\"],\\n      \"difficulty\": \"Hard\"\\n    },\\n    {\\n      \"question\": \"A client has an existing on-premises application that needs to be migrated to AWS. The application interacts with a legacy database that contains highly sensitive customer records. During the migration, you must ensure that the database remains secure and complies with data sovereignty regulations for Europe (GDPR).  How would you design the migration strategy to minimize downtime and maintain security throughout the process?  Be specific about your choices of AWS services and how you will address data encryption, network security, and compliance.  Consider potential challenges and mitigation strategies.\",\\n      \"topics\": [\"Data Sovereignty\", \"GDPR\", \"Database Migration\", \"VPN\", \"Direct Connect\", \"RDS\", \"Database Encryption\", \"IAM Roles\", \"Network Security\", \"Disaster Recovery\"],\\n      \"difficulty\": \"Medium\"\\n    }\\n  ]\\n}\\n```\\n'}], 'role': 'model'}, 'finishReason': 'STOP', 'avgLogprobs': -0.3347730217091848}], 'usageMetadata': {'promptTokenCount': 55, 'candidatesTokenCount': 341, 'totalTokenCount': 396, 'promptTokensDetails': [{'modality': 'TEXT', 'tokenCount': 55}], 'candidatesTokensDetails': [{'modality': 'TEXT', 'tokenCount': 341}]}, 'modelVersion': 'gemini-1.5-flash'}"
   ]
  },
  {
   "cell_type": "code",
   "execution_count": 68,
   "metadata": {},
   "outputs": [
    {
     "name": "stdout",
     "output_type": "stream",
     "text": [
      "{'candidates': [{'content': {'parts': [{'text': '```json\\n{\\n  \"questions\": [\\n    {\\n      \"question\": \"Your company is migrating a legacy on-premises application to AWS. This application processes sensitive customer data, including Personally Identifiable Information (PII) and financial data.  It requires high availability and needs to comply with PCI DSS standards. Which of the following architectural designs best addresses these requirements?\",\\n      \"options\": [\\n        \"A. Deploy the application on EC2 instances in a single Availability Zone, using security groups for network access control and encrypting data at rest with EBS encryption.\",\\n        \"B. Deploy the application on EC2 instances across multiple Availability Zones within a single Region, utilizing an Elastic Load Balancer for high availability, implementing encryption at rest and in transit with KMS and SSL/TLS, and configuring appropriate IAM roles and policies.\",\\n        \"C. Deploy the application as a serverless function using AWS Lambda, storing data in Amazon S3 without encryption, relying on AWS\\'s inherent security.\",\\n        \"D. Deploy the application on a single EC2 instance in a public subnet, allowing inbound traffic from the internet for easy accessibility.\"\\n      ],\\n      \"answer\": \"B\",\\n      \"explanation\": \"Option B is the most secure and compliant solution.  Using multiple AZs ensures high availability, the ELB provides load balancing, encryption at rest and in transit protects data, and IAM roles and policies manage access control. Option A lacks the high availability offered by multiple AZs. Option C is insecure due to lack of data encryption and reliance on AWS security alone for sensitive data. Option D is highly insecure due to exposing the application to the public internet.\"\\n    },\\n    {\\n      \"question\": \"You are designing an architecture for a new e-commerce platform on AWS.  The application uses Amazon RDS for its database and needs to ensure that only authorized users can access the database.  Your security team mandates the principle of least privilege.  Which combination of AWS services best implements this principle?\",\\n      \"options\": [\\n        \"A. Use security groups to control network access to the RDS instance, allowing access from all EC2 instances within the VPC.\",\\n        \"B. Use IAM roles to grant specific permissions to EC2 instances accessing the RDS instance, and employ database-level access control using IAM roles with limited privileges assigned only to specific database users.\",\\n        \"C. Rely on the default VPC security settings and trust the inherent security of AWS to protect the database.\",\\n        \"D. Use only VPC security groups and grant full access to the database from all EC2 instances within the VPC for simplified management.\"\\n      ],\\n      \"answer\": \"B\",\\n      \"explanation\": \"Option B best exemplifies the principle of least privilege.  Using IAM roles with specific permissions to access the database, combined with database-level access control, grants only the necessary permissions. Option A is too broad and violates the least privilege principle. Option C is insufficient and ignores the need for explicit access control. Option D is overly permissive and a security risk.\"\\n    }\\n  ]\\n}\\n```\\n'}], 'role': 'model'}, 'finishReason': 'STOP', 'avgLogprobs': -0.3661291922868321}], 'usageMetadata': {'promptTokenCount': 58, 'candidatesTokenCount': 641, 'totalTokenCount': 699, 'promptTokensDetails': [{'modality': 'TEXT', 'tokenCount': 58}], 'candidatesTokensDetails': [{'modality': 'TEXT', 'tokenCount': 641}]}, 'modelVersion': 'gemini-1.5-flash'}\n",
      "Extracted Questions:\n",
      "{'question': 'Your company is migrating a legacy on-premises application to AWS. This application processes sensitive customer data, including Personally Identifiable Information (PII) and financial data.  It requires high availability and needs to comply with PCI DSS standards. Which of the following architectural designs best addresses these requirements?', 'options': ['A. Deploy the application on EC2 instances in a single Availability Zone, using security groups for network access control and encrypting data at rest with EBS encryption.', 'B. Deploy the application on EC2 instances across multiple Availability Zones within a single Region, utilizing an Elastic Load Balancer for high availability, implementing encryption at rest and in transit with KMS and SSL/TLS, and configuring appropriate IAM roles and policies.', \"C. Deploy the application as a serverless function using AWS Lambda, storing data in Amazon S3 without encryption, relying on AWS's inherent security.\", 'D. Deploy the application on a single EC2 instance in a public subnet, allowing inbound traffic from the internet for easy accessibility.'], 'answer': 'B', 'explanation': 'Option B is the most secure and compliant solution.  Using multiple AZs ensures high availability, the ELB provides load balancing, encryption at rest and in transit protects data, and IAM roles and policies manage access control. Option A lacks the high availability offered by multiple AZs. Option C is insecure due to lack of data encryption and reliance on AWS security alone for sensitive data. Option D is highly insecure due to exposing the application to the public internet.'}\n",
      "{'question': 'You are designing an architecture for a new e-commerce platform on AWS.  The application uses Amazon RDS for its database and needs to ensure that only authorized users can access the database.  Your security team mandates the principle of least privilege.  Which combination of AWS services best implements this principle?', 'options': ['A. Use security groups to control network access to the RDS instance, allowing access from all EC2 instances within the VPC.', 'B. Use IAM roles to grant specific permissions to EC2 instances accessing the RDS instance, and employ database-level access control using IAM roles with limited privileges assigned only to specific database users.', 'C. Rely on the default VPC security settings and trust the inherent security of AWS to protect the database.', 'D. Use only VPC security groups and grant full access to the database from all EC2 instances within the VPC for simplified management.'], 'answer': 'B', 'explanation': 'Option B best exemplifies the principle of least privilege.  Using IAM roles with specific permissions to access the database, combined with database-level access control, grants only the necessary permissions. Option A is too broad and violates the least privilege principle. Option C is insufficient and ignores the need for explicit access control. Option D is overly permissive and a security risk.'}\n",
      "1\n"
     ]
    }
   ],
   "source": [
    "def generate_list_of_questions():\n",
    "    no_of_questions = 0\n",
    "    for domain in DOMAINS:\n",
    "        #domain['num'] = 1 #testing\n",
    "        text_prompt = \"Generate \"+str(domain['num'])+\" multiple-choice questions for me to practice AWS certified solution architect - associate exam in the domain: Design \"+domain['name']+\" architecture. I want questions that focus more on real-world scenarios and problem-solving rather than just definitions of services.\"\n",
    "        raw_generated_text = post_request_generative_ai(text_prompt)\n",
    "        print(raw_generated_text)\n",
    "        questions = extract_questions_from_candidates(raw_generated_text)\n",
    "        if questions:\n",
    "            print(\"Extracted Questions:\")\n",
    "            for q in questions:\n",
    "                print(q)\n",
    "        else:\n",
    "            print(\"No questions found in the parsed content.\")\n",
    "        #    \n",
    "        if 'candidates' in raw_generated_text:\n",
    "            question = raw_generated_text['candidates'][0]['content']['parts'][0]['text']\n",
    "            question = question.replace('  ', ' ').replace('\\n', '')\n",
    "            #upsert_questions(domain['name'], question)\n",
    "            no_of_questions += 1\n",
    "    print(no_of_questions)\n",
    "#test\n",
    "generate_list_of_questions()"
   ]
  },
  {
   "cell_type": "code",
   "execution_count": 63,
   "metadata": {},
   "outputs": [],
   "source": [
    "#export to Udemy CSV\n",
    "#Question,Question Type,Answer Option 1,Explanation 1,Answer Option 2,Explanation 2,Answer Option 3,Explanation 3,Answer Option 4,Explanation 4,Answer Option 5,Explanation 5,Answer Option 6,Explanation 6,Correct Answers,Overall Explanation,Domain"
   ]
  }
 ],
 "metadata": {
  "kernelspec": {
   "display_name": "3.9.10",
   "language": "python",
   "name": "python3"
  },
  "language_info": {
   "codemirror_mode": {
    "name": "ipython",
    "version": 3
   },
   "file_extension": ".py",
   "mimetype": "text/x-python",
   "name": "python",
   "nbconvert_exporter": "python",
   "pygments_lexer": "ipython3",
   "version": "3.9.10"
  }
 },
 "nbformat": 4,
 "nbformat_minor": 2
}
