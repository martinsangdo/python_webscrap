{
 "cells": [
  {
   "cell_type": "markdown",
   "metadata": {},
   "source": [
    "Generate questions for AWS SA exam"
   ]
  },
  {
   "cell_type": "code",
   "execution_count": 2,
   "metadata": {},
   "outputs": [],
   "source": [
    "import requests\n",
    "from dotenv import load_dotenv\n",
    "import os"
   ]
  },
  {
   "cell_type": "code",
   "execution_count": 3,
   "metadata": {},
   "outputs": [],
   "source": [
    "load_dotenv() \n",
    "GENERATIVE_URI = os.environ['GENERATIVE_URI']"
   ]
  },
  {
   "cell_type": "code",
   "execution_count": 4,
   "metadata": {},
   "outputs": [],
   "source": [
    "TOTAL_QUESTIONS = 65\n",
    "DOMAINS = [\n",
    "    {\n",
    "        \"name\": \"Secure\",\n",
    "        \"percent\": 30,\n",
    "        \"num\": 19\n",
    "    },\n",
    "    {\n",
    "        \"name\": \"Resilient\",\n",
    "        \"percent\": 26,\n",
    "        \"num\": 16\n",
    "    },\n",
    "    {\n",
    "        \"name\": \"High-Performing\",\n",
    "        \"percent\": 24,\n",
    "        \"num\": 15\n",
    "    },\n",
    "    {\n",
    "        \"name\": \"Cost-Optimized\",\n",
    "        \"percent\": 20,\n",
    "        \"num\": 15 \n",
    "    }\n",
    "]"
   ]
  },
  {
   "cell_type": "code",
   "execution_count": 5,
   "metadata": {},
   "outputs": [],
   "source": [
    "#determin how many questions in each domain\n",
    "def get_questions_each_domain():\n",
    "    \n",
    "    for domain in DOMAINS:\n",
    "        no_quest = int(domain['percent'] * TOTAL_QUESTIONS / 100)\n",
    "        print(no_quest)\n",
    "#test\n",
    "#get_questions_each_domain()"
   ]
  },
  {
   "cell_type": "code",
   "execution_count": 6,
   "metadata": {},
   "outputs": [],
   "source": [
    "#Send a POST request\n",
    "def post_request_generative_ai(text_prompt):\n",
    "    HEADER = {'Content-Type': 'application/json'}\n",
    "    json_data = {\n",
    "        \"contents\": [\n",
    "            { \"parts\": [\n",
    "                {\"text\": text_prompt + \" Please provide a response in a structured JSON format.\"}]\n",
    "            }\n",
    "        ]\n",
    "    }\n",
    "\n",
    "    try:\n",
    "        r = requests.post(GENERATIVE_URI, headers=HEADER, json=json_data)\n",
    "        return r.json()\n",
    "    except Exception as e:\n",
    "       print(e)\n",
    "       return {'error': e}"
   ]
  },
  {
   "cell_type": "code",
   "execution_count": 7,
   "metadata": {},
   "outputs": [
    {
     "name": "stdout",
     "output_type": "stream",
     "text": [
      "{'candidates': [{'content': {'parts': [{'text': '```json\\n{\\n  \"question\": {\\n    \"scenario\": \"You are designing a highly available and secure e-commerce application on AWS. The application consists of a web application tier, an application tier, and a database tier.  Sensitive customer data (credit card numbers, addresses, etc.) is stored in the database.  The application needs to comply with PCI DSS standards.  Your team has decided to use Amazon RDS for PostgreSQL as the database and Amazon EC2 for the application tiers.  You need to minimize the attack surface and ensure data is protected both in transit and at rest.\",\\n    \"question_text\": \"Describe a secure architecture for this e-commerce application, focusing on the security considerations for each tier.  Specifically address how you would handle encryption (both in transit and at rest), access control, and logging.  Consider factors like IAM roles, security groups, VPC configuration, and any relevant AWS managed services that enhance security.\",\\n    \"topics\": [\"Security Groups\", \"IAM Roles\", \"Encryption (In Transit and At Rest)\", \"PCI DSS Compliance\", \"VPC Configuration\", \"AWS Managed Security Services\"],\\n    \"difficulty\": \"Medium\"\\n  }\\n}\\n```\\n'}], 'role': 'model'}, 'finishReason': 'STOP', 'avgLogprobs': -0.2775306548459463}], 'usageMetadata': {'promptTokenCount': 55, 'candidatesTokenCount': 249, 'totalTokenCount': 304, 'promptTokensDetails': [{'modality': 'TEXT', 'tokenCount': 55}], 'candidatesTokensDetails': [{'modality': 'TEXT', 'tokenCount': 249}]}, 'modelVersion': 'gemini-1.5-flash'}\n",
      "{'candidates': [{'content': {'parts': [{'text': '```json\\n{\\n  \"question\": {\\n    \"scenario\": \"Your company is launching a new e-commerce platform that anticipates significant traffic spikes during promotional periods.  The application consists of a web application tier, an application tier, and a database tier.  During a recent load test, the database tier became a bottleneck, resulting in significant application slowdown and failures.  The application uses Amazon RDS for MySQL. You need to design a solution to ensure high availability and scalability for the database tier, minimizing disruption during peak traffic and considering cost optimization.\",\\n    \"question_text\": \"Describe a resilient architecture for the database tier, including specific AWS services and configurations you would use to address the identified bottleneck and ensure high availability and scalability.  Justify your choices considering cost implications and explain how your solution would handle traffic spikes during promotional events.  Consider both read and write operations.\",\\n    \"topics\": [\"High Availability\", \"Scalability\", \"Cost Optimization\", \"Amazon RDS\", \"Database Design\"],\\n    \"difficulty\": \"Medium\"\\n  }\\n}\\n```\\n'}], 'role': 'model'}, 'finishReason': 'STOP', 'avgLogprobs': -0.33782570578835225}], 'usageMetadata': {'promptTokenCount': 56, 'candidatesTokenCount': 220, 'totalTokenCount': 276, 'promptTokensDetails': [{'modality': 'TEXT', 'tokenCount': 56}], 'candidatesTokensDetails': [{'modality': 'TEXT', 'tokenCount': 220}]}, 'modelVersion': 'gemini-1.5-flash'}\n",
      "{'candidates': [{'content': {'parts': [{'text': '```json\\n{\\n  \"question\": {\\n    \"scenario\": \"You are designing a high-throughput, low-latency application for processing real-time financial transactions.  The application requires sub-millisecond response times and needs to handle thousands of transactions per second.  Your application will ingest data from various sources (market data feeds, internal systems, etc.) and produce aggregated results which are then used to trigger trading decisions.  Data consistency and durability are critical requirements.  Transactions must be processed correctly and reliably, even in the event of partial failures.  The application will be deployed to AWS.\",\\n    \"problem\": \"Design a solution architecture that meets these requirements.  Consider factors like data ingestion, processing, storage, and fault tolerance.  Justify your choices for specific AWS services, focusing on how they address the performance and reliability needs.  Outline any trade-offs you are making and how you would mitigate potential risks.\",\\n    \"points_to_consider\": [\\n      \"Data ingestion methods and their impact on latency\",\\n      \"Appropriate compute services for high-throughput processing (e.g., EC2, Lambda, Fargate)\",\\n      \"Database choices for low-latency reads and writes (e.g., DynamoDB, RDS, Aurora)\",\\n      \"Strategies for ensuring data consistency and durability (e.g., transactions, replication)\",\\n      \"Handling of potential failures and ensuring high availability\",\\n      \"Monitoring and logging strategies for performance analysis and troubleshooting\"\\n    ]\\n  }\\n}\\n```\\n'}], 'role': 'model'}, 'finishReason': 'STOP', 'avgLogprobs': -0.44218657288370256}], 'usageMetadata': {'promptTokenCount': 57, 'candidatesTokenCount': 316, 'totalTokenCount': 373, 'promptTokensDetails': [{'modality': 'TEXT', 'tokenCount': 57}], 'candidatesTokensDetails': [{'modality': 'TEXT', 'tokenCount': 316}]}, 'modelVersion': 'gemini-1.5-flash'}\n",
      "{'candidates': [{'content': {'parts': [{'text': '```json\\n{\\n  \"question\": {\\n    \"scenario\": \"Your company is launching a new e-commerce platform.  Initial projections estimate 10,000 concurrent users during peak hours, scaling to potentially 50,000 concurrent users within a year.  The application consists of a web application tier, an application tier, and a database tier.  Your primary concern is minimizing operational costs while ensuring high availability and scalability.  You\\'ve been given a budget of $5,000 per month for infrastructure.  You can use EC2, ECS, EKS, S3, RDS, DynamoDB, and any other relevant AWS services.\",\\n    \"question_text\": \"Design a cost-optimized architecture for this e-commerce platform, detailing your choices for each tier (web, application, database) and your reasoning for selecting specific services over alternatives.  Consider factors like instance sizing, scaling strategies, data storage choices, and utilization optimization techniques to justify your choices and demonstrate your understanding of cost-effectiveness within the given budget. Explain how you will monitor and manage costs to ensure you stay within the budget.\",\\n    \"answer_guidance\": \"A strong answer will include:\\\\n* A clear justification for choosing specific compute and database services (EC2 vs. ECS/EKS, RDS vs. DynamoDB) based on the scalability and cost considerations of the scenario.\\\\n* A detailed explanation of scaling strategies, including auto-scaling groups and capacity planning, to handle peak loads while minimizing idle instances.\\\\n* A plan for cost optimization, such as using spot instances or reserved instances where appropriate, and utilization monitoring with CloudWatch.\\\\n* Discussion of data storage choices (e.g., using S3 for static assets) to minimize storage costs.\\\\n* A clear understanding of how to monitor costs using AWS Cost Explorer and apply strategies to remain under budget.\"\\n  }\\n}\\n```\\n'}], 'role': 'model'}, 'finishReason': 'STOP', 'avgLogprobs': -0.48112071644176135}], 'usageMetadata': {'promptTokenCount': 57, 'candidatesTokenCount': 396, 'totalTokenCount': 453, 'promptTokensDetails': [{'modality': 'TEXT', 'tokenCount': 57}], 'candidatesTokensDetails': [{'modality': 'TEXT', 'tokenCount': 396}]}, 'modelVersion': 'gemini-1.5-flash'}\n"
     ]
    }
   ],
   "source": [
    "def generate_list_of_questions():\n",
    "    for domain in DOMAINS:\n",
    "        domain['num'] = 1 #testing\n",
    "        text_prompt = \"Generate \"+str(domain['num'])+\" questions for me to practice AWS certified solution architect - associate exam in the domain: Design \"+domain['name']+\" architecture. I want questions that focus more on real-world scenarios and problem-solving rather than just definitions of services.\"\n",
    "        questions = post_request_generative_ai(text_prompt)\n",
    "        print(questions)\n",
    "        \n",
    "#test\n",
    "generate_list_of_questions()"
   ]
  },
  {
   "cell_type": "code",
   "execution_count": null,
   "metadata": {},
   "outputs": [],
   "source": []
  }
 ],
 "metadata": {
  "kernelspec": {
   "display_name": "3.9.10",
   "language": "python",
   "name": "python3"
  },
  "language_info": {
   "codemirror_mode": {
    "name": "ipython",
    "version": 3
   },
   "file_extension": ".py",
   "mimetype": "text/x-python",
   "name": "python",
   "nbconvert_exporter": "python",
   "pygments_lexer": "ipython3",
   "version": "3.9.10"
  }
 },
 "nbformat": 4,
 "nbformat_minor": 2
}
