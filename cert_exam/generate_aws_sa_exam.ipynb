{
 "cells": [
  {
   "cell_type": "markdown",
   "metadata": {},
   "source": [
    "Generate questions for AWS SA exam"
   ]
  },
  {
   "cell_type": "code",
   "execution_count": 1,
   "metadata": {},
   "outputs": [],
   "source": [
    "import requests\n",
    "from dotenv import load_dotenv\n",
    "import os"
   ]
  },
  {
   "cell_type": "code",
   "execution_count": 2,
   "metadata": {},
   "outputs": [],
   "source": [
    "load_dotenv() \n",
    "GENERATIVE_URI = os.environ['GENERATIVE_URI']"
   ]
  },
  {
   "cell_type": "code",
   "execution_count": 3,
   "metadata": {},
   "outputs": [],
   "source": [
    "TOTAL_QUESTIONS = 65\n",
    "DOMAINS = [\n",
    "    {\n",
    "        \"name\": \"Secure\",\n",
    "        \"percent\": 30,\n",
    "        \"num\": 19\n",
    "    },\n",
    "    {\n",
    "        \"name\": \"Resilient\",\n",
    "        \"percent\": 26,\n",
    "        \"num\": 16\n",
    "    },\n",
    "    {\n",
    "        \"name\": \"High-Performing\",\n",
    "        \"percent\": 24,\n",
    "        \"num\": 15\n",
    "    },\n",
    "    {\n",
    "        \"name\": \"Cost-Optimized\",\n",
    "        \"percent\": 20,\n",
    "        \"num\": 15 \n",
    "    }\n",
    "]"
   ]
  },
  {
   "cell_type": "code",
   "execution_count": 4,
   "metadata": {},
   "outputs": [],
   "source": [
    "#determin how many questions in each domain\n",
    "def get_questions_each_domain():\n",
    "    \n",
    "    for domain in DOMAINS:\n",
    "        no_quest = int(domain['percent'] * TOTAL_QUESTIONS / 100)\n",
    "        print(no_quest)\n",
    "#test\n",
    "#get_questions_each_domain()"
   ]
  },
  {
   "cell_type": "code",
   "execution_count": 9,
   "metadata": {},
   "outputs": [],
   "source": [
    "#Send a POST request\n",
    "def post_request_generative_ai(text_prompt):\n",
    "    HEADER = {'Content-Type': 'application/json'}\n",
    "    json_data = {\n",
    "        \"contents\": [\n",
    "            { \"parts\": [\n",
    "                #{\"text\": text_prompt + \" Please provide a response in a structured JSON format.\"}]\n",
    "                {\"text\": text_prompt + \" Please provide a plain string response.\"}]\n",
    "            }\n",
    "        ]\n",
    "    }\n",
    "\n",
    "    try:\n",
    "        r = requests.post(GENERATIVE_URI, headers=HEADER, json=json_data)\n",
    "        return r.json()\n",
    "    except Exception as e:\n",
    "       print(e)\n",
    "       return {'error': e}"
   ]
  },
  {
   "cell_type": "code",
   "execution_count": null,
   "metadata": {},
   "outputs": [
    {
     "name": "stdout",
     "output_type": "stream",
     "text": [
      "{'candidates': [{'content': {'parts': [{'text': \"Your company's e-commerce platform, hosted on AWS, has experienced a recent surge in fraudulent credit card transactions originating from a specific geographic region.  Design a secure architecture incorporating multiple AWS services to mitigate this risk, focusing on real-time detection and prevention of future fraudulent transactions, while minimizing impact on legitimate users.\\n\"}], 'role': 'model'}, 'finishReason': 'STOP', 'avgLogprobs': -0.20621844071608322}], 'usageMetadata': {'promptTokenCount': 52, 'candidatesTokenCount': 65, 'totalTokenCount': 117, 'promptTokensDetails': [{'modality': 'TEXT', 'tokenCount': 52}], 'candidatesTokensDetails': [{'modality': 'TEXT', 'tokenCount': 65}]}, 'modelVersion': 'gemini-1.5-flash'}\n"
     ]
    },
    {
     "ename": "TypeError",
     "evalue": "string indices must be integers",
     "output_type": "error",
     "traceback": [
      "\u001b[0;31m---------------------------------------------------------------------------\u001b[0m",
      "\u001b[0;31mTypeError\u001b[0m                                 Traceback (most recent call last)",
      "Cell \u001b[0;32mIn[10], line 15\u001b[0m\n\u001b[1;32m     13\u001b[0m     \u001b[38;5;28mprint\u001b[39m(no_of_questions)\n\u001b[1;32m     14\u001b[0m \u001b[38;5;66;03m#test\u001b[39;00m\n\u001b[0;32m---> 15\u001b[0m \u001b[43mgenerate_list_of_questions\u001b[49m\u001b[43m(\u001b[49m\u001b[43m)\u001b[49m\n",
      "Cell \u001b[0;32mIn[10], line 9\u001b[0m, in \u001b[0;36mgenerate_list_of_questions\u001b[0;34m()\u001b[0m\n\u001b[1;32m      7\u001b[0m \u001b[38;5;28mprint\u001b[39m(raw_generated_text)\n\u001b[1;32m      8\u001b[0m \u001b[38;5;28;01mif\u001b[39;00m \u001b[38;5;124m'\u001b[39m\u001b[38;5;124mcandidates\u001b[39m\u001b[38;5;124m'\u001b[39m \u001b[38;5;129;01min\u001b[39;00m raw_generated_text:\n\u001b[0;32m----> 9\u001b[0m     question \u001b[38;5;241m=\u001b[39m \u001b[43mraw_generated_text\u001b[49m\u001b[43m[\u001b[49m\u001b[38;5;124;43m'\u001b[39;49m\u001b[38;5;124;43mcandidates\u001b[39;49m\u001b[38;5;124;43m'\u001b[39;49m\u001b[43m]\u001b[49m\u001b[43m[\u001b[49m\u001b[38;5;241;43m0\u001b[39;49m\u001b[43m]\u001b[49m\u001b[43m[\u001b[49m\u001b[38;5;124;43m'\u001b[39;49m\u001b[38;5;124;43mcontent\u001b[39;49m\u001b[38;5;124;43m'\u001b[39;49m\u001b[43m]\u001b[49m\u001b[43m[\u001b[49m\u001b[38;5;124;43m'\u001b[39;49m\u001b[38;5;124;43mparts\u001b[39;49m\u001b[38;5;124;43m'\u001b[39;49m\u001b[43m]\u001b[49m\u001b[43m[\u001b[49m\u001b[38;5;241;43m0\u001b[39;49m\u001b[43m]\u001b[49m\u001b[43m[\u001b[49m\u001b[38;5;124;43m'\u001b[39;49m\u001b[38;5;124;43mtext\u001b[39;49m\u001b[38;5;124;43m'\u001b[39;49m\u001b[43m]\u001b[49m\u001b[43m[\u001b[49m\u001b[38;5;124;43m'\u001b[39;49m\u001b[38;5;124;43mquestion\u001b[39;49m\u001b[38;5;124;43m'\u001b[39;49m\u001b[43m]\u001b[49m\n\u001b[1;32m     10\u001b[0m     \u001b[38;5;66;03m#['question']['scenario']\u001b[39;00m\n\u001b[1;32m     11\u001b[0m     \u001b[38;5;28mprint\u001b[39m(question)\n",
      "\u001b[0;31mTypeError\u001b[0m: string indices must be integers"
     ]
    }
   ],
   "source": [
    "def generate_list_of_questions():\n",
    "    no_of_questions = 0\n",
    "    for domain in DOMAINS:\n",
    "        domain['num'] = 1 #testing\n",
    "        text_prompt = \"Generate \"+str(domain['num'])+\" questions for me to practice AWS certified solution architect - associate exam in the domain: Design \"+domain['name']+\" architecture. I want questions that focus more on real-world scenarios and problem-solving rather than just definitions of services.\"\n",
    "        raw_generated_text = post_request_generative_ai(text_prompt)\n",
    "        #print(raw_generated_text)\n",
    "        if 'candidates' in raw_generated_text:\n",
    "            question = raw_generated_text['candidates'][0]['content']['parts'][0]['text']\n",
    "            print(question)\n",
    "            no_of_questions += 1\n",
    "    print(no_of_questions)\n",
    "#test\n",
    "generate_list_of_questions()"
   ]
  },
  {
   "cell_type": "code",
   "execution_count": null,
   "metadata": {},
   "outputs": [],
   "source": []
  }
 ],
 "metadata": {
  "kernelspec": {
   "display_name": "3.9.10",
   "language": "python",
   "name": "python3"
  },
  "language_info": {
   "codemirror_mode": {
    "name": "ipython",
    "version": 3
   },
   "file_extension": ".py",
   "mimetype": "text/x-python",
   "name": "python",
   "nbconvert_exporter": "python",
   "pygments_lexer": "ipython3",
   "version": "3.9.10"
  }
 },
 "nbformat": 4,
 "nbformat_minor": 2
}
