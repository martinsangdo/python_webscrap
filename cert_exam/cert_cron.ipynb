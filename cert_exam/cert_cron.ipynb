{
 "cells": [
  {
   "cell_type": "code",
   "execution_count": 1,
   "metadata": {},
   "outputs": [],
   "source": [
    "#This is the conjob command that will auto post images/videos to social networks\n",
    "#format\n",
    "#cert_cron certificate_id channel <media_type>\n",
    "#example: cert_cron.py AWS_SAA LinkedIn\n",
    "#PDF: 20 questions (Github)"
   ]
  },
  {
   "cell_type": "code",
   "execution_count": 2,
   "metadata": {},
   "outputs": [],
   "source": [
    "SHORT_VIDEO_CHANNELS = ['Youtube', 'Facebook', 'X', 'Tiktok']   #1 video = 3 images/questions\n",
    "LONG_VIDEO_CHANNELS = ['Youtube']   #1 video = 20 images/questions\n",
    "IMAGE_CHANNELS = ['LinkedIn', 'PInterest', 'Reddit']    #1 image = 3 questions\n",
    "PDF_CHANNELS = ['Github']   #1 PDF = 4 pages * 5 questions"
   ]
  },
  {
   "cell_type": "code",
   "execution_count": 3,
   "metadata": {},
   "outputs": [],
   "source": [
    "#1 question should have flag to indicate which channel(s) it appeared. for ex: \"fb\": 20250528\n",
    "#we should post to social network once per day"
   ]
  },
  {
   "cell_type": "code",
   "execution_count": 4,
   "metadata": {},
   "outputs": [],
   "source": [
    "import sys\n",
    "import os\n",
    "import importlib\n",
    "import pymongo\n",
    "from dotenv import load_dotenv\n",
    "import subprocess\n",
    "import time\n",
    "\n",
    "# Get the current working directory of the notebook\n",
    "notebook_dir = os.getcwd()\n",
    "# Get the path to the parent directory\n",
    "parent_dir = os.path.dirname(notebook_dir)\n",
    "\n",
    "# Add the parent directory to sys.path if it's not already there\n",
    "if parent_dir not in sys.path:\n",
    "    sys.path.append(parent_dir)"
   ]
  },
  {
   "cell_type": "code",
   "execution_count": 5,
   "metadata": {},
   "outputs": [
    {
     "data": {
      "text/plain": [
       "<module 'thirdparty_sdk.linkedin' from '/Users/sang/Documents/Source/Python/python_webscrap/cert_exam/thirdparty_sdk/linkedin.py'>"
      ]
     },
     "execution_count": 5,
     "metadata": {},
     "output_type": "execute_result"
    }
   ],
   "source": [
    "load_dotenv(override=True) \n",
    "\n",
    "import thirdparty_sdk\n",
    "importlib.reload(thirdparty_sdk)    #always get latest code\n",
    "import exam_settings\n",
    "importlib.reload(exam_settings) #always get latest code\n",
    "import const\n",
    "importlib.reload(const) #always get latest code\n",
    "from thirdparty_sdk.linkedin import LinkedIn\n",
    "importlib.reload(thirdparty_sdk.linkedin)    #always get latest code"
   ]
  },
  {
   "cell_type": "code",
   "execution_count": 6,
   "metadata": {},
   "outputs": [],
   "source": [
    "db_client = pymongo.MongoClient(os.environ['DB_URI'])\n",
    "db = db_client['db_certificates']"
   ]
  },
  {
   "cell_type": "code",
   "execution_count": 7,
   "metadata": {},
   "outputs": [],
   "source": [
    "def create_img_with_3_images(documents):\n",
    "    exam_settings.generate_image_portrait_from_file('img_3_question_template.html', './', 'test_3_q.png')\n",
    "\n",
    "#test\n",
    "#create_img_with_3_images(None)"
   ]
  },
  {
   "cell_type": "code",
   "execution_count": 8,
   "metadata": {},
   "outputs": [],
   "source": [
    "def get_cert_metadata(cert_symbol):\n",
    "    meta_collection = db['tb_cert_metadata']\n",
    "    #get metadata of the certificate\n",
    "    cert_metadata = meta_collection.find_one({'symbol': cert_symbol})\n",
    "    return cert_metadata"
   ]
  },
  {
   "cell_type": "code",
   "execution_count": 9,
   "metadata": {},
   "outputs": [],
   "source": [
    "def query_random_questions(num_of_questions, channel, cert_metadata):\n",
    "    #query random questions\n",
    "    condition = {'type': 'multiple-choice', 'exported': {'$ne': 1}} #not in test course\n",
    "    condition[channel] = None   #never posted in this channel\n",
    "    pipeline = [\n",
    "                {\"$match\": condition},\n",
    "                {\"$sample\": {\"size\": num_of_questions}} #randomly documents\n",
    "            ]\n",
    "    collection = db[cert_metadata['collection_name']]\n",
    "    random_documents = list(collection.aggregate(pipeline))\n",
    "    if len(random_documents) < num_of_questions:\n",
    "        print('Not enough questions to export')\n",
    "        return []\n",
    "    return random_documents"
   ]
  },
  {
   "cell_type": "code",
   "execution_count": 10,
   "metadata": {},
   "outputs": [],
   "source": [
    "def update_questions_posted(cert_metadata, channel, today_yyyymmdd, docs):\n",
    "    collection = db[cert_metadata['collection_name']]\n",
    "    for doc in docs:\n",
    "        #indicate that this question is shared in this channel at this date\n",
    "        collection.update_one({'uuid': doc['uuid']}, {'$set':{channel: today_yyyymmdd}})"
   ]
  },
  {
   "cell_type": "code",
   "execution_count": 11,
   "metadata": {},
   "outputs": [],
   "source": [
    "def generate_1_img_multiple_questions(random_documents, cert_metadata, today_yyyymmdd):\n",
    "    question_index = 1\n",
    "    document_html = []\n",
    "    document_html.append(exam_settings.html_head_1_img_3_q_str)\n",
    "    #1. add header\n",
    "    document_html.append('<div class=\"header\">'+cert_metadata['name']+'</div>')\n",
    "    #2. add questions\n",
    "    for doc in random_documents:\n",
    "        container_html = []\n",
    "        container_html.append('<div class=\"container\">')\n",
    "        str_index = str(question_index) + ') '\n",
    "        #question first\n",
    "        container_html.append('<div class=\"question\">'+str_index + doc['question']+'</div>')\n",
    "        #2.1 add answers\n",
    "        container_html.append('<div class=\"answers\">')\n",
    "        for key in doc['options'].keys():\n",
    "            container_html.append( f'''\n",
    "                    <div class=\"answer\">\n",
    "                        <label>{key}. {doc['options'][key]}</label>\n",
    "                    </div>''')\n",
    "        container_html.append('</div>') #end list of answers\n",
    "        container_html.append('</div>') #end 1 container\n",
    "        document_html.append(''.join(container_html))\n",
    "        question_index += 1\n",
    "    #add footer (optional because image/video cannot click on the link)\n",
    "    # document_html.append('<div class=\"footer\">Check out more questions via <a href=\"'+cert_metadata['udemy_link']+'\">this link</a></div>')\n",
    "    #end doc\n",
    "    document_html.append(exam_settings.html_tail_1_img_3_q_str)\n",
    "    #1 doc 1 image\n",
    "    filename = 'img_multi_q_'+today_yyyymmdd + '.png'\n",
    "    creation_result = exam_settings.generate_image_portrait(''.join(document_html), cert_metadata['img_m_q_folder_path'], filename)\n",
    "    return creation_result, filename"
   ]
  },
  {
   "cell_type": "code",
   "execution_count": 12,
   "metadata": {},
   "outputs": [],
   "source": [
    "#create video with only 1 image\n",
    "#sample: ffmpeg -loop 1 -i input_image.jpg -i input_audio.mp3 -c:v libx264 -tune stillimage -c:a aac -b:a 192k -pix_fmt yuv420p -t 10 -shortest output_video.mp4\n",
    "def create_video_from_image(img_path, output_filename):\n",
    "    audio_path = os.path.abspath('audio/bg_audio_16sec.m4a')\n",
    "    abs_output_path = os.path.abspath(output_filename)\n",
    "    ffmpeg_command = [\n",
    "        \"/Users/sang/Downloads/SetupFiles/ffmpeg/ffmpeg\",\n",
    "        \"-loop\", \"1\",\n",
    "        \"-i\", img_path,\n",
    "        \"-i\", audio_path,\n",
    "        \"-c:v\", \"libx264\",\n",
    "        \"-tune\", \"stillimage\",\n",
    "        \"-c:a\", \"aac\",\n",
    "        \"-b:a\", \"192k\",\n",
    "        \"-pix_fmt\", \"yuv420p\",\n",
    "        \"-t\", \"10\",\n",
    "        \"-shortest\",\n",
    "        \"-y\", # Overwrite output file without asking\n",
    "        abs_output_path\n",
    "    ]\n",
    "\n",
    "    try:\n",
    "        result = subprocess.run(\n",
    "            ffmpeg_command,\n",
    "            # cwd=abs_image_folder, # This changes the directory for THIS command execution\n",
    "            check=True,\n",
    "            capture_output=True,\n",
    "            text=True\n",
    "        )\n",
    "        print(f\"Video '{output_filename}' created successfully at {abs_output_path}\")\n",
    "        return True\n",
    "    except FileNotFoundError:\n",
    "        print(f\"Error: FFmpeg command not found. Make sure FFmpeg is installed and in your system's PATH.\")\n",
    "        return False\n",
    "    except subprocess.CalledProcessError as e:\n",
    "        print(f\"Error: FFmpeg command failed with exit code {e.returncode}\")\n",
    "        return False\n",
    "    except Exception as e:\n",
    "        print(f\"An unexpected error occurred: {e}\")\n",
    "        return False"
   ]
  },
  {
   "cell_type": "code",
   "execution_count": 13,
   "metadata": {},
   "outputs": [
    {
     "name": "stdout",
     "output_type": "stream",
     "text": [
      "['/Users/sang/.pyenv/versions/3.9.10/lib/python3.9/site-packages/ipykernel_launcher.py', '--f=/Users/sang/Library/Jupyter/runtime/kernel-v3b3cbc10947811e5cbc8210985cb880e769fa28d9.json']\n"
     ]
    },
    {
     "name": "stderr",
     "output_type": "stream",
     "text": [
      "[5015:58389:0602/205324.453978:ERROR:net/cert/internal/trust_store_mac.cc:817] Error parsing certificate:\n",
      "ERROR: Failed parsing extensions\n",
      "\n",
      "[5021:58413:0602/205325.313626:ERROR:ui/gl/gl_display.cc:508] EGL Driver message (Error) eglQueryDeviceAttribEXT: Bad attribute.\n",
      "[5021:58413:0602/205325.315044:ERROR:ui/gl/gl_display.cc:508] EGL Driver message (Error) eglQueryDeviceAttribEXT: Bad attribute.\n",
      "[5021:58413:0602/205325.315744:ERROR:ui/gl/gl_display.cc:508] EGL Driver message (Error) eglQueryDeviceAttribEXT: Bad attribute.\n",
      "[5021:58413:0602/205325.504503:ERROR:ui/gl/gl_display.cc:508] EGL Driver message (Error) eglQueryDeviceAttribEXT: Bad attribute.\n",
      "[5021:58413:0602/205325.579992:ERROR:ui/gl/gl_display.cc:508] EGL Driver message (Error) eglQueryDeviceAttribEXT: Bad attribute.\n",
      "[5021:58413:0602/205325.581209:ERROR:ui/gl/gl_display.cc:508] EGL Driver message (Error) eglQueryDeviceAttribEXT: Bad attribute.\n",
      "[5021:58413:0602/205325.583049:ERROR:ui/gl/gl_display.cc:508] EGL Driver message (Error) eglQueryDeviceAttribEXT: Bad attribute.\n",
      "[5021:58413:0602/205325.608305:ERROR:ui/gl/gl_display.cc:508] EGL Driver message (Error) eglQueryDeviceAttribEXT: Bad attribute.\n",
      "[5021:58413:0602/205325.660561:ERROR:ui/gl/gl_display.cc:508] EGL Driver message (Error) eglQueryDeviceAttribEXT: Bad attribute.\n",
      "[5021:58413:0602/205325.673070:ERROR:ui/gl/gl_display.cc:508] EGL Driver message (Error) eglQueryDeviceAttribEXT: Bad attribute.\n",
      "[5021:58413:0602/205325.685161:ERROR:ui/gl/gl_display.cc:508] EGL Driver message (Error) eglQueryDeviceAttribEXT: Bad attribute.\n",
      "[5021:58413:0602/205325.829289:ERROR:ui/gl/gl_display.cc:508] EGL Driver message (Error) eglQueryDeviceAttribEXT: Bad attribute.\n",
      "[5021:58413:0602/205325.830788:ERROR:ui/gl/gl_display.cc:508] EGL Driver message (Error) eglQueryDeviceAttribEXT: Bad attribute.\n",
      "[5021:58413:0602/205325.837630:ERROR:ui/gl/gl_display.cc:508] EGL Driver message (Error) eglQueryDeviceAttribEXT: Bad attribute.\n",
      "[5021:58413:0602/205325.851807:ERROR:ui/gl/gl_display.cc:508] EGL Driver message (Error) eglQueryDeviceAttribEXT: Bad attribute.\n",
      "[5021:58413:0602/205326.329061:ERROR:ui/gl/gl_display.cc:508] EGL Driver message (Error) eglQueryDeviceAttribEXT: Bad attribute.\n",
      "623518 bytes written to file /Users/sang/Documents/Source/Python/python_webscrap/cert_exam/aws_cloud_practitioner/img_m_q/img_multi_q_20250602.png\n"
     ]
    },
    {
     "name": "stdout",
     "output_type": "stream",
     "text": [
      "Done generating 1 page image\n",
      "{'value': {'mediaArtifact': 'urn:li:digitalmediaMediaArtifact:(urn:li:digitalmediaAsset:D5622AQHjlIgO7NTwKQ,urn:li:digitalmediaMediaArtifactClass:uploaded-image)', 'uploadMechanism': {'com.linkedin.digitalmedia.uploading.MediaUploadHttpRequest': {'uploadUrl': 'https://www.linkedin.com/dms-uploads/sp/v2/D5622AQHjlIgO7NTwKQ/uploaded-image/B56Zcw6ypMHUAA-/0?ca=vector_feedshare&cn=uploads&iri=B01-86&sync=0&v=beta&ut=0J-aVlhYDxMHM1', 'headers': {'media-type-family': 'STILLIMAGE'}}}, 'asset': 'urn:li:digitalmediaAsset:D5622AQHjlIgO7NTwKQ', 'assetRealTimeTopic': 'urn:li-realtime:digitalmediaAssetUpdatesTopic:urn:li:digitalmediaAsset:D5622AQHjlIgO7NTwKQ'}}\n",
      "Status Code: 201\n",
      "Headers: {'Cache-Control': 'no-cache, no-store', 'Pragma': 'no-cache', 'Expires': 'Thu, 01 Jan 1970 00:00:00 GMT', 'Set-Cookie': 'lang=v=2&lang=en-us; SameSite=None; Path=/; Domain=linkedin.com; Secure, bcookie=\"v=2&f4159cd5-ccb7-414f-8efe-ba7c794bc02c\"; domain=.linkedin.com; Path=/; Secure; Expires=Tue, 02-Jun-2026 13:53:30 GMT; SameSite=None, bscookie=\"v=1&202506021353274f2438a6-b0f6-4305-8a5b-b5dd7922d149AQF9fOFbHypYvu558O0CQE2i9FoOyEQa\"; domain=.www.linkedin.com; Path=/; Secure; Expires=Tue, 02-Jun-2026 13:53:30 GMT; HttpOnly; SameSite=None, lidc=\"b=TGST08:s=T:r=T:a=T:p=T:g=3057:u=1:x=1:i=1748872410:t=1748958810:v=2:sig=AQGcO_u1CS9IieYMhOY_vzYlF5mofDc5\"; Expires=Tue, 03 Jun 2025 13:53:30 GMT; domain=.linkedin.com; Path=/; SameSite=None; Secure', 'x-ambry-creation-time': 'Mon Jun 02 13:53:30 UTC 2025', 'access-control-allow-origin': 'https://www.linkedin.com', 'Strict-Transport-Security': 'max-age=31536000', 'X-Content-Type-Options': 'nosniff', 'X-Frame-Options': 'sameorigin', 'Content-Security-Policy': \"frame-ancestors 'self'\", 'X-Li-Fabric': 'prod-ltx1', 'X-Li-Pop': 'afd-prod-ltx1-x', 'X-Li-Proto': 'http/1.1', 'X-LI-UUID': 'AAY2lxaiqOEnGvZNGIuwAw==', 'X-Cache': 'CONFIG_NOCACHE', 'X-MSEdge-Ref': 'Ref A: F15B8FAADE2B474AAAA04E79DDEC2448 Ref B: SGN30EDGE0420 Ref C: 2025-06-02T13:53:27Z', 'Date': 'Mon, 02 Jun 2025 13:53:30 GMT', 'Content-Length': '0'}\n",
      "Response Body: \n",
      "File uploaded successfully!\n",
      "Status Code: 201\n",
      "Headers: {'Content-Type': 'application/json', 'Location': '/ugcPosts/urn%3Ali%3Ashare%3A7335302590999445505', 'x-restli-id': 'urn:li:share:7335302590999445505', 'X-RestLi-Protocol-Version': '2.0.0', 'Date': 'Mon, 02 Jun 2025 13:53:41 GMT', 'Transfer-Encoding': 'chunked', 'Connection': 'keep-alive', 'X-Li-Fabric': 'prod-lor1', 'X-Li-Pop': 'prod-lor1-x', 'X-LI-Proto': 'http/1.1', 'X-LI-UUID': 'AAY2lxdkgfo/nZZ2PvXSkA==', 'Set-Cookie': 'bcookie=\"v=2&6e535c58-1e4a-4a63-8915-cd838b86d6f1\"; domain=.linkedin.com; Path=/; Secure; Expires=Tue, 02-Jun-2026 13:53:41 GMT; SameSite=None, lidc=\"b=OB88:s=O:r=O:a=O:p=O:g=5258:u=578:x=1:i=1748872420:t=1748954907:v=2:sig=AQEJFUFbLzckvrVFl_9Pm6wy50dMaHo2\"', 'X-LI-Route-Key': '\"b=OB88:s=O:r=O:a=O:p=O:g=5258:u=578:x=1:i=1748872420:t=1748954907:v=2:sig=AQEJFUFbLzckvrVFl_9Pm6wy50dMaHo2\"'}\n",
      "Response Body: {\"id\":\"urn:li:share:7335302590999445505\"}\n",
      "The image was shared successfully!\n",
      "{\"id\":\"urn:li:share:7335302590999445505\"}\n"
     ]
    }
   ],
   "source": [
    "def main(cert_symbol, channel):\n",
    "    num_of_questions = 3    #default we export 3 questions\n",
    "    if channel in LONG_VIDEO_CHANNELS or channel in PDF_CHANNELS:\n",
    "        num_of_questions = 20\n",
    "    #\n",
    "    cert_metadata = get_cert_metadata(cert_symbol)\n",
    "    #query random questions\n",
    "    random_documents = query_random_questions(num_of_questions, channel, cert_metadata)\n",
    "    if len(random_documents) == 0:\n",
    "        return\n",
    "    today_yyyymmdd = const.get_current_date_yyyymmdd()\n",
    "    if channel in SHORT_VIDEO_CHANNELS or channel in IMAGE_CHANNELS:\n",
    "        #create 1 image with multiple questions\n",
    "        creation_result, img_filename = generate_1_img_multiple_questions(random_documents, cert_metadata, today_yyyymmdd)\n",
    "        if creation_result == False:\n",
    "            return\n",
    "        if channel in SHORT_VIDEO_CHANNELS:\n",
    "            #create video with 1 image only\n",
    "            video_name = 'vid_multi_q_'+today_yyyymmdd + '.mp4'\n",
    "            result_create_video = create_video_from_image(cert_metadata['img_m_q_folder_path']+img_filename, cert_metadata['img_m_q_folder_path'] + video_name)\n",
    "            if result_create_video == False:\n",
    "                return\n",
    "            time.sleep(5)   #delay\n",
    "            #todo: upload the video to social networks\n",
    "        if channel in IMAGE_CHANNELS:   #1 image for 1 post\n",
    "            answers_contents = []\n",
    "            description_contents = []\n",
    "            description_contents.append('#'+ cert_metadata['name'] + ' practice questions:\\n')\n",
    "            question_index = 1\n",
    "            for doc in random_documents:\n",
    "                str_index = str(question_index) + ') '\n",
    "                description_contents.append(str_index + doc['question'])\n",
    "                answers_contents.append(str_index + doc['answer'])\n",
    "                for explanation_key in doc['explanation']:\n",
    "                    answers_contents.append(explanation_key + '. ' + doc['explanation'][explanation_key])\n",
    "                question_index += 1\n",
    "\n",
    "            # description_contents.append('\\n' + 'Answers and explanations are in the comment')\n",
    "            description_str = '\\n'.join(description_contents)\n",
    "            # print(description_str)\n",
    "            answers_str = '\\n'.join(answers_contents)\n",
    "            description_str += '\\n\\n' + answers_str\n",
    "            # print(answers_str)\n",
    "            is_success_share = False\n",
    "            if channel == 'LinkedIn':\n",
    "                linkedin_obj = LinkedIn(os.environ['LI_URI'], os.environ['LI_REST_URI'], os.environ['LI_ACCESS_TOKEN'], os.environ['LI_VERSION'])\n",
    "                is_success_share = linkedin_obj.upload_and_share_img(cert_metadata, description_str, answers_str, cert_metadata['img_m_q_folder_path'] + img_filename)\n",
    "            #update flag to shared questions\n",
    "            if is_success_share == True:\n",
    "                update_questions_posted(cert_metadata, channel, today_yyyymmdd, random_documents)\n",
    "\n",
    "#test\n",
    "if __name__ == '__main__':\n",
    "    print(sys.argv)\n",
    "    args = sys.argv\n",
    "    if len(args) == 1:\n",
    "        #todo there is no any param, get all certificates and post to all channels\n",
    "        todo = 1\n",
    "\n",
    "    # cert_symbol = args[1]   #certificate symbol\n",
    "    # channel = args[2]\n",
    "    #\n",
    "    cert_symbol = 'AWS_CLF_C02' #for testing\n",
    "    channel = 'LinkedIn'\n",
    "    #\n",
    "    main(cert_symbol, channel)"
   ]
  },
  {
   "cell_type": "code",
   "execution_count": 14,
   "metadata": {},
   "outputs": [
    {
     "name": "stdout",
     "output_type": "stream",
     "text": [
      "AWS Certified Solutions Architect - Associate (SAA-C03) practice questions \n",
      "111111\n",
      "2222\n",
      "333\n"
     ]
    }
   ],
   "source": [
    "#test\n",
    "from thirdparty_sdk.linkedin import LinkedIn\n",
    "importlib.reload(thirdparty_sdk.linkedin)    #always get latest code\n",
    "\n",
    "cert_metadata = get_cert_metadata('AWS_SAA')\n",
    "question_list = [\"111111\", \"2222\", \"333\"]\n",
    "video_name = 'img_multi_q_20250529.png'\n",
    "file_size = const.get_file_size(cert_metadata['img_m_q_folder_path'] + video_name)\n",
    "# print(file_size)  #554191\n",
    "linkedin_obj = LinkedIn(os.environ['LI_URI'], os.environ['LI_REST_URI'], os.environ['LI_ACCESS_TOKEN'], os.environ['LI_VERSION'])\n",
    "# is_success_share = linkedin_obj.upload_and_share_video(cert_metadata, question_list, cert_metadata['img_m_q_folder_path'] + video_name, file_size)\n",
    "decription = cert_metadata['name'] + ' practice questions \\n' + '\\n'.join(question_list)\n",
    "print(decription)\n",
    "# is_success_share, post_id = linkedin_obj.upload_and_share_img(cert_metadata, decription, cert_metadata['img_m_q_folder_path'] + video_name)"
   ]
  }
 ],
 "metadata": {
  "kernelspec": {
   "display_name": "3.9.10",
   "language": "python",
   "name": "python3"
  },
  "language_info": {
   "codemirror_mode": {
    "name": "ipython",
    "version": 3
   },
   "file_extension": ".py",
   "mimetype": "text/x-python",
   "name": "python",
   "nbconvert_exporter": "python",
   "pygments_lexer": "ipython3",
   "version": "3.9.10"
  }
 },
 "nbformat": 4,
 "nbformat_minor": 2
}
