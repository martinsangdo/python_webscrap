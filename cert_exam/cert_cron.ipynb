{
 "cells": [
  {
   "cell_type": "code",
   "execution_count": null,
   "metadata": {},
   "outputs": [],
   "source": [
    "#This is the conjob command that will auto post images/videos to social networks\n",
    "#format\n",
    "#cert_cron certificate_id channel <media_type>\n",
    "#example: cert_cron.py AWS_SAA LinkedIn\n",
    "#PDF: 20 questions (Github)"
   ]
  },
  {
   "cell_type": "code",
   "execution_count": 20,
   "metadata": {},
   "outputs": [],
   "source": [
    "SHORT_VIDEO_CHANNELS = ['Youtube', 'LinkedIn', 'Facebook', 'X', 'Tiktok']   #1 video = 3 images/questions\n",
    "LONG_VIDEO_CHANNELS = ['Youtube']   #1 video = 20 images/questions\n",
    "IMAGE_CHANNELS = ['PInterest', 'Reddit']    #1 image = 3 questions\n",
    "PDF_CHANNELS = ['Github']   #1 PDF = 4 pages * 5 questions"
   ]
  },
  {
   "cell_type": "code",
   "execution_count": 2,
   "metadata": {},
   "outputs": [],
   "source": [
    "#1 question should have flag to indicate which channel(s) it appeared. for ex: \"fb\": 20250528\n",
    "#we should post to social network once per day"
   ]
  },
  {
   "cell_type": "code",
   "execution_count": 10,
   "metadata": {},
   "outputs": [],
   "source": [
    "import sys\n",
    "import os\n",
    "import importlib\n",
    "import pymongo\n",
    "from dotenv import load_dotenv\n",
    "\n",
    "# Get the current working directory of the notebook\n",
    "notebook_dir = os.getcwd()\n",
    "# Get the path to the parent directory\n",
    "parent_dir = os.path.dirname(notebook_dir)\n",
    "\n",
    "# Add the parent directory to sys.path if it's not already there\n",
    "if parent_dir not in sys.path:\n",
    "    sys.path.append(parent_dir)"
   ]
  },
  {
   "cell_type": "code",
   "execution_count": 36,
   "metadata": {},
   "outputs": [
    {
     "data": {
      "text/plain": [
       "<module 'const' from '/Users/sang/Documents/Source/Python/python_webscrap/const.py'>"
      ]
     },
     "execution_count": 36,
     "metadata": {},
     "output_type": "execute_result"
    }
   ],
   "source": [
    "load_dotenv(override=True) \n",
    "\n",
    "import thirdparty_sdk\n",
    "importlib.reload(thirdparty_sdk)    #always get latest code\n",
    "import exam_settings\n",
    "importlib.reload(exam_settings) #always get latest code\n",
    "import const\n",
    "importlib.reload(const) #always get latest code"
   ]
  },
  {
   "cell_type": "code",
   "execution_count": 13,
   "metadata": {},
   "outputs": [],
   "source": [
    "db_client = pymongo.MongoClient(os.environ['DB_URI'])\n",
    "db = db_client['db_certificates']"
   ]
  },
  {
   "cell_type": "code",
   "execution_count": null,
   "metadata": {},
   "outputs": [
    {
     "name": "stderr",
     "output_type": "stream",
     "text": [
      "[5826:110457:0529/095532.495568:ERROR:net/cert/internal/trust_store_mac.cc:817] Error parsing certificate:\n",
      "ERROR: Failed parsing extensions\n",
      "\n",
      "[5832:110468:0529/095533.099789:ERROR:ui/gl/gl_display.cc:508] EGL Driver message (Error) eglQueryDeviceAttribEXT: Bad attribute.\n",
      "[5832:110468:0529/095533.101087:ERROR:ui/gl/gl_display.cc:508] EGL Driver message (Error) eglQueryDeviceAttribEXT: Bad attribute.\n",
      "[5832:110468:0529/095533.101712:ERROR:ui/gl/gl_display.cc:508] EGL Driver message (Error) eglQueryDeviceAttribEXT: Bad attribute.\n",
      "[5832:110468:0529/095533.303017:ERROR:ui/gl/gl_display.cc:508] EGL Driver message (Error) eglQueryDeviceAttribEXT: Bad attribute.\n",
      "[5832:110468:0529/095533.315528:ERROR:ui/gl/gl_display.cc:508] EGL Driver message (Error) eglQueryDeviceAttribEXT: Bad attribute.\n",
      "[5832:110468:0529/095533.374851:ERROR:ui/gl/gl_display.cc:508] EGL Driver message (Error) eglQueryDeviceAttribEXT: Bad attribute.\n",
      "[5832:110468:0529/095533.375857:ERROR:ui/gl/gl_display.cc:508] EGL Driver message (Error) eglQueryDeviceAttribEXT: Bad attribute.\n",
      "[5832:110468:0529/095533.376956:ERROR:ui/gl/gl_display.cc:508] EGL Driver message (Error) eglQueryDeviceAttribEXT: Bad attribute.\n",
      "[5832:110468:0529/095533.379546:ERROR:ui/gl/gl_display.cc:508] EGL Driver message (Error) eglQueryDeviceAttribEXT: Bad attribute.\n",
      "[5832:110468:0529/095533.409444:ERROR:ui/gl/gl_display.cc:508] EGL Driver message (Error) eglQueryDeviceAttribEXT: Bad attribute.\n",
      "[5832:110468:0529/095533.419063:ERROR:ui/gl/gl_display.cc:508] EGL Driver message (Error) eglQueryDeviceAttribEXT: Bad attribute.\n",
      "[5832:110468:0529/095533.457224:ERROR:ui/gl/gl_display.cc:508] EGL Driver message (Error) eglQueryDeviceAttribEXT: Bad attribute.\n",
      "[5832:110468:0529/095533.458144:ERROR:ui/gl/gl_display.cc:508] EGL Driver message (Error) eglQueryDeviceAttribEXT: Bad attribute.\n",
      "[5832:110468:0529/095533.474088:ERROR:ui/gl/gl_display.cc:508] EGL Driver message (Error) eglQueryDeviceAttribEXT: Bad attribute.\n",
      "[5832:110468:0529/095533.574935:ERROR:ui/gl/gl_display.cc:508] EGL Driver message (Error) eglQueryDeviceAttribEXT: Bad attribute.\n",
      "[5832:110468:0529/095533.576394:ERROR:ui/gl/gl_display.cc:508] EGL Driver message (Error) eglQueryDeviceAttribEXT: Bad attribute.\n",
      "[5832:110468:0529/095533.583630:ERROR:ui/gl/gl_display.cc:508] EGL Driver message (Error) eglQueryDeviceAttribEXT: Bad attribute.\n",
      "[5832:110468:0529/095533.590109:ERROR:ui/gl/gl_display.cc:508] EGL Driver message (Error) eglQueryDeviceAttribEXT: Bad attribute.\n",
      "[5832:110468:0529/095533.609375:ERROR:ui/gl/gl_display.cc:508] EGL Driver message (Error) eglQueryDeviceAttribEXT: Bad attribute.\n",
      "[5832:110468:0529/095534.075951:ERROR:ui/gl/gl_display.cc:508] EGL Driver message (Error) eglQueryDeviceAttribEXT: Bad attribute.\n",
      "[5832:110468:0529/095534.097401:ERROR:ui/gl/gl_display.cc:508] EGL Driver message (Error) eglQueryDeviceAttribEXT: Bad attribute.\n",
      "606015 bytes written to file /Users/sang/Documents/Source/Python/python_webscrap/cert_exam/test_3_q.png\n"
     ]
    }
   ],
   "source": [
    "def create_img_with_3_images(documents):\n",
    "    exam_settings.generate_image_portrait_from_file('img_3_question_template.html', './', 'test_3_q.png')\n",
    "\n",
    "#test\n",
    "#create_img_with_3_images(None)"
   ]
  },
  {
   "cell_type": "code",
   "execution_count": 26,
   "metadata": {},
   "outputs": [],
   "source": [
    "def get_cert_metadata(cert_symbol):\n",
    "    meta_collection = db['tb_cert_metadata']\n",
    "    #get metadata of the certificate\n",
    "    cert_metadata = meta_collection.find_one({'symbol': cert_symbol})\n",
    "    return cert_metadata"
   ]
  },
  {
   "cell_type": "code",
   "execution_count": 27,
   "metadata": {},
   "outputs": [],
   "source": [
    "def query_random_questions(num_of_questions, channel, cert_metadata):\n",
    "    #query random questions\n",
    "    condition = {'type': 'multiple-choice'}\n",
    "    condition[channel] = None\n",
    "    pipeline = [\n",
    "                {\"$match\": condition},\n",
    "                {\"$sample\": {\"size\": num_of_questions}} #randomly documents\n",
    "            ]\n",
    "    collection = db[cert_metadata['collection_name']]\n",
    "    random_documents = list(collection.aggregate(pipeline))\n",
    "    if len(random_documents) < num_of_questions:\n",
    "        print('Not enough questions to export')\n",
    "        return []\n",
    "    return random_documents"
   ]
  },
  {
   "cell_type": "code",
   "execution_count": null,
   "metadata": {},
   "outputs": [
    {
     "ename": "SyntaxError",
     "evalue": "f-string: unmatched '[' (1667834039.py, line 6)",
     "output_type": "error",
     "traceback": [
      "\u001b[0;36m  Cell \u001b[0;32mIn[35], line 6\u001b[0;36m\u001b[0m\n\u001b[0;31m    body.append(f'<div class=\"header\">{cert_metadata['name']}</div>')\u001b[0m\n\u001b[0m                                                      ^\u001b[0m\n\u001b[0;31mSyntaxError\u001b[0m\u001b[0;31m:\u001b[0m f-string: unmatched '['\n"
     ]
    }
   ],
   "source": [
    "def generate_1_img_multiple_questions(random_documents, cert_metadata):\n",
    "    today_yyyymmdd = const.get_current_date_yyyymmdd()\n",
    "    question_index = 1\n",
    "    document_html = []\n",
    "    document_html.append(const.html_head_1_img_3_q_str)\n",
    "    #1. add header\n",
    "    document_html.append('<div class=\"header\">'+cert_metadata['name']+'</div>')\n",
    "    #2. add questions\n",
    "    for doc in random_documents:\n",
    "        container_html = []\n",
    "        container_html.append('<div class=\"container\">')\n",
    "        str_index = str(question_index) + ') '\n",
    "        #question first\n",
    "        container_html.append('<div class=\"question\">'+str_index + doc['question']+'</div>')\n",
    "        #2.1 add answers\n",
    "        container_html.append('<div class=\"answers\">')\n",
    "        for key in doc['options'].keys():\n",
    "            container_html.append( f'''\n",
    "                    <div class=\"answer\">\n",
    "                        <label>{key}. {doc['options'][key]}</label>\n",
    "                    </div>''')\n",
    "        container_html.append('</div>') #end list of answers\n",
    "        container_html.append('</div>') #end 1 container\n",
    "        question_index += 1\n",
    "    document_html.append(const.html_tail_1_img_3_q_str)\n",
    "    #1 doc 1 image\n",
    "    exam_settings.generate_image_portrait(''.join(document_html), cert_metadata['img_m_q_folder_path'], 'img_multi_q_'+today_yyyymmdd + '.png')\n",
    "    print('Done generating 1 page image')"
   ]
  },
  {
   "cell_type": "code",
   "execution_count": null,
   "metadata": {},
   "outputs": [
    {
     "name": "stdout",
     "output_type": "stream",
     "text": [
      "['/Users/sang/.pyenv/versions/3.9.10/lib/python3.9/site-packages/ipykernel_launcher.py', '--f=/Users/sang/Library/Jupyter/runtime/kernel-v395174b41b0d3494fcc23a2b4da7097b8a4c11d95.json']\n"
     ]
    },
    {
     "ename": "TypeError",
     "evalue": "string indices must be integers",
     "output_type": "error",
     "traceback": [
      "\u001b[0;31m---------------------------------------------------------------------------\u001b[0m",
      "\u001b[0;31mTypeError\u001b[0m                                 Traceback (most recent call last)",
      "Cell \u001b[0;32mIn[28], line 30\u001b[0m\n\u001b[1;32m     28\u001b[0m channel \u001b[38;5;241m=\u001b[39m \u001b[38;5;124m'\u001b[39m\u001b[38;5;124mLinkedIn\u001b[39m\u001b[38;5;124m'\u001b[39m\n\u001b[1;32m     29\u001b[0m \u001b[38;5;66;03m#\u001b[39;00m\n\u001b[0;32m---> 30\u001b[0m \u001b[43mmain\u001b[49m\u001b[43m(\u001b[49m\u001b[43mcert_symbol\u001b[49m\u001b[43m,\u001b[49m\u001b[43m \u001b[49m\u001b[43mchannel\u001b[49m\u001b[43m)\u001b[49m\n",
      "Cell \u001b[0;32mIn[28], line 8\u001b[0m, in \u001b[0;36mmain\u001b[0;34m(cert_symbol, channel)\u001b[0m\n\u001b[1;32m      6\u001b[0m cert_metadata \u001b[38;5;241m=\u001b[39m get_cert_metadata(cert_symbol)\n\u001b[1;32m      7\u001b[0m \u001b[38;5;66;03m#query random questions\u001b[39;00m\n\u001b[0;32m----> 8\u001b[0m random_documents \u001b[38;5;241m=\u001b[39m \u001b[43mquery_random_questions\u001b[49m\u001b[43m(\u001b[49m\u001b[43mnum_of_questions\u001b[49m\u001b[43m,\u001b[49m\u001b[43m \u001b[49m\u001b[43mcert_symbol\u001b[49m\u001b[43m,\u001b[49m\u001b[43m \u001b[49m\u001b[43mchannel\u001b[49m\u001b[43m)\u001b[49m\n\u001b[1;32m      9\u001b[0m \u001b[38;5;28;01mif\u001b[39;00m \u001b[38;5;28mlen\u001b[39m(random_documents) \u001b[38;5;241m==\u001b[39m \u001b[38;5;241m0\u001b[39m:\n\u001b[1;32m     10\u001b[0m     \u001b[38;5;28;01mreturn\u001b[39;00m\n",
      "Cell \u001b[0;32mIn[27], line 9\u001b[0m, in \u001b[0;36mquery_random_questions\u001b[0;34m(num_of_questions, channel, cert_metadata)\u001b[0m\n\u001b[1;32m      4\u001b[0m condition[channel] \u001b[38;5;241m=\u001b[39m \u001b[38;5;28;01mNone\u001b[39;00m\n\u001b[1;32m      5\u001b[0m pipeline \u001b[38;5;241m=\u001b[39m [\n\u001b[1;32m      6\u001b[0m             {\u001b[38;5;124m\"\u001b[39m\u001b[38;5;124m$match\u001b[39m\u001b[38;5;124m\"\u001b[39m: condition},\n\u001b[1;32m      7\u001b[0m             {\u001b[38;5;124m\"\u001b[39m\u001b[38;5;124m$sample\u001b[39m\u001b[38;5;124m\"\u001b[39m: {\u001b[38;5;124m\"\u001b[39m\u001b[38;5;124msize\u001b[39m\u001b[38;5;124m\"\u001b[39m: num_of_questions}} \u001b[38;5;66;03m#randomly documents\u001b[39;00m\n\u001b[1;32m      8\u001b[0m         ]\n\u001b[0;32m----> 9\u001b[0m collection \u001b[38;5;241m=\u001b[39m db[\u001b[43mcert_metadata\u001b[49m\u001b[43m[\u001b[49m\u001b[38;5;124;43m'\u001b[39;49m\u001b[38;5;124;43mcollection_name\u001b[39;49m\u001b[38;5;124;43m'\u001b[39;49m\u001b[43m]\u001b[49m]\n\u001b[1;32m     10\u001b[0m random_documents \u001b[38;5;241m=\u001b[39m \u001b[38;5;28mlist\u001b[39m(collection\u001b[38;5;241m.\u001b[39maggregate(pipeline))\n\u001b[1;32m     11\u001b[0m \u001b[38;5;28;01mif\u001b[39;00m \u001b[38;5;28mlen\u001b[39m(random_documents) \u001b[38;5;241m<\u001b[39m num_of_questions:\n",
      "\u001b[0;31mTypeError\u001b[0m: string indices must be integers"
     ]
    }
   ],
   "source": [
    "def main(cert_symbol, channel):\n",
    "    num_of_questions = 3    #default we export 3 questions\n",
    "    if channel in LONG_VIDEO_CHANNELS or channel in PDF_CHANNELS:\n",
    "        num_of_questions = 20\n",
    "    #\n",
    "    cert_metadata = get_cert_metadata(cert_symbol)\n",
    "    #query random questions\n",
    "    random_documents = query_random_questions(num_of_questions, channel, cert_metadata)\n",
    "    if len(random_documents) == 0:\n",
    "        return\n",
    "    if channel in SHORT_VIDEO_CHANNELS or channel in IMAGE_CHANNELS:\n",
    "        #create 1 image with multiple questions\n",
    "        generate_1_img_multiple_questions(random_documents, cert_metadata)\n",
    "\n",
    "#test\n",
    "if __name__ == '__main__':\n",
    "    print(sys.argv)\n",
    "    args = sys.argv\n",
    "    if len(args) == 1:\n",
    "        #todo there is no any param, get all certificates and post to all channels\n",
    "        todo = 1\n",
    "\n",
    "    # cert_symbol = args[1]   #certificate symbol\n",
    "    # channel = args[2]\n",
    "    #\n",
    "    cert_symbol = 'AWS_SAA' #for testing\n",
    "    channel = 'LinkedIn'\n",
    "    #\n",
    "    main(cert_symbol, channel)"
   ]
  },
  {
   "cell_type": "code",
   "execution_count": null,
   "metadata": {},
   "outputs": [],
   "source": []
  }
 ],
 "metadata": {
  "kernelspec": {
   "display_name": "3.9.10",
   "language": "python",
   "name": "python3"
  },
  "language_info": {
   "codemirror_mode": {
    "name": "ipython",
    "version": 3
   },
   "file_extension": ".py",
   "mimetype": "text/x-python",
   "name": "python",
   "nbconvert_exporter": "python",
   "pygments_lexer": "ipython3",
   "version": "3.9.10"
  }
 },
 "nbformat": 4,
 "nbformat_minor": 2
}
