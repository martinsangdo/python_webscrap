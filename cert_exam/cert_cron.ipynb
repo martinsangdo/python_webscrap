{
 "cells": [
  {
   "cell_type": "code",
   "execution_count": null,
   "metadata": {},
   "outputs": [],
   "source": [
    "#This is the conjob command that will auto post images/videos to social networks\n",
    "#format\n",
    "#cert_cron certificate_id channel <media_type>\n",
    "#example: cert_cron.py AWS_SAA LinkedIn\n",
    "#PDF: 20 questions (Github)"
   ]
  },
  {
   "cell_type": "code",
   "execution_count": 20,
   "metadata": {},
   "outputs": [],
   "source": [
    "SHORT_VIDEO_CHANNELS = ['Youtube', 'LinkedIn', 'Facebook', 'X', 'Tiktok']   #1 video = 3 images/questions\n",
    "LONG_VIDEO_CHANNELS = ['Youtube']   #1 video = 20 images/questions\n",
    "IMAGE_CHANNELS = ['PInterest', 'Reddit']    #1 image = 3 questions\n",
    "PDF_CHANNELS = ['Github']   #1 PDF = 4 pages * 5 questions"
   ]
  },
  {
   "cell_type": "code",
   "execution_count": 2,
   "metadata": {},
   "outputs": [],
   "source": [
    "#1 question should have flag to indicate which channel(s) it appeared. for ex: \"fb\": 20250528\n",
    "#we should post to social network once per day"
   ]
  },
  {
   "cell_type": "code",
   "execution_count": 10,
   "metadata": {},
   "outputs": [],
   "source": [
    "import sys\n",
    "import os\n",
    "import importlib\n",
    "import pymongo\n",
    "from dotenv import load_dotenv\n",
    "\n",
    "# Get the current working directory of the notebook\n",
    "notebook_dir = os.getcwd()\n",
    "# Get the path to the parent directory\n",
    "parent_dir = os.path.dirname(notebook_dir)\n",
    "\n",
    "# Add the parent directory to sys.path if it's not already there\n",
    "if parent_dir not in sys.path:\n",
    "    sys.path.append(parent_dir)"
   ]
  },
  {
   "cell_type": "code",
   "execution_count": 49,
   "metadata": {},
   "outputs": [
    {
     "data": {
      "text/plain": [
       "<module 'const' from '/Users/sang/Documents/Source/Python/python_webscrap/const.py'>"
      ]
     },
     "execution_count": 49,
     "metadata": {},
     "output_type": "execute_result"
    }
   ],
   "source": [
    "load_dotenv(override=True) \n",
    "\n",
    "import thirdparty_sdk\n",
    "importlib.reload(thirdparty_sdk)    #always get latest code\n",
    "import exam_settings\n",
    "importlib.reload(exam_settings) #always get latest code\n",
    "import const\n",
    "importlib.reload(const) #always get latest code"
   ]
  },
  {
   "cell_type": "code",
   "execution_count": 13,
   "metadata": {},
   "outputs": [],
   "source": [
    "db_client = pymongo.MongoClient(os.environ['DB_URI'])\n",
    "db = db_client['db_certificates']"
   ]
  },
  {
   "cell_type": "code",
   "execution_count": null,
   "metadata": {},
   "outputs": [
    {
     "name": "stderr",
     "output_type": "stream",
     "text": [
      "[5826:110457:0529/095532.495568:ERROR:net/cert/internal/trust_store_mac.cc:817] Error parsing certificate:\n",
      "ERROR: Failed parsing extensions\n",
      "\n",
      "[5832:110468:0529/095533.099789:ERROR:ui/gl/gl_display.cc:508] EGL Driver message (Error) eglQueryDeviceAttribEXT: Bad attribute.\n",
      "[5832:110468:0529/095533.101087:ERROR:ui/gl/gl_display.cc:508] EGL Driver message (Error) eglQueryDeviceAttribEXT: Bad attribute.\n",
      "[5832:110468:0529/095533.101712:ERROR:ui/gl/gl_display.cc:508] EGL Driver message (Error) eglQueryDeviceAttribEXT: Bad attribute.\n",
      "[5832:110468:0529/095533.303017:ERROR:ui/gl/gl_display.cc:508] EGL Driver message (Error) eglQueryDeviceAttribEXT: Bad attribute.\n",
      "[5832:110468:0529/095533.315528:ERROR:ui/gl/gl_display.cc:508] EGL Driver message (Error) eglQueryDeviceAttribEXT: Bad attribute.\n",
      "[5832:110468:0529/095533.374851:ERROR:ui/gl/gl_display.cc:508] EGL Driver message (Error) eglQueryDeviceAttribEXT: Bad attribute.\n",
      "[5832:110468:0529/095533.375857:ERROR:ui/gl/gl_display.cc:508] EGL Driver message (Error) eglQueryDeviceAttribEXT: Bad attribute.\n",
      "[5832:110468:0529/095533.376956:ERROR:ui/gl/gl_display.cc:508] EGL Driver message (Error) eglQueryDeviceAttribEXT: Bad attribute.\n",
      "[5832:110468:0529/095533.379546:ERROR:ui/gl/gl_display.cc:508] EGL Driver message (Error) eglQueryDeviceAttribEXT: Bad attribute.\n",
      "[5832:110468:0529/095533.409444:ERROR:ui/gl/gl_display.cc:508] EGL Driver message (Error) eglQueryDeviceAttribEXT: Bad attribute.\n",
      "[5832:110468:0529/095533.419063:ERROR:ui/gl/gl_display.cc:508] EGL Driver message (Error) eglQueryDeviceAttribEXT: Bad attribute.\n",
      "[5832:110468:0529/095533.457224:ERROR:ui/gl/gl_display.cc:508] EGL Driver message (Error) eglQueryDeviceAttribEXT: Bad attribute.\n",
      "[5832:110468:0529/095533.458144:ERROR:ui/gl/gl_display.cc:508] EGL Driver message (Error) eglQueryDeviceAttribEXT: Bad attribute.\n",
      "[5832:110468:0529/095533.474088:ERROR:ui/gl/gl_display.cc:508] EGL Driver message (Error) eglQueryDeviceAttribEXT: Bad attribute.\n",
      "[5832:110468:0529/095533.574935:ERROR:ui/gl/gl_display.cc:508] EGL Driver message (Error) eglQueryDeviceAttribEXT: Bad attribute.\n",
      "[5832:110468:0529/095533.576394:ERROR:ui/gl/gl_display.cc:508] EGL Driver message (Error) eglQueryDeviceAttribEXT: Bad attribute.\n",
      "[5832:110468:0529/095533.583630:ERROR:ui/gl/gl_display.cc:508] EGL Driver message (Error) eglQueryDeviceAttribEXT: Bad attribute.\n",
      "[5832:110468:0529/095533.590109:ERROR:ui/gl/gl_display.cc:508] EGL Driver message (Error) eglQueryDeviceAttribEXT: Bad attribute.\n",
      "[5832:110468:0529/095533.609375:ERROR:ui/gl/gl_display.cc:508] EGL Driver message (Error) eglQueryDeviceAttribEXT: Bad attribute.\n",
      "[5832:110468:0529/095534.075951:ERROR:ui/gl/gl_display.cc:508] EGL Driver message (Error) eglQueryDeviceAttribEXT: Bad attribute.\n",
      "[5832:110468:0529/095534.097401:ERROR:ui/gl/gl_display.cc:508] EGL Driver message (Error) eglQueryDeviceAttribEXT: Bad attribute.\n",
      "606015 bytes written to file /Users/sang/Documents/Source/Python/python_webscrap/cert_exam/test_3_q.png\n"
     ]
    }
   ],
   "source": [
    "def create_img_with_3_images(documents):\n",
    "    exam_settings.generate_image_portrait_from_file('img_3_question_template.html', './', 'test_3_q.png')\n",
    "\n",
    "#test\n",
    "#create_img_with_3_images(None)"
   ]
  },
  {
   "cell_type": "code",
   "execution_count": 26,
   "metadata": {},
   "outputs": [],
   "source": [
    "def get_cert_metadata(cert_symbol):\n",
    "    meta_collection = db['tb_cert_metadata']\n",
    "    #get metadata of the certificate\n",
    "    cert_metadata = meta_collection.find_one({'symbol': cert_symbol})\n",
    "    return cert_metadata"
   ]
  },
  {
   "cell_type": "code",
   "execution_count": 27,
   "metadata": {},
   "outputs": [],
   "source": [
    "def query_random_questions(num_of_questions, channel, cert_metadata):\n",
    "    #query random questions\n",
    "    condition = {'type': 'multiple-choice'}\n",
    "    condition[channel] = None\n",
    "    pipeline = [\n",
    "                {\"$match\": condition},\n",
    "                {\"$sample\": {\"size\": num_of_questions}} #randomly documents\n",
    "            ]\n",
    "    collection = db[cert_metadata['collection_name']]\n",
    "    random_documents = list(collection.aggregate(pipeline))\n",
    "    if len(random_documents) < num_of_questions:\n",
    "        print('Not enough questions to export')\n",
    "        return []\n",
    "    return random_documents"
   ]
  },
  {
   "cell_type": "code",
   "execution_count": null,
   "metadata": {},
   "outputs": [],
   "source": [
    "def generate_1_img_multiple_questions(random_documents, cert_metadata):\n",
    "    today_yyyymmdd = const.get_current_date_yyyymmdd()\n",
    "    question_index = 1\n",
    "    document_html = []\n",
    "    document_html.append(exam_settings.html_head_1_img_3_q_str)\n",
    "    #1. add header\n",
    "    document_html.append('<div class=\"header\">'+cert_metadata['name']+'</div>')\n",
    "    #2. add questions\n",
    "    for doc in random_documents:\n",
    "        container_html = []\n",
    "        container_html.append('<div class=\"container\">')\n",
    "        str_index = str(question_index) + ') '\n",
    "        #question first\n",
    "        container_html.append('<div class=\"question\">'+str_index + doc['question']+'</div>')\n",
    "        #2.1 add answers\n",
    "        container_html.append('<div class=\"answers\">')\n",
    "        for key in doc['options'].keys():\n",
    "            container_html.append( f'''\n",
    "                    <div class=\"answer\">\n",
    "                        <label>{key}. {doc['options'][key]}</label>\n",
    "                    </div>''')\n",
    "        container_html.append('</div>') #end list of answers\n",
    "        container_html.append('</div>') #end 1 container\n",
    "        document_html.append(''.join(container_html))\n",
    "        question_index += 1\n",
    "    #add footer (optional because image/video cannot click on the link)\n",
    "    # document_html.append('<div class=\"footer\">Check out more questions via <a href=\"'+cert_metadata['udemy_link']+'\">this link</a></div>')\n",
    "    #end doc\n",
    "    document_html.append(exam_settings.html_tail_1_img_3_q_str)\n",
    "    #1 doc 1 image\n",
    "    exam_settings.generate_image_portrait(''.join(document_html), cert_metadata['img_m_q_folder_path'], 'img_multi_q_'+today_yyyymmdd + '.png')\n",
    "    print('Done generating 1 page image')"
   ]
  },
  {
   "cell_type": "code",
   "execution_count": 48,
   "metadata": {},
   "outputs": [
    {
     "name": "stdout",
     "output_type": "stream",
     "text": [
      "['/Users/sang/.pyenv/versions/3.9.10/lib/python3.9/site-packages/ipykernel_launcher.py', '--f=/Users/sang/Library/Jupyter/runtime/kernel-v395174b41b0d3494fcc23a2b4da7097b8a4c11d95.json']\n"
     ]
    },
    {
     "name": "stderr",
     "output_type": "stream",
     "text": [
      "[7440:138897:0529/102541.547342:ERROR:net/cert/internal/trust_store_mac.cc:817] Error parsing certificate:\n",
      "ERROR: Failed parsing extensions\n",
      "\n",
      "[7446:138906:0529/102542.211513:ERROR:ui/gl/gl_display.cc:508] EGL Driver message (Error) eglQueryDeviceAttribEXT: Bad attribute.\n",
      "[7446:138906:0529/102542.315800:ERROR:ui/gl/gl_display.cc:508] EGL Driver message (Error) eglQueryDeviceAttribEXT: Bad attribute.\n",
      "[7446:138906:0529/102542.316693:ERROR:ui/gl/gl_display.cc:508] EGL Driver message (Error) eglQueryDeviceAttribEXT: Bad attribute.\n",
      "[7446:138906:0529/102542.407944:ERROR:ui/gl/gl_display.cc:508] EGL Driver message (Error) eglQueryDeviceAttribEXT: Bad attribute.\n",
      "[7446:138906:0529/102542.409595:ERROR:ui/gl/gl_display.cc:508] EGL Driver message (Error) eglQueryDeviceAttribEXT: Bad attribute.\n",
      "[7446:138906:0529/102542.411973:ERROR:ui/gl/gl_display.cc:508] EGL Driver message (Error) eglQueryDeviceAttribEXT: Bad attribute.\n",
      "[7446:138906:0529/102542.412754:ERROR:ui/gl/gl_display.cc:508] EGL Driver message (Error) eglQueryDeviceAttribEXT: Bad attribute.\n",
      "[7446:138906:0529/102542.415253:ERROR:ui/gl/gl_display.cc:508] EGL Driver message (Error) eglQueryDeviceAttribEXT: Bad attribute.\n",
      "[7446:138906:0529/102542.418656:ERROR:ui/gl/gl_display.cc:508] EGL Driver message (Error) eglQueryDeviceAttribEXT: Bad attribute.\n",
      "[7446:138906:0529/102542.449362:ERROR:ui/gl/gl_display.cc:508] EGL Driver message (Error) eglQueryDeviceAttribEXT: Bad attribute.\n",
      "[7446:138906:0529/102542.478931:ERROR:ui/gl/gl_display.cc:508] EGL Driver message (Error) eglQueryDeviceAttribEXT: Bad attribute.\n",
      "[7446:138906:0529/102542.508594:ERROR:ui/gl/gl_display.cc:508] EGL Driver message (Error) eglQueryDeviceAttribEXT: Bad attribute.\n",
      "[7446:138906:0529/102542.510499:ERROR:ui/gl/gl_display.cc:508] EGL Driver message (Error) eglQueryDeviceAttribEXT: Bad attribute.\n",
      "[7446:138906:0529/102542.518963:ERROR:ui/gl/gl_display.cc:508] EGL Driver message (Error) eglQueryDeviceAttribEXT: Bad attribute.\n",
      "[7446:138906:0529/102542.637237:ERROR:ui/gl/gl_display.cc:508] EGL Driver message (Error) eglQueryDeviceAttribEXT: Bad attribute.\n",
      "[7446:138906:0529/102542.638870:ERROR:ui/gl/gl_display.cc:508] EGL Driver message (Error) eglQueryDeviceAttribEXT: Bad attribute.\n",
      "[7446:138906:0529/102542.644403:ERROR:ui/gl/gl_display.cc:508] EGL Driver message (Error) eglQueryDeviceAttribEXT: Bad attribute.\n",
      "[7446:138906:0529/102542.651811:ERROR:ui/gl/gl_display.cc:508] EGL Driver message (Error) eglQueryDeviceAttribEXT: Bad attribute.\n",
      "[7446:138906:0529/102543.078185:ERROR:ui/gl/gl_display.cc:508] EGL Driver message (Error) eglQueryDeviceAttribEXT: Bad attribute.\n",
      "[7446:138906:0529/102543.093347:ERROR:ui/gl/gl_display.cc:508] EGL Driver message (Error) eglQueryDeviceAttribEXT: Bad attribute.\n",
      "435748 bytes written to file /Users/sang/Documents/Source/Python/python_webscrap/cert_exam/aws_sa_data/img_m_q/img_multi_q_20250529.png\n"
     ]
    },
    {
     "name": "stdout",
     "output_type": "stream",
     "text": [
      "Done generating 1 page image\n"
     ]
    }
   ],
   "source": [
    "def main(cert_symbol, channel):\n",
    "    num_of_questions = 3    #default we export 3 questions\n",
    "    if channel in LONG_VIDEO_CHANNELS or channel in PDF_CHANNELS:\n",
    "        num_of_questions = 20\n",
    "    #\n",
    "    cert_metadata = get_cert_metadata(cert_symbol)\n",
    "    #query random questions\n",
    "    random_documents = query_random_questions(num_of_questions, channel, cert_metadata)\n",
    "    if len(random_documents) == 0:\n",
    "        return\n",
    "    if channel in SHORT_VIDEO_CHANNELS or channel in IMAGE_CHANNELS:\n",
    "        #create 1 image with multiple questions\n",
    "        generate_1_img_multiple_questions(random_documents, cert_metadata)\n",
    "\n",
    "#test\n",
    "if __name__ == '__main__':\n",
    "    print(sys.argv)\n",
    "    args = sys.argv\n",
    "    if len(args) == 1:\n",
    "        #todo there is no any param, get all certificates and post to all channels\n",
    "        todo = 1\n",
    "\n",
    "    # cert_symbol = args[1]   #certificate symbol\n",
    "    # channel = args[2]\n",
    "    #\n",
    "    cert_symbol = 'AWS_SAA' #for testing\n",
    "    channel = 'LinkedIn'\n",
    "    #\n",
    "    main(cert_symbol, channel)"
   ]
  },
  {
   "cell_type": "code",
   "execution_count": null,
   "metadata": {},
   "outputs": [],
   "source": []
  }
 ],
 "metadata": {
  "kernelspec": {
   "display_name": "3.9.10",
   "language": "python",
   "name": "python3"
  },
  "language_info": {
   "codemirror_mode": {
    "name": "ipython",
    "version": 3
   },
   "file_extension": ".py",
   "mimetype": "text/x-python",
   "name": "python",
   "nbconvert_exporter": "python",
   "pygments_lexer": "ipython3",
   "version": "3.9.10"
  }
 },
 "nbformat": 4,
 "nbformat_minor": 2
}
