{
 "cells": [
  {
   "cell_type": "code",
   "execution_count": null,
   "metadata": {},
   "outputs": [],
   "source": [
    "#This is the conjob command that will auto post images/videos to social networks\n",
    "#format\n",
    "#cert_cron certificate_id channel <media_type>\n",
    "#example: cert_cron.py AWS_SAA LinkedIn\n",
    "#PDF: 20 questions (Github)"
   ]
  },
  {
   "cell_type": "code",
   "execution_count": null,
   "metadata": {},
   "outputs": [],
   "source": [
    "SHORT_VIDEO_CHANNELS = ['LinkedIn', 'Youtube', 'Facebook', 'X', 'Tiktok']   #1 video = 3 images/questions\n",
    "LONG_VIDEO_CHANNELS = ['Youtube']   #1 video = 20 images/questions\n",
    "IMAGE_CHANNELS = ['PInterest', 'Reddit']    #1 image = 3 questions\n",
    "PDF_CHANNELS = ['Github']   #1 PDF = 4 pages * 5 questions"
   ]
  },
  {
   "cell_type": "code",
   "execution_count": 2,
   "metadata": {},
   "outputs": [],
   "source": [
    "#1 question should have flag to indicate which channel(s) it appeared. for ex: \"fb\": 20250528\n",
    "#we should post to social network once per day"
   ]
  },
  {
   "cell_type": "code",
   "execution_count": 65,
   "metadata": {},
   "outputs": [],
   "source": [
    "import sys\n",
    "import os\n",
    "import importlib\n",
    "import pymongo\n",
    "from dotenv import load_dotenv\n",
    "import subprocess\n",
    "import time\n",
    "\n",
    "# Get the current working directory of the notebook\n",
    "notebook_dir = os.getcwd()\n",
    "# Get the path to the parent directory\n",
    "parent_dir = os.path.dirname(notebook_dir)\n",
    "\n",
    "# Add the parent directory to sys.path if it's not already there\n",
    "if parent_dir not in sys.path:\n",
    "    sys.path.append(parent_dir)"
   ]
  },
  {
   "cell_type": "code",
   "execution_count": 84,
   "metadata": {},
   "outputs": [
    {
     "data": {
      "text/plain": [
       "<module 'const' from '/Users/sang/Documents/Source/Python/python_webscrap/const.py'>"
      ]
     },
     "execution_count": 84,
     "metadata": {},
     "output_type": "execute_result"
    }
   ],
   "source": [
    "load_dotenv(override=True) \n",
    "\n",
    "import thirdparty_sdk\n",
    "importlib.reload(thirdparty_sdk)    #always get latest code\n",
    "import exam_settings\n",
    "importlib.reload(exam_settings) #always get latest code\n",
    "import const\n",
    "importlib.reload(const) #always get latest code"
   ]
  },
  {
   "cell_type": "code",
   "execution_count": 13,
   "metadata": {},
   "outputs": [],
   "source": [
    "db_client = pymongo.MongoClient(os.environ['DB_URI'])\n",
    "db = db_client['db_certificates']"
   ]
  },
  {
   "cell_type": "code",
   "execution_count": null,
   "metadata": {},
   "outputs": [
    {
     "name": "stderr",
     "output_type": "stream",
     "text": [
      "[5826:110457:0529/095532.495568:ERROR:net/cert/internal/trust_store_mac.cc:817] Error parsing certificate:\n",
      "ERROR: Failed parsing extensions\n",
      "\n",
      "[5832:110468:0529/095533.099789:ERROR:ui/gl/gl_display.cc:508] EGL Driver message (Error) eglQueryDeviceAttribEXT: Bad attribute.\n",
      "[5832:110468:0529/095533.101087:ERROR:ui/gl/gl_display.cc:508] EGL Driver message (Error) eglQueryDeviceAttribEXT: Bad attribute.\n",
      "[5832:110468:0529/095533.101712:ERROR:ui/gl/gl_display.cc:508] EGL Driver message (Error) eglQueryDeviceAttribEXT: Bad attribute.\n",
      "[5832:110468:0529/095533.303017:ERROR:ui/gl/gl_display.cc:508] EGL Driver message (Error) eglQueryDeviceAttribEXT: Bad attribute.\n",
      "[5832:110468:0529/095533.315528:ERROR:ui/gl/gl_display.cc:508] EGL Driver message (Error) eglQueryDeviceAttribEXT: Bad attribute.\n",
      "[5832:110468:0529/095533.374851:ERROR:ui/gl/gl_display.cc:508] EGL Driver message (Error) eglQueryDeviceAttribEXT: Bad attribute.\n",
      "[5832:110468:0529/095533.375857:ERROR:ui/gl/gl_display.cc:508] EGL Driver message (Error) eglQueryDeviceAttribEXT: Bad attribute.\n",
      "[5832:110468:0529/095533.376956:ERROR:ui/gl/gl_display.cc:508] EGL Driver message (Error) eglQueryDeviceAttribEXT: Bad attribute.\n",
      "[5832:110468:0529/095533.379546:ERROR:ui/gl/gl_display.cc:508] EGL Driver message (Error) eglQueryDeviceAttribEXT: Bad attribute.\n",
      "[5832:110468:0529/095533.409444:ERROR:ui/gl/gl_display.cc:508] EGL Driver message (Error) eglQueryDeviceAttribEXT: Bad attribute.\n",
      "[5832:110468:0529/095533.419063:ERROR:ui/gl/gl_display.cc:508] EGL Driver message (Error) eglQueryDeviceAttribEXT: Bad attribute.\n",
      "[5832:110468:0529/095533.457224:ERROR:ui/gl/gl_display.cc:508] EGL Driver message (Error) eglQueryDeviceAttribEXT: Bad attribute.\n",
      "[5832:110468:0529/095533.458144:ERROR:ui/gl/gl_display.cc:508] EGL Driver message (Error) eglQueryDeviceAttribEXT: Bad attribute.\n",
      "[5832:110468:0529/095533.474088:ERROR:ui/gl/gl_display.cc:508] EGL Driver message (Error) eglQueryDeviceAttribEXT: Bad attribute.\n",
      "[5832:110468:0529/095533.574935:ERROR:ui/gl/gl_display.cc:508] EGL Driver message (Error) eglQueryDeviceAttribEXT: Bad attribute.\n",
      "[5832:110468:0529/095533.576394:ERROR:ui/gl/gl_display.cc:508] EGL Driver message (Error) eglQueryDeviceAttribEXT: Bad attribute.\n",
      "[5832:110468:0529/095533.583630:ERROR:ui/gl/gl_display.cc:508] EGL Driver message (Error) eglQueryDeviceAttribEXT: Bad attribute.\n",
      "[5832:110468:0529/095533.590109:ERROR:ui/gl/gl_display.cc:508] EGL Driver message (Error) eglQueryDeviceAttribEXT: Bad attribute.\n",
      "[5832:110468:0529/095533.609375:ERROR:ui/gl/gl_display.cc:508] EGL Driver message (Error) eglQueryDeviceAttribEXT: Bad attribute.\n",
      "[5832:110468:0529/095534.075951:ERROR:ui/gl/gl_display.cc:508] EGL Driver message (Error) eglQueryDeviceAttribEXT: Bad attribute.\n",
      "[5832:110468:0529/095534.097401:ERROR:ui/gl/gl_display.cc:508] EGL Driver message (Error) eglQueryDeviceAttribEXT: Bad attribute.\n",
      "606015 bytes written to file /Users/sang/Documents/Source/Python/python_webscrap/cert_exam/test_3_q.png\n"
     ]
    }
   ],
   "source": [
    "def create_img_with_3_images(documents):\n",
    "    exam_settings.generate_image_portrait_from_file('img_3_question_template.html', './', 'test_3_q.png')\n",
    "\n",
    "#test\n",
    "#create_img_with_3_images(None)"
   ]
  },
  {
   "cell_type": "code",
   "execution_count": 26,
   "metadata": {},
   "outputs": [],
   "source": [
    "def get_cert_metadata(cert_symbol):\n",
    "    meta_collection = db['tb_cert_metadata']\n",
    "    #get metadata of the certificate\n",
    "    cert_metadata = meta_collection.find_one({'symbol': cert_symbol})\n",
    "    return cert_metadata"
   ]
  },
  {
   "cell_type": "code",
   "execution_count": 27,
   "metadata": {},
   "outputs": [],
   "source": [
    "def query_random_questions(num_of_questions, channel, cert_metadata):\n",
    "    #query random questions\n",
    "    condition = {'type': 'multiple-choice'}\n",
    "    condition[channel] = None\n",
    "    pipeline = [\n",
    "                {\"$match\": condition},\n",
    "                {\"$sample\": {\"size\": num_of_questions}} #randomly documents\n",
    "            ]\n",
    "    collection = db[cert_metadata['collection_name']]\n",
    "    random_documents = list(collection.aggregate(pipeline))\n",
    "    if len(random_documents) < num_of_questions:\n",
    "        print('Not enough questions to export')\n",
    "        return []\n",
    "    return random_documents"
   ]
  },
  {
   "cell_type": "code",
   "execution_count": 62,
   "metadata": {},
   "outputs": [],
   "source": [
    "def generate_1_img_multiple_questions(random_documents, cert_metadata, today_yyyymmdd):\n",
    "    question_index = 1\n",
    "    document_html = []\n",
    "    document_html.append(exam_settings.html_head_1_img_3_q_str)\n",
    "    #1. add header\n",
    "    document_html.append('<div class=\"header\">'+cert_metadata['name']+'</div>')\n",
    "    #2. add questions\n",
    "    for doc in random_documents:\n",
    "        container_html = []\n",
    "        container_html.append('<div class=\"container\">')\n",
    "        str_index = str(question_index) + ') '\n",
    "        #question first\n",
    "        container_html.append('<div class=\"question\">'+str_index + doc['question']+'</div>')\n",
    "        #2.1 add answers\n",
    "        container_html.append('<div class=\"answers\">')\n",
    "        for key in doc['options'].keys():\n",
    "            container_html.append( f'''\n",
    "                    <div class=\"answer\">\n",
    "                        <label>{key}. {doc['options'][key]}</label>\n",
    "                    </div>''')\n",
    "        container_html.append('</div>') #end list of answers\n",
    "        container_html.append('</div>') #end 1 container\n",
    "        document_html.append(''.join(container_html))\n",
    "        question_index += 1\n",
    "    #add footer (optional because image/video cannot click on the link)\n",
    "    # document_html.append('<div class=\"footer\">Check out more questions via <a href=\"'+cert_metadata['udemy_link']+'\">this link</a></div>')\n",
    "    #end doc\n",
    "    document_html.append(exam_settings.html_tail_1_img_3_q_str)\n",
    "    #1 doc 1 image\n",
    "    filename = 'img_multi_q_'+today_yyyymmdd + '.png'\n",
    "    creation_result = exam_settings.generate_image_portrait(''.join(document_html), cert_metadata['img_m_q_folder_path'], filename)\n",
    "    return creation_result, filename"
   ]
  },
  {
   "cell_type": "code",
   "execution_count": 63,
   "metadata": {},
   "outputs": [],
   "source": [
    "#create video with only 1 image\n",
    "#sample: ffmpeg -loop 1 -i input_image.jpg -i input_audio.mp3 -c:v libx264 -tune stillimage -c:a aac -b:a 192k -pix_fmt yuv420p -t 10 -shortest output_video.mp4\n",
    "def create_video_from_image(img_path, output_filename):\n",
    "    audio_path = os.path.abspath('audio/bg_audio_16sec.m4a')\n",
    "    abs_output_path = os.path.abspath(output_filename)\n",
    "    ffmpeg_command = [\n",
    "        \"/Users/sang/Downloads/SetupFiles/ffmpeg/ffmpeg\",\n",
    "        \"-loop\", \"1\",\n",
    "        \"-i\", img_path,\n",
    "        \"-i\", audio_path,\n",
    "        \"-c:v\", \"libx264\",\n",
    "        \"-tune\", \"stillimage\",\n",
    "        \"-c:a\", \"aac\",\n",
    "        \"-b:a\", \"192k\",\n",
    "        \"-pix_fmt\", \"yuv420p\",\n",
    "        \"-t\", \"10\",\n",
    "        \"-shortest\",\n",
    "        \"-y\", # Overwrite output file without asking\n",
    "        abs_output_path\n",
    "    ]\n",
    "\n",
    "    try:\n",
    "        result = subprocess.run(\n",
    "            ffmpeg_command,\n",
    "            # cwd=abs_image_folder, # This changes the directory for THIS command execution\n",
    "            check=True,\n",
    "            capture_output=True,\n",
    "            text=True\n",
    "        )\n",
    "        print(f\"Video '{output_filename}' created successfully at {abs_output_path}\")\n",
    "        return True\n",
    "    except FileNotFoundError:\n",
    "        print(f\"Error: FFmpeg command not found. Make sure FFmpeg is installed and in your system's PATH.\")\n",
    "        return False\n",
    "    except subprocess.CalledProcessError as e:\n",
    "        print(f\"Error: FFmpeg command failed with exit code {e.returncode}\")\n",
    "        return False\n",
    "    except Exception as e:\n",
    "        print(f\"An unexpected error occurred: {e}\")\n",
    "        return False"
   ]
  },
  {
   "cell_type": "code",
   "execution_count": null,
   "metadata": {},
   "outputs": [
    {
     "name": "stdout",
     "output_type": "stream",
     "text": [
      "['/Users/sang/.pyenv/versions/3.9.10/lib/python3.9/site-packages/ipykernel_launcher.py', '--f=/Users/sang/Library/Jupyter/runtime/kernel-v395174b41b0d3494fcc23a2b4da7097b8a4c11d95.json']\n"
     ]
    },
    {
     "name": "stderr",
     "output_type": "stream",
     "text": [
      "[10236:209589:0529/134855.995448:ERROR:net/cert/internal/trust_store_mac.cc:817] Error parsing certificate:\n",
      "ERROR: Failed parsing extensions\n",
      "\n",
      "[10242:209614:0529/134856.644134:ERROR:ui/gl/gl_display.cc:508] EGL Driver message (Error) eglQueryDeviceAttribEXT: Bad attribute.\n",
      "[10242:209614:0529/134856.747883:ERROR:ui/gl/gl_display.cc:508] EGL Driver message (Error) eglQueryDeviceAttribEXT: Bad attribute.\n",
      "[10242:209614:0529/134856.748744:ERROR:ui/gl/gl_display.cc:508] EGL Driver message (Error) eglQueryDeviceAttribEXT: Bad attribute.\n",
      "[10242:209614:0529/134856.806438:ERROR:ui/gl/gl_display.cc:508] EGL Driver message (Error) eglQueryDeviceAttribEXT: Bad attribute.\n",
      "[10242:209614:0529/134856.807419:ERROR:ui/gl/gl_display.cc:508] EGL Driver message (Error) eglQueryDeviceAttribEXT: Bad attribute.\n",
      "[10242:209614:0529/134856.854459:ERROR:ui/gl/gl_display.cc:508] EGL Driver message (Error) eglQueryDeviceAttribEXT: Bad attribute.\n",
      "[10242:209614:0529/134856.856171:ERROR:ui/gl/gl_display.cc:508] EGL Driver message (Error) eglQueryDeviceAttribEXT: Bad attribute.\n",
      "[10242:209614:0529/134856.875028:ERROR:ui/gl/gl_display.cc:508] EGL Driver message (Error) eglQueryDeviceAttribEXT: Bad attribute.\n",
      "[10242:209614:0529/134856.910692:ERROR:ui/gl/gl_display.cc:508] EGL Driver message (Error) eglQueryDeviceAttribEXT: Bad attribute.\n",
      "[10242:209614:0529/134856.921854:ERROR:ui/gl/gl_display.cc:508] EGL Driver message (Error) eglQueryDeviceAttribEXT: Bad attribute.\n",
      "[10242:209614:0529/134857.081468:ERROR:ui/gl/gl_display.cc:508] EGL Driver message (Error) eglQueryDeviceAttribEXT: Bad attribute.\n",
      "[10242:209614:0529/134857.084031:ERROR:ui/gl/gl_display.cc:508] EGL Driver message (Error) eglQueryDeviceAttribEXT: Bad attribute.\n",
      "[10242:209614:0529/134857.088589:ERROR:ui/gl/gl_display.cc:508] EGL Driver message (Error) eglQueryDeviceAttribEXT: Bad attribute.\n",
      "[10242:209614:0529/134857.091114:ERROR:ui/gl/gl_display.cc:508] EGL Driver message (Error) eglQueryDeviceAttribEXT: Bad attribute.\n",
      "[10242:209614:0529/134857.105398:ERROR:ui/gl/gl_display.cc:508] EGL Driver message (Error) eglQueryDeviceAttribEXT: Bad attribute.\n",
      "[10242:209614:0529/134857.520725:ERROR:ui/gl/gl_display.cc:508] EGL Driver message (Error) eglQueryDeviceAttribEXT: Bad attribute.\n",
      "[10242:209614:0529/134857.548558:ERROR:ui/gl/gl_display.cc:508] EGL Driver message (Error) eglQueryDeviceAttribEXT: Bad attribute.\n",
      "438241 bytes written to file /Users/sang/Documents/Source/Python/python_webscrap/cert_exam/aws_sa_data/img_m_q/img_multi_q_20250529.png\n"
     ]
    },
    {
     "name": "stdout",
     "output_type": "stream",
     "text": [
      "Video 'aws_sa_data/img_m_q/vid_multi_q_20250529.mp4' created successfully at /Users/sang/Documents/Source/Python/python_webscrap/cert_exam/aws_sa_data/img_m_q/vid_multi_q_20250529.mp4\n"
     ]
    }
   ],
   "source": [
    "def main(cert_symbol, channel):\n",
    "    num_of_questions = 3    #default we export 3 questions\n",
    "    if channel in LONG_VIDEO_CHANNELS or channel in PDF_CHANNELS:\n",
    "        num_of_questions = 20\n",
    "    #\n",
    "    cert_metadata = get_cert_metadata(cert_symbol)\n",
    "    #query random questions\n",
    "    random_documents = query_random_questions(num_of_questions, channel, cert_metadata)\n",
    "    if len(random_documents) == 0:\n",
    "        return\n",
    "    today_yyyymmdd = const.get_current_date_yyyymmdd()\n",
    "    if channel in SHORT_VIDEO_CHANNELS or channel in IMAGE_CHANNELS:\n",
    "        #create 1 image with multiple questions\n",
    "        creation_result, filename = generate_1_img_multiple_questions(random_documents, cert_metadata, today_yyyymmdd)\n",
    "        if creation_result == False:\n",
    "            return\n",
    "        if channel in SHORT_VIDEO_CHANNELS:\n",
    "            #create video with 1 image only\n",
    "            video_name = 'vid_multi_q_'+today_yyyymmdd + '.mp4'\n",
    "            result_create_video = create_video_from_image(cert_metadata['img_m_q_folder_path']+filename, cert_metadata['img_m_q_folder_path'] + video_name)\n",
    "            if result_create_video == False:\n",
    "                return\n",
    "            time.sleep(5)   #delay\n",
    "            #upload the video to social networks\n",
    "            question_list = []\n",
    "            question_index = 1\n",
    "            for doc in random_documents:\n",
    "                str_index = str(question_index) + ') '\n",
    "                question_list.append(str_index + doc['question'])\n",
    "                question_index += 1\n",
    "            if channel == 'Linkedin':\n",
    "                thirdparty_sdk.li_upload_video_2_page(cert_metadata, question_list, cert_metadata['img_m_q_folder_path'] + video_name)\n",
    "\n",
    "#test\n",
    "if __name__ == '__main__':\n",
    "    print(sys.argv)\n",
    "    args = sys.argv\n",
    "    if len(args) == 1:\n",
    "        #todo there is no any param, get all certificates and post to all channels\n",
    "        todo = 1\n",
    "\n",
    "    # cert_symbol = args[1]   #certificate symbol\n",
    "    # channel = args[2]\n",
    "    #\n",
    "    cert_symbol = 'AWS_SAA' #for testing\n",
    "    channel = 'LinkedIn'\n",
    "    #\n",
    "    main(cert_symbol, channel)"
   ]
  },
  {
   "cell_type": "code",
   "execution_count": 107,
   "metadata": {},
   "outputs": [
    {
     "name": "stdout",
     "output_type": "stream",
     "text": [
      "{'value': {'uploadUrlsExpireAt': 1748595639062, 'video': 'urn:li:video:D5610AQGS7aCVVrPxGw', 'uploadInstructions': [{'uploadUrl': 'https://www.linkedin.com/dms-uploads/mp/v2/D5610AQGS7aCVVrPxGw/uploadedVideo/B56ZcbRaaUGsAA-?sau=aHR0cHM6Ly93d3cubGlua2VkaW4uY29tL2FtYnJ5L2FtYnJ5LXZpZGVvLz94LWxpLWFtYnJ5LWVwPUFRS0cwTV83NXJLMnBBQUFBWmNiUmFjVmZ6WHFIZkNQZGljQWdocmgtNG9ObXdLWDBvcmxCRk4zc3FUYXBtb3RIYUVRU3pzNVp0N0wwY2ppSzFPOEI3cVpjVDVYSjFYbjBlM3M1Y0ZhQWNmblBfVWJES2hNeWJRVzNRY1pNUXhCcmlBQkZYZmdwX3ozRkpURFptaFREaVJXM0NOdk0wSldCLUE5YTg1Q3NScXFxNWo4aHY4Q21zQW1WTnlGZTJBM2g4SERLeEdzaWxvN3lJV0Via0lZRVZJX056bnVvQU84T25KR3BiVHJabk9seGdZN3Z3LVBUOWVRcEZ1Z0dsUUxZQmw2Y3FPM0g0MVdNbzRhS0l4WFhZaEhJNzN6OFdmcWJiOE04eE44UWZXMEZsbWI3cF9wcElwODZWR3JJeTVuOTR6WkVSYjNER05hR0UtcWU0Z0g3a2pWS2hhTXNqY2tWbDhQclNXZ29Ydkt3VzFWR3pHcnRhLWV0cTlJV1E5Z01KVG1sUl9zbVhPUVZZd3N2M3V3NWpIQmpMN0pJU2x4WkZXb3NmSUlsN1AxRUVNcFRHcW53MmtBQUJfdjIzNTh4d0h1WE44WlVCVEJsR3oycHRjeEZmZjdKQVl1b2d4eTlsQ2hzS0ZObDlNQ3Eybm13VV9zby10ZTl4ZFczcmZlRE4yTUg1WkRHdzVqRFA5cVlyMksteHpFQkRqQkw2cUdMTURsZ2hicUh5OW53cXBWS3BIelh3ckRZOGV2QWtXWFpBcHVSdXNNclpWcm10S1BfQ25ZZXhDRlZnNktDQzlaZ3ItUmwwRDZyZXJFYkNGUFZrWEI1bUR0cVdFU0owbGZmNG9wQTA0dEZEUUo2Si00M0E2cW5hWnBBTllOdWs3eHdISVVkQmNSZ2hFNDlDdE04bkRoTGFkYjJxZjJYYlZoV3JSVE1rMEE3M1pBaGs4Z1JUeWJnYmc2UE9IRFBWbWt1b2dIVEktVHRXU2ltUDZ5VFFDdUx1YnB2VjBjdXk2eXBzUDI5ay05WFNlTDRsNzkzbEJVeDVjWUFNNXU3cWhUVElZRllrbDVDNzRVZEVma1JMWmg4bm82ZjB5S2c0MXZIanhrYTFBaXdNYjIwTF9HNGJtVXJzWGs0YmRDTlBZMktGRFZ6eVE0eXhuRDlYa3kwS2ROUDZoQ2otWkdLNkF0dUpSVzljTUpHbS1tcE03ZnlkYVdmLXNMU2hqdFlKNVFxZ2VaUmN3d3JSZGs1YW9VRktoelU1Zjd1c3FYeEZja29pTXdFTXR6c1RDX1BDTm5FUHRnd3NpbHR0Z0JZSF84MFpGclo3MzNZcm1ha0U5TG1IcWJkTUZhN2lVdjRlMTVDbEJIdHgyTS1vNXJyeVVKc2pEdnpHeFpKX2dsOE1mUGs4YVFQY1UtbTZyc3ZKS0ZVZzdab2JoVXgtTjBjQUlxUXRJNWRON0tNVXNoalFJbjBfLVZZN2lWdGVzZVhYRXBWMnJiYWZjSHFUcmZSMm1qcXllN29ZY29xd1JCaHRsRi1ERXFyWDJ0R09DSVJuQmFFelpYTlc1LUZPeWFQTzJNSDdreXZUNW5WZWp5SHBCRGpicDQ4dVdEbXd3SFNiakhXaTZUcGxFRWZONTU0ZnM%253D&pn=1&m=159039588&app=222357428&sync=0&v=beta&ut=2hRh0bm5oYGXM1', 'lastByte': 554191, 'firstByte': 0}], 'uploadToken': ''}}\n",
      "Status Code: 200\n",
      "Headers: {'Cache-Control': 'no-cache, no-store', 'Pragma': 'no-cache', 'Expires': 'Thu, 01 Jan 1970 00:00:00 GMT', 'ETag': '/ambry-video/signedId/AQLJH2Zy8Vf9wQAAAZcbRa1bb6k42meJVzadY6DK9Z7W9JLQhWPyISC8OojWv09kwXqY2zEfG-VbhWHZdxMob4dRPNeFkPCAPZByuf1dyzHNexIPLeZzNOPtMqwY9q5OK9JfQfuICzpXMZ0S2klJtwwQsWkwp0kqryVmlNBZ0Roexe3jvl_FjbAp2kHpI_gzKx4wZjib8dY2cAQGk-M6QFtYFKzMYGs4EE9M4NDxNH87uoPlGLngL2rNtiAC-DQFY_8lsPk33w.bin', 'Set-Cookie': 'lang=v=2&lang=en-us; SameSite=None; Path=/; Domain=linkedin.com; Secure, bcookie=\"v=2&67caa62d-6463-4b0d-8d30-7ed4f406c4ad\"; domain=.linkedin.com; Path=/; Secure; Expires=Fri, 29-May-2026 09:00:40 GMT; SameSite=None, bscookie=\"v=1&2025052909003939101254-7bb7-4d40-8c2e-c60295e9ceb8AQE-AlAfsu5sJTyIXPHLaUq8ORFoyhKz\"; domain=.www.linkedin.com; Path=/; Secure; Expires=Fri, 29-May-2026 09:00:40 GMT; HttpOnly; SameSite=None, lidc=\"b=VGST08:s=V:r=V:a=V:p=V:g=3235:u=1:x=1:i=1748509240:t=1748595640:v=2:sig=AQF95vLRUiuNic0Mkm4xfulU15qeixpE\"; Expires=Fri, 30 May 2025 09:00:40 GMT; domain=.linkedin.com; Path=/; SameSite=None; Secure', 'x-ambry-creation-time': 'Thu May 29 09:00:40 UTC 2025', 'access-control-allow-origin': 'https://www.linkedin.com', 'Strict-Transport-Security': 'max-age=31536000', 'X-Content-Type-Options': 'nosniff', 'X-Frame-Options': 'sameorigin', 'Content-Security-Policy': \"frame-ancestors 'self'\", 'X-Li-Fabric': 'prod-lva1', 'X-Li-Pop': 'afd-prod-lva1-x', 'X-Li-Proto': 'http/1.1', 'X-LI-UUID': 'AAY2Qogbphk2Fb3n6mILKg==', 'X-Cache': 'CONFIG_NOCACHE', 'X-MSEdge-Ref': 'Ref A: A7B2BDDE86E84EFEA062E8F0343B5C44 Ref B: SIN221080712019 Ref C: 2025-05-29T09:00:39Z', 'Date': 'Thu, 29 May 2025 09:00:39 GMT', 'Content-Length': '0'}\n",
      "Response Body: \n",
      "File uploaded successfully!\n",
      "Status Code: 201\n",
      "Headers: {'Location': '/posts/urn%3Ali%3AugcPost%3A7333779326628151296', 'x-restli-id': 'urn:li:ugcPost:7333779326628151296', 'x-restli-protocol-version': '2.0.0', 'Content-Length': '0', 'Date': 'Thu, 29 May 2025 09:00:46 GMT', 'Connection': 'keep-alive', 'X-Li-Fabric': 'prod-lor1', 'X-Li-Pop': 'prod-lor1-x', 'X-LI-Proto': 'http/1.1', 'X-LI-UUID': 'AAY2QoiEH5V5SeuimIXZkQ==', 'Set-Cookie': 'bcookie=\"v=2&6088cf6e-ed94-453a-8eb7-9b0bab352770\"; domain=.linkedin.com; Path=/; Secure; Expires=Fri, 29-May-2026 09:00:46 GMT; SameSite=None, lidc=\"b=OB88:s=O:r=O:a=O:p=O:g=5254:u=575:x=1:i=1748509246:t=1748593050:v=2:sig=AQFeJEXQUXLb7cqB6rgo4geXZfKL_VYE\"', 'X-LI-Route-Key': '\"b=OB88:s=O:r=O:a=O:p=O:g=5254:u=575:x=1:i=1748509246:t=1748593050:v=2:sig=AQFeJEXQUXLb7cqB6rgo4geXZfKL_VYE\"'}\n",
      "Response Body: \n",
      "The video was shared successfully!\n"
     ]
    }
   ],
   "source": [
    "#test\n",
    "from thirdparty_sdk.linkedin import LinkedIn\n",
    "importlib.reload(thirdparty_sdk.linkedin)    #always get latest code\n",
    "\n",
    "cert_metadata = get_cert_metadata('AWS_SAA')\n",
    "question_list = [\"111111\", \"2222\", \"333\"]\n",
    "video_name = 'vid_multi_q_20250529.mp4'\n",
    "file_size = const.get_file_size(cert_metadata['img_m_q_folder_path'] + video_name)\n",
    "# print(file_size)  #554191\n",
    "linkedin_obj = LinkedIn(os.environ['LI_URI'], os.environ['LI_REST_URI'], os.environ['LI_ACCESS_TOKEN'], os.environ['LI_VERSION'])\n",
    "is_success_share = linkedin_obj.upload_and_share_video(cert_metadata, question_list, cert_metadata['img_m_q_folder_path'] + video_name, file_size)"
   ]
  },
  {
   "cell_type": "code",
   "execution_count": null,
   "metadata": {},
   "outputs": [],
   "source": []
  }
 ],
 "metadata": {
  "kernelspec": {
   "display_name": "3.9.10",
   "language": "python",
   "name": "python3"
  },
  "language_info": {
   "codemirror_mode": {
    "name": "ipython",
    "version": 3
   },
   "file_extension": ".py",
   "mimetype": "text/x-python",
   "name": "python",
   "nbconvert_exporter": "python",
   "pygments_lexer": "ipython3",
   "version": "3.9.10"
  }
 },
 "nbformat": 4,
 "nbformat_minor": 2
}
