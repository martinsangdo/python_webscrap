{
 "cells": [
  {
   "cell_type": "code",
   "execution_count": null,
   "metadata": {},
   "outputs": [],
   "source": [
    "#This is the conjob command that will auto post images/videos to social networks\n",
    "#format\n",
    "#cert_cron certificate_id channel <media_type>\n",
    "#example: cert_cron.py AWS_SAA LinkedIn\n",
    "#PDF: 20 questions (Github)"
   ]
  },
  {
   "cell_type": "code",
   "execution_count": 20,
   "metadata": {},
   "outputs": [],
   "source": [
    "SHORT_VIDEO_CHANNELS = ['Youtube', 'LinkedIn', 'Facebook', 'X', 'Tiktok']   #1 video = 3 images/questions\n",
    "LONG_VIDEO_CHANNELS = ['Youtube']   #1 video = 20 images/questions\n",
    "IMAGE_CHANNELS = ['PInterest', 'Reddit']    #1 image = 3 questions\n",
    "PDF_CHANNELS = ['Github']   #1 PDF = 4 pages * 5 questions"
   ]
  },
  {
   "cell_type": "code",
   "execution_count": 2,
   "metadata": {},
   "outputs": [],
   "source": [
    "#1 question should have flag to indicate which channel(s) it appeared. for ex: \"fb\": 20250528\n",
    "#we should post to social network once per day"
   ]
  },
  {
   "cell_type": "code",
   "execution_count": 60,
   "metadata": {},
   "outputs": [],
   "source": [
    "import sys\n",
    "import os\n",
    "import importlib\n",
    "import pymongo\n",
    "from dotenv import load_dotenv\n",
    "import subprocess\n",
    "\n",
    "\n",
    "# Get the current working directory of the notebook\n",
    "notebook_dir = os.getcwd()\n",
    "# Get the path to the parent directory\n",
    "parent_dir = os.path.dirname(notebook_dir)\n",
    "\n",
    "# Add the parent directory to sys.path if it's not already there\n",
    "if parent_dir not in sys.path:\n",
    "    sys.path.append(parent_dir)"
   ]
  },
  {
   "cell_type": "code",
   "execution_count": 57,
   "metadata": {},
   "outputs": [
    {
     "data": {
      "text/plain": [
       "<module 'const' from '/Users/sang/Documents/Source/Python/python_webscrap/const.py'>"
      ]
     },
     "execution_count": 57,
     "metadata": {},
     "output_type": "execute_result"
    }
   ],
   "source": [
    "load_dotenv(override=True) \n",
    "\n",
    "import thirdparty_sdk\n",
    "importlib.reload(thirdparty_sdk)    #always get latest code\n",
    "import exam_settings\n",
    "importlib.reload(exam_settings) #always get latest code\n",
    "import const\n",
    "importlib.reload(const) #always get latest code"
   ]
  },
  {
   "cell_type": "code",
   "execution_count": 13,
   "metadata": {},
   "outputs": [],
   "source": [
    "db_client = pymongo.MongoClient(os.environ['DB_URI'])\n",
    "db = db_client['db_certificates']"
   ]
  },
  {
   "cell_type": "code",
   "execution_count": null,
   "metadata": {},
   "outputs": [
    {
     "name": "stderr",
     "output_type": "stream",
     "text": [
      "[5826:110457:0529/095532.495568:ERROR:net/cert/internal/trust_store_mac.cc:817] Error parsing certificate:\n",
      "ERROR: Failed parsing extensions\n",
      "\n",
      "[5832:110468:0529/095533.099789:ERROR:ui/gl/gl_display.cc:508] EGL Driver message (Error) eglQueryDeviceAttribEXT: Bad attribute.\n",
      "[5832:110468:0529/095533.101087:ERROR:ui/gl/gl_display.cc:508] EGL Driver message (Error) eglQueryDeviceAttribEXT: Bad attribute.\n",
      "[5832:110468:0529/095533.101712:ERROR:ui/gl/gl_display.cc:508] EGL Driver message (Error) eglQueryDeviceAttribEXT: Bad attribute.\n",
      "[5832:110468:0529/095533.303017:ERROR:ui/gl/gl_display.cc:508] EGL Driver message (Error) eglQueryDeviceAttribEXT: Bad attribute.\n",
      "[5832:110468:0529/095533.315528:ERROR:ui/gl/gl_display.cc:508] EGL Driver message (Error) eglQueryDeviceAttribEXT: Bad attribute.\n",
      "[5832:110468:0529/095533.374851:ERROR:ui/gl/gl_display.cc:508] EGL Driver message (Error) eglQueryDeviceAttribEXT: Bad attribute.\n",
      "[5832:110468:0529/095533.375857:ERROR:ui/gl/gl_display.cc:508] EGL Driver message (Error) eglQueryDeviceAttribEXT: Bad attribute.\n",
      "[5832:110468:0529/095533.376956:ERROR:ui/gl/gl_display.cc:508] EGL Driver message (Error) eglQueryDeviceAttribEXT: Bad attribute.\n",
      "[5832:110468:0529/095533.379546:ERROR:ui/gl/gl_display.cc:508] EGL Driver message (Error) eglQueryDeviceAttribEXT: Bad attribute.\n",
      "[5832:110468:0529/095533.409444:ERROR:ui/gl/gl_display.cc:508] EGL Driver message (Error) eglQueryDeviceAttribEXT: Bad attribute.\n",
      "[5832:110468:0529/095533.419063:ERROR:ui/gl/gl_display.cc:508] EGL Driver message (Error) eglQueryDeviceAttribEXT: Bad attribute.\n",
      "[5832:110468:0529/095533.457224:ERROR:ui/gl/gl_display.cc:508] EGL Driver message (Error) eglQueryDeviceAttribEXT: Bad attribute.\n",
      "[5832:110468:0529/095533.458144:ERROR:ui/gl/gl_display.cc:508] EGL Driver message (Error) eglQueryDeviceAttribEXT: Bad attribute.\n",
      "[5832:110468:0529/095533.474088:ERROR:ui/gl/gl_display.cc:508] EGL Driver message (Error) eglQueryDeviceAttribEXT: Bad attribute.\n",
      "[5832:110468:0529/095533.574935:ERROR:ui/gl/gl_display.cc:508] EGL Driver message (Error) eglQueryDeviceAttribEXT: Bad attribute.\n",
      "[5832:110468:0529/095533.576394:ERROR:ui/gl/gl_display.cc:508] EGL Driver message (Error) eglQueryDeviceAttribEXT: Bad attribute.\n",
      "[5832:110468:0529/095533.583630:ERROR:ui/gl/gl_display.cc:508] EGL Driver message (Error) eglQueryDeviceAttribEXT: Bad attribute.\n",
      "[5832:110468:0529/095533.590109:ERROR:ui/gl/gl_display.cc:508] EGL Driver message (Error) eglQueryDeviceAttribEXT: Bad attribute.\n",
      "[5832:110468:0529/095533.609375:ERROR:ui/gl/gl_display.cc:508] EGL Driver message (Error) eglQueryDeviceAttribEXT: Bad attribute.\n",
      "[5832:110468:0529/095534.075951:ERROR:ui/gl/gl_display.cc:508] EGL Driver message (Error) eglQueryDeviceAttribEXT: Bad attribute.\n",
      "[5832:110468:0529/095534.097401:ERROR:ui/gl/gl_display.cc:508] EGL Driver message (Error) eglQueryDeviceAttribEXT: Bad attribute.\n",
      "606015 bytes written to file /Users/sang/Documents/Source/Python/python_webscrap/cert_exam/test_3_q.png\n"
     ]
    }
   ],
   "source": [
    "def create_img_with_3_images(documents):\n",
    "    exam_settings.generate_image_portrait_from_file('img_3_question_template.html', './', 'test_3_q.png')\n",
    "\n",
    "#test\n",
    "#create_img_with_3_images(None)"
   ]
  },
  {
   "cell_type": "code",
   "execution_count": 26,
   "metadata": {},
   "outputs": [],
   "source": [
    "def get_cert_metadata(cert_symbol):\n",
    "    meta_collection = db['tb_cert_metadata']\n",
    "    #get metadata of the certificate\n",
    "    cert_metadata = meta_collection.find_one({'symbol': cert_symbol})\n",
    "    return cert_metadata"
   ]
  },
  {
   "cell_type": "code",
   "execution_count": 27,
   "metadata": {},
   "outputs": [],
   "source": [
    "def query_random_questions(num_of_questions, channel, cert_metadata):\n",
    "    #query random questions\n",
    "    condition = {'type': 'multiple-choice'}\n",
    "    condition[channel] = None\n",
    "    pipeline = [\n",
    "                {\"$match\": condition},\n",
    "                {\"$sample\": {\"size\": num_of_questions}} #randomly documents\n",
    "            ]\n",
    "    collection = db[cert_metadata['collection_name']]\n",
    "    random_documents = list(collection.aggregate(pipeline))\n",
    "    if len(random_documents) < num_of_questions:\n",
    "        print('Not enough questions to export')\n",
    "        return []\n",
    "    return random_documents"
   ]
  },
  {
   "cell_type": "code",
   "execution_count": 62,
   "metadata": {},
   "outputs": [],
   "source": [
    "def generate_1_img_multiple_questions(random_documents, cert_metadata, today_yyyymmdd):\n",
    "    question_index = 1\n",
    "    document_html = []\n",
    "    document_html.append(exam_settings.html_head_1_img_3_q_str)\n",
    "    #1. add header\n",
    "    document_html.append('<div class=\"header\">'+cert_metadata['name']+'</div>')\n",
    "    #2. add questions\n",
    "    for doc in random_documents:\n",
    "        container_html = []\n",
    "        container_html.append('<div class=\"container\">')\n",
    "        str_index = str(question_index) + ') '\n",
    "        #question first\n",
    "        container_html.append('<div class=\"question\">'+str_index + doc['question']+'</div>')\n",
    "        #2.1 add answers\n",
    "        container_html.append('<div class=\"answers\">')\n",
    "        for key in doc['options'].keys():\n",
    "            container_html.append( f'''\n",
    "                    <div class=\"answer\">\n",
    "                        <label>{key}. {doc['options'][key]}</label>\n",
    "                    </div>''')\n",
    "        container_html.append('</div>') #end list of answers\n",
    "        container_html.append('</div>') #end 1 container\n",
    "        document_html.append(''.join(container_html))\n",
    "        question_index += 1\n",
    "    #add footer (optional because image/video cannot click on the link)\n",
    "    # document_html.append('<div class=\"footer\">Check out more questions via <a href=\"'+cert_metadata['udemy_link']+'\">this link</a></div>')\n",
    "    #end doc\n",
    "    document_html.append(exam_settings.html_tail_1_img_3_q_str)\n",
    "    #1 doc 1 image\n",
    "    filename = 'img_multi_q_'+today_yyyymmdd + '.png'\n",
    "    creation_result = exam_settings.generate_image_portrait(''.join(document_html), cert_metadata['img_m_q_folder_path'], filename)\n",
    "    return creation_result, filename"
   ]
  },
  {
   "cell_type": "code",
   "execution_count": 63,
   "metadata": {},
   "outputs": [],
   "source": [
    "#create video with only 1 image\n",
    "#sample: ffmpeg -loop 1 -i input_image.jpg -i input_audio.mp3 -c:v libx264 -tune stillimage -c:a aac -b:a 192k -pix_fmt yuv420p -t 10 -shortest output_video.mp4\n",
    "def create_video_from_image(img_path, output_filename):\n",
    "    audio_path = os.path.abspath('audio/bg_audio_16sec.m4a')\n",
    "    abs_output_path = os.path.abspath(output_filename)\n",
    "    ffmpeg_command = [\n",
    "        \"/Users/sang/Downloads/SetupFiles/ffmpeg/ffmpeg\",\n",
    "        \"-loop\", \"1\",\n",
    "        \"-i\", img_path,\n",
    "        \"-i\", audio_path,\n",
    "        \"-c:v\", \"libx264\",\n",
    "        \"-tune\", \"stillimage\",\n",
    "        \"-c:a\", \"aac\",\n",
    "        \"-b:a\", \"192k\",\n",
    "        \"-pix_fmt\", \"yuv420p\",\n",
    "        \"-t\", \"10\",\n",
    "        \"-shortest\",\n",
    "        \"-y\", # Overwrite output file without asking\n",
    "        abs_output_path\n",
    "    ]\n",
    "\n",
    "    try:\n",
    "        result = subprocess.run(\n",
    "            ffmpeg_command,\n",
    "            # cwd=abs_image_folder, # This changes the directory for THIS command execution\n",
    "            check=True,\n",
    "            capture_output=True,\n",
    "            text=True\n",
    "        )\n",
    "        print(f\"Video '{output_filename}' created successfully at {abs_output_path}\")\n",
    "        return True\n",
    "    except FileNotFoundError:\n",
    "        print(f\"Error: FFmpeg command not found. Make sure FFmpeg is installed and in your system's PATH.\")\n",
    "        return False\n",
    "    except subprocess.CalledProcessError as e:\n",
    "        print(f\"Error: FFmpeg command failed with exit code {e.returncode}\")\n",
    "        return False\n",
    "    except Exception as e:\n",
    "        print(f\"An unexpected error occurred: {e}\")\n",
    "        return False"
   ]
  },
  {
   "cell_type": "code",
   "execution_count": 64,
   "metadata": {},
   "outputs": [
    {
     "name": "stdout",
     "output_type": "stream",
     "text": [
      "['/Users/sang/.pyenv/versions/3.9.10/lib/python3.9/site-packages/ipykernel_launcher.py', '--f=/Users/sang/Library/Jupyter/runtime/kernel-v395174b41b0d3494fcc23a2b4da7097b8a4c11d95.json']\n"
     ]
    },
    {
     "name": "stderr",
     "output_type": "stream",
     "text": [
      "[10236:209589:0529/134855.995448:ERROR:net/cert/internal/trust_store_mac.cc:817] Error parsing certificate:\n",
      "ERROR: Failed parsing extensions\n",
      "\n",
      "[10242:209614:0529/134856.644134:ERROR:ui/gl/gl_display.cc:508] EGL Driver message (Error) eglQueryDeviceAttribEXT: Bad attribute.\n",
      "[10242:209614:0529/134856.747883:ERROR:ui/gl/gl_display.cc:508] EGL Driver message (Error) eglQueryDeviceAttribEXT: Bad attribute.\n",
      "[10242:209614:0529/134856.748744:ERROR:ui/gl/gl_display.cc:508] EGL Driver message (Error) eglQueryDeviceAttribEXT: Bad attribute.\n",
      "[10242:209614:0529/134856.806438:ERROR:ui/gl/gl_display.cc:508] EGL Driver message (Error) eglQueryDeviceAttribEXT: Bad attribute.\n",
      "[10242:209614:0529/134856.807419:ERROR:ui/gl/gl_display.cc:508] EGL Driver message (Error) eglQueryDeviceAttribEXT: Bad attribute.\n",
      "[10242:209614:0529/134856.854459:ERROR:ui/gl/gl_display.cc:508] EGL Driver message (Error) eglQueryDeviceAttribEXT: Bad attribute.\n",
      "[10242:209614:0529/134856.856171:ERROR:ui/gl/gl_display.cc:508] EGL Driver message (Error) eglQueryDeviceAttribEXT: Bad attribute.\n",
      "[10242:209614:0529/134856.875028:ERROR:ui/gl/gl_display.cc:508] EGL Driver message (Error) eglQueryDeviceAttribEXT: Bad attribute.\n",
      "[10242:209614:0529/134856.910692:ERROR:ui/gl/gl_display.cc:508] EGL Driver message (Error) eglQueryDeviceAttribEXT: Bad attribute.\n",
      "[10242:209614:0529/134856.921854:ERROR:ui/gl/gl_display.cc:508] EGL Driver message (Error) eglQueryDeviceAttribEXT: Bad attribute.\n",
      "[10242:209614:0529/134857.081468:ERROR:ui/gl/gl_display.cc:508] EGL Driver message (Error) eglQueryDeviceAttribEXT: Bad attribute.\n",
      "[10242:209614:0529/134857.084031:ERROR:ui/gl/gl_display.cc:508] EGL Driver message (Error) eglQueryDeviceAttribEXT: Bad attribute.\n",
      "[10242:209614:0529/134857.088589:ERROR:ui/gl/gl_display.cc:508] EGL Driver message (Error) eglQueryDeviceAttribEXT: Bad attribute.\n",
      "[10242:209614:0529/134857.091114:ERROR:ui/gl/gl_display.cc:508] EGL Driver message (Error) eglQueryDeviceAttribEXT: Bad attribute.\n",
      "[10242:209614:0529/134857.105398:ERROR:ui/gl/gl_display.cc:508] EGL Driver message (Error) eglQueryDeviceAttribEXT: Bad attribute.\n",
      "[10242:209614:0529/134857.520725:ERROR:ui/gl/gl_display.cc:508] EGL Driver message (Error) eglQueryDeviceAttribEXT: Bad attribute.\n",
      "[10242:209614:0529/134857.548558:ERROR:ui/gl/gl_display.cc:508] EGL Driver message (Error) eglQueryDeviceAttribEXT: Bad attribute.\n",
      "438241 bytes written to file /Users/sang/Documents/Source/Python/python_webscrap/cert_exam/aws_sa_data/img_m_q/img_multi_q_20250529.png\n"
     ]
    },
    {
     "name": "stdout",
     "output_type": "stream",
     "text": [
      "Video 'aws_sa_data/img_m_q/vid_multi_q_20250529.mp4' created successfully at /Users/sang/Documents/Source/Python/python_webscrap/cert_exam/aws_sa_data/img_m_q/vid_multi_q_20250529.mp4\n"
     ]
    }
   ],
   "source": [
    "def main(cert_symbol, channel):\n",
    "    num_of_questions = 3    #default we export 3 questions\n",
    "    if channel in LONG_VIDEO_CHANNELS or channel in PDF_CHANNELS:\n",
    "        num_of_questions = 20\n",
    "    #\n",
    "    cert_metadata = get_cert_metadata(cert_symbol)\n",
    "    #query random questions\n",
    "    random_documents = query_random_questions(num_of_questions, channel, cert_metadata)\n",
    "    if len(random_documents) == 0:\n",
    "        return\n",
    "    today_yyyymmdd = const.get_current_date_yyyymmdd()\n",
    "    if channel in SHORT_VIDEO_CHANNELS or channel in IMAGE_CHANNELS:\n",
    "        #create 1 image with multiple questions\n",
    "        creation_result, filename = generate_1_img_multiple_questions(random_documents, cert_metadata, today_yyyymmdd)\n",
    "        if creation_result == False:\n",
    "            return\n",
    "        if channel in SHORT_VIDEO_CHANNELS:\n",
    "            #create video with 1 image only\n",
    "            create_video_from_image(cert_metadata['img_m_q_folder_path']+filename, cert_metadata['img_m_q_folder_path'] + 'vid_multi_q_'+today_yyyymmdd + '.mp4')\n",
    "\n",
    "#test\n",
    "if __name__ == '__main__':\n",
    "    print(sys.argv)\n",
    "    args = sys.argv\n",
    "    if len(args) == 1:\n",
    "        #todo there is no any param, get all certificates and post to all channels\n",
    "        todo = 1\n",
    "\n",
    "    # cert_symbol = args[1]   #certificate symbol\n",
    "    # channel = args[2]\n",
    "    #\n",
    "    cert_symbol = 'AWS_SAA' #for testing\n",
    "    channel = 'LinkedIn'\n",
    "    #\n",
    "    main(cert_symbol, channel)"
   ]
  },
  {
   "cell_type": "code",
   "execution_count": null,
   "metadata": {},
   "outputs": [],
   "source": []
  }
 ],
 "metadata": {
  "kernelspec": {
   "display_name": "3.9.10",
   "language": "python",
   "name": "python3"
  },
  "language_info": {
   "codemirror_mode": {
    "name": "ipython",
    "version": 3
   },
   "file_extension": ".py",
   "mimetype": "text/x-python",
   "name": "python",
   "nbconvert_exporter": "python",
   "pygments_lexer": "ipython3",
   "version": "3.9.10"
  }
 },
 "nbformat": 4,
 "nbformat_minor": 2
}
