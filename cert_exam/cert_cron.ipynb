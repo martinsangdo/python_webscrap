{
 "cells": [
  {
   "cell_type": "code",
   "execution_count": 29,
   "metadata": {},
   "outputs": [],
   "source": [
    "#This is the conjob command that will auto post images/videos to social networks\n",
    "#format\n",
    "#cert_cron certificate_id channel <media_type>\n",
    "#example: cert_cron.py AWS_SAA LinkedIn\n",
    "#PDF: 20 questions (Github)"
   ]
  },
  {
   "cell_type": "code",
   "execution_count": 30,
   "metadata": {},
   "outputs": [],
   "source": [
    "SHORT_VIDEO_CHANNELS = ['Youtube', 'Facebook', 'X', 'Tiktok']   #1 video = 3 images/questions\n",
    "LONG_VIDEO_CHANNELS = ['Youtube']   #1 video = 20 images/questions\n",
    "IMAGE_CHANNELS = ['LinkedIn', 'PInterest', 'Reddit']    #1 image = 3 questions\n",
    "PDF_CHANNELS = ['Github']   #1 PDF = 4 pages * 5 questions"
   ]
  },
  {
   "cell_type": "code",
   "execution_count": 31,
   "metadata": {},
   "outputs": [],
   "source": [
    "#1 question should have flag to indicate which channel(s) it appeared. for ex: \"fb\": 20250528\n",
    "#we should post to social network once per day"
   ]
  },
  {
   "cell_type": "code",
   "execution_count": 32,
   "metadata": {},
   "outputs": [],
   "source": [
    "import sys\n",
    "import os\n",
    "import importlib\n",
    "import pymongo\n",
    "from dotenv import load_dotenv\n",
    "import subprocess\n",
    "import time\n",
    "\n",
    "# Get the current working directory of the notebook\n",
    "notebook_dir = os.getcwd()\n",
    "# Get the path to the parent directory\n",
    "parent_dir = os.path.dirname(notebook_dir)\n",
    "\n",
    "# Add the parent directory to sys.path if it's not already there\n",
    "if parent_dir not in sys.path:\n",
    "    sys.path.append(parent_dir)"
   ]
  },
  {
   "cell_type": "code",
   "execution_count": 33,
   "metadata": {},
   "outputs": [
    {
     "data": {
      "text/plain": [
       "<module 'thirdparty_sdk.linkedin' from '/Users/sang/Documents/Source/Python/python_webscrap/cert_exam/thirdparty_sdk/linkedin.py'>"
      ]
     },
     "execution_count": 33,
     "metadata": {},
     "output_type": "execute_result"
    }
   ],
   "source": [
    "load_dotenv(override=True) \n",
    "\n",
    "import thirdparty_sdk\n",
    "importlib.reload(thirdparty_sdk)    #always get latest code\n",
    "import exam_settings\n",
    "importlib.reload(exam_settings) #always get latest code\n",
    "import const\n",
    "importlib.reload(const) #always get latest code\n",
    "from thirdparty_sdk.linkedin import LinkedIn\n",
    "importlib.reload(thirdparty_sdk.linkedin)    #always get latest code"
   ]
  },
  {
   "cell_type": "code",
   "execution_count": 34,
   "metadata": {},
   "outputs": [],
   "source": [
    "db_client = pymongo.MongoClient(os.environ['DB_URI'])\n",
    "db = db_client['db_certificates']"
   ]
  },
  {
   "cell_type": "code",
   "execution_count": 35,
   "metadata": {},
   "outputs": [],
   "source": [
    "def create_img_with_3_images(documents):\n",
    "    exam_settings.generate_image_portrait_from_file('img_3_question_template.html', './', 'test_3_q.png')\n",
    "\n",
    "#test\n",
    "#create_img_with_3_images(None)"
   ]
  },
  {
   "cell_type": "code",
   "execution_count": 40,
   "metadata": {},
   "outputs": [],
   "source": [
    "#create video with only 1 image\n",
    "#sample: ffmpeg -loop 1 -i input_image.jpg -i input_audio.mp3 -c:v libx264 -tune stillimage -c:a aac -b:a 192k -pix_fmt yuv420p -t 10 -shortest output_video.mp4\n",
    "def create_video_from_image(img_path, output_filename):\n",
    "    audio_path = os.path.abspath('audio/bg_audio_16sec.m4a')\n",
    "    abs_output_path = os.path.abspath(output_filename)\n",
    "    ffmpeg_command = [\n",
    "        \"/Users/sang/Downloads/SetupFiles/ffmpeg/ffmpeg\",\n",
    "        \"-loop\", \"1\",\n",
    "        \"-i\", img_path,\n",
    "        \"-i\", audio_path,\n",
    "        \"-c:v\", \"libx264\",\n",
    "        \"-tune\", \"stillimage\",\n",
    "        \"-c:a\", \"aac\",\n",
    "        \"-b:a\", \"192k\",\n",
    "        \"-pix_fmt\", \"yuv420p\",\n",
    "        \"-t\", \"10\",\n",
    "        \"-shortest\",\n",
    "        \"-y\", # Overwrite output file without asking\n",
    "        abs_output_path\n",
    "    ]\n",
    "\n",
    "    try:\n",
    "        result = subprocess.run(\n",
    "            ffmpeg_command,\n",
    "            # cwd=abs_image_folder, # This changes the directory for THIS command execution\n",
    "            check=True,\n",
    "            capture_output=True,\n",
    "            text=True\n",
    "        )\n",
    "        print(f\"Video '{output_filename}' created successfully at {abs_output_path}\")\n",
    "        return True\n",
    "    except FileNotFoundError:\n",
    "        print(f\"Error: FFmpeg command not found. Make sure FFmpeg is installed and in your system's PATH.\")\n",
    "        return False\n",
    "    except subprocess.CalledProcessError as e:\n",
    "        print(f\"Error: FFmpeg command failed with exit code {e.returncode}\")\n",
    "        return False\n",
    "    except Exception as e:\n",
    "        print(f\"An unexpected error occurred: {e}\")\n",
    "        return False"
   ]
  },
  {
   "cell_type": "code",
   "execution_count": null,
   "metadata": {},
   "outputs": [
    {
     "name": "stdout",
     "output_type": "stream",
     "text": [
      "['/Users/sang/.pyenv/versions/3.9.10/lib/python3.9/site-packages/ipykernel_launcher.py', '--f=/Users/sang/Library/Jupyter/runtime/kernel-v36acf9770a9e0d064d92e272b150f258a4c8f8061.json']\n"
     ]
    },
    {
     "name": "stderr",
     "output_type": "stream",
     "text": [
      "[5588:77126:0603/143551.777210:ERROR:net/cert/internal/trust_store_mac.cc:817] Error parsing certificate:\n",
      "ERROR: Failed parsing extensions\n",
      "\n",
      "[5597:77141:0603/143552.418139:ERROR:ui/gl/gl_display.cc:508] EGL Driver message (Error) eglQueryDeviceAttribEXT: Bad attribute.\n",
      "[5597:77141:0603/143552.419543:ERROR:ui/gl/gl_display.cc:508] EGL Driver message (Error) eglQueryDeviceAttribEXT: Bad attribute.\n",
      "[5597:77141:0603/143552.420576:ERROR:ui/gl/gl_display.cc:508] EGL Driver message (Error) eglQueryDeviceAttribEXT: Bad attribute.\n",
      "[5597:77141:0603/143552.529278:ERROR:ui/gl/gl_display.cc:508] EGL Driver message (Error) eglQueryDeviceAttribEXT: Bad attribute.\n",
      "[5597:77141:0603/143552.611917:ERROR:ui/gl/gl_display.cc:508] EGL Driver message (Error) eglQueryDeviceAttribEXT: Bad attribute.\n",
      "[5597:77141:0603/143552.613379:ERROR:ui/gl/gl_display.cc:508] EGL Driver message (Error) eglQueryDeviceAttribEXT: Bad attribute.\n",
      "[5597:77141:0603/143552.614122:ERROR:ui/gl/gl_display.cc:508] EGL Driver message (Error) eglQueryDeviceAttribEXT: Bad attribute.\n",
      "[5597:77141:0603/143552.614398:ERROR:ui/gl/gl_display.cc:508] EGL Driver message (Error) eglQueryDeviceAttribEXT: Bad attribute.\n",
      "[5597:77141:0603/143552.681865:ERROR:ui/gl/gl_display.cc:508] EGL Driver message (Error) eglQueryDeviceAttribEXT: Bad attribute.\n",
      "[5597:77141:0603/143552.723783:ERROR:ui/gl/gl_display.cc:508] EGL Driver message (Error) eglQueryDeviceAttribEXT: Bad attribute.\n",
      "[5597:77141:0603/143552.725830:ERROR:ui/gl/gl_display.cc:508] EGL Driver message (Error) eglQueryDeviceAttribEXT: Bad attribute.\n",
      "[5597:77141:0603/143552.742165:ERROR:ui/gl/gl_display.cc:508] EGL Driver message (Error) eglQueryDeviceAttribEXT: Bad attribute.\n",
      "[5597:77141:0603/143552.833013:ERROR:ui/gl/gl_display.cc:508] EGL Driver message (Error) eglQueryDeviceAttribEXT: Bad attribute.\n",
      "[5597:77141:0603/143552.834788:ERROR:ui/gl/gl_display.cc:508] EGL Driver message (Error) eglQueryDeviceAttribEXT: Bad attribute.\n",
      "[5597:77141:0603/143552.842428:ERROR:ui/gl/gl_display.cc:508] EGL Driver message (Error) eglQueryDeviceAttribEXT: Bad attribute.\n",
      "[5597:77141:0603/143552.843397:ERROR:ui/gl/gl_display.cc:508] EGL Driver message (Error) eglQueryDeviceAttribEXT: Bad attribute.\n",
      "[5597:77141:0603/143552.858707:ERROR:ui/gl/gl_display.cc:508] EGL Driver message (Error) eglQueryDeviceAttribEXT: Bad attribute.\n",
      "[5597:77141:0603/143553.289993:ERROR:ui/gl/gl_display.cc:508] EGL Driver message (Error) eglQueryDeviceAttribEXT: Bad attribute.\n",
      "[5597:77141:0603/143553.298134:ERROR:ui/gl/gl_display.cc:508] EGL Driver message (Error) eglQueryDeviceAttribEXT: Bad attribute.\n",
      "577547 bytes written to file /Users/sang/Documents/Source/Python/python_webscrap/cert_exam/aws_sap_data/img_m_q/img_multi_q_20250603.png\n"
     ]
    },
    {
     "name": "stdout",
     "output_type": "stream",
     "text": [
      "Done generating 1 page image\n",
      "{'message': 'Internal Server Error', 'status': 500}\n"
     ]
    },
    {
     "ename": "KeyError",
     "evalue": "'value'",
     "output_type": "error",
     "traceback": [
      "\u001b[0;31m---------------------------------------------------------------------------\u001b[0m",
      "\u001b[0;31mKeyError\u001b[0m                                  Traceback (most recent call last)",
      "Cell \u001b[0;32mIn[44], line 66\u001b[0m\n\u001b[1;32m     64\u001b[0m channel \u001b[38;5;241m=\u001b[39m \u001b[38;5;124m'\u001b[39m\u001b[38;5;124mLinkedIn\u001b[39m\u001b[38;5;124m'\u001b[39m\n\u001b[1;32m     65\u001b[0m \u001b[38;5;66;03m#\u001b[39;00m\n\u001b[0;32m---> 66\u001b[0m \u001b[43mmain\u001b[49m\u001b[43m(\u001b[49m\u001b[43mcert_symbol\u001b[49m\u001b[43m,\u001b[49m\u001b[43m \u001b[49m\u001b[43mchannel\u001b[49m\u001b[43m)\u001b[49m\n",
      "Cell \u001b[0;32mIn[44], line 47\u001b[0m, in \u001b[0;36mmain\u001b[0;34m(cert_symbol, channel)\u001b[0m\n\u001b[1;32m     45\u001b[0m \u001b[38;5;28;01mif\u001b[39;00m channel \u001b[38;5;241m==\u001b[39m \u001b[38;5;124m'\u001b[39m\u001b[38;5;124mLinkedIn\u001b[39m\u001b[38;5;124m'\u001b[39m:\n\u001b[1;32m     46\u001b[0m     linkedin_obj \u001b[38;5;241m=\u001b[39m LinkedIn(os\u001b[38;5;241m.\u001b[39menviron[\u001b[38;5;124m'\u001b[39m\u001b[38;5;124mLI_URI\u001b[39m\u001b[38;5;124m'\u001b[39m], os\u001b[38;5;241m.\u001b[39menviron[\u001b[38;5;124m'\u001b[39m\u001b[38;5;124mLI_REST_URI\u001b[39m\u001b[38;5;124m'\u001b[39m], os\u001b[38;5;241m.\u001b[39menviron[\u001b[38;5;124m'\u001b[39m\u001b[38;5;124mLI_ACCESS_TOKEN\u001b[39m\u001b[38;5;124m'\u001b[39m], os\u001b[38;5;241m.\u001b[39menviron[\u001b[38;5;124m'\u001b[39m\u001b[38;5;124mLI_VERSION\u001b[39m\u001b[38;5;124m'\u001b[39m])\n\u001b[0;32m---> 47\u001b[0m     is_success_share \u001b[38;5;241m=\u001b[39m \u001b[43mlinkedin_obj\u001b[49m\u001b[38;5;241;43m.\u001b[39;49m\u001b[43mupload_and_share_img\u001b[49m\u001b[43m(\u001b[49m\u001b[43mcert_metadata\u001b[49m\u001b[43m,\u001b[49m\u001b[43m \u001b[49m\u001b[43mdescription_str\u001b[49m\u001b[43m,\u001b[49m\u001b[43m \u001b[49m\u001b[43manswers_str\u001b[49m\u001b[43m,\u001b[49m\u001b[43m \u001b[49m\u001b[43mcert_metadata\u001b[49m\u001b[43m[\u001b[49m\u001b[38;5;124;43m'\u001b[39;49m\u001b[38;5;124;43mimg_m_q_folder_path\u001b[39;49m\u001b[38;5;124;43m'\u001b[39;49m\u001b[43m]\u001b[49m\u001b[43m \u001b[49m\u001b[38;5;241;43m+\u001b[39;49m\u001b[43m \u001b[49m\u001b[43mimg_filename\u001b[49m\u001b[43m)\u001b[49m\n\u001b[1;32m     48\u001b[0m \u001b[38;5;66;03m#update flag to shared questions\u001b[39;00m\n\u001b[1;32m     49\u001b[0m \u001b[38;5;28;01mif\u001b[39;00m is_success_share \u001b[38;5;241m==\u001b[39m \u001b[38;5;28;01mTrue\u001b[39;00m:\n",
      "File \u001b[0;32m~/Documents/Source/Python/python_webscrap/cert_exam/thirdparty_sdk/linkedin.py:233\u001b[0m, in \u001b[0;36mLinkedIn.upload_and_share_img\u001b[0;34m(self, cert_metadata, decription_str, answers_str, img_path)\u001b[0m\n\u001b[1;32m    231\u001b[0m page_id \u001b[38;5;241m=\u001b[39m cert_metadata[\u001b[38;5;124m'\u001b[39m\u001b[38;5;124mlinkedin_page_id\u001b[39m\u001b[38;5;124m'\u001b[39m]\n\u001b[1;32m    232\u001b[0m owner_id \u001b[38;5;241m=\u001b[39m \u001b[38;5;124m\"\u001b[39m\u001b[38;5;124murn:li:organization:\u001b[39m\u001b[38;5;124m\"\u001b[39m \u001b[38;5;241m+\u001b[39m page_id\n\u001b[0;32m--> 233\u001b[0m result_upload \u001b[38;5;241m=\u001b[39m \u001b[38;5;28;43mself\u001b[39;49m\u001b[38;5;241;43m.\u001b[39;49m\u001b[43mli_upload_img_2_page\u001b[49m\u001b[43m(\u001b[49m\u001b[43mowner_id\u001b[49m\u001b[43m,\u001b[49m\u001b[43m \u001b[49m\u001b[43mimg_path\u001b[49m\u001b[43m)\u001b[49m\n\u001b[1;32m    234\u001b[0m \u001b[38;5;28;01mif\u001b[39;00m \u001b[38;5;124m'\u001b[39m\u001b[38;5;124merror\u001b[39m\u001b[38;5;124m'\u001b[39m \u001b[38;5;129;01min\u001b[39;00m result_upload:\n\u001b[1;32m    235\u001b[0m     \u001b[38;5;28;01mreturn\u001b[39;00m \u001b[38;5;28;01mFalse\u001b[39;00m\n",
      "File \u001b[0;32m~/Documents/Source/Python/python_webscrap/cert_exam/thirdparty_sdk/linkedin.py:129\u001b[0m, in \u001b[0;36mLinkedIn.li_upload_img_2_page\u001b[0;34m(self, owner_id, img_path)\u001b[0m\n\u001b[1;32m    127\u001b[0m     \u001b[38;5;28;01mreturn\u001b[39;00m upload_detail\n\u001b[1;32m    128\u001b[0m \u001b[38;5;28mprint\u001b[39m(upload_detail)\n\u001b[0;32m--> 129\u001b[0m uploadUrl \u001b[38;5;241m=\u001b[39m \u001b[43mupload_detail\u001b[49m\u001b[43m[\u001b[49m\u001b[38;5;124;43m'\u001b[39;49m\u001b[38;5;124;43mvalue\u001b[39;49m\u001b[38;5;124;43m'\u001b[39;49m\u001b[43m]\u001b[49m[\u001b[38;5;124m'\u001b[39m\u001b[38;5;124muploadMechanism\u001b[39m\u001b[38;5;124m'\u001b[39m][\u001b[38;5;124m'\u001b[39m\u001b[38;5;124mcom.linkedin.digitalmedia.uploading.MediaUploadHttpRequest\u001b[39m\u001b[38;5;124m'\u001b[39m][\u001b[38;5;124m'\u001b[39m\u001b[38;5;124muploadUrl\u001b[39m\u001b[38;5;124m'\u001b[39m]\n\u001b[1;32m    130\u001b[0m \u001b[38;5;66;03m#upload the image https://learn.microsoft.com/en-us/linkedin/consumer/integrations/self-serve/share-on-linkedin#upload-image-or-video-binary-file\u001b[39;00m\n\u001b[1;32m    131\u001b[0m \u001b[38;5;28;01mtry\u001b[39;00m:\n",
      "\u001b[0;31mKeyError\u001b[0m: 'value'"
     ]
    }
   ],
   "source": [
    "def main(cert_symbol, channel):\n",
    "    num_of_questions = 3    #default we export 3 questions\n",
    "    if channel in LONG_VIDEO_CHANNELS or channel in PDF_CHANNELS:\n",
    "        num_of_questions = 20\n",
    "    #\n",
    "    cert_metadata = exam_settings.get_cert_metadata(db, cert_symbol)\n",
    "    #query random questions\n",
    "    random_documents = exam_settings.query_random_questions(db, num_of_questions, channel, cert_metadata)\n",
    "    if len(random_documents) == 0:\n",
    "        return\n",
    "    today_yyyymmdd = const.get_current_date_yyyymmdd()\n",
    "    if channel in SHORT_VIDEO_CHANNELS or channel in IMAGE_CHANNELS:\n",
    "        #create 1 image with multiple questions\n",
    "        creation_result, img_filename = exam_settings.generate_1_img_multiple_questions(random_documents, cert_metadata, today_yyyymmdd)\n",
    "        if creation_result == False:\n",
    "            return\n",
    "        if channel in SHORT_VIDEO_CHANNELS:\n",
    "            #create video with 1 image only\n",
    "            video_name = 'vid_multi_q_'+today_yyyymmdd + '.mp4'\n",
    "            result_create_video = create_video_from_image(cert_metadata['img_m_q_folder_path']+img_filename, cert_metadata['img_m_q_folder_path'] + video_name)\n",
    "            if result_create_video == False:\n",
    "                return\n",
    "            time.sleep(5)   #delay\n",
    "            #todo: upload the video to social networks\n",
    "        if channel in IMAGE_CHANNELS:   #1 image for 1 post\n",
    "            answers_contents = []\n",
    "            description_contents = []\n",
    "            description_contents.append('#'+ cert_metadata['name'] + ' practice questions:\\n')\n",
    "            question_index = 1\n",
    "            for doc in random_documents:\n",
    "                str_index = str(question_index) + ') '\n",
    "                description_contents.append(str_index + doc['question'])\n",
    "                answers_contents.append(str_index + doc['answer'])\n",
    "                for explanation_key in doc['explanation']:\n",
    "                    answers_contents.append(explanation_key + '. ' + doc['explanation'][explanation_key])\n",
    "                question_index += 1\n",
    "\n",
    "            # description_contents.append('\\n' + 'Answers and explanations are in the comment')\n",
    "            description_str = '\\n'.join(description_contents)\n",
    "            # print(description_str)\n",
    "            answers_str = '\\n'.join(answers_contents)\n",
    "            description_str += '\\n\\n' + answers_str\n",
    "            # print(answers_str)\n",
    "            is_success_share = False\n",
    "            if channel == 'LinkedIn':\n",
    "                linkedin_obj = LinkedIn(os.environ['LI_URI'], os.environ['LI_REST_URI'], os.environ['LI_ACCESS_TOKEN'], os.environ['LI_VERSION'])\n",
    "                is_success_share = linkedin_obj.upload_and_share_img(cert_metadata, description_str, answers_str, cert_metadata['img_m_q_folder_path'] + img_filename)\n",
    "            #update flag to shared questions\n",
    "            if is_success_share == True:\n",
    "                exam_settings.update_questions_posted(db, cert_metadata, channel, today_yyyymmdd, random_documents)\n",
    "\n",
    "#test\n",
    "if __name__ == '__main__':\n",
    "    print(sys.argv)\n",
    "    args = sys.argv\n",
    "    if len(args) == 1:\n",
    "        #todo there is no any param, get all certificates and post to all channels\n",
    "        todo = 1\n",
    "\n",
    "    # cert_symbol = args[1]   #certificate symbol\n",
    "    # channel = args[2]\n",
    "    #\n",
    "    cert_symbol = 'AWS_SAP' #for testing\n",
    "    channel = 'LinkedIn'\n",
    "    #\n",
    "    main(cert_symbol, channel)"
   ]
  },
  {
   "cell_type": "code",
   "execution_count": null,
   "metadata": {},
   "outputs": [],
   "source": []
  }
 ],
 "metadata": {
  "kernelspec": {
   "display_name": "3.9.10",
   "language": "python",
   "name": "python3"
  },
  "language_info": {
   "codemirror_mode": {
    "name": "ipython",
    "version": 3
   },
   "file_extension": ".py",
   "mimetype": "text/x-python",
   "name": "python",
   "nbconvert_exporter": "python",
   "pygments_lexer": "ipython3",
   "version": "3.9.10"
  }
 },
 "nbformat": 4,
 "nbformat_minor": 2
}
