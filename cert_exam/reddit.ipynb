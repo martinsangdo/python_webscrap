{
 "cells": [
  {
   "cell_type": "code",
   "execution_count": 16,
   "metadata": {},
   "outputs": [],
   "source": [
    "import praw"
   ]
  },
  {
   "cell_type": "code",
   "execution_count": 17,
   "metadata": {},
   "outputs": [],
   "source": [
    "import pymongo\n",
    "import os\n",
    "from dotenv import load_dotenv\n",
    "import exam_settings\n",
    "import importlib\n",
    "from xhtml2pdf import pisa\n",
    "import sys\n",
    "#import cv2\n",
    "# Get the current working directory of the notebook\n",
    "notebook_dir = os.getcwd()\n",
    "# Get the path to the parent directory\n",
    "parent_dir = os.path.dirname(notebook_dir)\n",
    "\n",
    "# Add the parent directory to sys.path if it's not already there\n",
    "if parent_dir not in sys.path:\n",
    "    sys.path.append(parent_dir)\n",
    "\n",
    "#importlib.reload(exam_settings)\n",
    "\n",
    "import const"
   ]
  },
  {
   "cell_type": "code",
   "execution_count": 22,
   "metadata": {},
   "outputs": [],
   "source": [
    "load_dotenv(override=True) \n",
    "REDDIT_CLIENT_ID=os.environ['REDDIT_CLIENT_ID']\n",
    "REDDIT_CLIENT_SECRET=os.environ['REDDIT_CLIENT_SECRET']\n",
    "REDDIT_USERNAME=os.environ['REDDIT_USERNAME']\n",
    "REDDIT_PASSWORD=os.environ['REDDIT_PASSWORD']\n",
    "\n",
    "REDDIT_USER_AGENT='sang do Get IT certificates tips'"
   ]
  },
  {
   "cell_type": "code",
   "execution_count": 19,
   "metadata": {},
   "outputs": [],
   "source": [
    "def create_reddit_post(name, title, content):\n",
    "    \"\"\"\n",
    "    Initializes PRAW, logs in, and creates a text post on Reddit.\n",
    "    \"\"\"\n",
    "    try:\n",
    "        # Initialize PRAW with your credentials\n",
    "        reddit = praw.Reddit(\n",
    "            client_id=REDDIT_CLIENT_ID,\n",
    "            client_secret=REDDIT_CLIENT_SECRET,\n",
    "            username=REDDIT_USERNAME,\n",
    "            password=REDDIT_PASSWORD,\n",
    "            user_agent=REDDIT_USER_AGENT\n",
    "        )\n",
    "\n",
    "        # Verify that the Reddit instance is read-only (optional, for safety)\n",
    "        # print(f\"PRAW read-only status: {reddit.read_only}\")\n",
    "\n",
    "        # Get the subreddit object\n",
    "        subreddit = reddit.subreddit(name)\n",
    "\n",
    "        # Submit the text post\n",
    "        # For a link post, you would use subreddit.submit(title, url=URL_HERE)\n",
    "        # For an image post, you would use subreddit.submit_image(title, image_path=IMAGE_PATH_HERE)\n",
    "        submission = subreddit.submit(\n",
    "            title=title,\n",
    "            selftext=content\n",
    "        )\n",
    "\n",
    "        print(f\"Successfully posted! Submission ID: {submission.id}\")\n",
    "        print(f\"Post URL: {submission.url}\")\n",
    "        print(f\"Check your post here: https://www.reddit.com{submission.permalink}\")\n",
    "\n",
    "    except Exception as e:\n",
    "        print(f\"An error occurred: {e}\")\n",
    "        print(\"Please ensure your CLIENT_ID, CLIENT_SECRET, USERNAME, and PASSWORD are correct.\")\n",
    "        print(\"Also, check that the subreddit name is valid and you have permission to post there.\")\n"
   ]
  },
  {
   "cell_type": "code",
   "execution_count": 23,
   "metadata": {},
   "outputs": [
    {
     "name": "stdout",
     "output_type": "stream",
     "text": [
      "Successfully posted! Submission ID: 1kvpkc4\n",
      "Post URL: https://www.reddit.com/r/AWSMockQuestions/comments/1kvpkc4/my_second_post_for_testing/\n",
      "Check your post here: https://www.reddit.com/r/AWSMockQuestions/comments/1kvpkc4/my_second_post_for_testing/\n"
     ]
    }
   ],
   "source": [
    "# --- Post Details ---\n",
    "SUBREDDIT_NAME = \"AWSMockQuestions\"\n",
    "POST_TITLE = \"My Second Post for testing\"\n",
    "POST_CONTENT = \"Hello Reddit!\"\n",
    "\n",
    "create_reddit_post(SUBREDDIT_NAME, POST_TITLE, POST_CONTENT)"
   ]
  },
  {
   "cell_type": "code",
   "execution_count": null,
   "metadata": {},
   "outputs": [],
   "source": []
  }
 ],
 "metadata": {
  "kernelspec": {
   "display_name": "3.9.10",
   "language": "python",
   "name": "python3"
  },
  "language_info": {
   "codemirror_mode": {
    "name": "ipython",
    "version": 3
   },
   "file_extension": ".py",
   "mimetype": "text/x-python",
   "name": "python",
   "nbconvert_exporter": "python",
   "pygments_lexer": "ipython3",
   "version": "3.9.10"
  }
 },
 "nbformat": 4,
 "nbformat_minor": 2
}
