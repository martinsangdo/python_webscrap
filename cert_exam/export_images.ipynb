{
 "cells": [
  {
   "cell_type": "code",
   "execution_count": null,
   "metadata": {},
   "outputs": [
    {
     "data": {
      "text/plain": [
       "<module 'exam_settings' from '/Users/sang/Documents/Source/Python/python_webscrap/cert_exam/exam_settings/__init__.py'>"
      ]
     },
     "execution_count": 63,
     "metadata": {},
     "output_type": "execute_result"
    }
   ],
   "source": [
    "import pymongo\n",
    "import os\n",
    "from dotenv import load_dotenv\n",
    "import exam_settings\n",
    "import importlib\n",
    "\n",
    "#importlib.reload(exam_settings)"
   ]
  },
  {
   "cell_type": "code",
   "execution_count": 61,
   "metadata": {},
   "outputs": [],
   "source": [
    "load_dotenv() \n",
    "\n",
    "db_client = pymongo.MongoClient(os.environ['DB_URI'])\n",
    "db = db_client['db_certificates']\n",
    "collection = db['tb_aws_cloud_practitioner']\n"
   ]
  },
  {
   "cell_type": "code",
   "execution_count": 66,
   "metadata": {},
   "outputs": [],
   "source": [
    "#get question(s) and export to images\n",
    "def get_n_export_question_2_img(question_num):\n",
    "    pipeline = [\n",
    "                {\"$match\": {'exported': 0, 'type': 'multiple-choice'}},\n",
    "                {\"$sample\": {\"size\": question_num}} #randomly\n",
    "            ]\n",
    "    random_documents = list(collection.aggregate(pipeline))\n",
    "    index = 1\n",
    "    for doc in random_documents:\n",
    "        str_index = str(index) + ') '\n",
    "        #question first\n",
    "        html_question = '<div class=\"question\">'+str_index + doc['question']+'</div>'\n",
    "        html_answers_start = '<div class=\"answers\">'\n",
    "        html_answers_end = '</div>'\n",
    "        #First image: options without explanations\n",
    "        for key in doc['options'].keys():\n",
    "            html_answers_start += f'''\n",
    "                <div class=\"answer\">\n",
    "                    <label>{key}. {doc['options'][key]}</label>\n",
    "                </div>\n",
    "                <div class=\"explanation\">\n",
    "                    <label>{key}. {doc['explanation'][key]}</label>\n",
    "                </div>'''\n",
    "        #1 doc 1 image\n",
    "        exam_settings.generate_image(exam_settings.html_head_str + html_question + html_answers_start + html_answers_end + exam_settings.html_tail_str, doc['uuid'] + '.png')\n",
    "        #Second image: options with explanations\n",
    "        html_answers_start = '<div class=\"answers\">'\n",
    "        for key in doc['options'].keys():\n",
    "            correct_class = ''\n",
    "            if doc['answer'] == key:\n",
    "                correct_class = ' correct'\n",
    "            html_answers_start += f'''\n",
    "                <div class=\"answer\">\n",
    "                    <label class=\"{correct_class}\">{key}. {doc['options'][key]}</label>\n",
    "                </div>\n",
    "                <div class=\"explanation show\">\n",
    "                    <label>{doc['explanation'][key]}</label>\n",
    "                </div>'''\n",
    "        exam_settings.generate_image(exam_settings.html_head_str + html_question + html_answers_start + html_answers_end + exam_settings.html_tail_str, doc['uuid'] + '_explain.png')\n",
    "        #\n",
    "        index += 1\n",
    "    # print(random_documents)\n",
    "\n",
    "#test\n",
    "#get_n_export_question_2_img(5)"
   ]
  },
  {
   "cell_type": "code",
   "execution_count": null,
   "metadata": {},
   "outputs": [],
   "source": []
  }
 ],
 "metadata": {
  "kernelspec": {
   "display_name": "3.9.10",
   "language": "python",
   "name": "python3"
  },
  "language_info": {
   "codemirror_mode": {
    "name": "ipython",
    "version": 3
   },
   "file_extension": ".py",
   "mimetype": "text/x-python",
   "name": "python",
   "nbconvert_exporter": "python",
   "pygments_lexer": "ipython3",
   "version": "3.9.10"
  }
 },
 "nbformat": 4,
 "nbformat_minor": 2
}
