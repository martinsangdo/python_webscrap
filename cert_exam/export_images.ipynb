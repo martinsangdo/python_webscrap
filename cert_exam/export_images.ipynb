{
 "cells": [
  {
   "cell_type": "code",
   "execution_count": 1,
   "metadata": {},
   "outputs": [],
   "source": [
    "#https://github.com/vgalin/html2image\n",
    "from html2image import Html2Image\n"
   ]
  },
  {
   "cell_type": "code",
   "execution_count": 2,
   "metadata": {},
   "outputs": [],
   "source": [
    "hti = Html2Image(custom_flags=['--headless=new'], size=(1920, 1080))\n",
    "#https://github.com/vgalin/html2image/issues/177 (size should generated from HTML code)"
   ]
  },
  {
   "cell_type": "code",
   "execution_count": 12,
   "metadata": {},
   "outputs": [],
   "source": [
    "html = \"\"\"\n",
    "<!DOCTYPE html>\n",
    "<html lang=\"en\">\n",
    "<head>\n",
    "    <meta charset=\"UTF-8\">\n",
    "    <meta name=\"viewport\" content=\"width=device-width, initial-scale=1.0\"/>\n",
    "    <title>Question and Answers</title>\n",
    "    <style>\n",
    "        body {\n",
    "            display: flex;\n",
    "            justify-content: center;\n",
    "            align-items: center;\n",
    "            min-height: 100vh;\n",
    "            margin: 0;\n",
    "            font-family: sans-serif;\n",
    "            font-size: 2em;\n",
    "        }\n",
    "\n",
    "        .container {\n",
    "            padding: 30px;\n",
    "            text-align: center;\n",
    "        }\n",
    "\n",
    "        .question {\n",
    "            margin-bottom: 20px;\n",
    "            line-height: 1.4;\n",
    "            text-align: left;\n",
    "        }\n",
    "\n",
    "        .answer {\n",
    "            margin-bottom: 15px;\n",
    "            text-align: left;\n",
    "        }\n",
    "\n",
    "        .answer label {\n",
    "            display: block;\n",
    "            line-height: 1.4;\n",
    "            padding: 8px;\n",
    "            border: 1px solid #ccc;\n",
    "            border-radius: 4px;\n",
    "            cursor: pointer;\n",
    "        }\n",
    "\n",
    "        .answer input[type=\"radio\"] {\n",
    "            margin-right: 10px;\n",
    "        }\n",
    "    </style>\n",
    "</head>\n",
    "<body>\n",
    "    <div class=\"container\">\n",
    "        <div class=\"question\">12) You need to restrict access to an Amazon S3 bucket to only users within a specific AWS account. What's the MOST efficient method?</div>\n",
    "        <div class=\"answers\">\n",
    "            <div class=\"answer\">\n",
    "                <label for=\"answer1\">A. Use bucket policies allowing access only from specific IP addresses.</label>\n",
    "            </div>\n",
    "            <div class=\"answer\">\n",
    "                <label for=\"answer2\">B. Use access control lists (ACLs) allowing access to specific users within the account.</label>\n",
    "            </div>\n",
    "            <div class=\"answer\">\n",
    "                <label for=\"answer3\">C. Use IAM policies to grant access to the S3 bucket only to users and roles within the specified AWS account.</label>\n",
    "            </div>\n",
    "            <div class=\"answer\">\n",
    "                <label for=\"answer4\">D. Make the bucket public and trust that only authorized users will access it.</label>\n",
    "            </div>\n",
    "        </div>\n",
    "    </div>\n",
    "</body>\n",
    "</html>\n",
    "\"\"\""
   ]
  },
  {
   "cell_type": "code",
   "execution_count": 14,
   "metadata": {},
   "outputs": [
    {
     "name": "stderr",
     "output_type": "stream",
     "text": [
      "[4963:62315:0514/102235.448681:ERROR:net/cert/internal/trust_store_mac.cc:817] Error parsing certificate:\n",
      "ERROR: Failed parsing extensions\n",
      "\n",
      "[4969:62335:0514/102236.065604:ERROR:ui/gl/gl_display.cc:508] EGL Driver message (Error) eglQueryDeviceAttribEXT: Bad attribute.\n",
      "[4969:62335:0514/102236.066768:ERROR:ui/gl/gl_display.cc:508] EGL Driver message (Error) eglQueryDeviceAttribEXT: Bad attribute.\n",
      "[4969:62335:0514/102236.067306:ERROR:ui/gl/gl_display.cc:508] EGL Driver message (Error) eglQueryDeviceAttribEXT: Bad attribute.\n",
      "[4969:62335:0514/102236.225899:ERROR:ui/gl/gl_display.cc:508] EGL Driver message (Error) eglQueryDeviceAttribEXT: Bad attribute.\n",
      "[4969:62335:0514/102236.245256:ERROR:ui/gl/gl_display.cc:508] EGL Driver message (Error) eglQueryDeviceAttribEXT: Bad attribute.\n",
      "[4969:62335:0514/102236.246949:ERROR:ui/gl/gl_display.cc:508] EGL Driver message (Error) eglQueryDeviceAttribEXT: Bad attribute.\n",
      "[4969:62335:0514/102236.247632:ERROR:ui/gl/gl_display.cc:508] EGL Driver message (Error) eglQueryDeviceAttribEXT: Bad attribute.\n",
      "[4969:62335:0514/102236.250494:ERROR:ui/gl/gl_display.cc:508] EGL Driver message (Error) eglQueryDeviceAttribEXT: Bad attribute.\n",
      "[4969:62335:0514/102236.255805:ERROR:ui/gl/gl_display.cc:508] EGL Driver message (Error) eglQueryDeviceAttribEXT: Bad attribute.\n",
      "[4969:62335:0514/102236.275650:ERROR:ui/gl/gl_display.cc:508] EGL Driver message (Error) eglQueryDeviceAttribEXT: Bad attribute.\n",
      "[4969:62335:0514/102236.294415:ERROR:ui/gl/gl_display.cc:508] EGL Driver message (Error) eglQueryDeviceAttribEXT: Bad attribute.\n",
      "[4969:62335:0514/102236.319164:ERROR:ui/gl/gl_display.cc:508] EGL Driver message (Error) eglQueryDeviceAttribEXT: Bad attribute.\n",
      "[4969:62335:0514/102236.329284:ERROR:ui/gl/gl_display.cc:508] EGL Driver message (Error) eglQueryDeviceAttribEXT: Bad attribute.\n",
      "[4969:62335:0514/102236.488560:ERROR:ui/gl/gl_display.cc:508] EGL Driver message (Error) eglQueryDeviceAttribEXT: Bad attribute.\n",
      "[4969:62335:0514/102236.491956:ERROR:ui/gl/gl_display.cc:508] EGL Driver message (Error) eglQueryDeviceAttribEXT: Bad attribute.\n",
      "[4969:62335:0514/102236.498992:ERROR:ui/gl/gl_display.cc:508] EGL Driver message (Error) eglQueryDeviceAttribEXT: Bad attribute.\n",
      "[4969:62335:0514/102236.500542:ERROR:ui/gl/gl_display.cc:508] EGL Driver message (Error) eglQueryDeviceAttribEXT: Bad attribute.\n",
      "[4969:62335:0514/102236.523161:ERROR:ui/gl/gl_display.cc:508] EGL Driver message (Error) eglQueryDeviceAttribEXT: Bad attribute.\n",
      "[4969:62335:0514/102236.942815:ERROR:ui/gl/gl_display.cc:508] EGL Driver message (Error) eglQueryDeviceAttribEXT: Bad attribute.\n",
      "205142 bytes written to file /Users/sang/Documents/Source/Python/python_webscrap/cert_exam/sample.png\n"
     ]
    },
    {
     "data": {
      "text/plain": [
       "['/Users/sang/Documents/Source/Python/python_webscrap/cert_exam/sample.png']"
      ]
     },
     "execution_count": 14,
     "metadata": {},
     "output_type": "execute_result"
    }
   ],
   "source": [
    "hti.screenshot(\n",
    "    # html_str=html,\n",
    "    html_file='sample.html',\n",
    "    save_as='sample.png',\n",
    "    size=(1920, 1080)\n",
    ")"
   ]
  },
  {
   "cell_type": "code",
   "execution_count": null,
   "metadata": {},
   "outputs": [],
   "source": []
  }
 ],
 "metadata": {
  "kernelspec": {
   "display_name": "3.9.10",
   "language": "python",
   "name": "python3"
  },
  "language_info": {
   "codemirror_mode": {
    "name": "ipython",
    "version": 3
   },
   "file_extension": ".py",
   "mimetype": "text/x-python",
   "name": "python",
   "nbconvert_exporter": "python",
   "pygments_lexer": "ipython3",
   "version": "3.9.10"
  }
 },
 "nbformat": 4,
 "nbformat_minor": 2
}
