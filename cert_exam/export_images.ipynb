{
 "cells": [
  {
   "cell_type": "code",
   "execution_count": null,
   "metadata": {},
   "outputs": [
    {
     "data": {
      "text/plain": [
       "<module 'exam_settings' from '/Users/sang/Documents/Source/Python/python_webscrap/cert_exam/exam_settings/__init__.py'>"
      ]
     },
     "execution_count": 72,
     "metadata": {},
     "output_type": "execute_result"
    }
   ],
   "source": [
    "import pymongo\n",
    "import os\n",
    "from dotenv import load_dotenv\n",
    "import exam_settings\n",
    "import importlib\n",
    "\n",
    "#importlib.reload(exam_settings)"
   ]
  },
  {
   "cell_type": "code",
   "execution_count": 73,
   "metadata": {},
   "outputs": [],
   "source": [
    "load_dotenv() \n",
    "\n",
    "db_client = pymongo.MongoClient(os.environ['DB_URI'])\n",
    "db = db_client['db_certificates']\n",
    "collection = db['tb_aws_cloud_practitioner']\n"
   ]
  },
  {
   "cell_type": "code",
   "execution_count": 74,
   "metadata": {},
   "outputs": [],
   "source": [
    "IMG_FOLDER = 'aws_cloud_practitioner/img'"
   ]
  },
  {
   "cell_type": "code",
   "execution_count": 75,
   "metadata": {},
   "outputs": [
    {
     "name": "stderr",
     "output_type": "stream",
     "text": [
      "[13023:259390:0517/144026.562678:ERROR:net/cert/internal/trust_store_mac.cc:817] Error parsing certificate:\n",
      "ERROR: Failed parsing extensions\n",
      "\n",
      "[13029:259412:0517/144027.237118:ERROR:ui/gl/gl_display.cc:508] EGL Driver message (Error) eglQueryDeviceAttribEXT: Bad attribute.\n",
      "[13029:259412:0517/144027.239634:ERROR:ui/gl/gl_display.cc:508] EGL Driver message (Error) eglQueryDeviceAttribEXT: Bad attribute.\n",
      "[13029:259412:0517/144027.244553:ERROR:ui/gl/gl_display.cc:508] EGL Driver message (Error) eglQueryDeviceAttribEXT: Bad attribute.\n",
      "[13029:259412:0517/144027.496144:ERROR:ui/gl/gl_display.cc:508] EGL Driver message (Error) eglQueryDeviceAttribEXT: Bad attribute.\n",
      "[13029:259412:0517/144027.498781:ERROR:ui/gl/gl_display.cc:508] EGL Driver message (Error) eglQueryDeviceAttribEXT: Bad attribute.\n",
      "[13029:259412:0517/144027.500933:ERROR:ui/gl/gl_display.cc:508] EGL Driver message (Error) eglQueryDeviceAttribEXT: Bad attribute.\n",
      "[13029:259412:0517/144027.502593:ERROR:ui/gl/gl_display.cc:508] EGL Driver message (Error) eglQueryDeviceAttribEXT: Bad attribute.\n",
      "[13029:259412:0517/144027.510960:ERROR:ui/gl/gl_display.cc:508] EGL Driver message (Error) eglQueryDeviceAttribEXT: Bad attribute.\n",
      "[13029:259412:0517/144027.516540:ERROR:ui/gl/gl_display.cc:508] EGL Driver message (Error) eglQueryDeviceAttribEXT: Bad attribute.\n",
      "[13029:259412:0517/144027.575949:ERROR:ui/gl/gl_display.cc:508] EGL Driver message (Error) eglQueryDeviceAttribEXT: Bad attribute.\n",
      "[13029:259412:0517/144027.603833:ERROR:ui/gl/gl_display.cc:508] EGL Driver message (Error) eglQueryDeviceAttribEXT: Bad attribute.\n",
      "[13029:259412:0517/144027.694697:ERROR:ui/gl/gl_display.cc:508] EGL Driver message (Error) eglQueryDeviceAttribEXT: Bad attribute.\n",
      "[13029:259412:0517/144027.696395:ERROR:ui/gl/gl_display.cc:508] EGL Driver message (Error) eglQueryDeviceAttribEXT: Bad attribute.\n",
      "[13029:259412:0517/144027.701277:ERROR:ui/gl/gl_display.cc:508] EGL Driver message (Error) eglQueryDeviceAttribEXT: Bad attribute.\n",
      "[13029:259412:0517/144027.701819:ERROR:ui/gl/gl_display.cc:508] EGL Driver message (Error) eglQueryDeviceAttribEXT: Bad attribute.\n",
      "[13029:259412:0517/144027.714472:ERROR:ui/gl/gl_display.cc:508] EGL Driver message (Error) eglQueryDeviceAttribEXT: Bad attribute.\n",
      "[13029:259412:0517/144028.128535:ERROR:ui/gl/gl_display.cc:508] EGL Driver message (Error) eglQueryDeviceAttribEXT: Bad attribute.\n",
      "264944 bytes written to file /Users/sang/Documents/Source/Python/python_webscrap/cert_exam/aws_cloud_practitioner/img/d556280b-72ee-4e9e-b69f-6182b3981f8e.png\n",
      "[13050:259697:0517/144028.832249:ERROR:net/cert/internal/trust_store_mac.cc:817] Error parsing certificate:\n",
      "ERROR: Failed parsing extensions\n",
      "\n",
      "[13055:259707:0517/144029.443202:ERROR:ui/gl/gl_display.cc:508] EGL Driver message (Error) eglQueryDeviceAttribEXT: Bad attribute.\n",
      "[13055:259707:0517/144029.444312:ERROR:ui/gl/gl_display.cc:508] EGL Driver message (Error) eglQueryDeviceAttribEXT: Bad attribute.\n",
      "[13055:259707:0517/144029.444953:ERROR:ui/gl/gl_display.cc:508] EGL Driver message (Error) eglQueryDeviceAttribEXT: Bad attribute.\n",
      "[13055:259707:0517/144029.602369:ERROR:ui/gl/gl_display.cc:508] EGL Driver message (Error) eglQueryDeviceAttribEXT: Bad attribute.\n",
      "[13055:259707:0517/144029.653306:ERROR:ui/gl/gl_display.cc:508] EGL Driver message (Error) eglQueryDeviceAttribEXT: Bad attribute.\n",
      "[13055:259707:0517/144029.654820:ERROR:ui/gl/gl_display.cc:508] EGL Driver message (Error) eglQueryDeviceAttribEXT: Bad attribute.\n",
      "[13055:259707:0517/144029.655607:ERROR:ui/gl/gl_display.cc:508] EGL Driver message (Error) eglQueryDeviceAttribEXT: Bad attribute.\n",
      "[13055:259707:0517/144029.681934:ERROR:ui/gl/gl_display.cc:508] EGL Driver message (Error) eglQueryDeviceAttribEXT: Bad attribute.\n",
      "[13055:259707:0517/144029.708308:ERROR:ui/gl/gl_display.cc:508] EGL Driver message (Error) eglQueryDeviceAttribEXT: Bad attribute.\n",
      "[13055:259707:0517/144029.720567:ERROR:ui/gl/gl_display.cc:508] EGL Driver message (Error) eglQueryDeviceAttribEXT: Bad attribute.\n",
      "[13055:259707:0517/144029.730305:ERROR:ui/gl/gl_display.cc:508] EGL Driver message (Error) eglQueryDeviceAttribEXT: Bad attribute.\n",
      "[13055:259707:0517/144029.827035:ERROR:ui/gl/gl_display.cc:508] EGL Driver message (Error) eglQueryDeviceAttribEXT: Bad attribute.\n",
      "[13055:259707:0517/144029.829807:ERROR:ui/gl/gl_display.cc:508] EGL Driver message (Error) eglQueryDeviceAttribEXT: Bad attribute.\n",
      "[13055:259707:0517/144029.833869:ERROR:ui/gl/gl_display.cc:508] EGL Driver message (Error) eglQueryDeviceAttribEXT: Bad attribute.\n",
      "[13055:259707:0517/144029.834644:ERROR:ui/gl/gl_display.cc:508] EGL Driver message (Error) eglQueryDeviceAttribEXT: Bad attribute.\n",
      "[13055:259707:0517/144029.847893:ERROR:ui/gl/gl_display.cc:508] EGL Driver message (Error) eglQueryDeviceAttribEXT: Bad attribute.\n",
      "[13055:259707:0517/144030.291946:ERROR:ui/gl/gl_display.cc:508] EGL Driver message (Error) eglQueryDeviceAttribEXT: Bad attribute.\n",
      "407169 bytes written to file /Users/sang/Documents/Source/Python/python_webscrap/cert_exam/aws_cloud_practitioner/img/d556280b-72ee-4e9e-b69f-6182b3981f8e_explain.png\n"
     ]
    }
   ],
   "source": [
    "#get question(s) and export to images\n",
    "def get_n_export_question_2_img(question_num):\n",
    "    pipeline = [\n",
    "                {\"$match\": {'exported': 0, 'type': 'multiple-choice'}},\n",
    "                {\"$sample\": {\"size\": question_num}} #randomly\n",
    "            ]\n",
    "    random_documents = list(collection.aggregate(pipeline))\n",
    "    index = 1\n",
    "    for doc in random_documents:\n",
    "        str_index = str(index) + ') '\n",
    "        #question first\n",
    "        html_question = '<div class=\"question\">'+str_index + doc['question']+'</div>'\n",
    "        html_answers_start = '<div class=\"answers\">'\n",
    "        html_answers_end = '</div>'\n",
    "        #First image: options without explanations\n",
    "        for key in doc['options'].keys():\n",
    "            html_answers_start += f'''\n",
    "                <div class=\"answer\">\n",
    "                    <label>{key}. {doc['options'][key]}</label>\n",
    "                </div>\n",
    "                <div class=\"explanation\">\n",
    "                    <label>{key}. {doc['explanation'][key]}</label>\n",
    "                </div>'''\n",
    "        #1 doc 1 image\n",
    "        exam_settings.generate_image(exam_settings.html_head_str + html_question + html_answers_start + html_answers_end + exam_settings.html_tail_str, IMG_FOLDER, doc['uuid'] + '.png')\n",
    "        #Second image: options with explanations\n",
    "        html_answers_start = '<div class=\"answers\">'\n",
    "        for key in doc['options'].keys():\n",
    "            correct_class = ''\n",
    "            if doc['answer'] == key:\n",
    "                correct_class = ' correct'\n",
    "            html_answers_start += f'''\n",
    "                <div class=\"answer\">\n",
    "                    <label class=\"{correct_class}\">{key}. {doc['options'][key]}</label>\n",
    "                </div>\n",
    "                <div class=\"explanation show\">\n",
    "                    <label>{doc['explanation'][key]}</label>\n",
    "                </div>'''\n",
    "        exam_settings.generate_image(exam_settings.html_head_str + html_question + html_answers_start + html_answers_end + exam_settings.html_tail_str, IMG_FOLDER, doc['uuid'] + '_explain.png')\n",
    "        #\n",
    "        index += 1\n",
    "    # print(random_documents)\n",
    "\n",
    "#test\n",
    "get_n_export_question_2_img(1)"
   ]
  },
  {
   "cell_type": "code",
   "execution_count": null,
   "metadata": {},
   "outputs": [],
   "source": []
  }
 ],
 "metadata": {
  "kernelspec": {
   "display_name": "3.9.10",
   "language": "python",
   "name": "python3"
  },
  "language_info": {
   "codemirror_mode": {
    "name": "ipython",
    "version": 3
   },
   "file_extension": ".py",
   "mimetype": "text/x-python",
   "name": "python",
   "nbconvert_exporter": "python",
   "pygments_lexer": "ipython3",
   "version": "3.9.10"
  }
 },
 "nbformat": 4,
 "nbformat_minor": 2
}
