{
 "cells": [
  {
   "cell_type": "code",
   "execution_count": 1,
   "metadata": {},
   "outputs": [],
   "source": [
    "#https://github.com/vgalin/html2image\n",
    "from html2image import Html2Image\n"
   ]
  },
  {
   "cell_type": "code",
   "execution_count": 2,
   "metadata": {},
   "outputs": [],
   "source": [
    "hti = Html2Image(custom_flags=['--headless=new'], size=(1920, 1080))\n",
    "#https://github.com/vgalin/html2image/issues/177 (size should generated from HTML code)"
   ]
  },
  {
   "cell_type": "code",
   "execution_count": null,
   "metadata": {},
   "outputs": [],
   "source": [
    "test_html = \"\"\"\n",
    "<!DOCTYPE html>\n",
    "<html lang=\"en\">\n",
    "<head>\n",
    "    <meta charset=\"UTF-8\">\n",
    "    <meta name=\"viewport\" content=\"width=device-width, initial-scale=1.0\"/>\n",
    "    <title>Question and Answers</title>\n",
    "    <style>\n",
    "        body {\n",
    "            display: flex;\n",
    "            justify-content: center;\n",
    "            align-items: center;\n",
    "            min-height: 100vh;\n",
    "            margin: 0;\n",
    "            font-family: sans-serif;\n",
    "            font-size: 2em;\n",
    "        }\n",
    "\n",
    "        .container {\n",
    "            padding: 30px;\n",
    "            text-align: center;\n",
    "        }\n",
    "\n",
    "        .question {\n",
    "            margin-bottom: 20px;\n",
    "            line-height: 1.4;\n",
    "            text-align: left;\n",
    "            font-weight: bold;\n",
    "        }\n",
    "\n",
    "        .answer, .explanation {\n",
    "            margin-bottom: 15px;\n",
    "            text-align: left;\n",
    "        }\n",
    "\n",
    "        .answer label {\n",
    "            display: block;\n",
    "            line-height: 1.4;\n",
    "            padding: 8px;\n",
    "            border: 1px solid #ccc;\n",
    "            border-radius: 4px;\n",
    "        }\n",
    "\n",
    "        .answer label.correct {\n",
    "            color: green;\n",
    "            font-weight: bold;\n",
    "        }\n",
    "\n",
    "        .explanation {\n",
    "            display: none;\n",
    "        }\n",
    "\n",
    "        .explanation label {\n",
    "            font-size: 0.7em;\n",
    "            font-style: italic;\n",
    "        }\n",
    "\n",
    "        .explanation.show {\n",
    "            display:block;\n",
    "        }\n",
    "    </style>\n",
    "</head>\n",
    "<body>\n",
    "    <div class=\"container\">\n",
    "        <div class=\"question\">12) You need to restrict access to an Amazon S3 bucket to only users within a specific AWS account. What's the MOST efficient method?</div>\n",
    "        <div class=\"answers\">\n",
    "            <div class=\"answer\">\n",
    "                <label>A. Use bucket policies allowing access only from specific IP addresses.</label>\n",
    "            </div>\n",
    "            <div class=\"explanation\">\n",
    "                <label>IP restrictions are less flexible and less efficient.</label>\n",
    "            </div>\n",
    "            <div class=\"answer\">\n",
    "                <label>B. Use access control lists (ACLs) allowing access to specific users within the account.</label>\n",
    "            </div>\n",
    "            <div class=\"explanation\">\n",
    "                <label>ACLs are less granular than IAM policies and less suited for managing access to resources across accounts.</label>\n",
    "            </div>\n",
    "            <div class=\"answer\">\n",
    "                <label>C. Use IAM policies to grant access to the S3 bucket only to users and roles within the specified AWS account.</label>\n",
    "            </div>\n",
    "            <div class=\"explanation\">\n",
    "                <label>IAM policies provide the most granular control and efficient way to manage access based on AWS identities.</label>\n",
    "            </div>\n",
    "            <div class=\"answer\">\n",
    "                <label>D. Make the bucket public and trust that only authorized users will access it.</label>\n",
    "            </div>\n",
    "            <div class=\"explanation\">\n",
    "                <label>Highly insecure, making data publicly accessible.</label>\n",
    "            </div>\n",
    "            <div class=\"answer\">\n",
    "                <label>D. Make the bucket public and trust that only authorized users will access it.</label>\n",
    "            </div>\n",
    "            <div class=\"explanation\">\n",
    "                <label>Highly insecure, making data publicly accessible.</label>\n",
    "            </div>\n",
    "        </div>\n",
    "    </div>\n",
    "</body>\n",
    "</html>\n",
    "\"\"\""
   ]
  },
  {
   "cell_type": "code",
   "execution_count": null,
   "metadata": {},
   "outputs": [
    {
     "name": "stderr",
     "output_type": "stream",
     "text": [
      "[6085:78852:0514/103636.247236:ERROR:net/cert/internal/trust_store_mac.cc:817] Error parsing certificate:\n",
      "ERROR: Failed parsing extensions\n",
      "\n",
      "[6089:78872:0514/103636.850348:ERROR:ui/gl/gl_display.cc:508] EGL Driver message (Error) eglQueryDeviceAttribEXT: Bad attribute.\n",
      "[6089:78872:0514/103636.937743:ERROR:ui/gl/gl_display.cc:508] EGL Driver message (Error) eglQueryDeviceAttribEXT: Bad attribute.\n",
      "[6089:78872:0514/103636.938565:ERROR:ui/gl/gl_display.cc:508] EGL Driver message (Error) eglQueryDeviceAttribEXT: Bad attribute.\n",
      "[6089:78872:0514/103637.006113:ERROR:ui/gl/gl_display.cc:508] EGL Driver message (Error) eglQueryDeviceAttribEXT: Bad attribute.\n",
      "[6089:78872:0514/103637.007178:ERROR:ui/gl/gl_display.cc:508] EGL Driver message (Error) eglQueryDeviceAttribEXT: Bad attribute.\n",
      "[6089:78872:0514/103637.008608:ERROR:ui/gl/gl_display.cc:508] EGL Driver message (Error) eglQueryDeviceAttribEXT: Bad attribute.\n",
      "[6089:78872:0514/103637.009306:ERROR:ui/gl/gl_display.cc:508] EGL Driver message (Error) eglQueryDeviceAttribEXT: Bad attribute.\n",
      "[6089:78872:0514/103637.009649:ERROR:ui/gl/gl_display.cc:508] EGL Driver message (Error) eglQueryDeviceAttribEXT: Bad attribute.\n",
      "[6089:78872:0514/103637.024407:ERROR:ui/gl/gl_display.cc:508] EGL Driver message (Error) eglQueryDeviceAttribEXT: Bad attribute.\n",
      "[6089:78872:0514/103637.041150:ERROR:ui/gl/gl_display.cc:508] EGL Driver message (Error) eglQueryDeviceAttribEXT: Bad attribute.\n",
      "[6089:78872:0514/103637.054505:ERROR:ui/gl/gl_display.cc:508] EGL Driver message (Error) eglQueryDeviceAttribEXT: Bad attribute.\n",
      "[6089:78872:0514/103637.147226:ERROR:ui/gl/gl_display.cc:508] EGL Driver message (Error) eglQueryDeviceAttribEXT: Bad attribute.\n",
      "[6089:78872:0514/103637.151025:ERROR:ui/gl/gl_display.cc:508] EGL Driver message (Error) eglQueryDeviceAttribEXT: Bad attribute.\n",
      "[6089:78872:0514/103637.156744:ERROR:ui/gl/gl_display.cc:508] EGL Driver message (Error) eglQueryDeviceAttribEXT: Bad attribute.\n",
      "[6089:78872:0514/103637.161564:ERROR:ui/gl/gl_display.cc:508] EGL Driver message (Error) eglQueryDeviceAttribEXT: Bad attribute.\n",
      "[6089:78872:0514/103637.568839:ERROR:ui/gl/gl_display.cc:508] EGL Driver message (Error) eglQueryDeviceAttribEXT: Bad attribute.\n",
      "236879 bytes written to file /Users/sang/Documents/Source/Python/python_webscrap/cert_exam/sample_question.png\n"
     ]
    },
    {
     "data": {
      "text/plain": [
       "['/Users/sang/Documents/Source/Python/python_webscrap/cert_exam/sample_question.png']"
      ]
     },
     "execution_count": 19,
     "metadata": {},
     "output_type": "execute_result"
    }
   ],
   "source": [
    "def generate_image():\n",
    "    hti.screenshot(\n",
    "        # html_str=html,\n",
    "        html_file='sample.html',\n",
    "        # save_as='sample_explanation.png',\n",
    "        save_as='sample_question.png',\n",
    "        size=(1920, 1080)\n",
    "    )"
   ]
  },
  {
   "cell_type": "code",
   "execution_count": null,
   "metadata": {},
   "outputs": [],
   "source": []
  }
 ],
 "metadata": {
  "kernelspec": {
   "display_name": "3.9.10",
   "language": "python",
   "name": "python3"
  },
  "language_info": {
   "codemirror_mode": {
    "name": "ipython",
    "version": 3
   },
   "file_extension": ".py",
   "mimetype": "text/x-python",
   "name": "python",
   "nbconvert_exporter": "python",
   "pygments_lexer": "ipython3",
   "version": "3.9.10"
  }
 },
 "nbformat": 4,
 "nbformat_minor": 2
}
