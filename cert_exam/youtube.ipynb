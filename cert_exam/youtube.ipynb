{
 "cells": [
  {
   "cell_type": "code",
   "execution_count": 6,
   "metadata": {},
   "outputs": [],
   "source": [
    "import os\n",
    "import googleapiclient.discovery\n",
    "from dotenv import load_dotenv\n"
   ]
  },
  {
   "cell_type": "code",
   "execution_count": 7,
   "metadata": {},
   "outputs": [],
   "source": [
    "load_dotenv(override=True) \n",
    "YOUTUBE_PUBLIC_API_KEY = os.environ['YOUTUBE_PUBLIC_API_KEY']\n",
    "YOUTUBE_AWS_CHANNEL_ID = os.environ['YOUTUBE_AWS_CHANNEL_ID']"
   ]
  },
  {
   "cell_type": "code",
   "execution_count": 9,
   "metadata": {},
   "outputs": [
    {
     "name": "stdout",
     "output_type": "stream",
     "text": [
      "Found 1 videos:\n",
      "--- Video 1 ---\n",
      "Title: AWS Certified Solutions Architect Associate Practice Questions (Part 1) May 2025\n",
      "Video ID: fNt1pK6XVo4\n",
      "Published At: 2025-05-22T18:46:48Z\n",
      "Thumbnail: https://i.ytimg.com/vi/fNt1pK6XVo4/hqdefault.jpg\n",
      "Description: AWS Solutions Architect Associate Exam | AWS SAA C03 Exam Dump Questions | AWS Solutions Architect A...\n",
      "------------------------------\n"
     ]
    }
   ],
   "source": [
    "\n",
    "\n",
    "# --- Configuration ---\n",
    "# Replace with your actual API key\n",
    "# --- YouTube API Initialization ---\n",
    "def get_youtube_service():\n",
    "    \"\"\"Initializes and returns the YouTube API service.\"\"\"\n",
    "    api_service_name = \"youtube\"\n",
    "    api_version = \"v3\"\n",
    "    return googleapiclient.discovery.build(\n",
    "        api_service_name, api_version, developerKey=YOUTUBE_PUBLIC_API_KEY\n",
    "    )\n",
    "\n",
    "# --- Get Channel Videos ---\n",
    "def get_channel_videos(youtube_service, channel_id, max_results=50):\n",
    "    \"\"\"\n",
    "    Fetches videos from a given YouTube channel.\n",
    "    Args:\n",
    "        youtube_service: The initialized YouTube API service object.\n",
    "        channel_id: The ID of the YouTube channel.\n",
    "        max_results: The maximum number of videos to retrieve per page (default is 50, max is 50).\n",
    "    Returns:\n",
    "        A list of video dictionaries.\n",
    "    \"\"\"\n",
    "    all_videos = []\n",
    "    next_page_token = None\n",
    "\n",
    "    while True:\n",
    "        try:\n",
    "            request = youtube_service.search().list(\n",
    "                part=\"snippet\",\n",
    "                channelId=channel_id,\n",
    "                type=\"video\",\n",
    "                order=\"date\",  # Order by date (newest first)\n",
    "                maxResults=max_results,\n",
    "                pageToken=next_page_token\n",
    "            )\n",
    "            response = request.execute()\n",
    "\n",
    "            for item in response.get(\"items\", []):\n",
    "                video_id = item[\"id\"][\"videoId\"]\n",
    "                title = item[\"snippet\"][\"title\"]\n",
    "                description = item[\"snippet\"][\"description\"]\n",
    "                published_at = item[\"snippet\"][\"publishedAt\"]\n",
    "                thumbnail_url = item[\"snippet\"][\"thumbnails\"][\"high\"][\"url\"]\n",
    "\n",
    "                all_videos.append({\n",
    "                    \"video_id\": video_id,\n",
    "                    \"title\": title,\n",
    "                    \"description\": description,\n",
    "                    \"published_at\": published_at,\n",
    "                    \"thumbnail_url\": thumbnail_url\n",
    "                })\n",
    "\n",
    "            next_page_token = response.get(\"nextPageToken\")\n",
    "            if not next_page_token:\n",
    "                break # No more pages\n",
    "\n",
    "        except googleapiclient.errors.HttpError as e:\n",
    "            print(f\"An HTTP error {e.resp.status} occurred:\\n{e.content}\")\n",
    "            break\n",
    "        except Exception as e:\n",
    "            print(f\"An unexpected error occurred: {e}\")\n",
    "            break\n",
    "    return all_videos\n",
    "\n",
    "# --- Main Execution ---\n",
    "if __name__ == \"__main__\":\n",
    "        youtube = get_youtube_service()\n",
    "        #print(f\"Fetching videos for channel ID: {CHANNEL_ID}\")\n",
    "        videos = get_channel_videos(youtube, CHANNEL_ID, max_results=25) # Fetching 25 videos per page\n",
    "\n",
    "        if videos:\n",
    "            print(f\"Found {len(videos)} videos:\")\n",
    "            for i, video in enumerate(videos):\n",
    "                print(f\"--- Video {i+1} ---\")\n",
    "                print(f\"Title: {video['title']}\")\n",
    "                print(f\"Video ID: {video['video_id']}\")\n",
    "                print(f\"Published At: {video['published_at']}\")\n",
    "                print(f\"Thumbnail: {video['thumbnail_url']}\")\n",
    "                print(f\"Description: {video['description'][:100]}...\") # Print first 100 chars of description\n",
    "                print(\"-\" * 30)\n",
    "        else:\n",
    "            print(\"No videos found or an error occurred.\")"
   ]
  },
  {
   "cell_type": "code",
   "execution_count": null,
   "metadata": {},
   "outputs": [],
   "source": []
  }
 ],
 "metadata": {
  "kernelspec": {
   "display_name": "3.9.10",
   "language": "python",
   "name": "python3"
  },
  "language_info": {
   "codemirror_mode": {
    "name": "ipython",
    "version": 3
   },
   "file_extension": ".py",
   "mimetype": "text/x-python",
   "name": "python",
   "nbconvert_exporter": "python",
   "pygments_lexer": "ipython3",
   "version": "3.9.10"
  }
 },
 "nbformat": 4,
 "nbformat_minor": 2
}
