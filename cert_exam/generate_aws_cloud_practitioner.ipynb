{
 "cells": [
  {
   "cell_type": "code",
   "execution_count": 1,
   "metadata": {},
   "outputs": [],
   "source": [
    "import requests\n",
    "from dotenv import load_dotenv\n",
    "import pymongo\n",
    "import sys\n",
    "import os\n",
    "import importlib\n",
    "import csv\n",
    "\n",
    "# Get the current working directory of the notebook\n",
    "notebook_dir = os.getcwd()\n",
    "# Get the path to the parent directory\n",
    "parent_dir = os.path.dirname(notebook_dir)\n",
    "\n",
    "# Add the parent directory to sys.path if it's not already there\n",
    "if parent_dir not in sys.path:\n",
    "    sys.path.append(parent_dir)\n",
    "\n",
    "import const\n",
    "#importlib.reload(const)    #if we update the file const.py"
   ]
  },
  {
   "cell_type": "code",
   "execution_count": 2,
   "metadata": {},
   "outputs": [],
   "source": [
    "load_dotenv() \n",
    "GENERATIVE_URI = os.environ['GENERATIVE_URI']"
   ]
  },
  {
   "cell_type": "code",
   "execution_count": 3,
   "metadata": {},
   "outputs": [],
   "source": [
    "db_client = pymongo.MongoClient(os.environ['DB_URI'])\n",
    "db = db_client['db_certificates']\n",
    "collection = db['tb_aws_cloud_practitioner']\n",
    "\n",
    "FOLDER = './aws_cloud_practitioner/'"
   ]
  },
  {
   "cell_type": "markdown",
   "metadata": {},
   "source": [
    "The exam has the following content domains and weightings:\n",
    "• Domain 1: Cloud Concepts (24% of scored content)\n",
    "• Domain 2: Security and Compliance (30% of scored content)\n",
    "• Domain 3: Cloud Technology and Services (34% of scored content)\n",
    "• Domain 4: Billing, Pricing, and Support (12% of scored content) "
   ]
  },
  {
   "cell_type": "code",
   "execution_count": null,
   "metadata": {},
   "outputs": [
    {
     "name": "stdout",
     "output_type": "stream",
     "text": [
      "===== Finish loop: 0\n",
      "===== Finish loop: 1\n",
      "===== Finish loop: 2\n",
      "===== Finish loop: 3\n",
      "===== Finish loop: 4\n",
      "===== Finish loop: 5\n",
      "===== Finish loop: 6\n",
      "===== Finish loop: 7\n",
      "===== Finish loop: 8\n",
      "===== Finish loop: 9\n",
      "===== Finish loop: 10\n",
      "===== Finish loop: 11\n",
      "===== Finish loop: 12\n",
      "===== Finish loop: 13\n",
      "===== Finish loop: 14\n"
     ]
    }
   ],
   "source": [
    "#60 questions (60 multi choice, 5 multi select)\n",
    "def generate_questions():\n",
    "    context = 'The AWS Cloud Practitioner Exam has the following content domains: Domain 1 is Cloud Concepts, that includes: Define the benefits of the AWS Cloud; Identify design principles of the AWS Cloud; Understand the benefits of and strategies for migration to the AWS Cloud; Understand concepts of cloud economics. Domain 2 is Security and Compliance, that includes: Understand the AWS shared responsibility model; Understand AWS Cloud security, governance, and compliance concepts; Identify AWS access management capabilities; Identify components and resources for security. Domain 3 is Cloud Technology and Services, that includes: Define methods of deploying and operating in the AWS Cloud; Define the AWS global infrastructure; Identify AWS compute services; Identify AWS database services; Identify AWS network services; Identify AWS storage services; Identify AWS artificial intelligence and machine learning (AI/ML) services and analytics services; Identify services from other in-scope AWS service categories. Domain 4 is Billing, Pricing, and Support, that includes: Compare AWS pricing models; Understand resources for billing, budget, and cost management; Identify AWS technical resources and AWS Support options.'\n",
    "    #multiple choice\n",
    "    #text_prompt = 'Generate 10 high-quality multiple-choice questions (2 questions in domain 1, 3 questions in domain 2, 3 questions in domain 3, 2 questions in domain 4) with answers and explanations for the AWS Certified Cloud Practitioner examination. Each question has more than 60 words in length and should focus more on complex real-world scenarios rather than definitions. Please provide a response in a structured JSON format with the key name \"questions\", including all explanations for each answer as a JSON object. Each explanation has more than 50 words. Sample response structure should like this: { \"question\" : \"xxx\", \"options\" : { \"A\" : \"a text\", \"B\" : \"a text\", \"C\" : \"a text\", \"D\" : \"a text\"},\"answer\" : \"B\",\"explanation\" : { \"A\" : \"a text\", \"B\" : \"a text\", \"C\" : \"a text\", \"D\" : \"a text\"},\"type\" : \"multiple-choice\",\"domain\":x}. Response should avoid error while parsing JSON format \"Error decoding JSON: Expecting property name enclosed in double quotes\".'\n",
    "    #multi selection\n",
    "    text_prompt = 'Generate 10 high-quality multiple-selection questions (2 questions in domain 1, 3 questions in domain 2, 3 questions in domain 3, 2 questions in domain 4) with answers and explanations for the AWS Certified Cloud Practitioner examination. Each question has more than 60 words in length and should focus more on complex real-world scenarios rather than definitions. Please provide a response in a structured JSON format with the key name \"questions\", including all explanations for each answer as a JSON object. Each explanation has more than 50 words. Sample response structure should like this: { \"question\" : \"xxx\", \"options\" : { \"A\" : \"a text\", \"B\" : \"a text\", \"C\" : \"a text\", \"D\" : \"a text\", \"E\": \"a_text\"},\"answer\" : [],\"explanation\" : { \"A\" : \"a text\", \"B\" : \"a text\", \"C\" : \"a text\", \"D\" : \"a text\", \"E\" : \"a text\"},\"type\" : \"multiple-selection\",\"domain\":x}. Do not generate question that has only 1 answer. \"answer\" should have 2 to 4 correct elements. Response should avoid error while parsing JSON format \"Error decoding JSON: Expecting property name enclosed in double quotes\".'\n",
    "    #\n",
    "    raw_generated_text = const.post_request_generative_ai(GENERATIVE_URI, context + text_prompt)\n",
    "\n",
    "    #print(raw_generated_text)\n",
    "    questions = const.extract_questions_from_candidates(raw_generated_text)\n",
    "    if questions:\n",
    "        #parse questions and answers\n",
    "        for q in questions:\n",
    "            q['exported'] = 0\n",
    "            q['uuid'] = const.generate_random_uuid()\n",
    "            #print(q)\n",
    "            const.insert_questions(collection, q)\n",
    "    else:\n",
    "        print(raw_generated_text)\n",
    "        print(\"No questions found in the parsed content\")\n",
    "#test\n",
    "for i in range(1):\n",
    "    #generate_questions() #10 sentences 30 secs\n",
    "    print('===== Finish loop: ' + str(i))\n",
    "\n",
    "#https://www.udemy.com/course/aws-certified-cloud-practitioner-practice-tests-clf-c02/?couponCode=CP130525"
   ]
  },
  {
   "cell_type": "code",
   "execution_count": 7,
   "metadata": {},
   "outputs": [
    {
     "name": "stdout",
     "output_type": "stream",
     "text": [
      "1dd94ea6-4e7f-45ed-a786-edc8e41eb5aa\",\"5d3d1153-cfbc-407c-8ffb-7d724a4d0aa3\",\"33799af0-b95e-4219-98d7-15010f3d79e0\",\"10162b92-db02-469a-8ffa-f3c34da9eb6d\",\"aadb4ee5-8683-4867-be9b-60f35f1c8d14\n",
      "Data successfully saved to 'aws_cloud_practitioner_6_20250516.csv'\n"
     ]
    }
   ],
   "source": [
    "#Question,Question Type,Answer Option 1,Explanation 1,Answer Option 2,Explanation 2,Answer Option 3,Explanation 3,Answer Option 4,Explanation 4,Answer Option 5,Explanation 5,Answer Option 6,Explanation 6,Correct Answers,Overall Explanation,Domain\n",
    "def export_csv(path, filename):\n",
    "    #get questions that not exported yet. Note that: each part must follow by domain percents\n",
    "    file_data = []\n",
    "    #append header line (both multi-choice and multi-selection)\n",
    "    file_data.append(['Question','Question Type','Answer Option 1','Explanation 1','Answer Option 2','Explanation 2','Answer Option 3','Explanation 3','Answer Option 4','Explanation 4','Answer Option 5','Explanation 5','Answer Option 6','Explanation 6','Correct Answers','Overall Explanation','Domain'])\n",
    "    exported_uuid = []\n",
    "    manual_uuid = []\n",
    "    #1. export multiple-choice first\n",
    "    pipeline = [\n",
    "                {\"$match\": {'exported': 0, 'type': 'multiple-choice'}},\n",
    "                {\"$sample\": {\"size\": 60}}\n",
    "            ]\n",
    "    random_documents = list(collection.aggregate(pipeline))\n",
    "    for doc in random_documents:\n",
    "        file_data.append([doc['question'].replace('  ', ' ').replace('\\n', ''), 'multiple-choice', \n",
    "                                  doc['options']['A'], doc['explanation']['A'].replace('  ', ' ').replace('\\n', ''),     #A\n",
    "                                  doc['options']['B'], doc['explanation']['B'].replace('  ', ' ').replace('\\n', ''),     #B\n",
    "                                  doc['options']['C'], doc['explanation']['C'].replace('  ', ' ').replace('\\n', ''),     #C\n",
    "                                  doc['options']['D'], doc['explanation']['D'].replace('  ', ' ').replace('\\n', ''),     #D\n",
    "                                  '', '',   #E\n",
    "                                  '', '',   #6\n",
    "                                  const.map_index(doc['answer']), #correct answer\n",
    "                                  '', #overall\n",
    "                                  '' #domain\n",
    "                                  ])\n",
    "        exported_uuid.append(doc['uuid'])\n",
    "    #2. multi selection\n",
    "    pipeline = [\n",
    "                {\"$match\": {'exported': 0, 'type': 'multiple-selection'}},\n",
    "                {\"$sample\": {\"size\": 5}}\n",
    "            ]\n",
    "    random_documents = list(collection.aggregate(pipeline))\n",
    "    for doc in random_documents:\n",
    "        exported_uuid.append(doc['uuid'])\n",
    "        manual_uuid.append(doc['uuid']) #they do not suppor bulk upload this type of question, we need to manually add them\n",
    "    #\n",
    "    print('\",\"'.join(manual_uuid))\n",
    "    #save all questions to csv\n",
    "    try:\n",
    "        with open(path + filename, 'w', newline='') as csvfile:\n",
    "            writer = csv.writer(csvfile)\n",
    "            writer.writerows(file_data)\n",
    "            print(f\"Data successfully saved to '{filename}'\")\n",
    "            for _id in exported_uuid:\n",
    "                collection.update_one({'uuid': _id}, {'$set': {'exported': 1, 'filename': filename}})\n",
    "    except Exception as e:\n",
    "        print(f\"An error occurred while saving the array: {e}\")\n",
    "    \n",
    "#test|\n",
    "export_csv(FOLDER, 'aws_cloud_practitioner_6_20250516.csv')"
   ]
  },
  {
   "cell_type": "code",
   "execution_count": 18,
   "metadata": {},
   "outputs": [],
   "source": [
    "def unify_fields():\n",
    "    all_docs = collection.find({\"filename\" : \"aws_cloud_practitioner_2_20250516.csv\"})\n",
    "    for doc in all_docs:\n",
    "        collection.update_one({'uuid': doc['uuid']}, {'$set': {'exported': 0, 'filename': ''}})\n",
    "\n",
    "#test\n",
    "unify_fields()"
   ]
  },
  {
   "cell_type": "code",
   "execution_count": null,
   "metadata": {},
   "outputs": [],
   "source": []
  }
 ],
 "metadata": {
  "kernelspec": {
   "display_name": "3.9.10",
   "language": "python",
   "name": "python3"
  },
  "language_info": {
   "codemirror_mode": {
    "name": "ipython",
    "version": 3
   },
   "file_extension": ".py",
   "mimetype": "text/x-python",
   "name": "python",
   "nbconvert_exporter": "python",
   "pygments_lexer": "ipython3",
   "version": "3.9.10"
  }
 },
 "nbformat": 4,
 "nbformat_minor": 2
}
