{
 "cells": [
  {
   "cell_type": "code",
   "execution_count": 1,
   "metadata": {},
   "outputs": [],
   "source": [
    "import requests\n",
    "import os\n",
    "from dotenv import load_dotenv\n",
    "import pymongo\n",
    "import time"
   ]
  },
  {
   "cell_type": "code",
   "execution_count": 2,
   "metadata": {},
   "outputs": [],
   "source": [
    "def get_current_timestamp_milliseconds():\n",
    "  \"\"\"\n",
    "  Returns the current timestamp in milliseconds since the epoch.\n",
    "  \"\"\"\n",
    "  return int(time.time() * 1000)"
   ]
  },
  {
   "cell_type": "code",
   "execution_count": 3,
   "metadata": {},
   "outputs": [],
   "source": [
    "load_dotenv() \n",
    "LI_URI = os.environ['LI_URI']\n",
    "LI_VERSION = os.environ['LI_VERSION']\n",
    "LI_ACCESS_TOKEN = os.environ['LI_ACCESS_TOKEN']"
   ]
  },
  {
   "cell_type": "code",
   "execution_count": 4,
   "metadata": {},
   "outputs": [],
   "source": [
    "db_client = pymongo.MongoClient('mongodb://localhost:27017')\n",
    "db = db_client['db_li_page_posts']\n",
    "tb_page_post = db['tb_page_posts']"
   ]
  },
  {
   "cell_type": "code",
   "execution_count": null,
   "metadata": {},
   "outputs": [],
   "source": [
    "def post_2_page(payload):\n",
    "    #print(url)\n",
    "    url = LI_URI + 'posts'\n",
    "    headers = {\n",
    "        'Authorization': LI_ACCESS_TOKEN,\n",
    "        'LinkedIn-Version': LI_VERSION,\n",
    "        'Content-Type': 'application/json'\n",
    "    }\n",
    "    try:\n",
    "        detail = requests.post(url, json=payload, headers=headers)\n",
    "        return detail   #LI does not return response detail\n",
    "    except Exception as e:\n",
    "        print(e)\n",
    "        return {'error': e}"
   ]
  },
  {
   "cell_type": "code",
   "execution_count": null,
   "metadata": {},
   "outputs": [
    {
     "name": "stdout",
     "output_type": "stream",
     "text": [
      "<Response [201]>\n",
      "Finished post to the page with description: How have you been wo ...\n"
     ]
    }
   ],
   "source": [
    "#get list of authors from db\n",
    "def get_1_latest_pots():\n",
    "    latest_post = tb_page_post.find_one({'shared': 0}, sort=[('lastModifiedAt', -1)])\n",
    "    return latest_post\n",
    "#test\n",
    "the_post = get_1_latest_pots()\n",
    "if the_post is not None:\n",
    "    # print(the_post)\n",
    "    payload = {\n",
    "        \"author\": \"urn:li:organization:\" + os.environ['MY_PAGE_ID'],    #post to my page\n",
    "        \"commentary\": '',   #the_post['description'], #duplicated content\n",
    "        \"visibility\": \"PUBLIC\",\n",
    "        \"distribution\": {\n",
    "            \"feedDistribution\": \"MAIN_FEED\"\n",
    "        },\n",
    "        \"lifecycleState\": \"PUBLISHED\",\n",
    "        # \"isReshareDisabledByAuthor\": True,\n",
    "        \"reshareContext\": {\n",
    "            \"parent\": the_post['id']\n",
    "        }\n",
    "    }\n",
    "    result = post_2_page(payload)\n",
    "    # print(result)\n",
    "    if 'error' not in result:\n",
    "        tb_page_post.update_one({'id': the_post['id']}, {'$set': {'shared': 1}})\n",
    "        print('Finished post to the page with description: ' + the_post['description'][:20] + ' ...')\n",
    "#end"
   ]
  },
  {
   "cell_type": "code",
   "execution_count": null,
   "metadata": {},
   "outputs": [],
   "source": [
    "#todo auto get RANDOMLY 1 new post from all pages, (maximum 5 repost per day)\n",
    "def auto_report():\n",
    "    #1. check how many posts today (<24 hours)\n",
    "\n",
    "    #2. if today posted < 5 posts:\n",
    "        #2.1 get 1 new post RANDOMLY, sorted by lastModifiedAt\n",
    "\n",
    "        #2.2 post it to page\n",
    "\n",
    "        #2.3 Update to db: shared=1, shared_time="
   ]
  }
 ],
 "metadata": {
  "kernelspec": {
   "display_name": "3.9.10",
   "language": "python",
   "name": "python3"
  },
  "language_info": {
   "codemirror_mode": {
    "name": "ipython",
    "version": 3
   },
   "file_extension": ".py",
   "mimetype": "text/x-python",
   "name": "python",
   "nbconvert_exporter": "python",
   "pygments_lexer": "ipython3",
   "version": "3.9.10"
  }
 },
 "nbformat": 4,
 "nbformat_minor": 2
}
