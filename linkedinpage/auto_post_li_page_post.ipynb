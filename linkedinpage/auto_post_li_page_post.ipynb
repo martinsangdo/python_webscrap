{
 "cells": [
  {
   "cell_type": "code",
   "execution_count": 21,
   "metadata": {},
   "outputs": [],
   "source": [
    "import requests\n",
    "import os\n",
    "from dotenv import load_dotenv\n",
    "import pymongo\n",
    "import time\n",
    "from urllib.parse import urlparse\n"
   ]
  },
  {
   "cell_type": "code",
   "execution_count": 22,
   "metadata": {},
   "outputs": [],
   "source": [
    "def get_current_timestamp_milliseconds():\n",
    "  \"\"\"\n",
    "  Returns the current timestamp in milliseconds since the epoch.\n",
    "  \"\"\"\n",
    "  return int(time.time() * 1000)"
   ]
  },
  {
   "cell_type": "code",
   "execution_count": 23,
   "metadata": {},
   "outputs": [],
   "source": [
    "load_dotenv() \n",
    "LI_URI = os.environ['LI_URI']\n",
    "LI_REST_URI = os.environ['LI_REST_URI']\n",
    "LI_VERSION = os.environ['LI_VERSION']\n",
    "LI_ACCESS_TOKEN = os.environ['LI_ACCESS_TOKEN']"
   ]
  },
  {
   "cell_type": "code",
   "execution_count": 24,
   "metadata": {},
   "outputs": [],
   "source": [
    "db_client = pymongo.MongoClient('mongodb://localhost:27017')\n",
    "db = db_client['db_li_page_posts']\n",
    "tb_page_post = db['tb_page_posts']"
   ]
  },
  {
   "cell_type": "code",
   "execution_count": 25,
   "metadata": {},
   "outputs": [],
   "source": [
    "def post_2_page(payload):\n",
    "    #print(url)\n",
    "    url = LI_REST_URI + 'posts'\n",
    "    headers = {\n",
    "        'Authorization': LI_ACCESS_TOKEN,\n",
    "        'LinkedIn-Version': LI_VERSION,\n",
    "        'Content-Type': 'application/json'\n",
    "    }\n",
    "    try:\n",
    "        detail = requests.post(url, json=payload, headers=headers)\n",
    "        return detail   #LI does not return response detail\n",
    "    except Exception as e:\n",
    "        print(e)\n",
    "        return {'error': e}"
   ]
  },
  {
   "cell_type": "code",
   "execution_count": 26,
   "metadata": {},
   "outputs": [],
   "source": [
    "#get 1 latest post and repost to LI\n",
    "def get_1_latest_pots():\n",
    "    latest_post = tb_page_post.find_one({'shared': 0}, sort=[('lastModifiedAt', -1)])\n",
    "    return latest_post\n",
    "#test\n",
    "#end"
   ]
  },
  {
   "cell_type": "code",
   "execution_count": 27,
   "metadata": {},
   "outputs": [],
   "source": [
    "#get 1 random post to reshare if there were less than 5 posts in last 24 hours\n",
    "def get_1_latest_post():\n",
    "    timenow = get_current_timestamp_milliseconds()  #milliseconds\n",
    "    last24hours = timenow - 24 * 60 * 60 * 1000\n",
    "    todayPosts = tb_page_post.count_documents({'shared': 1, '$and': [ {'shared_time': {'$gt': last24hours }}, {'shared_time': {'$lt': timenow }} ] })\n",
    "    # print(last24hours)\n",
    "    print(todayPosts)\n",
    "    if todayPosts < 5:\n",
    "        #2. if today posted < 5 posts:\n",
    "        #2.1 get 1 new post RANDOMLY, sorted by lastModifiedAt\n",
    "        random_document = next(tb_page_post.aggregate([\n",
    "            {\"$match\": {'shared': 0}},\n",
    "            {\"$sort\": {\"lastModifiedAt\": -1}},\n",
    "            #{\"$sort\": [(\"lastModifiedAt\", -1)]},\n",
    "            {\"$sample\": {\"size\": 1}}\n",
    "        ]))\n",
    "        return random_document\n",
    "    #\n",
    "    return None"
   ]
  },
  {
   "cell_type": "code",
   "execution_count": 28,
   "metadata": {},
   "outputs": [
    {
     "data": {
      "text/plain": [
       "{'_id': ObjectId('67ff3996b856f06050116ca7'),\n",
       " 'id': 'urn:li:share:7317871023838699520',\n",
       " 'lastModifiedAt': 1744716428119,\n",
       " 'author': '25060884',\n",
       " 'description': \"5S Done Right = Real Results\\nhttps://lnkd.in/gegCxzhc\\n\\n\\xa05S isn’t about cleaning up — it’s about leveling up.\\n\\nWhen properly applied, 5S becomes a culture of clarity, flow, and safety.\\n\\nHere’s how each “S” adds real value:\\n🧠 Sort – Remove clutter to focus on what matters\\n📦 Set in Order – Organize for faster, mistake-free access\\n✨ Shine – Clean to detect issues early\\n📏 Standardize – Lock in consistency and reduce variation\\n🔁 Sustain – Reinforce habits, accountability, and pride\\n🛡️ Safety – Embed risk prevention into every step\\n\\nReal 5S = Real impact:\\n🚀 Boosts productivity\\n📉 Reduces waste\\n🔧 Improves quality\\n👷\\u200d♂️ Increases safety\\n💬 Lifts morale\\n\\nTo get results, measure what matters:\\n🎯 Clear goals\\n📊 Simple scoring\\n🤝 Team involvement\\n📱 Tech-enabled audits\\n🧭 Built-in CI\\n\\nWant to take your 5S program beyond surface-level audits and floor markings?\\nThis post dives into how 5S can truly transform your operations — when done right. From efficiency gains to safety integration, it's all about making 5S part of your culture, not just compliance.\\n\\n{hashtag|\\\\#|LearnFast} {hashtag|\\\\#|5S} {hashtag|\\\\#|LeanManufacturing} {hashtag|\\\\#|ContinuousImprovement} {hashtag|\\\\#|SafetyCulture} {hashtag|\\\\#|OperationalExcellence} {hashtag|\\\\#|LeanTools} {hashtag|\\\\#|WorkplaceSafety}\\n\\nSource: @[Walid Sobhy, DBA](urn:li:person:\\\\_0nzAVhYCb)\\n\\nFollow our new WhatsApp channel, where you can download hi-res PDFs, templates, and exclusive content not shared on this page: https://zbk.li/learnfast\\n\",\n",
       " 'media': 'urn:li:image:D5622AQGVHelgCsM5zw',\n",
       " 'shared': 0}"
      ]
     },
     "execution_count": 28,
     "metadata": {},
     "output_type": "execute_result"
    }
   ],
   "source": [
    "#testing\n",
    "the_post = tb_page_post.find_one({'id':'urn:li:share:7317871023838699520'})\n",
    "the_post"
   ]
  },
  {
   "cell_type": "code",
   "execution_count": 29,
   "metadata": {},
   "outputs": [],
   "source": [
    "#log the time when the post is shared\n",
    "def update_shared_info(post_id, post_desc):\n",
    "    tb_page_post.update_one({'id': post_id}, {'$set': {'shared': 1, 'shared_time': get_current_timestamp_milliseconds()}})\n",
    "    print('Finished reshare to the page with description: ' + post_desc + ' ...')"
   ]
  },
  {
   "cell_type": "code",
   "execution_count": 30,
   "metadata": {},
   "outputs": [],
   "source": [
    "#repost exactly, do not download (maximum 5 repost per day)\n",
    "def auto_repost(random_document):\n",
    "    #2 post it to page\n",
    "    if random_document != None:\n",
    "        payload = {\n",
    "            \"author\": \"urn:li:organization:\" + os.environ['MY_PAGE_ID'],    #post to my page\n",
    "            \"commentary\": '',   #the_post['description'], #duplicated content\n",
    "            \"visibility\": \"PUBLIC\",\n",
    "            \"distribution\": {\n",
    "                \"feedDistribution\": \"MAIN_FEED\"\n",
    "            },\n",
    "            \"lifecycleState\": \"PUBLISHED\",\n",
    "            \"reshareContext\": {\n",
    "                \"parent\": random_document['id']\n",
    "            }\n",
    "        }\n",
    "        #print(payload)\n",
    "        result = post_2_page(payload)\n",
    "        # print(result)\n",
    "        if 'error' not in result:\n",
    "            #2.3 Update to db: shared=1, shared_time=now\n",
    "            update_shared_info(random_document['id'], random_document['description'][:30])"
   ]
  },
  {
   "cell_type": "code",
   "execution_count": 31,
   "metadata": {},
   "outputs": [],
   "source": [
    "#download image into the folder\n",
    "def download_img(image_url, img_name):\n",
    "    folder_name = 'img' #in same place\n",
    "    try:\n",
    "        # Create the save folder if it doesn't exist\n",
    "        os.makedirs(folder_name, exist_ok=True)\n",
    "        # Get the filename from the URL\n",
    "        file_path = os.path.join(folder_name, img_name + \".jpg\")\n",
    "        print(file_path)\n",
    "        # Download the image\n",
    "        response = requests.get(image_url, stream=True)\n",
    "        response.raise_for_status()  # Raise an exception for bad status codes\n",
    "\n",
    "        with open(file_path, 'wb') as file:\n",
    "            for chunk in response.iter_content(chunk_size=8192):\n",
    "                file.write(chunk)\n",
    "\n",
    "        print(f\"Image downloaded successfully and saved to: {file_path}\")\n",
    "        return file_path\n",
    "    except requests.exceptions.RequestException as e:\n",
    "        print(f\"Error downloading image from {image_url}: {e}\")\n",
    "    except OSError as e:\n",
    "        print(f\"Error creating or writing to file: {e}\")\n",
    "    return None #no file downloaded"
   ]
  },
  {
   "cell_type": "code",
   "execution_count": 32,
   "metadata": {},
   "outputs": [],
   "source": [
    "#get upload link from LI\n",
    "def get_upload_link():\n",
    "    url = LI_URI + 'v2/assets?action=registerUpload'\n",
    "    headers = {\n",
    "        'Authorization': LI_ACCESS_TOKEN,\n",
    "        'LinkedIn-Version': LI_VERSION,\n",
    "        'Content-Type': 'application/json'\n",
    "    }\n",
    "    payload = {\n",
    "        \"registerUploadRequest\": {\n",
    "            \"recipes\": [\n",
    "                \"urn:li:digitalmediaRecipe:feedshare-image\"\n",
    "            ],\n",
    "            \"owner\": \"urn:li:organization:\" + os.environ['MY_PAGE_ID'],\n",
    "            \"serviceRelationships\": [\n",
    "                {\n",
    "                    \"relationshipType\": \"OWNER\",\n",
    "                    \"identifier\": \"urn:li:userGeneratedContent\"\n",
    "                }\n",
    "            ]\n",
    "        }\n",
    "    }\n",
    "    try:\n",
    "        detail = requests.post(url, json=payload, headers=headers)\n",
    "        return detail.json()\n",
    "    except Exception as e:\n",
    "        print(e)\n",
    "        return {'error': e}"
   ]
  },
  {
   "cell_type": "code",
   "execution_count": 33,
   "metadata": {},
   "outputs": [],
   "source": [
    "#upload image to LI\n",
    "def upload_img(file_path, upload_detail):\n",
    "    uploadUrl = upload_detail['uploadMechanism']['com.linkedin.digitalmedia.uploading.MediaUploadHttpRequest']['uploadUrl']\n",
    "    asset = upload_detail['asset']\n",
    "    #upload the image https://learn.microsoft.com/en-us/linkedin/consumer/integrations/self-serve/share-on-linkedin#upload-image-or-video-binary-file\n",
    "    try:\n",
    "        with open(file_path, 'rb') as file:\n",
    "            files = {'file': (file.name, file, 'image/jpg')}  # You might need to adjust the Content-Type\n",
    "            headers = {\n",
    "                'Authorization': LI_ACCESS_TOKEN,\n",
    "                'LinkedIn-Version': LI_VERSION\n",
    "            }\n",
    "\n",
    "            response = requests.post(uploadUrl, files=files, headers=headers)\n",
    "\n",
    "            print(\"Status Code:\", response.status_code)\n",
    "            print(\"Headers:\", response.headers)\n",
    "            print(\"Response Body:\", response.text)\n",
    "\n",
    "            if response.status_code >= 200 and response.status_code < 300:\n",
    "                print(\"File uploaded successfully!\")\n",
    "            else:\n",
    "                print(\"File upload failed.\")\n",
    "\n",
    "    except FileNotFoundError:\n",
    "        print(f\"Error: File not found at path: {file_path}\")\n",
    "    except requests.exceptions.RequestException as e:\n",
    "        print(f\"Error during upload: {e}\")\n",
    "\n",
    "    "
   ]
  },
  {
   "cell_type": "code",
   "execution_count": 34,
   "metadata": {},
   "outputs": [],
   "source": [
    "#find the image link and reshare in LI page\n",
    "def reshare_img(li_img_id):\n",
    "    #find img details\n",
    "    url = LI_REST_URI + 'images/' + li_img_id\n",
    "    headers = {\n",
    "        'Authorization': LI_ACCESS_TOKEN,\n",
    "        'LinkedIn-Version': LI_VERSION\n",
    "    }\n",
    "    try:\n",
    "        detail = requests.get(url, headers=headers)\n",
    "        #print(detail.json())\n",
    "        if 'downloadUrl' in detail.json():\n",
    "            file_path = download_img(detail.json()['downloadUrl'], li_img_id.replace('urn:li:image:', ''))\n",
    "            if file_path is not None:\n",
    "                #download successfully, now upload to LI and share\n",
    "                upload_link = get_upload_link()\n",
    "                if 'error' not in upload_link and 'value' in upload_link:\n",
    "                    upload_img(file_path, upload_link['value'])\n",
    "                \n",
    "    except Exception as e:\n",
    "        print(e)"
   ]
  },
  {
   "cell_type": "code",
   "execution_count": 35,
   "metadata": {},
   "outputs": [],
   "source": [
    "#download image and re-share into the page\n",
    "def download_n_reshare_post():\n",
    "    if the_post is None:\n",
    "        return  #reach limit for last 24 hours, do not share anything\n",
    "    #check type of the post\n",
    "    if 'urn:li:image:' in the_post['media']:\n",
    "        #download the image\n",
    "        img_link = reshare_img(the_post['media'])\n",
    "    else:\n",
    "        #reshare the video, do not download\n",
    "        auto_repost(the_post)"
   ]
  },
  {
   "cell_type": "code",
   "execution_count": 36,
   "metadata": {},
   "outputs": [
    {
     "name": "stdout",
     "output_type": "stream",
     "text": [
      "img/D5622AQGVHelgCsM5zw.jpg\n",
      "Image downloaded successfully and saved to: img/D5622AQGVHelgCsM5zw.jpg\n",
      "Status Code: 201\n",
      "Headers: {'Cache-Control': 'no-cache, no-store', 'Pragma': 'no-cache', 'Expires': 'Thu, 01 Jan 1970 00:00:00 GMT', 'Set-Cookie': 'lang=v=2&lang=en-us; SameSite=None; Path=/; Domain=linkedin.com; Secure, bcookie=\"v=2&5bd78930-1031-434a-8b3c-d166ccfa72f4\"; domain=.linkedin.com; Path=/; Secure; Expires=Thu, 16-Apr-2026 18:42:29 GMT; SameSite=None, bscookie=\"v=1&20250416184228c8d88966-4e50-4589-81e2-cb066e6cfcd7AQERGhgIqmfNEVfy37KHELNjxOzWxgB4\"; domain=.www.linkedin.com; Path=/; Secure; Expires=Thu, 16-Apr-2026 18:42:29 GMT; HttpOnly; SameSite=None, lidc=\"b=TGST08:s=T:r=T:a=T:p=T:g=3019:u=1:x=1:i=1744828949:t=1744915349:v=2:sig=AQErRNin6fKC7707wY6NPk60tOxOclho\"; Expires=Thu, 17 Apr 2025 18:42:29 GMT; domain=.linkedin.com; Path=/; SameSite=None; Secure', 'x-ambry-creation-time': 'Wed Apr 16 18:42:29 UTC 2025', 'access-control-allow-origin': 'https://www.linkedin.com', 'Strict-Transport-Security': 'max-age=31536000', 'X-Content-Type-Options': 'nosniff', 'X-Frame-Options': 'sameorigin', 'Content-Security-Policy': \"frame-ancestors 'self'\", 'X-Li-Fabric': 'prod-ltx1', 'X-Li-Pop': 'afd-prod-ltx1-x', 'X-Li-Proto': 'http/1.1', 'X-LI-UUID': 'AAYy6aWt4/tO13sXT+E5QQ==', 'X-Cache': 'CONFIG_NOCACHE', 'X-MSEdge-Ref': 'Ref A: E6C164D668E64C249403CD3F9AA462E2 Ref B: SG2AA1040513025 Ref C: 2025-04-16T18:42:28Z', 'Date': 'Wed, 16 Apr 2025 18:42:28 GMT', 'Content-Length': '0'}\n",
      "Response Body: \n",
      "File uploaded successfully!\n"
     ]
    }
   ],
   "source": [
    "download_n_reshare_post()"
   ]
  },
  {
   "cell_type": "code",
   "execution_count": 37,
   "metadata": {},
   "outputs": [],
   "source": [
    "#db_client.close()"
   ]
  }
 ],
 "metadata": {
  "kernelspec": {
   "display_name": "3.9.10",
   "language": "python",
   "name": "python3"
  },
  "language_info": {
   "codemirror_mode": {
    "name": "ipython",
    "version": 3
   },
   "file_extension": ".py",
   "mimetype": "text/x-python",
   "name": "python",
   "nbconvert_exporter": "python",
   "pygments_lexer": "ipython3",
   "version": "3.9.10"
  }
 },
 "nbformat": 4,
 "nbformat_minor": 2
}
