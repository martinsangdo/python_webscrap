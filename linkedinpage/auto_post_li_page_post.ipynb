{
 "cells": [
  {
   "cell_type": "code",
   "execution_count": 140,
   "metadata": {},
   "outputs": [],
   "source": [
    "import requests\n",
    "import os\n",
    "from dotenv import load_dotenv\n",
    "import pymongo\n",
    "import time\n",
    "from urllib.parse import urlparse\n",
    "import re\n"
   ]
  },
  {
   "cell_type": "code",
   "execution_count": 141,
   "metadata": {},
   "outputs": [],
   "source": [
    "def get_current_timestamp_milliseconds():\n",
    "  \"\"\"\n",
    "  Returns the current timestamp in milliseconds since the epoch.\n",
    "  \"\"\"\n",
    "  return int(time.time() * 1000)"
   ]
  },
  {
   "cell_type": "code",
   "execution_count": 142,
   "metadata": {},
   "outputs": [],
   "source": [
    "load_dotenv() \n",
    "LI_URI = os.environ['LI_URI']\n",
    "LI_REST_URI = os.environ['LI_REST_URI']\n",
    "LI_VERSION = os.environ['LI_VERSION']\n",
    "LI_ACCESS_TOKEN = os.environ['LI_ACCESS_TOKEN']"
   ]
  },
  {
   "cell_type": "code",
   "execution_count": 143,
   "metadata": {},
   "outputs": [],
   "source": [
    "li_headers = {\n",
    "    'Authorization': LI_ACCESS_TOKEN,\n",
    "    'LinkedIn-Version': LI_VERSION,\n",
    "    'Content-Type': 'application/json'\n",
    "}"
   ]
  },
  {
   "cell_type": "code",
   "execution_count": 144,
   "metadata": {},
   "outputs": [],
   "source": [
    "owner_id = \"urn:li:organization:\" + os.environ['MY_PAGE_ID']    #my page"
   ]
  },
  {
   "cell_type": "code",
   "execution_count": null,
   "metadata": {},
   "outputs": [],
   "source": [
    "db_client = pymongo.MongoClient(os.environ['REMOTE_MONGO_DB'])\n",
    "db = db_client['db_infographic']\n",
    "tb_page_post = db['tb_page_posts']"
   ]
  },
  {
   "cell_type": "code",
   "execution_count": 146,
   "metadata": {},
   "outputs": [],
   "source": [
    "def post_2_page(payload):\n",
    "    #print(url)\n",
    "    url = LI_REST_URI + 'posts'\n",
    "    try:\n",
    "        detail = requests.post(url, json=payload, headers=li_headers)\n",
    "        return detail   #LI does not return response detail\n",
    "    except Exception as e:\n",
    "        print(e)\n",
    "        return {'error': e}"
   ]
  },
  {
   "cell_type": "code",
   "execution_count": 147,
   "metadata": {},
   "outputs": [],
   "source": [
    "#get 1 latest post and repost to LI\n",
    "def get_1_latest_pots():\n",
    "    latest_post = tb_page_post.find_one({'shared': 0}, sort=[('lastModifiedAt', -1)])\n",
    "    return latest_post\n",
    "#test\n",
    "#end"
   ]
  },
  {
   "cell_type": "code",
   "execution_count": null,
   "metadata": {},
   "outputs": [],
   "source": [
    "#get 1 random post to reshare if there were less than 5 posts in last 24 hours\n",
    "def get_1_latest_post():\n",
    "    timenow = get_current_timestamp_milliseconds()  #milliseconds\n",
    "    last24hours = timenow - 24 * 60 * 60 * 1000\n",
    "    todayPosts = tb_page_post.count_documents({'shared': 1, '$and': [ {'shared_time': {'$gt': last24hours }}, {'shared_time': {'$lt': timenow }} ] })\n",
    "    # print(last24hours)\n",
    "    print(todayPosts)\n",
    "    if todayPosts < 5:\n",
    "        #2. if today posted < 5 posts:\n",
    "        #2.1 get 1 new post RANDOMLY, sorted by lastModifiedAt\n",
    "        random_document = next(tb_page_post.aggregate([\n",
    "            {\"$match\": {'shared': 0}},\n",
    "            {\"$sort\": {\"lastModifiedAt\": -1}},\n",
    "            #{\"$sort\": [(\"lastModifiedAt\", -1)]},\n",
    "            {\"$sample\": {\"size\": 1}}\n",
    "        ]))\n",
    "        return random_document\n",
    "    #\n",
    "    return None"
   ]
  },
  {
   "cell_type": "code",
   "execution_count": 149,
   "metadata": {},
   "outputs": [
    {
     "name": "stdout",
     "output_type": "stream",
     "text": [
      "7\n"
     ]
    }
   ],
   "source": [
    "#testing\n",
    "#the_post = tb_page_post.find_one({'id':'urn:li:share:7317871023838699520'})\n",
    "the_post = get_1_latest_post()"
   ]
  },
  {
   "cell_type": "code",
   "execution_count": 150,
   "metadata": {},
   "outputs": [],
   "source": [
    "#log the time when the post is shared\n",
    "def update_shared_info(post_id, post_desc):\n",
    "    tb_page_post.update_one({'id': post_id}, {'$set': {'shared': 1, 'shared_time': get_current_timestamp_milliseconds()}})\n",
    "    print('Finished reshare to the page with description: ' + post_desc + ' ...')"
   ]
  },
  {
   "cell_type": "code",
   "execution_count": 151,
   "metadata": {},
   "outputs": [],
   "source": [
    "#repost exactly, do not download (maximum 5 repost per day)\n",
    "def auto_repost(random_document):\n",
    "    #2 post it to page\n",
    "    if random_document != None:\n",
    "        payload = {\n",
    "            \"author\": owner_id,    #post to my page\n",
    "            \"commentary\": '',   #the_post['description'], #duplicated content\n",
    "            \"visibility\": \"PUBLIC\",\n",
    "            \"distribution\": {\n",
    "                \"feedDistribution\": \"MAIN_FEED\"\n",
    "            },\n",
    "            \"lifecycleState\": \"PUBLISHED\",\n",
    "            \"reshareContext\": {\n",
    "                \"parent\": random_document['id']\n",
    "            }\n",
    "        }\n",
    "        #print(payload)\n",
    "        result = post_2_page(payload)\n",
    "        # print(result)\n",
    "        if 'error' not in result:\n",
    "            #2.3 Update to db: shared=1, shared_time=now\n",
    "            update_shared_info(random_document['id'], random_document['description'][:30])\n",
    "        else:\n",
    "            print('error when sharing')\n",
    "            print(result)\n",
    "    else:\n",
    "        print('No post to share today')"
   ]
  },
  {
   "cell_type": "code",
   "execution_count": 152,
   "metadata": {},
   "outputs": [],
   "source": [
    "#download image into the folder\n",
    "def download_img(image_url, img_name):\n",
    "    folder_name = 'img' #in same place\n",
    "    try:\n",
    "        # Create the save folder if it doesn't exist\n",
    "        os.makedirs(folder_name, exist_ok=True)\n",
    "        # Get the filename from the URL\n",
    "        file_path = os.path.join(folder_name, img_name + \".jpg\")\n",
    "        print(file_path)\n",
    "        # Download the image\n",
    "        response = requests.get(image_url, stream=True)\n",
    "        response.raise_for_status()  # Raise an exception for bad status codes\n",
    "\n",
    "        with open(file_path, 'wb') as file:\n",
    "            for chunk in response.iter_content(chunk_size=8192):\n",
    "                file.write(chunk)\n",
    "\n",
    "        print(f\"Image downloaded successfully and saved to: {file_path}\")\n",
    "        return file_path\n",
    "    except requests.exceptions.RequestException as e:\n",
    "        print(f\"Error downloading image from {image_url}: {e}\")\n",
    "    except OSError as e:\n",
    "        print(f\"Error creating or writing to file: {e}\")\n",
    "    return None #no file downloaded"
   ]
  },
  {
   "cell_type": "code",
   "execution_count": 153,
   "metadata": {},
   "outputs": [],
   "source": [
    "#get upload link from LI\n",
    "def get_upload_link():\n",
    "    url = LI_URI + 'v2/assets?action=registerUpload'\n",
    "    payload = {\n",
    "        \"registerUploadRequest\": {\n",
    "            \"recipes\": [\n",
    "                \"urn:li:digitalmediaRecipe:feedshare-image\"\n",
    "            ],\n",
    "            \"owner\": owner_id,\n",
    "            \"serviceRelationships\": [\n",
    "                {\n",
    "                    \"relationshipType\": \"OWNER\",\n",
    "                    \"identifier\": \"urn:li:userGeneratedContent\"\n",
    "                }\n",
    "            ]\n",
    "        }\n",
    "    }\n",
    "    try:\n",
    "        detail = requests.post(url, json=payload, headers=li_headers)\n",
    "        return detail.json()\n",
    "    except Exception as e:\n",
    "        print(e)\n",
    "        return {'error': e}"
   ]
  },
  {
   "cell_type": "code",
   "execution_count": null,
   "metadata": {},
   "outputs": [],
   "source": [
    "#reformat the description because it contains credit plus hashtag\n",
    "def reformat_description():\n",
    "    if 'description' not in the_post:\n",
    "        return ''\n",
    "    description = the_post['description'].replace('{hashtag|\\\\', '')\n",
    "    description = description.replace('#|', '#')\n",
    "    description = description.replace('}', '')\n",
    "    description = description.replace('\\\\_', '_')\n",
    "    #author\n",
    "    description = description.replace(':person\\\\_', ':person_')\n",
    "    description = description.replace(':person\\_', ':person_')\n",
    "    description = description.replace('urn:li:person:', '')\n",
    "    description = description.replace('urn:li:organization:', '')\n",
    "    return description"
   ]
  },
  {
   "cell_type": "code",
   "execution_count": 155,
   "metadata": {},
   "outputs": [],
   "source": [
    "#desc = reformat_description()\n",
    "#desc\n"
   ]
  },
  {
   "cell_type": "code",
   "execution_count": 156,
   "metadata": {},
   "outputs": [],
   "source": [
    "#share new post with new uploaded image\n",
    "def share_my_img(asset):\n",
    "    #print('asset: ' + asset)\n",
    "    payload = {\n",
    "        \"author\": owner_id,\n",
    "        \"lifecycleState\": \"PUBLISHED\",\n",
    "        \"specificContent\": {\n",
    "            \"com.linkedin.ugc.ShareContent\": {\n",
    "                \"shareCommentary\": {\n",
    "                    \"text\": reformat_description() + '\\n\\nCredits to https://www.linkedin.com/company/'+the_post['author']\n",
    "                },\n",
    "                \"shareMediaCategory\": \"IMAGE\",\n",
    "                \"media\": [\n",
    "                    {\n",
    "                        \"status\": \"READY\",\n",
    "                        \"media\": asset\n",
    "                    }\n",
    "                ]\n",
    "            }\n",
    "        },\n",
    "        \"visibility\": {\n",
    "            \"com.linkedin.ugc.MemberNetworkVisibility\": \"PUBLIC\"\n",
    "        }\n",
    "    }\n",
    "    try:\n",
    "        response = requests.post(LI_URI + 'v2/ugcPosts', json=payload, headers=li_headers)\n",
    "\n",
    "        if response.status_code >= 200 and response.status_code < 300:\n",
    "            print(\"The image was shared successfully!\")\n",
    "            return 'ok'\n",
    "        else:\n",
    "            print(\"The image was shared failed.\")\n",
    "            return 'failed'\n",
    "    except Exception as e:\n",
    "        print(e)   \n",
    "        return 'failed'"
   ]
  },
  {
   "cell_type": "code",
   "execution_count": 157,
   "metadata": {},
   "outputs": [],
   "source": [
    "#upload image to LI\n",
    "def upload_img(file_path, upload_detail):\n",
    "    uploadUrl = upload_detail['uploadMechanism']['com.linkedin.digitalmedia.uploading.MediaUploadHttpRequest']['uploadUrl']\n",
    "    #upload the image https://learn.microsoft.com/en-us/linkedin/consumer/integrations/self-serve/share-on-linkedin#upload-image-or-video-binary-file\n",
    "    try:\n",
    "        with open(file_path, 'rb') as file:\n",
    "            files = {'file': (file.name, file, 'image/jpg')}\n",
    "            headers = {\n",
    "                'Authorization': LI_ACCESS_TOKEN,\n",
    "                'LinkedIn-Version': LI_VERSION\n",
    "            }\n",
    "\n",
    "            response = requests.post(uploadUrl, files=files, headers=headers)\n",
    "            # print(\"Status Code:\", response.status_code)\n",
    "            # print(\"Headers:\", response.headers)\n",
    "            # print(\"Response Body:\", response.text)\n",
    "\n",
    "            if response.status_code >= 200 and response.status_code < 300:\n",
    "                print(\"File uploaded successfully!\")\n",
    "                time.sleep(5)   #delay 5 seconds for image going through LI system\n",
    "                result = share_my_img(upload_detail['asset'])\n",
    "                return result\n",
    "            else:\n",
    "                print(\"File upload failed.\")\n",
    "                return 'failed'\n",
    "\n",
    "    except FileNotFoundError:\n",
    "        print(f\"Error: File not found at path: {file_path}\")\n",
    "        return 'failed' \n",
    "    except requests.exceptions.RequestException as e:\n",
    "        print(f\"Error during upload: {e}\")\n",
    "        return 'failed'\n",
    "    "
   ]
  },
  {
   "cell_type": "code",
   "execution_count": 158,
   "metadata": {},
   "outputs": [],
   "source": [
    "#find the image link and reshare in LI page\n",
    "def reshare_img(li_img_id):\n",
    "    #find img details\n",
    "    url = LI_REST_URI + 'images/' + li_img_id\n",
    "    headers = {\n",
    "        'Authorization': LI_ACCESS_TOKEN,\n",
    "        'LinkedIn-Version': LI_VERSION\n",
    "    }\n",
    "    try:\n",
    "        detail = requests.get(url, headers=headers)\n",
    "        #print(detail.json())\n",
    "        if 'downloadUrl' in detail.json():\n",
    "            file_path = download_img(detail.json()['downloadUrl'], li_img_id.replace('urn:li:image:', ''))\n",
    "            if file_path is not None:\n",
    "                #download successfully, now upload to LI and share\n",
    "                upload_link = get_upload_link()\n",
    "                if 'error' not in upload_link and 'value' in upload_link:\n",
    "                    result = upload_img(file_path, upload_link['value'])\n",
    "                    return result\n",
    "                else:\n",
    "                    return 'failed'\n",
    "    except Exception as e:\n",
    "        print(e)\n",
    "        return 'failed'"
   ]
  },
  {
   "cell_type": "code",
   "execution_count": 159,
   "metadata": {},
   "outputs": [],
   "source": [
    "#download image and re-share into the page\n",
    "def download_n_reshare_post():\n",
    "    if the_post is None:\n",
    "        return  #reach limit for last 24 hours, do not share anything\n",
    "    #check type of the post\n",
    "    if 'urn:li:image:' in the_post['media']:\n",
    "        #download the image\n",
    "        result = reshare_img(the_post['media'])\n",
    "        if result == 'ok':\n",
    "            update_shared_info(the_post['id'], the_post['description'][:30])\n",
    "        else:\n",
    "            print('Error when download_n_reshare_post')\n",
    "    else:\n",
    "        #reshare the video, do not download\n",
    "        auto_repost(the_post)"
   ]
  },
  {
   "cell_type": "code",
   "execution_count": 160,
   "metadata": {},
   "outputs": [
    {
     "name": "stdout",
     "output_type": "stream",
     "text": [
      "img/D5622AQGQFfvf-CPFcA.jpg\n",
      "Image downloaded successfully and saved to: img/D5622AQGQFfvf-CPFcA.jpg\n",
      "File uploaded successfully!\n",
      "The image was shared successfully!\n",
      "Finished reshare to the page with description: NEGOTIATE LIKE A CEO\n",
      "\n",
      "Credits  ...\n"
     ]
    }
   ],
   "source": [
    "download_n_reshare_post()"
   ]
  },
  {
   "cell_type": "code",
   "execution_count": null,
   "metadata": {},
   "outputs": [],
   "source": [
    "db_client.close()"
   ]
  }
 ],
 "metadata": {
  "kernelspec": {
   "display_name": "3.9.10",
   "language": "python",
   "name": "python3"
  },
  "language_info": {
   "codemirror_mode": {
    "name": "ipython",
    "version": 3
   },
   "file_extension": ".py",
   "mimetype": "text/x-python",
   "name": "python",
   "nbconvert_exporter": "python",
   "pygments_lexer": "ipython3",
   "version": "3.9.10"
  }
 },
 "nbformat": 4,
 "nbformat_minor": 2
}
