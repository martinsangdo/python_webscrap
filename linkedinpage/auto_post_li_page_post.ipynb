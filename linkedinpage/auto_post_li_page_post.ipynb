{
 "cells": [
  {
   "cell_type": "code",
   "execution_count": 1,
   "metadata": {},
   "outputs": [],
   "source": [
    "import requests\n",
    "import os\n",
    "from dotenv import load_dotenv\n",
    "import pymongo\n",
    "import time"
   ]
  },
  {
   "cell_type": "code",
   "execution_count": 2,
   "metadata": {},
   "outputs": [],
   "source": [
    "def get_current_timestamp_milliseconds():\n",
    "  \"\"\"\n",
    "  Returns the current timestamp in milliseconds since the epoch.\n",
    "  \"\"\"\n",
    "  return int(time.time() * 1000)"
   ]
  },
  {
   "cell_type": "code",
   "execution_count": 3,
   "metadata": {},
   "outputs": [],
   "source": [
    "load_dotenv() \n",
    "LI_URI = os.environ['LI_URI']\n",
    "LI_VERSION = os.environ['LI_VERSION']\n",
    "LI_ACCESS_TOKEN = os.environ['LI_ACCESS_TOKEN']"
   ]
  },
  {
   "cell_type": "code",
   "execution_count": 4,
   "metadata": {},
   "outputs": [],
   "source": [
    "db_client = pymongo.MongoClient('mongodb://localhost:27017')\n",
    "db = db_client['db_li_page_posts']\n",
    "tb_page_post = db['tb_page_posts']"
   ]
  },
  {
   "cell_type": "code",
   "execution_count": 5,
   "metadata": {},
   "outputs": [],
   "source": [
    "def post_2_page(payload):\n",
    "    #print(url)\n",
    "    url = LI_URI + 'posts'\n",
    "    headers = {\n",
    "        'Authorization': LI_ACCESS_TOKEN,\n",
    "        'LinkedIn-Version': LI_VERSION,\n",
    "        'Content-Type': 'application/json'\n",
    "    }\n",
    "    try:\n",
    "        detail = requests.post(url, json=payload, headers=headers)\n",
    "        return detail   #LI does not return response detail\n",
    "    except Exception as e:\n",
    "        print(e)\n",
    "        return {'error': e}"
   ]
  },
  {
   "cell_type": "code",
   "execution_count": null,
   "metadata": {},
   "outputs": [
    {
     "ename": "NameError",
     "evalue": "name 'result' is not defined",
     "output_type": "error",
     "traceback": [
      "\u001b[0;31m---------------------------------------------------------------------------\u001b[0m",
      "\u001b[0;31mNameError\u001b[0m                                 Traceback (most recent call last)",
      "Cell \u001b[0;32mIn[6], line 23\u001b[0m\n\u001b[1;32m      9\u001b[0m payload \u001b[38;5;241m=\u001b[39m {\n\u001b[1;32m     10\u001b[0m     \u001b[38;5;124m\"\u001b[39m\u001b[38;5;124mauthor\u001b[39m\u001b[38;5;124m\"\u001b[39m: \u001b[38;5;124m\"\u001b[39m\u001b[38;5;124murn:li:organization:\u001b[39m\u001b[38;5;124m\"\u001b[39m \u001b[38;5;241m+\u001b[39m os\u001b[38;5;241m.\u001b[39menviron[\u001b[38;5;124m'\u001b[39m\u001b[38;5;124mMY_PAGE_ID\u001b[39m\u001b[38;5;124m'\u001b[39m],    \u001b[38;5;66;03m#post to my page\u001b[39;00m\n\u001b[1;32m     11\u001b[0m     \u001b[38;5;124m\"\u001b[39m\u001b[38;5;124mcommentary\u001b[39m\u001b[38;5;124m\"\u001b[39m: \u001b[38;5;124m'\u001b[39m\u001b[38;5;124m'\u001b[39m,   \u001b[38;5;66;03m#the_post['description'], #duplicated content\u001b[39;00m\n\u001b[0;32m   (...)\u001b[0m\n\u001b[1;32m     19\u001b[0m     }\n\u001b[1;32m     20\u001b[0m }\n\u001b[1;32m     21\u001b[0m \u001b[38;5;66;03m#result = post_2_page(payload)\u001b[39;00m\n\u001b[1;32m     22\u001b[0m \u001b[38;5;66;03m# print(result)\u001b[39;00m\n\u001b[0;32m---> 23\u001b[0m \u001b[38;5;28;01mif\u001b[39;00m \u001b[38;5;124m'\u001b[39m\u001b[38;5;124merror\u001b[39m\u001b[38;5;124m'\u001b[39m \u001b[38;5;129;01mnot\u001b[39;00m \u001b[38;5;129;01min\u001b[39;00m \u001b[43mresult\u001b[49m:\n\u001b[1;32m     24\u001b[0m     tb_page_post\u001b[38;5;241m.\u001b[39mupdate_one({\u001b[38;5;124m'\u001b[39m\u001b[38;5;124mid\u001b[39m\u001b[38;5;124m'\u001b[39m: the_post[\u001b[38;5;124m'\u001b[39m\u001b[38;5;124mid\u001b[39m\u001b[38;5;124m'\u001b[39m]}, {\u001b[38;5;124m'\u001b[39m\u001b[38;5;124m$set\u001b[39m\u001b[38;5;124m'\u001b[39m: {\u001b[38;5;124m'\u001b[39m\u001b[38;5;124mshared\u001b[39m\u001b[38;5;124m'\u001b[39m: \u001b[38;5;241m1\u001b[39m}})\n\u001b[1;32m     25\u001b[0m     \u001b[38;5;28mprint\u001b[39m(\u001b[38;5;124m'\u001b[39m\u001b[38;5;124mFinished post to the page with description: \u001b[39m\u001b[38;5;124m'\u001b[39m \u001b[38;5;241m+\u001b[39m the_post[\u001b[38;5;124m'\u001b[39m\u001b[38;5;124mdescription\u001b[39m\u001b[38;5;124m'\u001b[39m][:\u001b[38;5;241m20\u001b[39m] \u001b[38;5;241m+\u001b[39m \u001b[38;5;124m'\u001b[39m\u001b[38;5;124m ...\u001b[39m\u001b[38;5;124m'\u001b[39m)\n",
      "\u001b[0;31mNameError\u001b[0m: name 'result' is not defined"
     ]
    }
   ],
   "source": [
    "#get 1 latest post and repost to LI\n",
    "def get_1_latest_pots():\n",
    "    latest_post = tb_page_post.find_one({'shared': 0}, sort=[('lastModifiedAt', -1)])\n",
    "    return latest_post\n",
    "#test\n",
    "#end"
   ]
  },
  {
   "cell_type": "code",
   "execution_count": 18,
   "metadata": {},
   "outputs": [
    {
     "name": "stdout",
     "output_type": "stream",
     "text": [
      "Finished post to the page with description: Lean on These 6 Principles\n",
      "htt ...\n"
     ]
    }
   ],
   "source": [
    "#todo auto get RANDOMLY 1 new post from all pages, (maximum 5 repost per day)\n",
    "def auto_repost():\n",
    "    #1. check how many posts today (<24 hours)\n",
    "    timenow = get_current_timestamp_milliseconds()  #milliseconds\n",
    "    last24hours = timenow - 24 * 60 * 60 * 1000\n",
    "    todayPosts = tb_page_post.count_documents({'shared': 1, 'shared_time': {'$gt': last24hours }, 'shared_time': {'$lt': timenow }})\n",
    "    #print(last24hours)\n",
    "    if todayPosts < 5:\n",
    "        #2. if today posted < 5 posts:\n",
    "        #2.1 get 1 new post RANDOMLY, sorted by lastModifiedAt\n",
    "        random_document = next(tb_page_post.aggregate([\n",
    "            {\"$match\": {'shared': 0}},\n",
    "            {\"$sort\": {\"lastModifiedAt\": -1}},\n",
    "            #{\"$sort\": [(\"lastModifiedAt\", -1)]},\n",
    "            {\"$sample\": {\"size\": 1}}\n",
    "        ]))\n",
    "        #2.2 post it to page\n",
    "        if random_document != None:\n",
    "            payload = {\n",
    "                \"author\": \"urn:li:organization:\" + os.environ['MY_PAGE_ID'],    #post to my page\n",
    "                \"commentary\": '',   #the_post['description'], #duplicated content\n",
    "                \"visibility\": \"PUBLIC\",\n",
    "                \"distribution\": {\n",
    "                    \"feedDistribution\": \"MAIN_FEED\"\n",
    "                },\n",
    "                \"lifecycleState\": \"PUBLISHED\",\n",
    "                \"reshareContext\": {\n",
    "                    \"parent\": random_document['id']\n",
    "                }\n",
    "            }\n",
    "            #print(payload)\n",
    "            result = post_2_page(payload)\n",
    "            # print(result)\n",
    "            if 'error' not in result:\n",
    "                #2.3 Update to db: shared=1, shared_time=\n",
    "                tb_page_post.update_one({'id': random_document['id']}, {'$set': {'shared': 1, 'shared_time': get_current_timestamp_milliseconds()}})\n",
    "                print('Finished post to the page with description: ' + random_document['description'][:30] + ' ...')\n",
    "#test\n",
    "auto_repost()"
   ]
  },
  {
   "cell_type": "code",
   "execution_count": null,
   "metadata": {},
   "outputs": [],
   "source": [
    "db_client.close()"
   ]
  }
 ],
 "metadata": {
  "kernelspec": {
   "display_name": "3.9.10",
   "language": "python",
   "name": "python3"
  },
  "language_info": {
   "codemirror_mode": {
    "name": "ipython",
    "version": 3
   },
   "file_extension": ".py",
   "mimetype": "text/x-python",
   "name": "python",
   "nbconvert_exporter": "python",
   "pygments_lexer": "ipython3",
   "version": "3.9.10"
  }
 },
 "nbformat": 4,
 "nbformat_minor": 2
}
