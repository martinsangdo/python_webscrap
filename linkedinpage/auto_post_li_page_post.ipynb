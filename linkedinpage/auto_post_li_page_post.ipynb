{
 "cells": [
  {
   "cell_type": "code",
   "execution_count": 1,
   "metadata": {},
   "outputs": [],
   "source": [
    "import requests\n",
    "import os\n",
    "from dotenv import load_dotenv\n",
    "import pymongo\n",
    "import time"
   ]
  },
  {
   "cell_type": "code",
   "execution_count": 2,
   "metadata": {},
   "outputs": [],
   "source": [
    "def get_current_timestamp_milliseconds():\n",
    "  \"\"\"\n",
    "  Returns the current timestamp in milliseconds since the epoch.\n",
    "  \"\"\"\n",
    "  return int(time.time() * 1000)"
   ]
  },
  {
   "cell_type": "code",
   "execution_count": 3,
   "metadata": {},
   "outputs": [],
   "source": [
    "load_dotenv() \n",
    "LI_URI = os.environ['LI_URI']\n",
    "LI_VERSION = os.environ['LI_VERSION']\n",
    "LI_ACCESS_TOKEN = os.environ['LI_ACCESS_TOKEN']"
   ]
  },
  {
   "cell_type": "code",
   "execution_count": 4,
   "metadata": {},
   "outputs": [],
   "source": [
    "db_client = pymongo.MongoClient('mongodb://localhost:27017')\n",
    "db = db_client['db_li_page_posts']\n",
    "tb_page_post = db['tb_page_posts']"
   ]
  },
  {
   "cell_type": "code",
   "execution_count": 5,
   "metadata": {},
   "outputs": [],
   "source": [
    "def post_2_page(payload):\n",
    "    #print(url)\n",
    "    url = LI_URI + 'posts'\n",
    "    headers = {\n",
    "        'Authorization': LI_ACCESS_TOKEN,\n",
    "        'LinkedIn-Version': LI_VERSION,\n",
    "        'Content-Type': 'application/json'\n",
    "    }\n",
    "    try:\n",
    "        detail = requests.post(url, json=payload, headers=headers)\n",
    "        return detail   #LI does not return response detail\n",
    "    except Exception as e:\n",
    "        print(e)\n",
    "        return {'error': e}"
   ]
  },
  {
   "cell_type": "code",
   "execution_count": 6,
   "metadata": {},
   "outputs": [],
   "source": [
    "#get 1 latest post and repost to LI\n",
    "def get_1_latest_pots():\n",
    "    latest_post = tb_page_post.find_one({'shared': 0}, sort=[('lastModifiedAt', -1)])\n",
    "    return latest_post\n",
    "#test\n",
    "#end"
   ]
  },
  {
   "cell_type": "code",
   "execution_count": 14,
   "metadata": {},
   "outputs": [],
   "source": [
    "#get 1 random post to reshare if there were less than 5 posts in last 24 hours\n",
    "def get_1_latest_post():\n",
    "    timenow = get_current_timestamp_milliseconds()  #milliseconds\n",
    "    last24hours = timenow - 24 * 60 * 60 * 1000\n",
    "    todayPosts = tb_page_post.count_documents({'shared': 1, '$and': [ {'shared_time': {'$gt': last24hours }}, {'shared_time': {'$lt': timenow }} ] })\n",
    "    # print(last24hours)\n",
    "    print(todayPosts)\n",
    "    if todayPosts < 10:\n",
    "        #2. if today posted < 5 posts:\n",
    "        #2.1 get 1 new post RANDOMLY, sorted by lastModifiedAt\n",
    "        random_document = next(tb_page_post.aggregate([\n",
    "            {\"$match\": {'shared': 0}},\n",
    "            {\"$sort\": {\"lastModifiedAt\": -1}},\n",
    "            #{\"$sort\": [(\"lastModifiedAt\", -1)]},\n",
    "            {\"$sample\": {\"size\": 1}}\n",
    "        ]))\n",
    "        return random_document\n",
    "    #\n",
    "    return None"
   ]
  },
  {
   "cell_type": "code",
   "execution_count": 21,
   "metadata": {},
   "outputs": [
    {
     "name": "stdout",
     "output_type": "stream",
     "text": [
      "5\n"
     ]
    },
    {
     "data": {
      "text/plain": [
       "{'_id': ObjectId('67f8da55c729960221dc56fd'),\n",
       " 'id': 'urn:li:share:7315681063110856706',\n",
       " 'lastModifiedAt': 1744194297975,\n",
       " 'author': '103249511',\n",
       " 'description': 'Master Excel with ChatGPT!\\n\\n\\nCredit to: @[Adam Biddlecombe](urn:li:person:9PeQcNGyIG)\\n\\n\\nOriginal post below\\n\\n\\n⬇️⬇️⬇️\\n\\n\"Master Excel with ChatGPT!\\n\\nExcel and Google Sheets are powerful tools for data analysis and management, but mastering them can be challenging. \\n\\nEnter ChatGPT, your AI assistant to help you become a spreadsheet pro!\\n\\nHere’s how ChatGPT can help you with your Excel and Google Sheets skills:\\n\\nFormula Creation:\\n- Generate complex formulas\\n- Explain formula logic\\n- Troubleshoot formula errors\\n\\nData Analysis:\\n- Suggest analysis methods\\n- Interpret data trends\\n- Create pivot tables\\n\\nVisualisation Tips:\\n- Choose the right chart type\\n- Format charts for clarity\\n- Create dynamic dashboards\\n\\nAutomation & Macros:\\n- Write VBA code for Excel\\n- Create Google Apps Scripts\\n- Explain automation concepts\\n\\nTroubleshooting:\\n- Identify common errors\\n- Suggest solutions\\n- Explain error messages\\n\\nLearning Resources:\\n- Recommend tutorials\\n- Find online courses\\n- Suggest helpful YouTube channels\\n\\nProductivity Hacks:\\n- Discover keyboard shortcuts\\n- Learn time-saving techniques\\n- Get efficiency tips\\n\\nData Cleaning:\\n- Remove duplicates\\n- Standardize formats\\n- Handle missing data\\n\\nBest Practices:\\n- Be specific in your prompts\\n- Verify ChatGPT’s suggestions\\n- Stay updated on new features\\n- Combine ChatGPT with official documentation\\n\\nReady to take your Excel skills to the next level?\\n\\nLeverage ChatGPT and transform your data management game!\\n\\nWhich feature will you try first? Comment below! 👇\"\\n\\n\\\\_\\\\_\\\\_\\\\_\\\\_\\\\_\\\\_\\\\_\\\\_\\\\_\\\\_\\\\_\\n\\n\\nDiscover the best @[Office Productivity Hacks](urn:li:organization:103249511) right here.\\n\\nFollow for the tips and tricks you need.',\n",
       " 'media': 'urn:li:image:D5622AQF9_VQXCminsg',\n",
       " 'shared': 0}"
      ]
     },
     "execution_count": 21,
     "metadata": {},
     "output_type": "execute_result"
    }
   ],
   "source": [
    "the_post = get_1_latest_post()\n",
    "the_post"
   ]
  },
  {
   "cell_type": "code",
   "execution_count": 22,
   "metadata": {},
   "outputs": [],
   "source": [
    "#log the time when the post is shared\n",
    "def update_shared_info(post_id, post_desc):\n",
    "    tb_page_post.update_one({'id': post_id}, {'$set': {'shared': 1, 'shared_time': get_current_timestamp_milliseconds()}})\n",
    "    print('Finished reshare to the page with description: ' + post_desc + ' ...')"
   ]
  },
  {
   "cell_type": "code",
   "execution_count": 23,
   "metadata": {},
   "outputs": [],
   "source": [
    "#repost exactly, do not download (maximum 5 repost per day)\n",
    "def auto_repost(random_document):\n",
    "    #2 post it to page\n",
    "    if random_document != None:\n",
    "        payload = {\n",
    "            \"author\": \"urn:li:organization:\" + os.environ['MY_PAGE_ID'],    #post to my page\n",
    "            \"commentary\": '',   #the_post['description'], #duplicated content\n",
    "            \"visibility\": \"PUBLIC\",\n",
    "            \"distribution\": {\n",
    "                \"feedDistribution\": \"MAIN_FEED\"\n",
    "            },\n",
    "            \"lifecycleState\": \"PUBLISHED\",\n",
    "            \"reshareContext\": {\n",
    "                \"parent\": random_document['id']\n",
    "            }\n",
    "        }\n",
    "        #print(payload)\n",
    "        result = post_2_page(payload)\n",
    "        # print(result)\n",
    "        if 'error' not in result:\n",
    "            #2.3 Update to db: shared=1, shared_time=now\n",
    "            update_shared_info(random_document['id'], random_document['description'][:30])"
   ]
  },
  {
   "cell_type": "code",
   "execution_count": null,
   "metadata": {},
   "outputs": [],
   "source": [
    "#find the image link and reshare in LI page\n",
    "def reshare_img(li_img_id):\n",
    "    #find img details\n",
    "    url = LI_URI + 'images/' + li_img_id\n",
    "    print(url)\n",
    "    headers = {\n",
    "        'Authorization': LI_ACCESS_TOKEN,\n",
    "        'LinkedIn-Version': LI_VERSION\n",
    "    }\n",
    "    try:\n",
    "        detail = requests.get(url, headers=headers)\n",
    "        #print(detail.json())\n",
    "        #if 'downloadUrl' in detail:\n",
    "\n",
    "        \n",
    "    except Exception as e:\n",
    "        print(e)"
   ]
  },
  {
   "cell_type": "code",
   "execution_count": 25,
   "metadata": {},
   "outputs": [],
   "source": [
    "#download image and re-share into the page\n",
    "def download_n_reshare_post():\n",
    "    if the_post is None:\n",
    "        return  #reach limit for last 24 hours, do not share anything\n",
    "    #check type of the post\n",
    "    if 'urn:li:image:' in the_post['media']:\n",
    "        #download the image\n",
    "        img_link = reshare_img(the_post['media'])\n",
    "\n",
    "    else:\n",
    "        #reshare the video, do not download\n",
    "        auto_repost(the_post)"
   ]
  },
  {
   "cell_type": "code",
   "execution_count": 32,
   "metadata": {},
   "outputs": [
    {
     "name": "stdout",
     "output_type": "stream",
     "text": [
      "https://api.linkedin.com/rest/images/urn:li:image:D5622AQF9_VQXCminsg\n",
      "{'downloadUrl': 'https://media.licdn.com/dms/image/v2/D5622AQF9_VQXCminsg/feedshare-shrink_1280/B56ZYaFKUvHQAo-/0/1744194283763?e=1747872000&v=beta&t=i3jcvNE_T2u-vVACWBsvEAAeApeLharSfmjSYqMcmGw', 'owner': 'urn:li:organization:103249511', 'id': 'urn:li:image:D5622AQF9_VQXCminsg', 'downloadUrlExpiresAt': 1747872000000, 'status': 'AVAILABLE'}\n"
     ]
    }
   ],
   "source": [
    "download_n_reshare_post()"
   ]
  },
  {
   "cell_type": "code",
   "execution_count": 8,
   "metadata": {},
   "outputs": [],
   "source": [
    "#db_client.close()"
   ]
  }
 ],
 "metadata": {
  "kernelspec": {
   "display_name": "3.9.10",
   "language": "python",
   "name": "python3"
  },
  "language_info": {
   "codemirror_mode": {
    "name": "ipython",
    "version": 3
   },
   "file_extension": ".py",
   "mimetype": "text/x-python",
   "name": "python",
   "nbconvert_exporter": "python",
   "pygments_lexer": "ipython3",
   "version": "3.9.10"
  }
 },
 "nbformat": 4,
 "nbformat_minor": 2
}
