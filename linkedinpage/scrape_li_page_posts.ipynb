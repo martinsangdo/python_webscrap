{
 "cells": [
  {
   "cell_type": "code",
   "execution_count": 1,
   "metadata": {},
   "outputs": [],
   "source": [
    "import requests\n",
    "import os\n",
    "from dotenv import load_dotenv\n",
    "import pymongo\n",
    "import time\n"
   ]
  },
  {
   "cell_type": "code",
   "execution_count": 2,
   "metadata": {},
   "outputs": [],
   "source": [
    "def get_current_timestamp_milliseconds():\n",
    "  \"\"\"\n",
    "  Returns the current timestamp in milliseconds since the epoch.\n",
    "  \"\"\"\n",
    "  return int(time.time() * 1000)"
   ]
  },
  {
   "cell_type": "code",
   "execution_count": null,
   "metadata": {},
   "outputs": [],
   "source": [
    "load_dotenv(override=True) \n",
    "LI_REST_URI = os.environ['LI_REST_URI']\n",
    "LI_VERSION = os.environ['LI_VERSION']\n",
    "LI_ACCESS_TOKEN = os.environ['LI_ACCESS_TOKEN']"
   ]
  },
  {
   "cell_type": "code",
   "execution_count": 4,
   "metadata": {},
   "outputs": [],
   "source": [
    "db_client = pymongo.MongoClient(os.environ['REMOTE_MONGO_DB'])\n",
    "#db_client = pymongo.MongoClient('mongodb://localhost:27017')\n",
    "\n",
    "db = db_client['db_infographic']\n",
    "tb_author = db['tb_author']\n",
    "tb_page_post = db['tb_page_posts']"
   ]
  },
  {
   "cell_type": "code",
   "execution_count": 5,
   "metadata": {},
   "outputs": [],
   "source": [
    "def get_request(url):\n",
    "    #print(url)\n",
    "    url = LI_REST_URI + url\n",
    "    headers = {\n",
    "        'Authorization': LI_ACCESS_TOKEN,\n",
    "        'LinkedIn-Version': LI_VERSION\n",
    "    }\n",
    "    #print(headers)\n",
    "    try:\n",
    "        detail = requests.get(url, headers=headers)\n",
    "        return detail.json()\n",
    "    except Exception as e:\n",
    "        print(e)\n",
    "        return {'error': e}"
   ]
  },
  {
   "cell_type": "code",
   "execution_count": 6,
   "metadata": {},
   "outputs": [],
   "source": [
    "#get list of authors from db\n",
    "def get_all_authors():\n",
    "    authors = tb_author.find({'status': 1})\n",
    "    return authors\n",
    "#test\n",
    "author_db = get_all_authors()"
   ]
  },
  {
   "cell_type": "code",
   "execution_count": 7,
   "metadata": {},
   "outputs": [],
   "source": [
    "author_ids = []\n",
    "for author in author_db:\n",
    "    author_ids.append(author['id'])"
   ]
  },
  {
   "cell_type": "code",
   "execution_count": 8,
   "metadata": {},
   "outputs": [],
   "source": [
    "#author_ids = [103195312]\n"
   ]
  },
  {
   "cell_type": "code",
   "execution_count": 9,
   "metadata": {},
   "outputs": [],
   "source": [
    "#insert or update page posts to db\n",
    "def upsert_page_posts(new_post):\n",
    "    postDB = tb_page_post.find_one({'id': new_post['id']})\n",
    "    if postDB == None:\n",
    "        #insert new post\n",
    "        new_post['shared'] = 0  #never shared to my page before\n",
    "        tb_page_post.insert_one(new_post)\n",
    "        print('+++++++++ inserted: ' + new_post['id'])\n",
    "    else:   #update it if there is new description and this post is not shared\n",
    "        if postDB['description'] != new_post['description'] and postDB['shared'] != 1:\n",
    "            tb_page_post.update_one({'id': new_post['id']}, {'$set': {'description': new_post['description'], 'lastModifiedAt': get_current_timestamp_milliseconds()}})\n",
    "            print('updated: ' + new_post['id'])\n"
   ]
  },
  {
   "cell_type": "code",
   "execution_count": 10,
   "metadata": {},
   "outputs": [
    {
     "name": "stdout",
     "output_type": "stream",
     "text": [
      "+++++++++ inserted: urn:li:share:7319993184057540608\n",
      "+++++++++ inserted: urn:li:share:7319661792035528704\n",
      "+++++++++ inserted: urn:li:ugcPost:7319769958102581249\n",
      "+++++++++ inserted: urn:li:ugcPost:7319638246190145536\n",
      "+++++++++ inserted: urn:li:ugcPost:7318928848195076097\n",
      "+++++++++ inserted: urn:li:ugcPost:7319299403654045696\n",
      "+++++++++ inserted: urn:li:share:7319389949902884864\n",
      "Finished scraping the page Id: 70502230\n",
      "+++++++++ inserted: urn:li:share:7319238242799689728\n",
      "+++++++++ inserted: urn:li:share:7319962844660150272\n",
      "+++++++++ inserted: urn:li:share:7319575364542820352\n",
      "+++++++++ inserted: urn:li:share:7319575696320667650\n",
      "+++++++++ inserted: urn:li:share:7319298965177282560\n",
      "+++++++++ inserted: urn:li:share:7318935954944061440\n",
      "+++++++++ inserted: urn:li:share:7318875978213048320\n",
      "+++++++++ inserted: urn:li:share:7317779088734076928\n",
      "+++++++++ inserted: urn:li:share:7317778838799761408\n",
      "Finished scraping the page Id: 103195312\n",
      "+++++++++ inserted: urn:li:share:7319796981365698560\n",
      "+++++++++ inserted: urn:li:share:7314044053568782336\n",
      "+++++++++ inserted: urn:li:share:7319434580824903680\n",
      "+++++++++ inserted: urn:li:share:7313908163257233409\n",
      "+++++++++ inserted: urn:li:share:7319313793413492736\n",
      "+++++++++ inserted: urn:li:share:7318709803592151044\n",
      "+++++++++ inserted: urn:li:share:7319072199166865408\n",
      "+++++++++ inserted: urn:li:share:7318952630704037888\n",
      "+++++++++ inserted: urn:li:share:7313701966012964864\n",
      "Finished scraping the page Id: 42289740\n",
      "+++++++++ inserted: urn:li:share:7313003140235079680\n",
      "+++++++++ inserted: urn:li:share:7317560584873390083\n",
      "+++++++++ inserted: urn:li:share:7313002531930992640\n",
      "+++++++++ inserted: urn:li:share:7309027656673443841\n",
      "+++++++++ inserted: urn:li:share:7309054307436249088\n",
      "Finished scraping the page Id: 99165232\n",
      "+++++++++ inserted: urn:li:share:7319965673017745408\n",
      "+++++++++ inserted: urn:li:share:7319662470938144768\n",
      "+++++++++ inserted: urn:li:ugcPost:7319605225818857472\n",
      "+++++++++ inserted: urn:li:share:7318576170864648192\n",
      "+++++++++ inserted: urn:li:share:7319301099088146433\n",
      "+++++++++ inserted: urn:li:share:7319243759685181440\n",
      "+++++++++ inserted: urn:li:share:7318939048666873856\n",
      "+++++++++ inserted: urn:li:share:7318876584294109184\n",
      "+++++++++ inserted: urn:li:share:7318518253327118338\n",
      "Finished scraping the page Id: 103249511\n",
      "+++++++++ inserted: urn:li:share:7319036107436843009\n",
      "+++++++++ inserted: urn:li:share:7319012093704241155\n",
      "+++++++++ inserted: urn:li:share:7318955967885250561\n",
      "+++++++++ inserted: urn:li:share:7318694895580278784\n",
      "+++++++++ inserted: urn:li:share:7318652538625417218\n",
      "+++++++++ inserted: urn:li:share:7318368651802214400\n",
      "+++++++++ inserted: urn:li:share:7318325517869318145\n",
      "+++++++++ inserted: urn:li:share:7318292986700685312\n",
      "+++++++++ inserted: urn:li:share:7318263156005396481\n",
      "Finished scraping the page Id: 105901208\n",
      "+++++++++ inserted: urn:li:share:7319809230826352640\n",
      "+++++++++ inserted: urn:li:share:7319803400588574720\n",
      "+++++++++ inserted: urn:li:share:7319786415792209921\n",
      "+++++++++ inserted: urn:li:share:7319784098883940352\n",
      "+++++++++ inserted: urn:li:share:7319775573881303040\n",
      "+++++++++ inserted: urn:li:share:7319733167823667201\n",
      "+++++++++ inserted: urn:li:ugcPost:7319731414202007552\n",
      "+++++++++ inserted: urn:li:share:7319727515088863232\n",
      "+++++++++ inserted: urn:li:share:7319718867482603520\n",
      "+++++++++ inserted: urn:li:share:7319705205078376448\n",
      "Finished scraping the page Id: 25060884\n",
      "+++++++++ inserted: urn:li:share:7319075326364381184\n",
      "+++++++++ inserted: urn:li:ugcPost:7319829167024271361\n",
      "+++++++++ inserted: urn:li:share:7319700583932665856\n",
      "+++++++++ inserted: urn:li:share:7319418858103091200\n",
      "+++++++++ inserted: urn:li:share:7319251498503127040\n",
      "+++++++++ inserted: urn:li:share:7318959109146398720\n",
      "+++++++++ inserted: urn:li:share:7318710591664050179\n",
      "+++++++++ inserted: urn:li:ugcPost:7318491248611282945\n",
      "Finished scraping the page Id: 90400801\n",
      "+++++++++ inserted: urn:li:share:7319790056515219457\n",
      "+++++++++ inserted: urn:li:share:7319511778575495168\n",
      "+++++++++ inserted: urn:li:share:7318905016881201152\n",
      "+++++++++ inserted: urn:li:share:7318423697139146753\n",
      "+++++++++ inserted: urn:li:share:7319176497192218626\n",
      "+++++++++ inserted: urn:li:share:7318772725110435841\n",
      "Finished scraping the page Id: 34878020\n",
      "+++++++++ inserted: urn:li:share:7319220820210249730\n",
      "+++++++++ inserted: urn:li:share:7318632436697812993\n",
      "+++++++++ inserted: urn:li:share:7316094942064300032\n",
      "+++++++++ inserted: urn:li:share:7314919559793164288\n",
      "+++++++++ inserted: urn:li:share:7310903515202166785\n",
      "+++++++++ inserted: urn:li:share:7310671562712457216\n",
      "+++++++++ inserted: urn:li:share:7310260279831863299\n",
      "+++++++++ inserted: urn:li:share:7308118723876245506\n",
      "+++++++++ inserted: urn:li:share:7307799820109324288\n",
      "Finished scraping the page Id: 13592570\n",
      "Finished scraping all pages\n"
     ]
    }
   ],
   "source": [
    "#scrape latest posts from all authors\n",
    "def scrape_posts():\n",
    "    for author_id in author_ids:\n",
    "        #print(author_id)\n",
    "        page_posts = get_request('posts?author=urn%3Ali%3Aorganization%3A'+str(author_id)+'&q=author&count=10&sortBy=LAST_MODIFIED')\n",
    "        #print(page_posts)\n",
    "        for page_post in page_posts['elements']:\n",
    "            try:\n",
    "                #only get posts have media\n",
    "                if 'media' in page_post['content']:\n",
    "                    new_post = {\n",
    "                        \"id\" : page_post['id'],\n",
    "                        \"lastModifiedAt\" : page_post['lastModifiedAt'],\n",
    "                        \"author\" : page_post['author'].replace('urn:li:organization:', ''),\n",
    "                        \"description\": page_post['commentary'],\n",
    "                        \"media\": page_post['content']['media']['id']\n",
    "                    }\n",
    "                    upsert_page_posts(new_post)\n",
    "            except Exception as e:\n",
    "                #any error, skip this post\n",
    "                print(e)\n",
    "        print('Finished scraping the page Id: ' + author_id)\n",
    "    print('Finished scraping all pages')\n",
    "#test\n",
    "scrape_posts()"
   ]
  },
  {
   "cell_type": "code",
   "execution_count": 11,
   "metadata": {},
   "outputs": [],
   "source": [
    "db_client.close()"
   ]
  }
 ],
 "metadata": {
  "kernelspec": {
   "display_name": "3.9.10",
   "language": "python",
   "name": "python3"
  },
  "language_info": {
   "codemirror_mode": {
    "name": "ipython",
    "version": 3
   },
   "file_extension": ".py",
   "mimetype": "text/x-python",
   "name": "python",
   "nbconvert_exporter": "python",
   "pygments_lexer": "ipython3",
   "version": "3.9.10"
  }
 },
 "nbformat": 4,
 "nbformat_minor": 2
}
