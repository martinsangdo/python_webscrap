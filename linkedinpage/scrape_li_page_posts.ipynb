{
 "cells": [
  {
   "cell_type": "code",
   "execution_count": 69,
   "metadata": {},
   "outputs": [],
   "source": [
    "import requests\n",
    "import os\n",
    "from dotenv import load_dotenv\n",
    "import pymongo\n",
    "import time\n"
   ]
  },
  {
   "cell_type": "code",
   "execution_count": 70,
   "metadata": {},
   "outputs": [],
   "source": [
    "def get_current_timestamp_milliseconds():\n",
    "  \"\"\"\n",
    "  Returns the current timestamp in milliseconds since the epoch.\n",
    "  \"\"\"\n",
    "  return int(time.time() * 1000)"
   ]
  },
  {
   "cell_type": "code",
   "execution_count": 55,
   "metadata": {},
   "outputs": [],
   "source": [
    "load_dotenv() \n",
    "LI_URI = os.environ['LI_URI']\n",
    "LI_VERSION = os.environ['LI_VERSION']\n",
    "LI_ACCESS_TOKEN = os.environ['LI_ACCESS_TOKEN']"
   ]
  },
  {
   "cell_type": "code",
   "execution_count": 68,
   "metadata": {},
   "outputs": [],
   "source": [
    "db_client = pymongo.MongoClient('mongodb://localhost:27017')\n",
    "db = db_client['db_li_page_posts']\n",
    "tb_author = db['tb_author']\n",
    "tb_page_post = db['tb_page_posts']"
   ]
  },
  {
   "cell_type": "code",
   "execution_count": 57,
   "metadata": {},
   "outputs": [],
   "source": [
    "def get_request(url):\n",
    "    #print(url)\n",
    "    url = LI_URI + url\n",
    "    headers = {\n",
    "        'Authorization': LI_ACCESS_TOKEN,\n",
    "        'LinkedIn-Version': LI_VERSION\n",
    "    }\n",
    "    try:\n",
    "        detail = requests.get(url, headers=headers)\n",
    "        return detail.json()\n",
    "    except Exception as e:\n",
    "        print(e)\n",
    "        return {'error': e}"
   ]
  },
  {
   "cell_type": "code",
   "execution_count": 84,
   "metadata": {},
   "outputs": [],
   "source": [
    "#get list of authors from db\n",
    "def get_all_authors():\n",
    "    authors = tb_author.find({'status': 1})\n",
    "    return authors\n",
    "#test\n",
    "author_db = get_all_authors()"
   ]
  },
  {
   "cell_type": "code",
   "execution_count": 85,
   "metadata": {},
   "outputs": [],
   "source": [
    "author_ids = []\n",
    "for author in author_db:\n",
    "    author_ids.append(author['id'])"
   ]
  },
  {
   "cell_type": "code",
   "execution_count": null,
   "metadata": {},
   "outputs": [],
   "source": [
    "#author_ids = [103195312]\n"
   ]
  },
  {
   "cell_type": "code",
   "execution_count": 88,
   "metadata": {},
   "outputs": [],
   "source": [
    "#insert or update page posts to db\n",
    "def upsert_page_posts(new_post):\n",
    "    postDB = tb_page_post.find_one({'id': new_post['id']})\n",
    "    if postDB == None:\n",
    "        #insert new post\n",
    "        new_post['shared'] = 0  #never shared to my page before\n",
    "        tb_page_post.insert_one(new_post)\n",
    "        print('+++++++++ inserted: ' + new_post['id'])\n",
    "    else:   #update it if there is new description and this post is not shared\n",
    "        if postDB['description'] != new_post['description'] and postDB['shared'] != 1:\n",
    "            tb_page_post.update_one({'id': new_post['id']}, {'$set': {'description': new_post['description'], 'lastModifiedAt': get_current_timestamp_milliseconds()}})\n",
    "            print('updated: ' + new_post['id'])\n"
   ]
  },
  {
   "cell_type": "code",
   "execution_count": null,
   "metadata": {},
   "outputs": [
    {
     "name": "stdout",
     "output_type": "stream",
     "text": [
      "finished the page Id: 103195312\n",
      "finished the page Id: 42289740\n",
      "finished the page Id: 70502230\n",
      "finished the page Id: 99165232\n",
      "finished the page Id: 103249511\n"
     ]
    }
   ],
   "source": [
    "#scrape latest posts from all authors\n",
    "def scrape_posts():\n",
    "    for author_id in author_ids:\n",
    "        page_posts = get_request('posts?author=urn%3Ali%3Aorganization%3A'+str(author_id)+'&q=author&count=10&sortBy=LAST_MODIFIED')\n",
    "        for page_post in page_posts['elements']:\n",
    "            try:\n",
    "                #only get posts have media\n",
    "                if 'media' in page_post['content']:\n",
    "                    new_post = {\n",
    "                        \"id\" : page_post['id'],\n",
    "                        \"lastModifiedAt\" : page_post['lastModifiedAt'],\n",
    "                        \"author\" : page_post['author'].replace('urn:li:organization:', ''),\n",
    "                        \"description\": page_post['commentary'],\n",
    "                        \"media\": page_post['content']['media']['id']\n",
    "                    }\n",
    "                    upsert_page_posts(new_post)\n",
    "            except Exception as e:\n",
    "                #any error, skip this post\n",
    "                print(e)\n",
    "        print('Finished scraping the page Id: ' + author_id)\n",
    "    print('Finished scraping all pages')\n",
    "#test\n",
    "scrape_posts()"
   ]
  },
  {
   "cell_type": "code",
   "execution_count": null,
   "metadata": {},
   "outputs": [],
   "source": []
  }
 ],
 "metadata": {
  "kernelspec": {
   "display_name": "3.9.10",
   "language": "python",
   "name": "python3"
  },
  "language_info": {
   "codemirror_mode": {
    "name": "ipython",
    "version": 3
   },
   "file_extension": ".py",
   "mimetype": "text/x-python",
   "name": "python",
   "nbconvert_exporter": "python",
   "pygments_lexer": "ipython3",
   "version": "3.9.10"
  }
 },
 "nbformat": 4,
 "nbformat_minor": 2
}
