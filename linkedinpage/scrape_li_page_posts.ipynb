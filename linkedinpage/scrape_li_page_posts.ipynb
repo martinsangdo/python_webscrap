{
 "cells": [
  {
   "cell_type": "code",
   "execution_count": 2,
   "metadata": {},
   "outputs": [],
   "source": [
    "import requests\n",
    "import os\n",
    "from dotenv import load_dotenv\n",
    "import pymongo\n"
   ]
  },
  {
   "cell_type": "code",
   "execution_count": 3,
   "metadata": {},
   "outputs": [],
   "source": [
    "load_dotenv() \n",
    "LI_URI = os.environ['LI_URI']\n",
    "LI_VERSION = os.environ['LI_VERSION']\n",
    "LI_ACCESS_TOKEN = os.environ['LI_ACCESS_TOKEN']"
   ]
  },
  {
   "cell_type": "code",
   "execution_count": 4,
   "metadata": {},
   "outputs": [],
   "source": [
    "db_client = pymongo.MongoClient('mongodb://localhost:27017')\n",
    "db = db_client['db_li_page_posts']\n",
    "tb_author = db['tb_author']"
   ]
  },
  {
   "cell_type": "code",
   "execution_count": 5,
   "metadata": {},
   "outputs": [],
   "source": [
    "def get_request(url):\n",
    "    #print(url)\n",
    "    url = LI_URI + url\n",
    "    headers = {\n",
    "        'Authorization': LI_ACCESS_TOKEN,\n",
    "        'LinkedIn-Version': LI_VERSION\n",
    "    }\n",
    "    try:\n",
    "        detail = requests.get(url, headers=headers)\n",
    "        return detail.json()\n",
    "    except Exception as e:\n",
    "        print(e)\n",
    "        return {'error': e}"
   ]
  },
  {
   "cell_type": "code",
   "execution_count": 10,
   "metadata": {},
   "outputs": [
    {
     "name": "stdout",
     "output_type": "stream",
     "text": [
      "{'_id': ObjectId('67f890cbf1f9ec63a4a15fb6'), 'id': '103195312', 'name': 'Useful Infographics', 'status': 1, 'category': 'Infographic', 'url': 'https://www.linkedin.com/company/infographics-insights/posts/?feedView=all'}\n",
      "{'_id': ObjectId('67f891cff1f9ec63a4a15fb7'), 'id': '42289740', 'name': 'Leadership Infographics', 'status': 1, 'category': 'Leadership', 'url': 'https://www.linkedin.com/company/leadershipinfographics/posts/?feedView=all'}\n",
      "{'_id': ObjectId('67f892b1f1f9ec63a4a15fb8'), 'id': '70502230', 'name': 'Generative AI', 'status': 1, 'category': 'AI', 'url': 'https://www.linkedin.com/company/genai-works/posts/?feedView=all'}\n",
      "{'_id': ObjectId('67f892e0f1f9ec63a4a15fb9'), 'id': '99165232', 'name': 'Infographic Insights', 'status': 1, 'category': 'Infographic', 'url': 'https://www.linkedin.com/company/infographic-insights/posts/?feedView=all'}\n",
      "{'_id': ObjectId('67f89341f1f9ec63a4a15fba'), 'id': '103249511', 'name': 'Office Productivity Hacks', 'status': 1, 'category': 'Productivity', 'url': 'https://www.linkedin.com/company/office-productivity-hacks/posts/?feedView=all'}\n",
      "{'_id': ObjectId('67f8938af1f9ec63a4a15fbb'), 'id': '105901208', 'name': 'Faster With AI', 'status': 1, 'category': 'AI', 'url': 'https://www.linkedin.com/company/faster-with-ai/posts/?feedView=all'}\n",
      "{'_id': ObjectId('67f8950ef1f9ec63a4a15fbc'), 'id': '25060884', 'name': 'Learn Fast', 'status': 1, 'category': 'Leadership', 'url': 'https://www.linkedin.com/company/learn-fast/posts/?feedView=all'}\n",
      "{'_id': ObjectId('67f8953ef1f9ec63a4a15fbd'), 'id': '90400801', 'name': 'AI Evolution', 'status': 1, 'category': 'AI', 'url': 'https://www.linkedin.com/company/ai-evolution/posts/?feedView=all&viewAsMember=true'}\n",
      "{'_id': ObjectId('67f89596f1f9ec63a4a15fbe'), 'id': '34878020', 'name': 'Business Infographics', 'status': 1, 'category': 'Leadership', 'url': 'https://www.linkedin.com/company/business-infographics/posts/?feedView=all'}\n"
     ]
    }
   ],
   "source": [
    "#get list of authors from db\n",
    "def get_all_authors():\n",
    "    authors = tb_author.find({'status': 1})\n",
    "    return authors\n",
    "#test\n",
    "authors = get_all_authors()\n",
    "for author in authors:\n",
    "    print(author)"
   ]
  },
  {
   "cell_type": "code",
   "execution_count": 6,
   "metadata": {},
   "outputs": [
    {
     "data": {
      "text/plain": [
       "{'paging': {'start': 0,\n",
       "  'count': 10,\n",
       "  'links': [{'type': 'application/json',\n",
       "    'rel': 'next',\n",
       "    'href': '/rest/posts?author=urn%3Ali%3Aorganization%3A105901208&count=10&q=author&sortBy=LAST_MODIFIED&start=7'}],\n",
       "  'total': 113},\n",
       " 'elements': [{'isReshareDisabledByAuthor': False,\n",
       "   'createdAt': 1744238208378,\n",
       "   'lifecycleState': 'PUBLISHED',\n",
       "   'lastModifiedAt': 1744308011618,\n",
       "   'visibility': 'PUBLIC',\n",
       "   'publishedAt': 1744308011534,\n",
       "   'author': 'urn:li:organization:105901208',\n",
       "   'id': 'urn:li:share:7315865292780265472',\n",
       "   'distribution': {'feedDistribution': 'MAIN_FEED',\n",
       "    'thirdPartyDistributionChannels': []},\n",
       "   'content': {'media': {'altText': '',\n",
       "     'id': 'urn:li:image:D4D22AQH3CQzm6SMoIA'}},\n",
       "   'commentary': 'In just 5 months, I learned more from ChatGPT than years of school.\\n\\nCredit to @[Awa K. Penn](urn:li:person:ZfBER\\\\_4Vcp). Follow him to become an AI expert. \\n\\nOriginal post below:\\n\\n=====\\n\\nIn just 5 months, I learned more from ChatGPT than years of school.\\n\\nI used it to learn coding, copywriting, marketing, etc.\\n\\nNo courses. No mentors. Just AI.\\n\\nHere’s my exact process;\\n\\nIt covers:\\n\\n→ Act as a \\\\(Role\\\\)\\n→ Create a \\\\[Task\\\\]\\n→ Features\\n→ Directives for Tailored Responses\\n→ Show as \\\\(Format\\\\)\\n→ Learn from ChatGPT\\n=====\\n\\n👉 Follow @[Faster With AI](urn:li:organization:105901208) for more AI secrets.',\n",
       "   'lifecycleStateInfo': {'isEditedByAuthor': False}},\n",
       "  {'isReshareDisabledByAuthor': False,\n",
       "   'createdAt': 1744237821630,\n",
       "   'lifecycleState': 'PUBLISHED',\n",
       "   'lastModifiedAt': 1744300809187,\n",
       "   'visibility': 'PUBLIC',\n",
       "   'publishedAt': 1744300809110,\n",
       "   'author': 'urn:li:organization:105901208',\n",
       "   'id': 'urn:li:share:7315863670763208704',\n",
       "   'distribution': {'feedDistribution': 'MAIN_FEED',\n",
       "    'thirdPartyDistributionChannels': []},\n",
       "   'content': {'media': {'altText': '',\n",
       "     'id': 'urn:li:image:D4D22AQEYB1Uc9MTutA'}},\n",
       "   'commentary': 'If you don’t save this, you’ll regret it later.\\n\\nCredit to @[Matic Pogladic](urn:li:person:wgXBqtTucj). Follow him to become an AI expert. \\n\\nOriginal post below:\\n\\n=====\\n\\nIf you don’t save this, you’ll regret it later.\\n\\nHere are the 20 most common mistakes to avoid to ensure you’re getting the clearest, most valuable insights from ChatGPT - every single time.\\n\\nA few simple tweaks can turn it into your most powerful productivity tool!\\n\\nHere’s a quick look at what you need to remember:\\n\\n↳ Be clear and specific in every prompt.\\n↳Always set the tone and format you need \\\\(casual, professional, bullet points, etc.\\\\).\\n↳ Don’t overload with questions - keep it focused.\\n↳ Use follow-up prompts to dive deeper.\\n↳ And remember: always fact-check for accuracy!\\n\\n💬 Which of these mistakes surprised you the most? \\nLet me know below!\\n\\n=====\\n\\n👉 Follow @[Faster With AI](urn:li:organization:105901208) for more AI secrets.',\n",
       "   'lifecycleStateInfo': {'isEditedByAuthor': False}},\n",
       "  {'isReshareDisabledByAuthor': False,\n",
       "   'createdAt': 1744237564133,\n",
       "   'lifecycleState': 'PUBLISHED',\n",
       "   'lastModifiedAt': 1744293609118,\n",
       "   'visibility': 'PUBLIC',\n",
       "   'publishedAt': 1744293609031,\n",
       "   'author': 'urn:li:organization:105901208',\n",
       "   'id': 'urn:li:share:7315862590662844416',\n",
       "   'distribution': {'feedDistribution': 'MAIN_FEED',\n",
       "    'thirdPartyDistributionChannels': []},\n",
       "   'content': {'media': {'altText': '',\n",
       "     'id': 'urn:li:image:D4D22AQGfrKVuZdY_7Q'}},\n",
       "   'commentary': 'Transform Your Presentations with ChatGPT!\\n\\nCredit to @[Jonathan Parsons](urn:li:person:ejE4Sx5nhm). Follow him to become an AI expert. \\n\\nOriginal post below:\\n\\n=====\\n\\nTransform Your Presentations with ChatGPT!\\n\\nCreating a PowerPoint presentation can be time-consuming, but ChatGPT can simplify the process and help you create professional slides in no time.\\n\\nHere’s how you can make it happen:\\n\\nQuick Prompts to Generate PowerPoint Slides:\\n↳Outline a presentation on your chosen topics.\\n↳Generate VBA code for PowerPoint slides.\\n↳Customise slides for specific themes or smaller topics.\\n\\nStep-by-Step Guide \\\\(Method 1\\\\):\\n\\nUpload Your Article:\\n↳Start by uploading the article you want to transform into a presentation.\\n\\nCrafting the Presentation Outline Prompt:\\n↳Define the number of slides, content areas, and any additional instructions.\\n\\nGenerate the PowerPoint Presentation:\\n↳Get a text-based outline and convert it into well-formatted PowerPoint slides.\\n\\nRefine Your Presentation in PowerPoint:\\nDownload the generated presentation and refine it.\\n\\nEnhance and Personalise:\\n↳Adjust slide size, apply design themes, and customise individual slides.\\n\\nLeveraging Microsoft 365 for a Usage-Friendly Approach \\\\(Method 2\\\\):\\n\\nObtain the Presentation Outline from ChatGPT:\\n↳Follow the same initial steps as Method 1.\\n\\nCopying Content into Microsoft Word:\\n↳Paste the entire outline into a new Word document.\\n\\nExporting to PowerPoint Presentation:\\n↳Refine in Word, then export to PowerPoint.\\n\\nBenefits of Using Microsoft Word:\\n↳Advanced text formatting.\\n↳Utilisation of styles and templates.\\n↳Easy addition of headers and footers.\\n\\nWith ChatGPT, your presentations are not only quicker to create but also more polished and professional.\\n\\n=====\\n\\n👉 Follow @[Faster With AI](urn:li:organization:105901208) for more AI secrets.',\n",
       "   'lifecycleStateInfo': {'isEditedByAuthor': False}},\n",
       "  {'isReshareDisabledByAuthor': False,\n",
       "   'createdAt': 1744196856870,\n",
       "   'lifecycleState': 'PUBLISHED',\n",
       "   'lastModifiedAt': 1744221608677,\n",
       "   'visibility': 'PUBLIC',\n",
       "   'publishedAt': 1744221608605,\n",
       "   'author': 'urn:li:organization:105901208',\n",
       "   'id': 'urn:li:share:7315691851846410240',\n",
       "   'distribution': {'feedDistribution': 'MAIN_FEED',\n",
       "    'thirdPartyDistributionChannels': []},\n",
       "   'content': {'media': {'altText': '',\n",
       "     'id': 'urn:li:image:D4E22AQFwYESAdgdJRg'}},\n",
       "   'commentary': 'Here’s how to use ChatGPT to turn an idea into a business:\\n\\n\\\\( Save this for later \\\\):\\n\\nCredit to @[Muhammad Ayan](urn:li:person:9LHMGWcuHI). Follow him to become an AI expert. \\n\\nOriginal post below:\\n\\n=====\\n\\nHere’s how to use ChatGPT to turn an idea into a business:\\n\\n\\\\( Save this for later \\\\):\\n\\n1. Idea Generator\\n\\nPrompt: Give me 10 business ideas in \\\\[industry\\\\] based on current trends and future demand.\\n\\nUse it to:\\n\\n- Discover fresh angles\\n- Spot low-competition niches\\n- Brainstorm startup ideas\\n- Explore what’s trending\\n\\n2. Problem Finder\\n\\nPrompt: What are the top 5 problems faced by \\\\[audience\\\\] that could be solved with a product or service?\\n\\nUse it to:\\n\\n- Find real pain points\\n- Build problem-first businesses\\n- Validate idea worth\\n- Avoid building something no one wants\\n\\n3. Market Snapshot\\n\\nPrompt: Do quick research for \\\\[business idea\\\\] audience, competition, trends, and how it can make money.\\n\\nUse it to:\\n\\n- Understand market gaps\\n- Check demand before you build\\n- Spot competitors early\\n- Save time on manual research\\n\\n4. Fast Validation Plan\\n\\nPrompt: How can I validate \\\\[business concept\\\\] without spending much time or money?\\n\\nUse it to:\\n\\n- Get quick test ideas\\n- Build landing pages, waitlists, etc.\\n- Avoid wasting months building\\n- Confirm people actually want it\\n\\n5. Niche Finder\\n\\nPrompt: Suggest niche markets in \\\\[industry\\\\] with high demand and low competition.\\n\\nUse it to:\\n\\n- Go deeper than general markets\\n- Avoid saturation\\n- Spot underserved communities\\n- Create laser-focused offers\\n\\n6. Monetization Ideas\\n\\nPrompt: What are 5 revenue models I can use for \\\\[business idea\\\\]?\\n\\nUse it to: \\n\\n- List tools, platforms, features\\n- Skip fancy stuff\\n- Build and ship faster\\n\\nThis is how to test ideas fast\\nWith no fluff and no wasted time.\\nSave this. Try it. And launch smart.\\n\\n=====\\n\\n👉 Follow @[Faster With AI](urn:li:organization:105901208) for more AI secrets.',\n",
       "   'lifecycleStateInfo': {'isEditedByAuthor': False}},\n",
       "  {'isReshareDisabledByAuthor': False,\n",
       "   'createdAt': 1744196525604,\n",
       "   'lifecycleState': 'PUBLISHED',\n",
       "   'lastModifiedAt': 1744214415342,\n",
       "   'visibility': 'PUBLIC',\n",
       "   'publishedAt': 1744214415253,\n",
       "   'author': 'urn:li:organization:105901208',\n",
       "   'id': 'urn:li:share:7315690462843949058',\n",
       "   'distribution': {'feedDistribution': 'MAIN_FEED',\n",
       "    'thirdPartyDistributionChannels': []},\n",
       "   'content': {'media': {'altText': '',\n",
       "     'id': 'urn:li:image:D4E22AQEFImp5nQ5VQg'}},\n",
       "   'commentary': \"Most people don't know all the top AI algorithms. \\n\\nCredit to @[Adam Biddlecombe](urn:li:person:9PeQcNGyIG). Follow him for more.\\n\\nOriginal post:\\n\\n=====\\n\\nMost people don't know all the top AI algorithms. \\n\\nSo, I've curated the best ones here:\\n\\nDeep Learning Algorithms:\\n✅ U-Net\\n✅ ResNet\\n✅ DenseNet\\n✅ Transformers\\n✅ Autoencoders\\n✅ Vision Transformer \\\\(ViT\\\\)\\n✅ Recurrent Neural Networks \\\\(RNNs\\\\)\\n✅ Convolutional Neural Networks \\\\(CNNs\\\\)\\n✅ Generative Adversarial Networks \\\\(GANs\\\\)\\n✅ Long Short-Term Memory Networks \\\\(LSTMs\\\\) \\n\\nClassical Machine Learning Algorithms:\\n✅ DBSCAN\\n✅ Naive Bayes\\n✅ Decision Trees\\n✅ Random Forests\\n✅ Logistic Regression\\n✅ K-Means Clustering\\n✅ K-Nearest Neighbors \\\\(KNN\\\\)\\n✅ Support Vector Machines \\\\(SVM\\\\)\\n✅ Gradient Boosting Machines \\\\(GBM\\\\)\\n✅ Principal Component Analysis \\\\(PCA\\\\) \\n \\nAnd more covered in the infographic below. \\n\\nLearn AI for free https://lnkd.in/e9Nv\\\\_SKP \\n\\n=====\\n\\nFollow @[Faster With AI](urn:li:organization:105901208) for more.\",\n",
       "   'lifecycleStateInfo': {'isEditedByAuthor': False}},\n",
       "  {'isReshareDisabledByAuthor': False,\n",
       "   'createdAt': 1744196173436,\n",
       "   'lifecycleState': 'PUBLISHED',\n",
       "   'lastModifiedAt': 1744207225306,\n",
       "   'visibility': 'PUBLIC',\n",
       "   'publishedAt': 1744207225230,\n",
       "   'author': 'urn:li:organization:105901208',\n",
       "   'id': 'urn:li:share:7315688985689817089',\n",
       "   'distribution': {'feedDistribution': 'MAIN_FEED',\n",
       "    'thirdPartyDistributionChannels': []},\n",
       "   'content': {'media': {'altText': '',\n",
       "     'id': 'urn:li:image:D4E22AQFb8D16BgD4hQ'}},\n",
       "   'commentary': \"If you're not using AI in your business, you're already losing. \\n\\nCredit to @[Dirk Zee](urn:li:person:GIMg8OEoVQ). Follow him for more.\\n\\nOriginal post:\\n\\n=====\\n\\nIf you're not using AI in your business, you're already losing. \\n \\nYour competitors are automating sales, optimizing marketing, and cutting costs while you’re stuck doing things the hard way. \\n \\nAI isn’t a trend—it’s the new standard. \\n \\nEvery repetitive task can be automated. \\n \\nEvery decision can be made faster with AI-driven insights. \\n \\nEvery delay is a chance for your competition to take your market share. \\n \\nThe question isn’t if you’ll use AI—it’s whether you’ll do it before it’s too late. \\n \\nWhat’s stopping you from going all in? \\n \\nWhere in your business are you already using AI? \\n \\nDo you think businesses without AI will even survive the next five years?\\n\\n=====\\n\\nFollow @[Faster With AI](urn:li:organization:105901208) for more.\",\n",
       "   'lifecycleStateInfo': {'isEditedByAuthor': False}},\n",
       "  {'isReshareDisabledByAuthor': False,\n",
       "   'createdAt': 1744142444959,\n",
       "   'lifecycleState': 'PUBLISHED',\n",
       "   'lastModifiedAt': 1744142461512,\n",
       "   'visibility': 'PUBLIC',\n",
       "   'publishedAt': 1744142444959,\n",
       "   'author': 'urn:li:organization:105901208',\n",
       "   'id': 'urn:li:share:7315463632081829888',\n",
       "   'distribution': {'feedDistribution': 'MAIN_FEED',\n",
       "    'thirdPartyDistributionChannels': []},\n",
       "   'content': {'media': {'altText': '',\n",
       "     'id': 'urn:li:image:D4D22AQGwzI3Rlbed9g'}},\n",
       "   'commentary': 'Wondering how to actually start using AI in your business in 2025?\\n\\nCredit to @[Denis Panjuta](urn:li:person:hZHFUAS8NK). Follow him for more.\\n\\nOriginal post:\\n\\n=====\\nWondering how to actually start using AI in your business in 2025?\\n\\nHere’s a simple, step-by-step path every business owner can follow—even if you’re not technical.\\n\\nWhat to focus on:\\n\\nUnderstand AI Fundamentals – Know the terms and why AI matters.\\nExplore Business Use Cases – From sales to HR, see where AI can help.\\nLearn Prompt Engineering – It’s the new business writing skill.\\nCreate Content with AI – Write blogs, posts, and ads in minutes.\\nAutomate Daily Tasks – Save time with AI workflows.\\nBuild AI-Powered Systems – Use no-code tools to automate operations.\\nUse AI for Support – Implement chatbots and auto-replies.\\nSimplify Data & Reports – Generate dashboards and insights.\\nDelegate Marketing – Let AI assist with campaign planning and SEO.\\nDocument Everything – Generate SOPs and onboarding guides.\\nTrain Your Team – Make AI use a daily habit.\\nChoose the Right Tools – Focus on ROI, scalability, and ease.\\nStay Ethical – Prioritize data privacy and fairness.\\nKeep Improving – Review tool usage and evolve with growth.\\n\\n=====\\nFollow @[Faster With AI](urn:li:organization:105901208) for more. ',\n",
       "   'lifecycleStateInfo': {'isEditedByAuthor': False}}]}"
      ]
     },
     "execution_count": 6,
     "metadata": {},
     "output_type": "execute_result"
    }
   ],
   "source": [
    "page_posts = get_request('posts?author=urn%3Ali%3Aorganization%3A105901208&q=author&count=10&sortBy=LAST_MODIFIED')\n",
    "page_posts"
   ]
  },
  {
   "cell_type": "code",
   "execution_count": null,
   "metadata": {},
   "outputs": [],
   "source": []
  }
 ],
 "metadata": {
  "kernelspec": {
   "display_name": "3.9.10",
   "language": "python",
   "name": "python3"
  },
  "language_info": {
   "codemirror_mode": {
    "name": "ipython",
    "version": 3
   },
   "file_extension": ".py",
   "mimetype": "text/x-python",
   "name": "python",
   "nbconvert_exporter": "python",
   "pygments_lexer": "ipython3",
   "version": "3.9.10"
  }
 },
 "nbformat": 4,
 "nbformat_minor": 2
}
