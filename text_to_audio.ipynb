{
 "cells": [
  {
   "cell_type": "code",
   "execution_count": 1,
   "metadata": {},
   "outputs": [],
   "source": [
    "#https://gtts.readthedocs.io/en/latest/\n",
    "#from gtts import gTTS\n",
    "\n",
    "#https://pypi.org/project/pyttsx3/\n",
    "#import pyttsx3\n"
   ]
  },
  {
   "cell_type": "code",
   "execution_count": 2,
   "metadata": {},
   "outputs": [],
   "source": [
    "text = 'The exam goes beyond just knowing what each AWS service does. It challenges you to apply your knowledge to real-world scenarios, making architectural trade-offs, and choosing the most appropriate services to meet specific business requirements. You will encounter questions about core services like Amazon EC2, S3, RDS, VPC, Lambda, DynamoDB, and many more.'"
   ]
  },
  {
   "cell_type": "code",
   "execution_count": 3,
   "metadata": {},
   "outputs": [],
   "source": [
    "#tts = gTTS(text)\n",
    "#tts.save('test.mp3')"
   ]
  },
  {
   "cell_type": "code",
   "execution_count": 4,
   "metadata": {},
   "outputs": [],
   "source": [
    "# engine = pyttsx3.init()\n",
    "\n",
    "# rate = engine.getProperty('rate')   # getting details of current speaking rate\n",
    "# print (rate)                        #printing current voice rate\n",
    "# engine.setProperty('rate', 125)     # setting up new voice rate\n"
   ]
  },
  {
   "cell_type": "code",
   "execution_count": 5,
   "metadata": {},
   "outputs": [],
   "source": [
    "# voices = engine.getProperty('voices')\n",
    "# print(voices[0])\n",
    "# engine.setProperty('voice', voices[0].id)"
   ]
  },
  {
   "cell_type": "code",
   "execution_count": 6,
   "metadata": {},
   "outputs": [
    {
     "ename": "NameError",
     "evalue": "name 'engine' is not defined",
     "output_type": "error",
     "traceback": [
      "\u001b[0;31m---------------------------------------------------------------------------\u001b[0m",
      "\u001b[0;31mNameError\u001b[0m                                 Traceback (most recent call last)",
      "Cell \u001b[0;32mIn[6], line 2\u001b[0m\n\u001b[1;32m      1\u001b[0m \u001b[38;5;66;03m# engine.say(text)\u001b[39;00m\n\u001b[0;32m----> 2\u001b[0m \u001b[43mengine\u001b[49m\u001b[38;5;241m.\u001b[39mstop()\n\u001b[1;32m      3\u001b[0m engine\u001b[38;5;241m.\u001b[39msave_to_file(text, \u001b[38;5;124m'\u001b[39m\u001b[38;5;124mtest.mp3\u001b[39m\u001b[38;5;124m'\u001b[39m)\n\u001b[1;32m      4\u001b[0m engine\u001b[38;5;241m.\u001b[39mrunAndWait()\n",
      "\u001b[0;31mNameError\u001b[0m: name 'engine' is not defined"
     ]
    }
   ],
   "source": [
    "# engine.say(text)\n",
    "engine.stop()\n",
    "engine.save_to_file(text, 'test.mp3')\n",
    "engine.runAndWait()"
   ]
  },
  {
   "cell_type": "code",
   "execution_count": null,
   "metadata": {},
   "outputs": [
    {
     "data": {
      "text/plain": [
       "'Saving Voice to a file'"
      ]
     },
     "execution_count": 7,
     "metadata": {},
     "output_type": "execute_result"
    }
   ],
   "source": [
    "\"\"\" RATE\"\"\"\n",
    "# rate = engine.getProperty('rate')   # getting details of current speaking rate\n",
    "# print (rate)                        #printing current voice rate\n",
    "# engine.setProperty('rate', 125)     # setting up new voice rate\n",
    "\n",
    "\n",
    "\"\"\"VOLUME\"\"\"\n",
    "# volume = engine.getProperty('volume')   #getting to know current volume level (min=0 and max=1)\n",
    "# print (volume)                          #printing current volume level\n",
    "# engine.setProperty('volume',1.0)    # setting up volume level  between 0 and 1\n",
    "\n",
    "\"\"\"VOICE\"\"\"\n",
    "# voices = engine.getProperty('voices')       #getting details of current voice\n",
    "# #engine.setProperty('voice', voices[0].id)  #changing index, changes voices. o for male\n",
    "# engine.setProperty('voice', voices[1].id)   #changing index, changes voices. 1 for female\n",
    "\n",
    "# engine.say(\"Hello World!\")\n",
    "# engine.say('My current speaking rate is ' + str(rate))\n",
    "# engine.runAndWait()\n",
    "\n",
    "\n",
    "\n",
    "\"\"\"Saving Voice to a file\"\"\"\n",
    "# On linux make sure that 'espeak' and 'ffmpeg' are installed\n",
    "# engine.save_to_file('Hello World', 'test.mp3')\n",
    "# engine.runAndWait()"
   ]
  },
  {
   "cell_type": "code",
   "execution_count": 12,
   "metadata": {},
   "outputs": [
    {
     "name": "stdout",
     "output_type": "stream",
     "text": [
      "Attempting to create video from images in: /Users/sang/Documents/Source/Python/python_webscrap/cert_exam/aws_sa_data/img_youtube/20250521\n",
      "Output video will be: /Users/sang/Documents/Source/Python/python_webscrap/final_video.mp4\n",
      "FFmpeg command: /Users/sang/Downloads/SetupFiles/ffmpeg/ffmpeg -framerate 1 -pattern_type glob -i *.png -c:v libx264 -pix_fmt yuv420p -y /Users/sang/Documents/Source/Python/python_webscrap/final_video.mp4\n",
      "\n",
      "FFmpeg command executed successfully!\n",
      "STDOUT:\n",
      "\n",
      "STDERR:\n",
      "ffmpeg version 7.1.1-tessus  https://evermeet.cx/ffmpeg/  Copyright (c) 2000-2025 the FFmpeg developers\n",
      "  built with Apple clang version 16.0.0 (clang-1600.0.26.6)\n",
      "  configuration: --cc=/usr/bin/clang --prefix=/opt/ffmpeg --extra-version=tessus --enable-avisynth --enable-fontconfig --enable-gpl --enable-libaom --enable-libass --enable-libbluray --enable-libdav1d --enable-libfreetype --enable-libgsm --enable-libharfbuzz --enable-libmodplug --enable-libmp3lame --enable-libmysofa --enable-libopencore-amrnb --enable-libopencore-amrwb --enable-libopenh264 --enable-libopenjpeg --enable-libopus --enable-librubberband --enable-libshine --enable-libsnappy --enable-libsoxr --enable-libspeex --enable-libtheora --enable-libtwolame --enable-libvidstab --enable-libvmaf --enable-libvo-amrwbenc --enable-libvorbis --enable-libvpx --enable-libwebp --enable-libx264 --enable-libx265 --enable-libxavs --enable-libxml2 --enable-libxvid --enable-libzimg --enable-libzmq --enable-libzvbi --enable-version3 --pkg-config-flags=--static --disable-ffplay\n",
      "  libavutil      59. 39.100 / 59. 39.100\n",
      "  libavcodec     61. 19.101 / 61. 19.101\n",
      "  libavformat    61.  7.100 / 61.  7.100\n",
      "  libavdevice    61.  3.100 / 61.  3.100\n",
      "  libavfilter    10.  4.100 / 10.  4.100\n",
      "  libswscale      8.  3.100 /  8.  3.100\n",
      "  libswresample   5.  3.100 /  5.  3.100\n",
      "  libpostproc    58.  3.100 / 58.  3.100\n",
      "Input #0, image2, from '*.png':\n",
      "  Duration: 00:00:06.00, start: 0.000000, bitrate: N/A\n",
      "  Stream #0:0: Video: png, rgb24(pc, gbr/unknown/unknown), 3840x2160, 1 fps, 1 tbr, 1 tbn\n",
      "Stream mapping:\n",
      "  Stream #0:0 -> #0:0 (png (native) -> h264 (libx264))\n",
      "Press [q] to stop, [?] for help\n",
      "[libx264 @ 0x7f83ae10cb80] using cpu capabilities: MMX2 SSE2Fast SSSE3 SSE4.2 AVX FMA3 BMI2 AVX2\n",
      "[libx264 @ 0x7f83ae10cb80] profile High, level 5.1, 4:2:0, 8-bit\n",
      "[libx264 @ 0x7f83ae10cb80] 264 - core 164 r3204 373697b - H.264/MPEG-4 AVC codec - Copyleft 2003-2025 - http://www.videolan.org/x264.html - options: cabac=1 ref=3 deblock=1:0:0 analyse=0x3:0x113 me=hex subme=7 psy=1 psy_rd=1.00:0.00 mixed_ref=1 me_range=16 chroma_me=1 trellis=1 8x8dct=1 cqm=0 deadzone=21,11 fast_pskip=1 chroma_qp_offset=-2 threads=12 lookahead_threads=2 sliced_threads=0 nr=0 decimate=1 interlaced=0 bluray_compat=0 constrained_intra=0 bframes=3 b_pyramid=2 b_adapt=1 b_bias=0 direct=1 weightb=1 open_gop=0 weightp=2 keyint=250 keyint_min=1 scenecut=40 intra_refresh=0 rc_lookahead=40 rc=crf mbtree=1 crf=23.0 qcomp=0.60 qpmin=0 qpmax=69 qpstep=4 ip_ratio=1.40 aq=1:1.00\n",
      "Output #0, mp4, to '/Users/sang/Documents/Source/Python/python_webscrap/final_video.mp4':\n",
      "  Metadata:\n",
      "    encoder         : Lavf61.7.100\n",
      "  Stream #0:0: Video: h264 (avc1 / 0x31637661), yuv420p(tv, progressive), 3840x2160, q=2-31, 1 fps, 16384 tbn\n",
      "      Metadata:\n",
      "        encoder         : Lavc61.19.101 libx264\n",
      "      Side data:\n",
      "        ICC Profile\n",
      "        cpb: bitrate max/min/avg: 0/0/0 buffer size: 0 vbv_delay: N/A\n",
      "frame=    0 fps=0.0 q=0.0 size=       0KiB time=N/A bitrate=N/A speed=N/A    \n",
      "[out#0/mp4 @ 0x7f83ae10be80] video:817KiB audio:0KiB subtitle:0KiB other streams:0KiB global headers:0KiB muxing overhead: 0.172148%\n",
      "frame=    6 fps=0.0 q=-1.0 Lsize=     818KiB time=00:00:04.00 bitrate=1675.9kbits/s speed=5.06x    \n",
      "[libx264 @ 0x7f83ae10cb80] frame I:1     Avg QP: 5.03  size:150685\n",
      "[libx264 @ 0x7f83ae10cb80] frame P:5     Avg QP:10.69  size:137023\n",
      "[libx264 @ 0x7f83ae10cb80] mb I  I16..4: 81.1%  5.8% 13.1%\n",
      "[libx264 @ 0x7f83ae10cb80] mb P  I16..4:  8.9%  1.0%  7.9%  P16..4:  1.3%  1.1%  1.1%  0.0%  0.0%    skip:78.6%\n",
      "[libx264 @ 0x7f83ae10cb80] 8x8 transform intra:5.8% inter:4.0%\n",
      "[libx264 @ 0x7f83ae10cb80] coded y,uvDC,uvAC intra: 17.1% 2.0% 1.9% inter: 2.0% 0.2% 0.2%\n",
      "[libx264 @ 0x7f83ae10cb80] i16 v,h,dc,p: 97%  2%  1%  0%\n",
      "[libx264 @ 0x7f83ae10cb80] i8 v,h,dc,ddl,ddr,vr,hd,vl,hu: 42% 10% 47%  0%  0%  0%  0%  0%  0%\n",
      "[libx264 @ 0x7f83ae10cb80] i4 v,h,dc,ddl,ddr,vr,hd,vl,hu: 39% 19% 22%  4%  3%  4%  3%  5%  3%\n",
      "[libx264 @ 0x7f83ae10cb80] i8c dc,h,v,p: 98%  1%  1%  0%\n",
      "[libx264 @ 0x7f83ae10cb80] Weighted P-Frames: Y:0.0% UV:0.0%\n",
      "[libx264 @ 0x7f83ae10cb80] ref P L0: 38.8%  3.3% 49.6%  8.4%\n",
      "[libx264 @ 0x7f83ae10cb80] kb/s:1114.40\n",
      "\n",
      "Video 'final_video.mp4' created successfully at /Users/sang/Documents/Source/Python/python_webscrap/final_video.mp4\n"
     ]
    }
   ],
   "source": [
    "import subprocess\n",
    "import os\n",
    "\n",
    "def create_video_from_images(image_folder, output_filename=\"output.mp4\", framerate=1):\n",
    "    \"\"\"\n",
    "    Creates a video from all JPG images in a specified folder using ffmpeg.\n",
    "\n",
    "    Args:\n",
    "        image_folder (str): The path to the folder containing the images.\n",
    "        output_filename (str): The name of the output video file.\n",
    "        framerate (int): The framerate of the output video (frames per second).\n",
    "    \"\"\"\n",
    "    # Ensure image_folder is an absolute path for better reliability\n",
    "    abs_image_folder = os.path.abspath(image_folder)\n",
    "    \n",
    "    # Define the output path. It's often good to save the output\n",
    "    # outside the source image folder.\n",
    "    # Here, it will be saved in the same directory where the Python script is run.\n",
    "    abs_output_path = os.path.abspath(output_filename)\n",
    "\n",
    "    # Construct the ffmpeg command.\n",
    "    # We pass the full command as a list of strings.\n",
    "    # The -y flag will automatically overwrite the output file if it exists.\n",
    "    ffmpeg_command = [\n",
    "        \"/Users/sang/Downloads/SetupFiles/ffmpeg/ffmpeg\",\n",
    "        \"-framerate\", str(framerate),\n",
    "        \"-pattern_type\", \"glob\",\n",
    "        \"-i\", \"*.png\",  # This will look for *.jpg inside the 'cwd' (image_folder)\n",
    "        \"-c:v\", \"libx264\",\n",
    "        \"-pix_fmt\", \"yuv420p\",\n",
    "        \"-y\", # Overwrite output file without asking\n",
    "        # Note: We don't specify the full output path here directly\n",
    "        # because the command is run from the 'image_folder'.\n",
    "        # Instead, we pass the absolute path relative to the script's original location.\n",
    "        abs_output_path\n",
    "    ]\n",
    "\n",
    "    print(f\"Attempting to create video from images in: {abs_image_folder}\")\n",
    "    print(f\"Output video will be: {abs_output_path}\")\n",
    "    print(f\"FFmpeg command: {' '.join(ffmpeg_command)}\")\n",
    "\n",
    "    try:\n",
    "        # Use subprocess.run() to execute the command.\n",
    "        # cwd: Changes the current working directory for the command execution.\n",
    "        #      This is key to making \"*.jpg\" work correctly.\n",
    "        # check=True: Raises an exception if the command returns a non-zero exit code (i.e., fails).\n",
    "        # capture_output=True: Captures stdout and stderr.\n",
    "        # text=True: Decodes stdout and stderr as text.\n",
    "        result = subprocess.run(\n",
    "            ffmpeg_command,\n",
    "            cwd=abs_image_folder, # This changes the directory for THIS command execution\n",
    "            check=True,\n",
    "            capture_output=True,\n",
    "            text=True\n",
    "        )\n",
    "        print(\"\\nFFmpeg command executed successfully!\")\n",
    "        print(\"STDOUT:\")\n",
    "        print(result.stdout)\n",
    "        print(\"STDERR:\")\n",
    "        print(result.stderr) # ffmpeg often prints progress to stderr\n",
    "        print(f\"Video '{output_filename}' created successfully at {abs_output_path}\")\n",
    "\n",
    "    except FileNotFoundError:\n",
    "        print(f\"Error: FFmpeg command not found. Make sure FFmpeg is installed and in your system's PATH.\")\n",
    "    except subprocess.CalledProcessError as e:\n",
    "        print(f\"Error: FFmpeg command failed with exit code {e.returncode}\")\n",
    "        print(\"STDOUT:\")\n",
    "        print(e.stdout)\n",
    "        print(\"STDERR:\")\n",
    "        print(e.stderr)\n",
    "    except Exception as e:\n",
    "        print(f\"An unexpected error occurred: {e}\")\n",
    "\n",
    "# --- How to use it ---\n",
    "if __name__ == \"__main__\":\n",
    "    # IMPORTANT: Replace 'path/to/your/20250521' with the actual path to your image folder.\n",
    "    # Example:\n",
    "    # image_folder_path = r\"C:\\Users\\YourUser\\Documents\\MyProject\\20250521\" # Windows example\n",
    "    # image_folder_path = \"/home/youruser/myproject/20250521\"             # Linux/macOS example\n",
    "    \n",
    "    # For your specific case, assuming your script is in the parent directory of '20250521'\n",
    "    # and you just want to specify the relative path.\n",
    "    # Note: Using a direct relative path like \"20250521\" will work if the script\n",
    "    # is run from the parent directory of \"20250521\".\n",
    "    # If the script is elsewhere, use the full absolute path.\n",
    "    image_folder_path = './cert_exam/aws_sa_data/img_youtube/20250521/' \n",
    "\n",
    "    output_video_name = \"final_video.mp4\" # The name for your output video\n",
    "    desired_framerate = 1 # 1 frame per second as per your original command\n",
    "\n",
    "    create_video_from_images(image_folder_path, output_video_name, desired_framerate)"
   ]
  },
  {
   "cell_type": "code",
   "execution_count": null,
   "metadata": {},
   "outputs": [],
   "source": []
  }
 ],
 "metadata": {
  "kernelspec": {
   "display_name": "3.9.10",
   "language": "python",
   "name": "python3"
  },
  "language_info": {
   "codemirror_mode": {
    "name": "ipython",
    "version": 3
   },
   "file_extension": ".py",
   "mimetype": "text/x-python",
   "name": "python",
   "nbconvert_exporter": "python",
   "pygments_lexer": "ipython3",
   "version": "3.9.10"
  }
 },
 "nbformat": 4,
 "nbformat_minor": 2
}
