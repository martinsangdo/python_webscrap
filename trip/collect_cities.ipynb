{
 "cells": [
  {
   "cell_type": "code",
   "execution_count": 61,
   "metadata": {},
   "outputs": [
    {
     "ename": "ModuleNotFoundError",
     "evalue": "No module named 'pymongo'",
     "output_type": "error",
     "traceback": [
      "\u001b[0;31m---------------------------------------------------------------------------\u001b[0m",
      "\u001b[0;31mModuleNotFoundError\u001b[0m                       Traceback (most recent call last)",
      "Cell \u001b[0;32mIn[61], line 6\u001b[0m\n\u001b[1;32m      4\u001b[0m \u001b[38;5;28;01mfrom\u001b[39;00m\u001b[38;5;250m \u001b[39m\u001b[38;5;21;01mdotenv\u001b[39;00m\u001b[38;5;250m \u001b[39m\u001b[38;5;28;01mimport\u001b[39;00m load_dotenv\n\u001b[1;32m      5\u001b[0m \u001b[38;5;28;01mimport\u001b[39;00m\u001b[38;5;250m \u001b[39m\u001b[38;5;21;01mos\u001b[39;00m\n\u001b[0;32m----> 6\u001b[0m \u001b[38;5;28;01mimport\u001b[39;00m\u001b[38;5;250m \u001b[39m\u001b[38;5;21;01mpymongo\u001b[39;00m\n",
      "\u001b[0;31mModuleNotFoundError\u001b[0m: No module named 'pymongo'"
     ]
    }
   ],
   "source": [
    "import requests\n",
    "import csv\n",
    "from pathlib import Path\n",
    "from dotenv import load_dotenv\n",
    "import os\n",
    "import pymongo"
   ]
  },
  {
   "cell_type": "code",
   "execution_count": 26,
   "metadata": {},
   "outputs": [],
   "source": [
    "load_dotenv() \n",
    "WONDER_URL = os.environ['WONDER_URL']\n",
    "TRIP_URL = os.environ['TRIP_URL']"
   ]
  },
  {
   "cell_type": "markdown",
   "metadata": {},
   "source": [
    "comment_detail = {\n",
    "        'symbol': symbol,\n",
    "        'uuid': comment_uuid,\n",
    "        'usr': username,\n",
    "        'like': cmt_like,\n",
    "        'time': rand_time,\n",
    "        'text': str_comment.replace('  ', ' ')\n",
    "    }\n",
    "    tbl_comment.insert_one(comment_detail)\n",
    "\n",
    "\n",
    "    tbl_stock.update_one({'symbol': symbol}, {'$set':{\n",
    "                'name': stock_detail['name'],\n",
    "                'industry': stock_detail['finnhubIndustry'],\n",
    "                'ipo': stock_detail['ipo'],\n",
    "                'cap': stock_detail['marketCapitalization'],\n",
    "                'web': stock_detail['weburl']\n",
    "            }})\n",
    "\n",
    "            db_stock = tbl_stock.find_one({'name': None})\n"
   ]
  },
  {
   "cell_type": "code",
   "execution_count": null,
   "metadata": {},
   "outputs": [],
   "source": []
  },
  {
   "cell_type": "code",
   "execution_count": null,
   "metadata": {},
   "outputs": [],
   "source": [
    "db_client = pymongo.MongoClient('mongodb://localhost:27017')\n",
    "collections = db_client['db_ai_travel_planner']\n",
    "tb_city = collections['tb_city']"
   ]
  },
  {
   "cell_type": "code",
   "execution_count": 27,
   "metadata": {},
   "outputs": [],
   "source": [
    "def custom_query(get_url):\n",
    "    print(get_url)\n",
    "    try:\n",
    "        r = requests.get(get_url)\n",
    "        return r.json()\n",
    "    except Exception as e:\n",
    "       print(e)\n",
    "       return r"
   ]
  },
  {
   "cell_type": "code",
   "execution_count": 47,
   "metadata": {},
   "outputs": [],
   "source": [
    "def post_request(keyword):\n",
    "    url =  TRIP_URL + '20400/getGsMainSuggestForTripOnline'\n",
    "    HEADER = {'Content-Type': 'application/json'}\n",
    "    json_data = {\n",
    "        \"keyword\": keyword.lower(),\n",
    "        \"head\": {\n",
    "            \"extension\": [\n",
    "                {\n",
    "                    \"name\": \"locale\",\n",
    "                    \"value\": \"en-US\"\n",
    "                },\n",
    "                {\n",
    "                    \"name\": \"platform\",\n",
    "                    \"value\": \"Online\"\n",
    "                },\n",
    "                {\n",
    "                    \"name\": \"userAgent\",\n",
    "                    \"value\": \"Mozilla/5.0 (Macintosh; Intel Mac OS X 10_15_7) AppleWebKit/537.36 (KHTML, like Gecko) Chrome/133.0.0.0 Safari/537.36\"\n",
    "                }\n",
    "            ]\n",
    "        }\n",
    "    }\n",
    "\n",
    "    try:\n",
    "        r = requests.post(url, headers=HEADER, json=json_data)\n",
    "        return r.json()\n",
    "    except Exception as e:\n",
    "       print(e)\n",
    "       return e"
   ]
  },
  {
   "cell_type": "code",
   "execution_count": 28,
   "metadata": {},
   "outputs": [],
   "source": [
    "def load_csv(filepath):\n",
    "    data = []\n",
    "    with open(filepath, 'r', newline='', encoding='utf-8') as csvfile:  # Handle encoding!\n",
    "        reader = csv.reader(csvfile)  # Or csv.DictReader for dictionaries\n",
    "        header = next(reader)  # Read the header row (if it exists)\n",
    "        for row in reader:\n",
    "            data.append(row)  # Or data.append(dict(zip(header, row))) for DictReader\n",
    "    return header, data  # Return header and data"
   ]
  },
  {
   "cell_type": "code",
   "execution_count": null,
   "metadata": {},
   "outputs": [],
   "source": [
    "def search_city_in_trip(city):\n",
    "    result = custom_query(TRIP_URL + 'api/v1/destinations?page=0&q=' + city.lower())  #1.8s\n",
    "\n",
    "    return result['destinationMetas']"
   ]
  },
  {
   "cell_type": "code",
   "execution_count": 44,
   "metadata": {},
   "outputs": [],
   "source": [
    "def search_city_in_wonderplan(city):\n",
    "    result = custom_query(WONDER_URL + 'api/v1/destinations?page=0&q=' + city.lower())  #1.8s\n",
    "\n",
    "    return result['destinationMetas']"
   ]
  },
  {
   "cell_type": "code",
   "execution_count": 54,
   "metadata": {},
   "outputs": [
    {
     "name": "stdout",
     "output_type": "stream",
     "text": [
      "https://wonderplan.ai/api/v1/destinations?page=0&q=tokyo\n"
     ]
    },
    {
     "data": {
      "text/plain": [
       "{'city': 'Tokyo',\n",
       " 'country': 'Japan',\n",
       " 'wonder_id': 'JP/13/Tokyo',\n",
       " 'trip_id': 294}"
      ]
     },
     "execution_count": 54,
     "metadata": {},
     "output_type": "execute_result"
    }
   ],
   "source": [
    "#find common details between 2 services\n",
    "\n",
    "def find_match_cities(city, country):\n",
    "    response_data = {\n",
    "        'city': city,\n",
    "        'country': country,\n",
    "        'wonder_id': '',    #ID in wonderland, sample: DE/BY/Munich\n",
    "        'trip_id': 0,       #ID in trip, sample 1234\n",
    "    }\n",
    "    #1. find in wonderplan\n",
    "    wonder_cities = search_city_in_wonderplan(city)\n",
    "    if (len(wonder_cities) > 0):\n",
    "        #found it in Wonderplan\n",
    "        for item in wonder_cities:\n",
    "            if item['type'] == 'DESTINATION_TYPE_CITY':\n",
    "                response_data['wonder_id'] = item['id']\n",
    "                #2. find in trip\n",
    "                trip_cities = post_request(city)\n",
    "                if trip_cities['data'] != None:\n",
    "                    for trip_item in trip_cities['data']:\n",
    "                        if trip_item['type'] == 'district':\n",
    "                            if (city.lower() == trip_item['word'].lower().replace('<em>', '').replace('</em>', '')):\n",
    "                                response_data['trip_id'] = trip_item['id']\n",
    "                else:\n",
    "                    print('Not found city in Trip: ' + city + ' country: ' + country)\n",
    "    else:\n",
    "        print('Not found city in Wonderplan: ' + city + ' country: ' + country)\n",
    "    #2. find in trip\n",
    "\n",
    "    #get common id\n",
    "\n",
    "    return response_data\n",
    "\n",
    "find_match_cities('Tokyo', 'Japan')"
   ]
  },
  {
   "cell_type": "code",
   "execution_count": 38,
   "metadata": {},
   "outputs": [
    {
     "name": "stdout",
     "output_type": "stream",
     "text": [
      "Header: ['city', 'city_ascii', 'lat', 'lng', 'country', 'iso2', 'iso3', 'admin_name', 'capital', 'population', 'id']\n",
      "Tokyo\n",
      "https://wonderplan.ai/api/v1/destinations?page=0&q=tokyo\n",
      "{'city': 'Tokyo', 'country': 'Japan', 'wonder_id': '', 'trip_id': 0}\n"
     ]
    }
   ],
   "source": [
    "filepath = Path(\"./worldcities.csv\")  # Relative path (better)\n",
    "\n",
    "header, data = load_csv(filepath)\n",
    "\n",
    "if header:\n",
    "    print(\"Header:\", header)\n",
    "index = 0\n",
    "for row in data:\n",
    "    if index < 1:\n",
    "        print(row[0])\n",
    "        results = file_match_cities(row[0], row[4])\n",
    "        print(results)\n",
    "    index += 1"
   ]
  },
  {
   "cell_type": "code",
   "execution_count": null,
   "metadata": {},
   "outputs": [],
   "source": []
  }
 ],
 "metadata": {
  "kernelspec": {
   "display_name": "3.9.10",
   "language": "python",
   "name": "python3"
  },
  "language_info": {
   "codemirror_mode": {
    "name": "ipython",
    "version": 3
   },
   "file_extension": ".py",
   "mimetype": "text/x-python",
   "name": "python",
   "nbconvert_exporter": "python",
   "pygments_lexer": "ipython3",
   "version": "3.9.10"
  }
 },
 "nbformat": 4,
 "nbformat_minor": 2
}
