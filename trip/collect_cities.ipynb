{
 "cells": [
  {
   "cell_type": "code",
   "execution_count": 21,
   "metadata": {},
   "outputs": [],
   "source": [
    "import requests\n",
    "import csv\n",
    "from pathlib import Path\n",
    "from dotenv import load_dotenv\n",
    "import os\n",
    "import pymongo\n",
    "import uuid"
   ]
  },
  {
   "cell_type": "code",
   "execution_count": 9,
   "metadata": {},
   "outputs": [],
   "source": [
    "#find the path of python to install new package\n",
    "#import sys\n",
    "#sys.executable"
   ]
  },
  {
   "cell_type": "code",
   "execution_count": 10,
   "metadata": {},
   "outputs": [],
   "source": [
    "load_dotenv() \n",
    "WONDER_URL = os.environ['WONDER_URL']\n",
    "TRIP_URL = os.environ['TRIP_URL']"
   ]
  },
  {
   "cell_type": "code",
   "execution_count": 11,
   "metadata": {},
   "outputs": [],
   "source": [
    "db_client = pymongo.MongoClient('mongodb://localhost:27017')\n",
    "collections = db_client['db_ai_travel_planner']\n",
    "tb_city = collections['tb_city']"
   ]
  },
  {
   "cell_type": "code",
   "execution_count": 44,
   "metadata": {},
   "outputs": [],
   "source": [
    "def custom_query(get_url):\n",
    "    #print(get_url)\n",
    "    try:\n",
    "        r = requests.get(get_url)\n",
    "        return r.json()\n",
    "    except Exception as e:\n",
    "       print(e)\n",
    "       return r"
   ]
  },
  {
   "cell_type": "code",
   "execution_count": null,
   "metadata": {},
   "outputs": [],
   "source": [
    "def search_trip_locations(keyword):\n",
    "    url =  TRIP_URL + '20400/getGsMainSuggestForTripOnline'\n",
    "    HEADER = {'Content-Type': 'application/json'}\n",
    "    json_data = {\n",
    "        \"keyword\": keyword.lower(),\n",
    "        \"head\": {\n",
    "            \"extension\": [\n",
    "                {\n",
    "                    \"name\": \"locale\",\n",
    "                    \"value\": \"en-US\"\n",
    "                },\n",
    "                {\n",
    "                    \"name\": \"platform\",\n",
    "                    \"value\": \"Online\"\n",
    "                },\n",
    "                {\n",
    "                    \"name\": \"userAgent\",\n",
    "                    \"value\": \"Mozilla/5.0 (Macintosh; Intel Mac OS X 10_15_7) AppleWebKit/537.36 (KHTML, like Gecko) Chrome/133.0.0.0 Safari/537.36\"\n",
    "                }\n",
    "            ]\n",
    "        }\n",
    "    }\n",
    "\n",
    "    try:\n",
    "        r = requests.post(url, headers=HEADER, json=json_data)\n",
    "        return r.json()\n",
    "    except Exception as e:\n",
    "       print(e)\n",
    "       return e"
   ]
  },
  {
   "cell_type": "code",
   "execution_count": 14,
   "metadata": {},
   "outputs": [],
   "source": [
    "def load_csv(filepath):\n",
    "    data = []\n",
    "    with open(filepath, 'r', newline='', encoding='utf-8') as csvfile:  # Handle encoding!\n",
    "        reader = csv.reader(csvfile)  # Or csv.DictReader for dictionaries\n",
    "        header = next(reader)  # Read the header row (if it exists)\n",
    "        for row in reader:\n",
    "            data.append(row)  # Or data.append(dict(zip(header, row))) for DictReader\n",
    "    return header, data  # Return header and data"
   ]
  },
  {
   "cell_type": "code",
   "execution_count": 15,
   "metadata": {},
   "outputs": [],
   "source": [
    "def search_city_in_trip(city):\n",
    "    result = custom_query(TRIP_URL + 'api/v1/destinations?page=0&q=' + city.lower())  #1.8s\n",
    "\n",
    "    return result['destinationMetas']"
   ]
  },
  {
   "cell_type": "code",
   "execution_count": 16,
   "metadata": {},
   "outputs": [],
   "source": [
    "def search_city_in_wonderplan(city):\n",
    "    result = custom_query(WONDER_URL + 'api/v1/destinations?page=0&q=' + city.lower())  #1.8s\n",
    "\n",
    "    return result['destinationMetas']"
   ]
  },
  {
   "cell_type": "code",
   "execution_count": null,
   "metadata": {},
   "outputs": [
    {
     "name": "stdout",
     "output_type": "stream",
     "text": [
      "https://wonderplan.ai/api/v1/destinations?page=0&q=tokyo\n"
     ]
    },
    {
     "data": {
      "text/plain": [
       "{'city': 'Tokyo',\n",
       " 'country': 'Japan',\n",
       " 'wonder_id': 'JP/13/Tokyo',\n",
       " 'trip_id': 294}"
      ]
     },
     "execution_count": 19,
     "metadata": {},
     "output_type": "execute_result"
    }
   ],
   "source": [
    "#find common details between 2 services\n",
    "\n",
    "def find_match_cities(city, country):\n",
    "    response_data = {\n",
    "        'city': city,\n",
    "        'country': country,\n",
    "        #'wonder_id': '',    #ID in wonderland, sample: DE/BY/Munich\n",
    "        #'trip_id': 0,       #ID in trip, sample 1234\n",
    "    }\n",
    "    #1. find in wonderplan\n",
    "    wonder_cities = search_city_in_wonderplan(city)\n",
    "    if (len(wonder_cities) > 0):\n",
    "        #found it in Wonderplan\n",
    "        for item in wonder_cities:\n",
    "            if item['type'] == 'DESTINATION_TYPE_CITY':\n",
    "                response_data['wonder_id'] = item['id']\n",
    "                #2. find in trip\n",
    "                trip_cities = search_trip_locations(city)\n",
    "                if trip_cities['data'] != None:\n",
    "                    for trip_item in trip_cities['data']:\n",
    "                        if trip_item['type'] == 'district':\n",
    "                            if (city.lower() == trip_item['word'].lower().replace('<em>', '').replace('</em>', '')):\n",
    "                                response_data['trip_id'] = trip_item['id']\n",
    "                else:\n",
    "                    print('Not found city in Trip: ' + city + ' country: ' + country)\n",
    "    else:\n",
    "        print('Not found city in Wonderplan: ' + city + ' country: ' + country)\n",
    "    #2. find in trip\n",
    "\n",
    "    #get common id\n",
    "\n",
    "    return response_data\n",
    "\n",
    "find_match_cities('Tokyo', 'Japan')"
   ]
  },
  {
   "cell_type": "code",
   "execution_count": 22,
   "metadata": {},
   "outputs": [],
   "source": [
    "def generate_random_uuid():\n",
    "    \"\"\"Generates a random UUID (Universally Unique Identifier).\n",
    "\n",
    "    Returns:\n",
    "        A string representing the UUID.\n",
    "    \"\"\"\n",
    "    return str(uuid.uuid4())"
   ]
  },
  {
   "cell_type": "code",
   "execution_count": 31,
   "metadata": {},
   "outputs": [
    {
     "name": "stdout",
     "output_type": "stream",
     "text": [
      "{'Afghanistan': 'asia', 'Aland Islands': 'europe', 'Albania': 'europe', 'Algeria': 'africa', 'American Samoa': 'australia', 'Andorra': 'europe', 'Angola': 'africa', 'Anguilla': 'america', 'Antarctica': 'polar', 'Antigua and Barbuda': 'america', 'Argentina': 'america', 'Armenia': 'asia', 'Aruba': 'america', 'Australia': 'australia', 'Austria': 'europe', 'Azerbaijan': 'asia', 'Bahrain': 'asia', 'Bangladesh': 'asia', 'Barbados': 'america', 'Belarus': 'europe', 'Belgium': 'europe', 'Belize': 'america', 'Benin': 'africa', 'Bermuda': 'america', 'Bhutan': 'asia', 'Bolivia': 'america', 'Bonaire, Sint Eustatius and Saba': 'america', 'Bosnia and Herzegovina': 'europe', 'Botswana': 'africa', 'Brazil': 'america', 'British Indian Ocean Territory': 'africa', 'Brunei': 'asia', 'Bulgaria': 'europe', 'Burkina Faso': 'africa', 'Burundi': 'africa', 'Cambodia': 'asia', 'Cameroon': 'africa', 'Canada': 'america', 'Cape Verde': 'africa', 'Cayman Islands': 'america', 'Central African Republic': 'africa', 'Chad': 'africa', 'Chile': 'america', 'China': 'asia', 'Christmas Island': 'australia', 'Cocos (Keeling) Islands': 'australia', 'Colombia': 'america', 'Comoros': 'africa', 'Congo': 'africa', 'Cook Islands': 'australia', 'Costa Rica': 'america', \"Cote D'Ivoire (Ivory Coast)\": 'africa', 'Croatia': 'europe', 'Cuba': 'america', 'Curaçao': 'america', 'Cyprus': 'europe', 'Czech Republic': 'europe', 'Democratic Republic of the Congo': 'africa', 'Denmark': 'europe', 'Djibouti': 'africa', 'Dominica': 'america', 'Dominican Republic': 'america', 'Ecuador': 'america', 'Egypt': 'africa', 'El Salvador': 'america', 'Equatorial Guinea': 'africa', 'Eritrea': 'africa', 'Estonia': 'europe', 'Eswatini': 'africa', 'Ethiopia': 'africa', 'Falkland Islands': 'america', 'Faroe Islands': 'europe', 'Fiji Islands': 'australia', 'Finland': 'europe', 'France': 'europe', 'French Guiana': 'america', 'French Polynesia': 'australia', 'French Southern Territories': 'africa', 'Gabon': 'africa', 'Georgia': 'asia', 'Germany': 'europe', 'Ghana': 'africa', 'Gibraltar': 'europe', 'Greece': 'europe', 'Greenland': 'america', 'Grenada': 'america', 'Guadeloupe': 'america', 'Guam': 'australia', 'Guatemala': 'america', 'Guernsey and Alderney': 'europe', 'Guinea': 'africa', 'Guinea-Bissau': 'africa', 'Guyana': 'america', 'Haiti': 'america', 'Honduras': 'america', 'Hong Kong S.A.R.': 'asia', 'Hungary': 'europe', 'Iceland': 'europe', 'India': 'asia', 'Indonesia': 'asia', 'Iran': 'asia', 'Iraq': 'asia', 'Ireland': 'europe', 'Israel': 'asia', 'Italy': 'europe', 'Jamaica': 'america', 'Japan': 'asia', 'Jersey': 'europe', 'Jordan': 'asia', 'Kazakhstan': 'asia', 'Kenya': 'africa', 'Kiribati': 'australia', 'Kosovo': 'europe', 'Kuwait': 'asia', 'Kyrgyzstan': 'asia', 'Laos': 'asia', 'Latvia': 'europe', 'Lebanon': 'asia', 'Lesotho': 'africa', 'Liberia': 'africa', 'Libya': 'africa', 'Liechtenstein': 'europe', 'Lithuania': 'europe', 'Luxembourg': 'europe', 'Macau S.A.R.': 'asia', 'Madagascar': 'africa', 'Malawi': 'africa', 'Malaysia': 'asia', 'Maldives': 'asia', 'Mali': 'africa', 'Malta': 'europe', 'Man (Isle of)': 'europe', 'Marshall Islands': 'australia', 'Martinique': 'america', 'Mauritania': 'africa', 'Mauritius': 'africa', 'Mayotte': 'africa', 'Mexico': 'america', 'Micronesia': 'australia', 'Moldova': 'europe', 'Monaco': 'europe', 'Mongolia': 'asia', 'Montenegro': 'europe', 'Montserrat': 'america', 'Morocco': 'africa', 'Mozambique': 'africa', 'Myanmar': 'asia', 'Namibia': 'africa', 'Nauru': 'australia', 'Nepal': 'asia', 'Netherlands': 'europe', 'New Caledonia': 'australia', 'New Zealand': 'australia', 'Nicaragua': 'america', 'Niger': 'africa', 'Nigeria': 'africa', 'Niue': 'australia', 'Norfolk Island': 'australia', 'North Korea': 'asia', 'North Macedonia': 'europe', 'Northern Mariana Islands': 'australia', 'Norway': 'europe', 'Oman': 'asia', 'Pakistan': 'asia', 'Palau': 'australia', 'Palestinian Territory Occupied': 'asia', 'Panama': 'america', 'Papua New Guinea': 'australia', 'Paraguay': 'america', 'Peru': 'america', 'Philippines': 'asia', 'Pitcairn Island': 'australia', 'Poland': 'europe', 'Portugal': 'europe', 'Puerto Rico': 'america', 'Qatar': 'asia', 'Reunion': 'africa', 'Romania': 'europe', 'Russia': 'europe', 'Rwanda': 'africa', 'Saint Helena': 'africa', 'Saint Kitts and Nevis': 'america', 'Saint Lucia': 'america', 'Saint Pierre and Miquelon': 'america', 'Saint Vincent and the Grenadines': 'america', 'Saint-Barthelemy': 'america', 'Saint-Martin (French part)': 'america', 'Samoa': 'australia', 'San Marino': 'europe', 'Sao Tome and Principe': 'africa', 'Saudi Arabia': 'asia', 'Senegal': 'africa', 'Serbia': 'europe', 'Seychelles': 'africa', 'Sierra Leone': 'africa', 'Singapore': 'asia', 'Sint Maarten (Dutch part)': 'america', 'Slovakia': 'europe', 'Slovenia': 'europe', 'Solomon Islands': 'australia', 'Somalia': 'africa', 'South Africa': 'africa', 'South Georgia': 'america', 'South Korea': 'asia', 'South Sudan': 'africa', 'Spain': 'europe', 'Sri Lanka': 'asia', 'Sudan': 'africa', 'Suriname': 'america', 'Svalbard and Jan Mayen Islands': 'europe', 'Sweden': 'europe', 'Switzerland': 'europe', 'Syria': 'asia', 'Taiwan': 'asia', 'Tajikistan': 'asia', 'Tanzania': 'africa', 'Thailand': 'asia', 'The Bahamas': 'america', 'The Gambia ': 'africa', 'Timor-Leste': 'asia', 'Togo': 'africa', 'Tokelau': 'australia', 'Tonga': 'australia', 'Trinidad and Tobago': 'america', 'Tunisia': 'africa', 'Turkey': 'asia', 'Turkmenistan': 'asia', 'Turks and Caicos Islands': 'america', 'Tuvalu': 'australia', 'Uganda': 'africa', 'Ukraine': 'europe', 'United Arab Emirates': 'asia', 'United Kingdom': 'europe', 'United States': 'america', 'United States Minor Outlying Islands': 'america', 'Uruguay': 'america', 'Uzbekistan': 'asia', 'Vanuatu': 'australia', 'Vatican City State (Holy See)': 'europe', 'Venezuela': 'america', 'Vietnam': 'asia', 'Virgin Islands (British)': 'america', 'Virgin Islands (US)': 'america', 'Wallis and Futuna Islands': 'australia', 'Western Sahara': 'africa', 'Yemen': 'asia', 'Zambia': 'africa', 'Zimbabwe': 'africa'}\n"
     ]
    }
   ],
   "source": [
    "continent_map = {}  #key: country, value: continent\n",
    "continents = {} #key: continent, value: 1\n",
    "#read continent info\n",
    "header, data = load_csv(Path(\"./countries.csv\"))\n",
    "for row in data:\n",
    "    continent = row[12].replace('Americas', 'America').replace('Oceania', 'Australia').lower()\n",
    "    if continent != '' and continent != 'Polar':\n",
    "        continent_map[row[1]] = continent\n",
    "    # if row[12] not in continents:\n",
    "    #     continents[row[12]] = 1\n",
    "print(continent_map)"
   ]
  },
  {
   "cell_type": "code",
   "execution_count": 39,
   "metadata": {},
   "outputs": [],
   "source": [
    "#find other info of city\n",
    "def get_trip_details(trip_city_id):\n",
    "    url =  TRIP_URL + '19913/getTripAttractionList'\n",
    "    HEADER = {'Content-Type': 'application/json'}\n",
    "    json_data = {\n",
    "        \"head\": {\n",
    "            \"extension\": [\n",
    "                {\n",
    "                    \"name\": \"platform\",\n",
    "                    \"value\": \"Online\"\n",
    "                },\n",
    "                {\n",
    "                    \"name\": \"locale\",\n",
    "                    \"value\": \"en-US\"\n",
    "                }\n",
    "            ]\n",
    "        },\n",
    "        \"districtId\": trip_city_id,\n",
    "        \"index\": 1,\n",
    "        \"count\": 20,\n",
    "        \"returnModuleType\": \"all\"\n",
    "    }\n",
    "\n",
    "    try:\n",
    "        r = requests.post(url, headers=HEADER, json=json_data)\n",
    "        return r.json()\n",
    "    except Exception as e:\n",
    "       print(e)\n",
    "       return e\n",
    "#test\n"
   ]
  },
  {
   "cell_type": "code",
   "execution_count": null,
   "metadata": {},
   "outputs": [
    {
     "name": "stdout",
     "output_type": "stream",
     "text": [
      "Not found city: São Paulo country: Brazil\n",
      "Finish city# 1\n",
      "Continent not found: Korea, South\n",
      "Finish city# 2\n",
      "Not found city in Wonderplan: Mexico City country: Mexico\n",
      "Not found city: Mexico City country: Mexico\n",
      "Finish city# 3\n",
      "Not found city in Wonderplan: Kolkāta country: India\n",
      "Not found city: Kolkāta country: India\n",
      "Finish city# 4\n",
      "Not found city: Istanbul country: Turkey\n",
      "Finish city# 5\n"
     ]
    },
    {
     "ename": "KeyboardInterrupt",
     "evalue": "",
     "output_type": "error",
     "traceback": [
      "\u001b[0;31m---------------------------------------------------------------------------\u001b[0m",
      "\u001b[0;31mKeyboardInterrupt\u001b[0m                         Traceback (most recent call last)",
      "Cell \u001b[0;32mIn[52], line 16\u001b[0m\n\u001b[1;32m     14\u001b[0m \u001b[38;5;66;03m#never scrape info of this city\u001b[39;00m\n\u001b[1;32m     15\u001b[0m \u001b[38;5;28;01mif\u001b[39;00m index \u001b[38;5;241m<\u001b[39m \u001b[38;5;241m100\u001b[39m:\n\u001b[0;32m---> 16\u001b[0m     results \u001b[38;5;241m=\u001b[39m \u001b[43mfind_match_cities\u001b[49m\u001b[43m(\u001b[49m\u001b[43mcity\u001b[49m\u001b[43m,\u001b[49m\u001b[43m \u001b[49m\u001b[43mcountry\u001b[49m\u001b[43m)\u001b[49m\n\u001b[1;32m     17\u001b[0m     \u001b[38;5;28;01mif\u001b[39;00m \u001b[38;5;124m'\u001b[39m\u001b[38;5;124mwonder_id\u001b[39m\u001b[38;5;124m'\u001b[39m \u001b[38;5;129;01mnot\u001b[39;00m \u001b[38;5;129;01min\u001b[39;00m results \u001b[38;5;129;01mor\u001b[39;00m \u001b[38;5;124m'\u001b[39m\u001b[38;5;124mtrip_id\u001b[39m\u001b[38;5;124m'\u001b[39m \u001b[38;5;129;01mnot\u001b[39;00m \u001b[38;5;129;01min\u001b[39;00m results:\n\u001b[1;32m     18\u001b[0m         error_cities[city] \u001b[38;5;241m=\u001b[39m \u001b[38;5;124m'\u001b[39m\u001b[38;5;124mNot found city\u001b[39m\u001b[38;5;124m'\u001b[39m\n",
      "Cell \u001b[0;32mIn[19], line 11\u001b[0m, in \u001b[0;36mfind_match_cities\u001b[0;34m(city, country)\u001b[0m\n\u001b[1;32m      4\u001b[0m response_data \u001b[38;5;241m=\u001b[39m {\n\u001b[1;32m      5\u001b[0m     \u001b[38;5;124m'\u001b[39m\u001b[38;5;124mcity\u001b[39m\u001b[38;5;124m'\u001b[39m: city,\n\u001b[1;32m      6\u001b[0m     \u001b[38;5;124m'\u001b[39m\u001b[38;5;124mcountry\u001b[39m\u001b[38;5;124m'\u001b[39m: country,\n\u001b[1;32m      7\u001b[0m     \u001b[38;5;66;03m#'wonder_id': '',    #ID in wonderland, sample: DE/BY/Munich\u001b[39;00m\n\u001b[1;32m      8\u001b[0m     \u001b[38;5;66;03m#'trip_id': 0,       #ID in trip, sample 1234\u001b[39;00m\n\u001b[1;32m      9\u001b[0m }\n\u001b[1;32m     10\u001b[0m \u001b[38;5;66;03m#1. find in wonderplan\u001b[39;00m\n\u001b[0;32m---> 11\u001b[0m wonder_cities \u001b[38;5;241m=\u001b[39m \u001b[43msearch_city_in_wonderplan\u001b[49m\u001b[43m(\u001b[49m\u001b[43mcity\u001b[49m\u001b[43m)\u001b[49m\n\u001b[1;32m     12\u001b[0m \u001b[38;5;28;01mif\u001b[39;00m (\u001b[38;5;28mlen\u001b[39m(wonder_cities) \u001b[38;5;241m>\u001b[39m \u001b[38;5;241m0\u001b[39m):\n\u001b[1;32m     13\u001b[0m     \u001b[38;5;66;03m#found it in Wonderplan\u001b[39;00m\n\u001b[1;32m     14\u001b[0m     \u001b[38;5;28;01mfor\u001b[39;00m item \u001b[38;5;129;01min\u001b[39;00m wonder_cities:\n",
      "Cell \u001b[0;32mIn[16], line 2\u001b[0m, in \u001b[0;36msearch_city_in_wonderplan\u001b[0;34m(city)\u001b[0m\n\u001b[1;32m      1\u001b[0m \u001b[38;5;28;01mdef\u001b[39;00m\u001b[38;5;250m \u001b[39m\u001b[38;5;21msearch_city_in_wonderplan\u001b[39m(city):\n\u001b[0;32m----> 2\u001b[0m     result \u001b[38;5;241m=\u001b[39m \u001b[43mcustom_query\u001b[49m\u001b[43m(\u001b[49m\u001b[43mWONDER_URL\u001b[49m\u001b[43m \u001b[49m\u001b[38;5;241;43m+\u001b[39;49m\u001b[43m \u001b[49m\u001b[38;5;124;43m'\u001b[39;49m\u001b[38;5;124;43mapi/v1/destinations?page=0&q=\u001b[39;49m\u001b[38;5;124;43m'\u001b[39;49m\u001b[43m \u001b[49m\u001b[38;5;241;43m+\u001b[39;49m\u001b[43m \u001b[49m\u001b[43mcity\u001b[49m\u001b[38;5;241;43m.\u001b[39;49m\u001b[43mlower\u001b[49m\u001b[43m(\u001b[49m\u001b[43m)\u001b[49m\u001b[43m)\u001b[49m  \u001b[38;5;66;03m#1.8s\u001b[39;00m\n\u001b[1;32m      4\u001b[0m     \u001b[38;5;28;01mreturn\u001b[39;00m result[\u001b[38;5;124m'\u001b[39m\u001b[38;5;124mdestinationMetas\u001b[39m\u001b[38;5;124m'\u001b[39m]\n",
      "Cell \u001b[0;32mIn[44], line 4\u001b[0m, in \u001b[0;36mcustom_query\u001b[0;34m(get_url)\u001b[0m\n\u001b[1;32m      1\u001b[0m \u001b[38;5;28;01mdef\u001b[39;00m\u001b[38;5;250m \u001b[39m\u001b[38;5;21mcustom_query\u001b[39m(get_url):\n\u001b[1;32m      2\u001b[0m     \u001b[38;5;66;03m#print(get_url)\u001b[39;00m\n\u001b[1;32m      3\u001b[0m     \u001b[38;5;28;01mtry\u001b[39;00m:\n\u001b[0;32m----> 4\u001b[0m         r \u001b[38;5;241m=\u001b[39m \u001b[43mrequests\u001b[49m\u001b[38;5;241;43m.\u001b[39;49m\u001b[43mget\u001b[49m\u001b[43m(\u001b[49m\u001b[43mget_url\u001b[49m\u001b[43m)\u001b[49m\n\u001b[1;32m      5\u001b[0m         \u001b[38;5;28;01mreturn\u001b[39;00m r\u001b[38;5;241m.\u001b[39mjson()\n\u001b[1;32m      6\u001b[0m     \u001b[38;5;28;01mexcept\u001b[39;00m \u001b[38;5;167;01mException\u001b[39;00m \u001b[38;5;28;01mas\u001b[39;00m e:\n",
      "File \u001b[0;32m~/.pyenv/versions/3.9.10/lib/python3.9/site-packages/requests/api.py:73\u001b[0m, in \u001b[0;36mget\u001b[0;34m(url, params, **kwargs)\u001b[0m\n\u001b[1;32m     62\u001b[0m \u001b[38;5;28;01mdef\u001b[39;00m\u001b[38;5;250m \u001b[39m\u001b[38;5;21mget\u001b[39m(url, params\u001b[38;5;241m=\u001b[39m\u001b[38;5;28;01mNone\u001b[39;00m, \u001b[38;5;241m*\u001b[39m\u001b[38;5;241m*\u001b[39mkwargs):\n\u001b[1;32m     63\u001b[0m \u001b[38;5;250m    \u001b[39m\u001b[38;5;124mr\u001b[39m\u001b[38;5;124;03m\"\"\"Sends a GET request.\u001b[39;00m\n\u001b[1;32m     64\u001b[0m \n\u001b[1;32m     65\u001b[0m \u001b[38;5;124;03m    :param url: URL for the new :class:`Request` object.\u001b[39;00m\n\u001b[0;32m   (...)\u001b[0m\n\u001b[1;32m     70\u001b[0m \u001b[38;5;124;03m    :rtype: requests.Response\u001b[39;00m\n\u001b[1;32m     71\u001b[0m \u001b[38;5;124;03m    \"\"\"\u001b[39;00m\n\u001b[0;32m---> 73\u001b[0m     \u001b[38;5;28;01mreturn\u001b[39;00m \u001b[43mrequest\u001b[49m\u001b[43m(\u001b[49m\u001b[38;5;124;43m\"\u001b[39;49m\u001b[38;5;124;43mget\u001b[39;49m\u001b[38;5;124;43m\"\u001b[39;49m\u001b[43m,\u001b[49m\u001b[43m \u001b[49m\u001b[43murl\u001b[49m\u001b[43m,\u001b[49m\u001b[43m \u001b[49m\u001b[43mparams\u001b[49m\u001b[38;5;241;43m=\u001b[39;49m\u001b[43mparams\u001b[49m\u001b[43m,\u001b[49m\u001b[43m \u001b[49m\u001b[38;5;241;43m*\u001b[39;49m\u001b[38;5;241;43m*\u001b[39;49m\u001b[43mkwargs\u001b[49m\u001b[43m)\u001b[49m\n",
      "File \u001b[0;32m~/.pyenv/versions/3.9.10/lib/python3.9/site-packages/requests/api.py:59\u001b[0m, in \u001b[0;36mrequest\u001b[0;34m(method, url, **kwargs)\u001b[0m\n\u001b[1;32m     55\u001b[0m \u001b[38;5;66;03m# By using the 'with' statement we are sure the session is closed, thus we\u001b[39;00m\n\u001b[1;32m     56\u001b[0m \u001b[38;5;66;03m# avoid leaving sockets open which can trigger a ResourceWarning in some\u001b[39;00m\n\u001b[1;32m     57\u001b[0m \u001b[38;5;66;03m# cases, and look like a memory leak in others.\u001b[39;00m\n\u001b[1;32m     58\u001b[0m \u001b[38;5;28;01mwith\u001b[39;00m sessions\u001b[38;5;241m.\u001b[39mSession() \u001b[38;5;28;01mas\u001b[39;00m session:\n\u001b[0;32m---> 59\u001b[0m     \u001b[38;5;28;01mreturn\u001b[39;00m \u001b[43msession\u001b[49m\u001b[38;5;241;43m.\u001b[39;49m\u001b[43mrequest\u001b[49m\u001b[43m(\u001b[49m\u001b[43mmethod\u001b[49m\u001b[38;5;241;43m=\u001b[39;49m\u001b[43mmethod\u001b[49m\u001b[43m,\u001b[49m\u001b[43m \u001b[49m\u001b[43murl\u001b[49m\u001b[38;5;241;43m=\u001b[39;49m\u001b[43murl\u001b[49m\u001b[43m,\u001b[49m\u001b[43m \u001b[49m\u001b[38;5;241;43m*\u001b[39;49m\u001b[38;5;241;43m*\u001b[39;49m\u001b[43mkwargs\u001b[49m\u001b[43m)\u001b[49m\n",
      "File \u001b[0;32m~/.pyenv/versions/3.9.10/lib/python3.9/site-packages/requests/sessions.py:589\u001b[0m, in \u001b[0;36mSession.request\u001b[0;34m(self, method, url, params, data, headers, cookies, files, auth, timeout, allow_redirects, proxies, hooks, stream, verify, cert, json)\u001b[0m\n\u001b[1;32m    584\u001b[0m send_kwargs \u001b[38;5;241m=\u001b[39m {\n\u001b[1;32m    585\u001b[0m     \u001b[38;5;124m\"\u001b[39m\u001b[38;5;124mtimeout\u001b[39m\u001b[38;5;124m\"\u001b[39m: timeout,\n\u001b[1;32m    586\u001b[0m     \u001b[38;5;124m\"\u001b[39m\u001b[38;5;124mallow_redirects\u001b[39m\u001b[38;5;124m\"\u001b[39m: allow_redirects,\n\u001b[1;32m    587\u001b[0m }\n\u001b[1;32m    588\u001b[0m send_kwargs\u001b[38;5;241m.\u001b[39mupdate(settings)\n\u001b[0;32m--> 589\u001b[0m resp \u001b[38;5;241m=\u001b[39m \u001b[38;5;28;43mself\u001b[39;49m\u001b[38;5;241;43m.\u001b[39;49m\u001b[43msend\u001b[49m\u001b[43m(\u001b[49m\u001b[43mprep\u001b[49m\u001b[43m,\u001b[49m\u001b[43m \u001b[49m\u001b[38;5;241;43m*\u001b[39;49m\u001b[38;5;241;43m*\u001b[39;49m\u001b[43msend_kwargs\u001b[49m\u001b[43m)\u001b[49m\n\u001b[1;32m    591\u001b[0m \u001b[38;5;28;01mreturn\u001b[39;00m resp\n",
      "File \u001b[0;32m~/.pyenv/versions/3.9.10/lib/python3.9/site-packages/requests/sessions.py:703\u001b[0m, in \u001b[0;36mSession.send\u001b[0;34m(self, request, **kwargs)\u001b[0m\n\u001b[1;32m    700\u001b[0m start \u001b[38;5;241m=\u001b[39m preferred_clock()\n\u001b[1;32m    702\u001b[0m \u001b[38;5;66;03m# Send the request\u001b[39;00m\n\u001b[0;32m--> 703\u001b[0m r \u001b[38;5;241m=\u001b[39m \u001b[43madapter\u001b[49m\u001b[38;5;241;43m.\u001b[39;49m\u001b[43msend\u001b[49m\u001b[43m(\u001b[49m\u001b[43mrequest\u001b[49m\u001b[43m,\u001b[49m\u001b[43m \u001b[49m\u001b[38;5;241;43m*\u001b[39;49m\u001b[38;5;241;43m*\u001b[39;49m\u001b[43mkwargs\u001b[49m\u001b[43m)\u001b[49m\n\u001b[1;32m    705\u001b[0m \u001b[38;5;66;03m# Total elapsed time of the request (approximately)\u001b[39;00m\n\u001b[1;32m    706\u001b[0m elapsed \u001b[38;5;241m=\u001b[39m preferred_clock() \u001b[38;5;241m-\u001b[39m start\n",
      "File \u001b[0;32m~/.pyenv/versions/3.9.10/lib/python3.9/site-packages/requests/adapters.py:667\u001b[0m, in \u001b[0;36mHTTPAdapter.send\u001b[0;34m(self, request, stream, timeout, verify, cert, proxies)\u001b[0m\n\u001b[1;32m    664\u001b[0m     timeout \u001b[38;5;241m=\u001b[39m TimeoutSauce(connect\u001b[38;5;241m=\u001b[39mtimeout, read\u001b[38;5;241m=\u001b[39mtimeout)\n\u001b[1;32m    666\u001b[0m \u001b[38;5;28;01mtry\u001b[39;00m:\n\u001b[0;32m--> 667\u001b[0m     resp \u001b[38;5;241m=\u001b[39m \u001b[43mconn\u001b[49m\u001b[38;5;241;43m.\u001b[39;49m\u001b[43murlopen\u001b[49m\u001b[43m(\u001b[49m\n\u001b[1;32m    668\u001b[0m \u001b[43m        \u001b[49m\u001b[43mmethod\u001b[49m\u001b[38;5;241;43m=\u001b[39;49m\u001b[43mrequest\u001b[49m\u001b[38;5;241;43m.\u001b[39;49m\u001b[43mmethod\u001b[49m\u001b[43m,\u001b[49m\n\u001b[1;32m    669\u001b[0m \u001b[43m        \u001b[49m\u001b[43murl\u001b[49m\u001b[38;5;241;43m=\u001b[39;49m\u001b[43murl\u001b[49m\u001b[43m,\u001b[49m\n\u001b[1;32m    670\u001b[0m \u001b[43m        \u001b[49m\u001b[43mbody\u001b[49m\u001b[38;5;241;43m=\u001b[39;49m\u001b[43mrequest\u001b[49m\u001b[38;5;241;43m.\u001b[39;49m\u001b[43mbody\u001b[49m\u001b[43m,\u001b[49m\n\u001b[1;32m    671\u001b[0m \u001b[43m        \u001b[49m\u001b[43mheaders\u001b[49m\u001b[38;5;241;43m=\u001b[39;49m\u001b[43mrequest\u001b[49m\u001b[38;5;241;43m.\u001b[39;49m\u001b[43mheaders\u001b[49m\u001b[43m,\u001b[49m\n\u001b[1;32m    672\u001b[0m \u001b[43m        \u001b[49m\u001b[43mredirect\u001b[49m\u001b[38;5;241;43m=\u001b[39;49m\u001b[38;5;28;43;01mFalse\u001b[39;49;00m\u001b[43m,\u001b[49m\n\u001b[1;32m    673\u001b[0m \u001b[43m        \u001b[49m\u001b[43massert_same_host\u001b[49m\u001b[38;5;241;43m=\u001b[39;49m\u001b[38;5;28;43;01mFalse\u001b[39;49;00m\u001b[43m,\u001b[49m\n\u001b[1;32m    674\u001b[0m \u001b[43m        \u001b[49m\u001b[43mpreload_content\u001b[49m\u001b[38;5;241;43m=\u001b[39;49m\u001b[38;5;28;43;01mFalse\u001b[39;49;00m\u001b[43m,\u001b[49m\n\u001b[1;32m    675\u001b[0m \u001b[43m        \u001b[49m\u001b[43mdecode_content\u001b[49m\u001b[38;5;241;43m=\u001b[39;49m\u001b[38;5;28;43;01mFalse\u001b[39;49;00m\u001b[43m,\u001b[49m\n\u001b[1;32m    676\u001b[0m \u001b[43m        \u001b[49m\u001b[43mretries\u001b[49m\u001b[38;5;241;43m=\u001b[39;49m\u001b[38;5;28;43mself\u001b[39;49m\u001b[38;5;241;43m.\u001b[39;49m\u001b[43mmax_retries\u001b[49m\u001b[43m,\u001b[49m\n\u001b[1;32m    677\u001b[0m \u001b[43m        \u001b[49m\u001b[43mtimeout\u001b[49m\u001b[38;5;241;43m=\u001b[39;49m\u001b[43mtimeout\u001b[49m\u001b[43m,\u001b[49m\n\u001b[1;32m    678\u001b[0m \u001b[43m        \u001b[49m\u001b[43mchunked\u001b[49m\u001b[38;5;241;43m=\u001b[39;49m\u001b[43mchunked\u001b[49m\u001b[43m,\u001b[49m\n\u001b[1;32m    679\u001b[0m \u001b[43m    \u001b[49m\u001b[43m)\u001b[49m\n\u001b[1;32m    681\u001b[0m \u001b[38;5;28;01mexcept\u001b[39;00m (ProtocolError, \u001b[38;5;167;01mOSError\u001b[39;00m) \u001b[38;5;28;01mas\u001b[39;00m err:\n\u001b[1;32m    682\u001b[0m     \u001b[38;5;28;01mraise\u001b[39;00m \u001b[38;5;167;01mConnectionError\u001b[39;00m(err, request\u001b[38;5;241m=\u001b[39mrequest)\n",
      "File \u001b[0;32m~/.pyenv/versions/3.9.10/lib/python3.9/site-packages/urllib3/connectionpool.py:787\u001b[0m, in \u001b[0;36mHTTPConnectionPool.urlopen\u001b[0;34m(self, method, url, body, headers, retries, redirect, assert_same_host, timeout, pool_timeout, release_conn, chunked, body_pos, preload_content, decode_content, **response_kw)\u001b[0m\n\u001b[1;32m    784\u001b[0m response_conn \u001b[38;5;241m=\u001b[39m conn \u001b[38;5;28;01mif\u001b[39;00m \u001b[38;5;129;01mnot\u001b[39;00m release_conn \u001b[38;5;28;01melse\u001b[39;00m \u001b[38;5;28;01mNone\u001b[39;00m\n\u001b[1;32m    786\u001b[0m \u001b[38;5;66;03m# Make the request on the HTTPConnection object\u001b[39;00m\n\u001b[0;32m--> 787\u001b[0m response \u001b[38;5;241m=\u001b[39m \u001b[38;5;28;43mself\u001b[39;49m\u001b[38;5;241;43m.\u001b[39;49m\u001b[43m_make_request\u001b[49m\u001b[43m(\u001b[49m\n\u001b[1;32m    788\u001b[0m \u001b[43m    \u001b[49m\u001b[43mconn\u001b[49m\u001b[43m,\u001b[49m\n\u001b[1;32m    789\u001b[0m \u001b[43m    \u001b[49m\u001b[43mmethod\u001b[49m\u001b[43m,\u001b[49m\n\u001b[1;32m    790\u001b[0m \u001b[43m    \u001b[49m\u001b[43murl\u001b[49m\u001b[43m,\u001b[49m\n\u001b[1;32m    791\u001b[0m \u001b[43m    \u001b[49m\u001b[43mtimeout\u001b[49m\u001b[38;5;241;43m=\u001b[39;49m\u001b[43mtimeout_obj\u001b[49m\u001b[43m,\u001b[49m\n\u001b[1;32m    792\u001b[0m \u001b[43m    \u001b[49m\u001b[43mbody\u001b[49m\u001b[38;5;241;43m=\u001b[39;49m\u001b[43mbody\u001b[49m\u001b[43m,\u001b[49m\n\u001b[1;32m    793\u001b[0m \u001b[43m    \u001b[49m\u001b[43mheaders\u001b[49m\u001b[38;5;241;43m=\u001b[39;49m\u001b[43mheaders\u001b[49m\u001b[43m,\u001b[49m\n\u001b[1;32m    794\u001b[0m \u001b[43m    \u001b[49m\u001b[43mchunked\u001b[49m\u001b[38;5;241;43m=\u001b[39;49m\u001b[43mchunked\u001b[49m\u001b[43m,\u001b[49m\n\u001b[1;32m    795\u001b[0m \u001b[43m    \u001b[49m\u001b[43mretries\u001b[49m\u001b[38;5;241;43m=\u001b[39;49m\u001b[43mretries\u001b[49m\u001b[43m,\u001b[49m\n\u001b[1;32m    796\u001b[0m \u001b[43m    \u001b[49m\u001b[43mresponse_conn\u001b[49m\u001b[38;5;241;43m=\u001b[39;49m\u001b[43mresponse_conn\u001b[49m\u001b[43m,\u001b[49m\n\u001b[1;32m    797\u001b[0m \u001b[43m    \u001b[49m\u001b[43mpreload_content\u001b[49m\u001b[38;5;241;43m=\u001b[39;49m\u001b[43mpreload_content\u001b[49m\u001b[43m,\u001b[49m\n\u001b[1;32m    798\u001b[0m \u001b[43m    \u001b[49m\u001b[43mdecode_content\u001b[49m\u001b[38;5;241;43m=\u001b[39;49m\u001b[43mdecode_content\u001b[49m\u001b[43m,\u001b[49m\n\u001b[1;32m    799\u001b[0m \u001b[43m    \u001b[49m\u001b[38;5;241;43m*\u001b[39;49m\u001b[38;5;241;43m*\u001b[39;49m\u001b[43mresponse_kw\u001b[49m\u001b[43m,\u001b[49m\n\u001b[1;32m    800\u001b[0m \u001b[43m\u001b[49m\u001b[43m)\u001b[49m\n\u001b[1;32m    802\u001b[0m \u001b[38;5;66;03m# Everything went great!\u001b[39;00m\n\u001b[1;32m    803\u001b[0m clean_exit \u001b[38;5;241m=\u001b[39m \u001b[38;5;28;01mTrue\u001b[39;00m\n",
      "File \u001b[0;32m~/.pyenv/versions/3.9.10/lib/python3.9/site-packages/urllib3/connectionpool.py:534\u001b[0m, in \u001b[0;36mHTTPConnectionPool._make_request\u001b[0;34m(self, conn, method, url, body, headers, retries, timeout, chunked, response_conn, preload_content, decode_content, enforce_content_length)\u001b[0m\n\u001b[1;32m    532\u001b[0m \u001b[38;5;66;03m# Receive the response from the server\u001b[39;00m\n\u001b[1;32m    533\u001b[0m \u001b[38;5;28;01mtry\u001b[39;00m:\n\u001b[0;32m--> 534\u001b[0m     response \u001b[38;5;241m=\u001b[39m \u001b[43mconn\u001b[49m\u001b[38;5;241;43m.\u001b[39;49m\u001b[43mgetresponse\u001b[49m\u001b[43m(\u001b[49m\u001b[43m)\u001b[49m\n\u001b[1;32m    535\u001b[0m \u001b[38;5;28;01mexcept\u001b[39;00m (BaseSSLError, \u001b[38;5;167;01mOSError\u001b[39;00m) \u001b[38;5;28;01mas\u001b[39;00m e:\n\u001b[1;32m    536\u001b[0m     \u001b[38;5;28mself\u001b[39m\u001b[38;5;241m.\u001b[39m_raise_timeout(err\u001b[38;5;241m=\u001b[39me, url\u001b[38;5;241m=\u001b[39murl, timeout_value\u001b[38;5;241m=\u001b[39mread_timeout)\n",
      "File \u001b[0;32m~/.pyenv/versions/3.9.10/lib/python3.9/site-packages/urllib3/connection.py:516\u001b[0m, in \u001b[0;36mHTTPConnection.getresponse\u001b[0;34m(self)\u001b[0m\n\u001b[1;32m    513\u001b[0m _shutdown \u001b[38;5;241m=\u001b[39m \u001b[38;5;28mgetattr\u001b[39m(\u001b[38;5;28mself\u001b[39m\u001b[38;5;241m.\u001b[39msock, \u001b[38;5;124m\"\u001b[39m\u001b[38;5;124mshutdown\u001b[39m\u001b[38;5;124m\"\u001b[39m, \u001b[38;5;28;01mNone\u001b[39;00m)\n\u001b[1;32m    515\u001b[0m \u001b[38;5;66;03m# Get the response from http.client.HTTPConnection\u001b[39;00m\n\u001b[0;32m--> 516\u001b[0m httplib_response \u001b[38;5;241m=\u001b[39m \u001b[38;5;28;43msuper\u001b[39;49m\u001b[43m(\u001b[49m\u001b[43m)\u001b[49m\u001b[38;5;241;43m.\u001b[39;49m\u001b[43mgetresponse\u001b[49m\u001b[43m(\u001b[49m\u001b[43m)\u001b[49m\n\u001b[1;32m    518\u001b[0m \u001b[38;5;28;01mtry\u001b[39;00m:\n\u001b[1;32m    519\u001b[0m     assert_header_parsing(httplib_response\u001b[38;5;241m.\u001b[39mmsg)\n",
      "File \u001b[0;32m~/.pyenv/versions/3.9.10/lib/python3.9/http/client.py:1377\u001b[0m, in \u001b[0;36mHTTPConnection.getresponse\u001b[0;34m(self)\u001b[0m\n\u001b[1;32m   1375\u001b[0m \u001b[38;5;28;01mtry\u001b[39;00m:\n\u001b[1;32m   1376\u001b[0m     \u001b[38;5;28;01mtry\u001b[39;00m:\n\u001b[0;32m-> 1377\u001b[0m         \u001b[43mresponse\u001b[49m\u001b[38;5;241;43m.\u001b[39;49m\u001b[43mbegin\u001b[49m\u001b[43m(\u001b[49m\u001b[43m)\u001b[49m\n\u001b[1;32m   1378\u001b[0m     \u001b[38;5;28;01mexcept\u001b[39;00m \u001b[38;5;167;01mConnectionError\u001b[39;00m:\n\u001b[1;32m   1379\u001b[0m         \u001b[38;5;28mself\u001b[39m\u001b[38;5;241m.\u001b[39mclose()\n",
      "File \u001b[0;32m~/.pyenv/versions/3.9.10/lib/python3.9/http/client.py:320\u001b[0m, in \u001b[0;36mHTTPResponse.begin\u001b[0;34m(self)\u001b[0m\n\u001b[1;32m    318\u001b[0m \u001b[38;5;66;03m# read until we get a non-100 response\u001b[39;00m\n\u001b[1;32m    319\u001b[0m \u001b[38;5;28;01mwhile\u001b[39;00m \u001b[38;5;28;01mTrue\u001b[39;00m:\n\u001b[0;32m--> 320\u001b[0m     version, status, reason \u001b[38;5;241m=\u001b[39m \u001b[38;5;28;43mself\u001b[39;49m\u001b[38;5;241;43m.\u001b[39;49m\u001b[43m_read_status\u001b[49m\u001b[43m(\u001b[49m\u001b[43m)\u001b[49m\n\u001b[1;32m    321\u001b[0m     \u001b[38;5;28;01mif\u001b[39;00m status \u001b[38;5;241m!=\u001b[39m CONTINUE:\n\u001b[1;32m    322\u001b[0m         \u001b[38;5;28;01mbreak\u001b[39;00m\n",
      "File \u001b[0;32m~/.pyenv/versions/3.9.10/lib/python3.9/http/client.py:281\u001b[0m, in \u001b[0;36mHTTPResponse._read_status\u001b[0;34m(self)\u001b[0m\n\u001b[1;32m    280\u001b[0m \u001b[38;5;28;01mdef\u001b[39;00m\u001b[38;5;250m \u001b[39m\u001b[38;5;21m_read_status\u001b[39m(\u001b[38;5;28mself\u001b[39m):\n\u001b[0;32m--> 281\u001b[0m     line \u001b[38;5;241m=\u001b[39m \u001b[38;5;28mstr\u001b[39m(\u001b[38;5;28;43mself\u001b[39;49m\u001b[38;5;241;43m.\u001b[39;49m\u001b[43mfp\u001b[49m\u001b[38;5;241;43m.\u001b[39;49m\u001b[43mreadline\u001b[49m\u001b[43m(\u001b[49m\u001b[43m_MAXLINE\u001b[49m\u001b[43m \u001b[49m\u001b[38;5;241;43m+\u001b[39;49m\u001b[43m \u001b[49m\u001b[38;5;241;43m1\u001b[39;49m\u001b[43m)\u001b[49m, \u001b[38;5;124m\"\u001b[39m\u001b[38;5;124miso-8859-1\u001b[39m\u001b[38;5;124m\"\u001b[39m)\n\u001b[1;32m    282\u001b[0m     \u001b[38;5;28;01mif\u001b[39;00m \u001b[38;5;28mlen\u001b[39m(line) \u001b[38;5;241m>\u001b[39m _MAXLINE:\n\u001b[1;32m    283\u001b[0m         \u001b[38;5;28;01mraise\u001b[39;00m LineTooLong(\u001b[38;5;124m\"\u001b[39m\u001b[38;5;124mstatus line\u001b[39m\u001b[38;5;124m\"\u001b[39m)\n",
      "File \u001b[0;32m~/.pyenv/versions/3.9.10/lib/python3.9/socket.py:704\u001b[0m, in \u001b[0;36mSocketIO.readinto\u001b[0;34m(self, b)\u001b[0m\n\u001b[1;32m    702\u001b[0m \u001b[38;5;28;01mwhile\u001b[39;00m \u001b[38;5;28;01mTrue\u001b[39;00m:\n\u001b[1;32m    703\u001b[0m     \u001b[38;5;28;01mtry\u001b[39;00m:\n\u001b[0;32m--> 704\u001b[0m         \u001b[38;5;28;01mreturn\u001b[39;00m \u001b[38;5;28;43mself\u001b[39;49m\u001b[38;5;241;43m.\u001b[39;49m\u001b[43m_sock\u001b[49m\u001b[38;5;241;43m.\u001b[39;49m\u001b[43mrecv_into\u001b[49m\u001b[43m(\u001b[49m\u001b[43mb\u001b[49m\u001b[43m)\u001b[49m\n\u001b[1;32m    705\u001b[0m     \u001b[38;5;28;01mexcept\u001b[39;00m timeout:\n\u001b[1;32m    706\u001b[0m         \u001b[38;5;28mself\u001b[39m\u001b[38;5;241m.\u001b[39m_timeout_occurred \u001b[38;5;241m=\u001b[39m \u001b[38;5;28;01mTrue\u001b[39;00m\n",
      "File \u001b[0;32m~/.pyenv/versions/3.9.10/lib/python3.9/ssl.py:1241\u001b[0m, in \u001b[0;36mSSLSocket.recv_into\u001b[0;34m(self, buffer, nbytes, flags)\u001b[0m\n\u001b[1;32m   1237\u001b[0m     \u001b[38;5;28;01mif\u001b[39;00m flags \u001b[38;5;241m!=\u001b[39m \u001b[38;5;241m0\u001b[39m:\n\u001b[1;32m   1238\u001b[0m         \u001b[38;5;28;01mraise\u001b[39;00m \u001b[38;5;167;01mValueError\u001b[39;00m(\n\u001b[1;32m   1239\u001b[0m           \u001b[38;5;124m\"\u001b[39m\u001b[38;5;124mnon-zero flags not allowed in calls to recv_into() on \u001b[39m\u001b[38;5;132;01m%s\u001b[39;00m\u001b[38;5;124m\"\u001b[39m \u001b[38;5;241m%\u001b[39m\n\u001b[1;32m   1240\u001b[0m           \u001b[38;5;28mself\u001b[39m\u001b[38;5;241m.\u001b[39m\u001b[38;5;18m__class__\u001b[39m)\n\u001b[0;32m-> 1241\u001b[0m     \u001b[38;5;28;01mreturn\u001b[39;00m \u001b[38;5;28;43mself\u001b[39;49m\u001b[38;5;241;43m.\u001b[39;49m\u001b[43mread\u001b[49m\u001b[43m(\u001b[49m\u001b[43mnbytes\u001b[49m\u001b[43m,\u001b[49m\u001b[43m \u001b[49m\u001b[43mbuffer\u001b[49m\u001b[43m)\u001b[49m\n\u001b[1;32m   1242\u001b[0m \u001b[38;5;28;01melse\u001b[39;00m:\n\u001b[1;32m   1243\u001b[0m     \u001b[38;5;28;01mreturn\u001b[39;00m \u001b[38;5;28msuper\u001b[39m()\u001b[38;5;241m.\u001b[39mrecv_into(buffer, nbytes, flags)\n",
      "File \u001b[0;32m~/.pyenv/versions/3.9.10/lib/python3.9/ssl.py:1099\u001b[0m, in \u001b[0;36mSSLSocket.read\u001b[0;34m(self, len, buffer)\u001b[0m\n\u001b[1;32m   1097\u001b[0m \u001b[38;5;28;01mtry\u001b[39;00m:\n\u001b[1;32m   1098\u001b[0m     \u001b[38;5;28;01mif\u001b[39;00m buffer \u001b[38;5;129;01mis\u001b[39;00m \u001b[38;5;129;01mnot\u001b[39;00m \u001b[38;5;28;01mNone\u001b[39;00m:\n\u001b[0;32m-> 1099\u001b[0m         \u001b[38;5;28;01mreturn\u001b[39;00m \u001b[38;5;28;43mself\u001b[39;49m\u001b[38;5;241;43m.\u001b[39;49m\u001b[43m_sslobj\u001b[49m\u001b[38;5;241;43m.\u001b[39;49m\u001b[43mread\u001b[49m\u001b[43m(\u001b[49m\u001b[38;5;28;43mlen\u001b[39;49m\u001b[43m,\u001b[49m\u001b[43m \u001b[49m\u001b[43mbuffer\u001b[49m\u001b[43m)\u001b[49m\n\u001b[1;32m   1100\u001b[0m     \u001b[38;5;28;01melse\u001b[39;00m:\n\u001b[1;32m   1101\u001b[0m         \u001b[38;5;28;01mreturn\u001b[39;00m \u001b[38;5;28mself\u001b[39m\u001b[38;5;241m.\u001b[39m_sslobj\u001b[38;5;241m.\u001b[39mread(\u001b[38;5;28mlen\u001b[39m)\n",
      "\u001b[0;31mKeyboardInterrupt\u001b[0m: "
     ]
    }
   ],
   "source": [
    "filepath = Path(\"./worldcities.csv\")  # Relative path (better)\n",
    "\n",
    "header, data = load_csv(filepath)\n",
    "\n",
    "index = 0\n",
    "error_cities = {}\n",
    "for row in data:\n",
    "    city = row[0]\n",
    "    country = row[4]\n",
    "    #find if the city existed in db\n",
    "    db_city = tb_city.find_one({'name': city, 'country': country})\n",
    "    if db_city is not None:\n",
    "       continue;    #do not get info of this city again\n",
    "    #never scrape info of this city\n",
    "    if index < 50000:\n",
    "        results = find_match_cities(city, country)\n",
    "        if 'wonder_id' not in results or 'trip_id' not in results:\n",
    "            error_cities[city] = 'Not found city'\n",
    "            print('Not found city: ' + city + ' country: ' + country)\n",
    "        else:\n",
    "            #find other relevant info of city\n",
    "            if country not in continent_map:\n",
    "                error_cities[city] = 'Not found continent'\n",
    "                print('Continent not found: ' + country)\n",
    "            else:\n",
    "                raw_details = get_trip_details(results['trip_id'])\n",
    "                totalReview = 0\n",
    "                imgUrls = []\n",
    "                for item in raw_details['attractionList']:\n",
    "                    if 'card' in item:\n",
    "                        if len(imgUrls) < 4:    #we store max 5 image\n",
    "                            imgUrls.append(item['card']['coverImageUrl'])\n",
    "                        if 'commentInfo' in item['card']:\n",
    "                            totalReview += item['card']['commentInfo']['commentCount']\n",
    "                        \n",
    "                if len(imgUrls) == 0:\n",
    "                    #no other info\n",
    "                    error_cities[city] = 'Not found other info'\n",
    "                    print('Not found other info: ' + city + ' country: ' + country)\n",
    "                else:\n",
    "                    #city has enough essential info\n",
    "                    #upsert city detail into db\n",
    "                    if db_city is None:\n",
    "                        #not found, insert one\n",
    "                        new_city_info = {\n",
    "                            'uuid': generate_random_uuid(),\n",
    "                            'name': city,\n",
    "                            'country': country,\n",
    "                            'city_id': results['trip_id'],\n",
    "                            'continent': continent_map[country],\n",
    "                            'review': totalReview,\n",
    "                            'img': imgUrls[0],\n",
    "                            'imgUrls': imgUrls,\n",
    "                            'wonder_id': results['wonder_id']\n",
    "                        }\n",
    "                        tb_city.insert_one(new_city_info)\n",
    "                        print(\"Inserted +++++++++++ city: \" + city)\n",
    "                    else:\n",
    "                        #update info\n",
    "                        update_city_info = {\n",
    "                            'name': city,\n",
    "                            'country': country,\n",
    "                            'city_id': results['trip_id'],\n",
    "                            'continent': continent_map[country],\n",
    "                            'review': totalReview,\n",
    "                            'img': imgUrls[0],\n",
    "                            'imgUrls': imgUrls,\n",
    "                            'wonder_id': results['wonder_id']\n",
    "                        }\n",
    "                        tb_city.update_one({'uuid': db_city['uuid']}, {'$set': update_city_info})\n",
    "                        print(\"Updated --- city: \" + city)\n",
    "    index += 1\n",
    "    print('Finish city# ' + str(index))"
   ]
  },
  {
   "cell_type": "code",
   "execution_count": 53,
   "metadata": {},
   "outputs": [
    {
     "name": "stdout",
     "output_type": "stream",
     "text": [
      "{'São Paulo': 'Not found city', 'Seoul': 'Not found continent', 'Mexico City': 'Not found city', 'Kolkāta': 'Not found city', 'Istanbul': 'Not found city'}\n"
     ]
    }
   ],
   "source": [
    "print(error_cities)"
   ]
  },
  {
   "cell_type": "code",
   "execution_count": null,
   "metadata": {},
   "outputs": [],
   "source": []
  }
 ],
 "metadata": {
  "kernelspec": {
   "display_name": "3.9.10",
   "language": "python",
   "name": "python3"
  },
  "language_info": {
   "codemirror_mode": {
    "name": "ipython",
    "version": 3
   },
   "file_extension": ".py",
   "mimetype": "text/x-python",
   "name": "python",
   "nbconvert_exporter": "python",
   "pygments_lexer": "ipython3",
   "version": "3.9.10"
  }
 },
 "nbformat": 4,
 "nbformat_minor": 2
}
