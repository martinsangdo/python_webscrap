{
 "cells": [
  {
   "cell_type": "code",
   "execution_count": 2,
   "metadata": {},
   "outputs": [],
   "source": [
    "import requests\n",
    "import csv\n",
    "from pathlib import Path\n",
    "from dotenv import load_dotenv\n",
    "import os\n",
    "import pymongo\n",
    "import uuid"
   ]
  },
  {
   "cell_type": "code",
   "execution_count": 3,
   "metadata": {},
   "outputs": [],
   "source": [
    "#find the path of python to install new package\n",
    "#import sys\n",
    "#sys.executable"
   ]
  },
  {
   "cell_type": "code",
   "execution_count": 4,
   "metadata": {},
   "outputs": [],
   "source": [
    "load_dotenv() \n",
    "WONDER_URL = os.environ['WONDER_URL']\n",
    "TRIP_URL = os.environ['TRIP_URL']"
   ]
  },
  {
   "cell_type": "code",
   "execution_count": 5,
   "metadata": {},
   "outputs": [],
   "source": [
    "db_client = pymongo.MongoClient('mongodb://localhost:27017')\n",
    "collections = db_client['db_ai_travel_planner']\n",
    "tb_city = collections['tb_city']"
   ]
  },
  {
   "cell_type": "code",
   "execution_count": 6,
   "metadata": {},
   "outputs": [],
   "source": [
    "def custom_query(get_url):\n",
    "    #print(get_url)\n",
    "    try:\n",
    "        r = requests.get(get_url)\n",
    "        return r.json()\n",
    "    except Exception as e:\n",
    "       print(e)\n",
    "       return r"
   ]
  },
  {
   "cell_type": "code",
   "execution_count": null,
   "metadata": {},
   "outputs": [],
   "source": [
    "def search_trip_locations(keyword):\n",
    "    url =  TRIP_URL + '20400/getGsMainSuggestForTripOnline'\n",
    "    HEADER = {'Content-Type': 'application/json'}\n",
    "    json_data = {\n",
    "        \"keyword\": keyword.lower(),\n",
    "        \"head\": {\n",
    "            \"extension\": [\n",
    "                {\n",
    "                    \"name\": \"locale\",\n",
    "                    \"value\": \"en-US\"\n",
    "                },\n",
    "                {\n",
    "                    \"name\": \"platform\",\n",
    "                    \"value\": \"Online\"\n",
    "                },\n",
    "                {\n",
    "                    \"name\": \"userAgent\",\n",
    "                    \"value\": \"Mozilla/5.0 (Macintosh; Intel Mac OS X 10_15_7) AppleWebKit/537.36 (KHTML, like Gecko) Chrome/133.0.0.0 Safari/537.36\"\n",
    "                }\n",
    "            ]\n",
    "        }\n",
    "    }\n",
    "\n",
    "    try:\n",
    "        r = requests.post(url, headers=HEADER, json=json_data)\n",
    "        return r.json()\n",
    "    except Exception as e:\n",
    "       print(e)\n",
    "       return {'error': e}"
   ]
  },
  {
   "cell_type": "code",
   "execution_count": 8,
   "metadata": {},
   "outputs": [],
   "source": [
    "def load_csv(filepath):\n",
    "    data = []\n",
    "    with open(filepath, 'r', newline='', encoding='utf-8') as csvfile:  # Handle encoding!\n",
    "        reader = csv.reader(csvfile)  # Or csv.DictReader for dictionaries\n",
    "        header = next(reader)  # Read the header row (if it exists)\n",
    "        for row in reader:\n",
    "            data.append(row)  # Or data.append(dict(zip(header, row))) for DictReader\n",
    "    return header, data  # Return header and data"
   ]
  },
  {
   "cell_type": "code",
   "execution_count": 9,
   "metadata": {},
   "outputs": [],
   "source": [
    "def search_city_in_trip(city):\n",
    "    result = custom_query(TRIP_URL + 'api/v1/destinations?page=0&q=' + city.lower())  #1.8s\n",
    "\n",
    "    return result['destinationMetas']"
   ]
  },
  {
   "cell_type": "code",
   "execution_count": 10,
   "metadata": {},
   "outputs": [],
   "source": [
    "def search_city_in_wonderplan(city):\n",
    "    result = custom_query(WONDER_URL + 'api/v1/destinations?page=0&q=' + city.lower())  #1.8s\n",
    "\n",
    "    return result['destinationMetas']"
   ]
  },
  {
   "cell_type": "code",
   "execution_count": 11,
   "metadata": {},
   "outputs": [
    {
     "data": {
      "text/plain": [
       "{'city': 'Tokyo',\n",
       " 'country': 'Japan',\n",
       " 'wonder_id': 'JP/13/Tokyo',\n",
       " 'trip_id': 294}"
      ]
     },
     "execution_count": 11,
     "metadata": {},
     "output_type": "execute_result"
    }
   ],
   "source": [
    "#find common details between 2 services\n",
    "\n",
    "def find_match_cities(city, country):\n",
    "    response_data = {\n",
    "        'city': city,\n",
    "        'country': country,\n",
    "        #'wonder_id': '',    #ID in wonderland, sample: DE/BY/Munich\n",
    "        #'trip_id': 0,       #ID in trip, sample 1234\n",
    "    }\n",
    "    #1. find in wonderplan\n",
    "    wonder_cities = search_city_in_wonderplan(city)\n",
    "    if (len(wonder_cities) > 0):\n",
    "        #found it in Wonderplan\n",
    "        for item in wonder_cities:\n",
    "            if item['type'] == 'DESTINATION_TYPE_CITY':\n",
    "                response_data['wonder_id'] = item['id']\n",
    "                #2. find in trip\n",
    "                trip_cities = search_trip_locations(city)\n",
    "                if 'data' in trip_cities:\n",
    "                    for trip_item in trip_cities['data']:\n",
    "                        if trip_item['type'] == 'district':\n",
    "                            if (city.lower() == trip_item['word'].lower().replace('<em>', '').replace('</em>', '')):\n",
    "                                response_data['trip_id'] = trip_item['id']\n",
    "                #else:\n",
    "                    #print('Not found city in Trip: ' + city + ' country: ' + country)\n",
    "    #else:\n",
    "        #print('Not found city in Wonderplan: ' + city + ' country: ' + country)\n",
    "    #2. find in trip\n",
    "\n",
    "    #get common id\n",
    "\n",
    "    return response_data\n",
    "\n",
    "find_match_cities('Tokyo', 'Japan')"
   ]
  },
  {
   "cell_type": "code",
   "execution_count": 12,
   "metadata": {},
   "outputs": [],
   "source": [
    "def generate_random_uuid():\n",
    "    \"\"\"Generates a random UUID (Universally Unique Identifier).\n",
    "\n",
    "    Returns:\n",
    "        A string representing the UUID.\n",
    "    \"\"\"\n",
    "    return str(uuid.uuid4())"
   ]
  },
  {
   "cell_type": "code",
   "execution_count": 13,
   "metadata": {},
   "outputs": [],
   "source": [
    "continent_map = {}  #key: country, value: continent\n",
    "continents = {} #key: continent, value: 1\n",
    "#read continent info\n",
    "header, data = load_csv(Path(\"./countries.csv\"))\n",
    "for row in data:\n",
    "    continent = row[12].replace('Americas', 'America').replace('Oceania', 'Australia').lower()\n",
    "    if continent != '' and continent != 'Polar':\n",
    "        continent_map[row[1]] = continent\n",
    "    # if row[12] not in continents:\n",
    "    #     continents[row[12]] = 1\n",
    "#print(continent_map)"
   ]
  },
  {
   "cell_type": "code",
   "execution_count": 14,
   "metadata": {},
   "outputs": [],
   "source": [
    "#find other info of city\n",
    "def get_trip_details(trip_city_id):\n",
    "    url =  TRIP_URL + '19913/getTripAttractionList'\n",
    "    HEADER = {'Content-Type': 'application/json'}\n",
    "    json_data = {\n",
    "        \"head\": {\n",
    "            \"extension\": [\n",
    "                {\n",
    "                    \"name\": \"platform\",\n",
    "                    \"value\": \"Online\"\n",
    "                },\n",
    "                {\n",
    "                    \"name\": \"locale\",\n",
    "                    \"value\": \"en-US\"\n",
    "                }\n",
    "            ]\n",
    "        },\n",
    "        \"districtId\": trip_city_id,\n",
    "        \"index\": 1,\n",
    "        \"count\": 20,\n",
    "        \"returnModuleType\": \"all\"\n",
    "    }\n",
    "\n",
    "    try:\n",
    "        r = requests.post(url, headers=HEADER, json=json_data)\n",
    "        return r.json()\n",
    "    except Exception as e:\n",
    "       print(e)\n",
    "       return e\n",
    "#test\n"
   ]
  },
  {
   "cell_type": "code",
   "execution_count": null,
   "metadata": {},
   "outputs": [
    {
     "name": "stdout",
     "output_type": "stream",
     "text": [
      "Not found city: Baardheere country: Somalia\n",
      "Inserted +++++++++++ city with error: Baardheere\n",
      "Finish city# 1\n",
      "Not found city: Shīshgarh country: India\n",
      "Inserted +++++++++++ city with error: Shīshgarh\n",
      "Finish city# 2\n",
      "Not found city: Nerima country: Japan\n",
      "Inserted +++++++++++ city with error: Nerima\n",
      "Finish city# 3\n",
      "Not found city: Sizhan country: China\n",
      "Inserted +++++++++++ city with error: Sizhan\n",
      "Finish city# 4\n",
      "Not found city: Ciudad Guayana country: Venezuela\n",
      "Inserted +++++++++++ city with error: Ciudad Guayana\n",
      "Finish city# 5\n",
      "Inserted +++++++++++ city: Lichuan\n",
      "Finish city# 6\n",
      "Inserted +++++++++++ city: Licheng\n",
      "Finish city# 7\n",
      "Not found city: Santo André country: Brazil\n",
      "Inserted +++++++++++ city with error: Santo André\n",
      "Finish city# 8\n",
      "Not found city: Ōta-ku country: Japan\n",
      "Inserted +++++++++++ city with error: Ōta-ku\n",
      "Finish city# 9\n",
      "Not found city: Gaalkacyo country: Somalia\n",
      "Inserted +++++++++++ city with error: Gaalkacyo\n",
      "Finish city# 10\n"
     ]
    }
   ],
   "source": [
    "filepath = Path(\"./worldcities.csv\")  # Relative path (better)\n",
    "\n",
    "header, data = load_csv(filepath)\n",
    "\n",
    "index = 0\n",
    "error_cities = {}\n",
    "for row in data:\n",
    "    city = row[0]\n",
    "    country = row[4]\n",
    "    #find if the city existed in db\n",
    "    db_city = tb_city.find_one({'name': city, 'country': country})\n",
    "    if db_city is not None:\n",
    "       continue;    #do not get info of this city again\n",
    "    #never scrape info of this city\n",
    "    if index < 50000:\n",
    "        results = find_match_cities(city, country)\n",
    "        if 'wonder_id' not in results or 'trip_id' not in results:\n",
    "            error_cities[city] = 'Not found city'\n",
    "            print('Not found city: ' + city + ' country: ' + country)\n",
    "        else:\n",
    "            #find other relevant info of city\n",
    "            if country not in continent_map:\n",
    "                error_cities[city] = 'Not found continent'\n",
    "                print('Continent not found: ' + country)\n",
    "            else:\n",
    "                raw_details = get_trip_details(results['trip_id'])\n",
    "                totalReview = 0\n",
    "                imgUrls = []\n",
    "                if 'attractionList' in raw_details:\n",
    "                    for item in raw_details['attractionList']:\n",
    "                        if 'card' in item:\n",
    "                            if len(imgUrls) < 4:    #we store max 5 image\n",
    "                                imgUrls.append(item['card']['coverImageUrl'])\n",
    "                            if 'commentInfo' in item['card']:\n",
    "                                totalReview += item['card']['commentInfo']['commentCount']\n",
    "                            \n",
    "                    if len(imgUrls) == 0:\n",
    "                        #no other info\n",
    "                        error_cities[city] = 'Not found other info'\n",
    "                        print('Not found other info: ' + city + ' country: ' + country)\n",
    "                    else:\n",
    "                        #city has enough essential info\n",
    "                        #upsert city detail into db\n",
    "                        if db_city is None:\n",
    "                            #not found, insert one\n",
    "                            new_city_info = {\n",
    "                                'uuid': generate_random_uuid(),\n",
    "                                'name': city,\n",
    "                                'country': country,\n",
    "                                'city_id': results['trip_id'],\n",
    "                                'continent': continent_map[country],\n",
    "                                'review': totalReview,\n",
    "                                'img': imgUrls[0],\n",
    "                                'imgUrls': imgUrls,\n",
    "                                'wonder_id': results['wonder_id']\n",
    "                            }\n",
    "                            tb_city.insert_one(new_city_info)\n",
    "                            print(\"Inserted +++++++++++ city: \" + city)\n",
    "                        else:\n",
    "                            #update info\n",
    "                            update_city_info = {\n",
    "                                'name': city,\n",
    "                                'country': country,\n",
    "                                'city_id': results['trip_id'],\n",
    "                                'continent': continent_map[country],\n",
    "                                'review': totalReview,\n",
    "                                'img': imgUrls[0],\n",
    "                                'imgUrls': imgUrls,\n",
    "                                'wonder_id': results['wonder_id']\n",
    "                            }\n",
    "                            tb_city.update_one({'uuid': db_city['uuid']}, {'$set': update_city_info})\n",
    "                            print(\"Updated --- city: \" + city)\n",
    "                else:\n",
    "                    error_cities[city] = 'No attractions'\n",
    "                    print('No attractions: ' + city + ' country: ' + country)\n",
    "        if city in error_cities:\n",
    "            #this city has issue which cannot get full details -> save error so that we don't scrape again\n",
    "            if db_city is None:\n",
    "                new_city_info = {\n",
    "                    'uuid': generate_random_uuid(),\n",
    "                    'name': city,\n",
    "                    'country': country,\n",
    "                    'error': error_cities[city]\n",
    "                }\n",
    "                tb_city.insert_one(new_city_info)\n",
    "                print(\"Inserted +++++++++++ city with error: \" + city)\n",
    "            else:\n",
    "                update_city_info = {\n",
    "                    'error': error_cities[city]\n",
    "                }\n",
    "                print(update_city_info)\n",
    "                tb_city.update_one({'uuid': db_city['uuid']}, {'$set': update_city_info})\n",
    "                print(\"Updated --- city with error: \" + city)\n",
    "    index += 1\n",
    "    print('Finish city# ' + str(index))"
   ]
  },
  {
   "cell_type": "code",
   "execution_count": null,
   "metadata": {},
   "outputs": [
    {
     "name": "stdout",
     "output_type": "stream",
     "text": [
      "{'São Paulo': 'Not found city', 'Seoul': 'Not found continent', 'Mexico City': 'Not found city', 'Kolkāta': 'Not found city', 'Istanbul': 'Not found city'}\n"
     ]
    }
   ],
   "source": [
    "#print(error_cities)"
   ]
  },
  {
   "cell_type": "code",
   "execution_count": null,
   "metadata": {},
   "outputs": [],
   "source": []
  }
 ],
 "metadata": {
  "kernelspec": {
   "display_name": "3.9.10",
   "language": "python",
   "name": "python3"
  },
  "language_info": {
   "codemirror_mode": {
    "name": "ipython",
    "version": 3
   },
   "file_extension": ".py",
   "mimetype": "text/x-python",
   "name": "python",
   "nbconvert_exporter": "python",
   "pygments_lexer": "ipython3",
   "version": "3.9.10"
  }
 },
 "nbformat": 4,
 "nbformat_minor": 2
}
