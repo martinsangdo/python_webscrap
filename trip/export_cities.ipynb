{
 "cells": [
  {
   "cell_type": "code",
   "execution_count": 13,
   "metadata": {},
   "outputs": [],
   "source": [
    "import csv\n",
    "from pathlib import Path\n",
    "from dotenv import load_dotenv\n",
    "import os\n",
    "import pymongo\n",
    "import uuid\n",
    "import random\n",
    "import json\n"
   ]
  },
  {
   "cell_type": "code",
   "execution_count": 14,
   "metadata": {},
   "outputs": [],
   "source": [
    "db_client = pymongo.MongoClient('mongodb://localhost:27017')\n",
    "collections = db_client['db_ai_travel_planner']\n",
    "tb_city = collections['tb_city']"
   ]
  },
  {
   "cell_type": "code",
   "execution_count": 15,
   "metadata": {},
   "outputs": [],
   "source": [
    "IMAGE_URI = 'https://ak-d.tripcdn.com/images/'  #used to replace url when exporting data"
   ]
  },
  {
   "cell_type": "code",
   "execution_count": 16,
   "metadata": {},
   "outputs": [],
   "source": [
    "def load_csv(filepath):\n",
    "    data = []\n",
    "    with open(filepath, 'r', newline='', encoding='utf-8') as csvfile:  # Handle encoding!\n",
    "        reader = csv.reader(csvfile)  # Or csv.DictReader for dictionaries\n",
    "        header = next(reader)  # Read the header row (if it exists)\n",
    "        for row in reader:\n",
    "            data.append(row)  # Or data.append(dict(zip(header, row))) for DictReader\n",
    "    return header, data  # Return header and data"
   ]
  },
  {
   "cell_type": "code",
   "execution_count": 17,
   "metadata": {},
   "outputs": [],
   "source": [
    "continent_map = {}  #key: country, value: continent\n",
    "continents = {} #key: continent, value: 1\n",
    "#read continent info\n",
    "header, data = load_csv(Path(\"./countries.csv\"))\n",
    "for row in data:\n",
    "    continent = row[12].replace('Americas', 'America').replace('Oceania', 'Australia').lower()\n",
    "    if continent != '' and continent != 'Polar':\n",
    "        continent_map[row[1]] = continent\n",
    "#print(continent_map)"
   ]
  },
  {
   "cell_type": "code",
   "execution_count": 18,
   "metadata": {},
   "outputs": [],
   "source": [
    "header, data = load_csv(Path(\"./city_country_shortened.csv\"))\n",
    "for row in data:\n",
    "    if row[1] in continent_map:\n",
    "        #print(row[0] + ',' + row[1] + ',' + continent_map[row[1]])\n",
    "        a = 1\n",
    "    else:\n",
    "        print('Not found continent for this country ------ ' + row[1]) #replace country name in file countries.csv -> run code again to update the map\n"
   ]
  },
  {
   "cell_type": "code",
   "execution_count": 19,
   "metadata": {},
   "outputs": [],
   "source": [
    "continents = ['asia', 'america', 'africa', 'australia', 'europe']"
   ]
  },
  {
   "cell_type": "code",
   "execution_count": 20,
   "metadata": {},
   "outputs": [],
   "source": [
    "#select most commented cities for HOMEPAGE\n",
    "MIN_REVIEW_COUNT = 100\n",
    "\n",
    "def generate_cities_for_homepage():\n",
    "    homepageCityUUIDs = []  #list of city UUIDs that has image Urls\n",
    "    home_cities = {}\n",
    "    #top banner (randomly pick a city in europe) ~ 100 cities\n",
    "    query = {'continent':'europe', 'error': None, 'review': {'$gt': MIN_REVIEW_COUNT}}\n",
    "    top_review_cities = tb_city.find(query).sort({'review': -1}).limit(100)\n",
    "    total_docs = tb_city.count_documents(query)\n",
    "    rand_top_index = random.randint(0, total_docs)\n",
    "    top_banner_city = top_review_cities[rand_top_index]\n",
    "    homepageCityUUIDs.append(top_banner_city['uuid'])\n",
    "    home_cities['top_banner'] = {'n': top_banner_city['name'], 'c': top_banner_city['country']}\n",
    "    #print('Top banner city: ' + top_banner_city['name'] + ' country: ' + top_banner_city['country'])\n",
    "    #random pick (randomly pick a city in america or asia) ~ 100 cities\n",
    "    query = {'$or': [{'continent':'america'}, {'continent':'asia'}], 'error': None, 'review': {'$gt': MIN_REVIEW_COUNT}}\n",
    "    random_pick_cities = tb_city.find(query).sort({'review': -1}).limit(100)\n",
    "    total_docs = tb_city.count_documents(query)\n",
    "    rand_top_index = random.randint(0, total_docs)\n",
    "    rand_pick_city = random_pick_cities[rand_top_index]\n",
    "    homepageCityUUIDs.append(rand_pick_city['uuid'])\n",
    "    home_cities['random_pick'] = {'n': rand_pick_city['name'], 'c': rand_pick_city['country']}\n",
    "    #print('Random pick city: ' + rand_pick_city['name'] + ' country: ' + rand_pick_city['country'])\n",
    "    #each continent get randomly 20 cities (get 20 cities, sort by review count)\n",
    "    for continent in continents:\n",
    "        cities_in_continent = []\n",
    "        query = {'continent':continent, 'error': None, 'review': {'$gt': MIN_REVIEW_COUNT}}\n",
    "        pipeline = [\n",
    "            {\"$match\": query},\n",
    "            {\"$sample\": {\"size\": 20}}  #X random documents to show in homepage\n",
    "        ]\n",
    "        cities = list(tb_city.aggregate(pipeline))\n",
    "        for city in cities:\n",
    "            homepageCityUUIDs.append(city['uuid'])\n",
    "            cities_in_continent.append({'n': city['name'], 'c': city['country']})\n",
    "        home_cities[continent] = cities_in_continent\n",
    "    #\n",
    "    return home_cities, homepageCityUUIDs\n"
   ]
  },
  {
   "cell_type": "code",
   "execution_count": 21,
   "metadata": {},
   "outputs": [],
   "source": [
    "continent_keys = {  #map for reducing exported file\n",
    "    'asia': 1, \n",
    "    'america': 2, \n",
    "    'africa': 3, \n",
    "    'australia': 4, \n",
    "    'europe': 5\n",
    "}\n",
    "\n",
    "def map_continent_key(str_continent):\n",
    "    return continent_keys[str_continent]"
   ]
  },
  {
   "cell_type": "code",
   "execution_count": 22,
   "metadata": {},
   "outputs": [
    {
     "name": "stdout",
     "output_type": "stream",
     "text": [
      "{'top_banner': {'n': 'Gien', 'c': 'France'}, 'random_pick': {'n': 'Marilao', 'c': 'Philippines'}, 'asia': [{'n': 'Fukuchiyama', 'c': 'Japan'}, {'n': 'Shirakawa', 'c': 'Japan'}, {'n': 'Mtskheta', 'c': 'Georgia'}, {'n': 'Gongzhuling', 'c': 'China'}, {'n': 'Zhenjiang', 'c': 'China'}, {'n': 'Madridejos', 'c': 'Philippines'}, {'n': 'Subic', 'c': 'Philippines'}, {'n': 'Jiangmen', 'c': 'China'}, {'n': 'Nam Som', 'c': 'Thailand'}, {'n': 'Pavia', 'c': 'Philippines'}, {'n': 'Tangshan', 'c': 'China'}, {'n': 'Sakaki', 'c': 'Japan'}, {'n': 'Otofuke', 'c': 'Japan'}, {'n': 'Chuzhou', 'c': 'China'}, {'n': 'Karpuzlu', 'c': 'Turkey'}, {'n': 'Xintian', 'c': 'China'}, {'n': 'Kurihara', 'c': 'Japan'}, {'n': 'Klang', 'c': 'Malaysia'}, {'n': 'Sam Phran', 'c': 'Thailand'}, {'n': 'Hod HaSharon', 'c': 'Israel'}], 'america': [{'n': 'Scotch Plains', 'c': 'United States'}, {'n': 'Panthersville', 'c': 'United States'}, {'n': 'Richland Hills', 'c': 'United States'}, {'n': 'Valle Vista', 'c': 'United States'}, {'n': 'Poulsbo', 'c': 'United States'}, {'n': 'Lacombe', 'c': 'Canada'}, {'n': 'Jasmine Estates', 'c': 'United States'}, {'n': 'Hampton Bays', 'c': 'United States'}, {'n': 'White', 'c': 'United States'}, {'n': 'Goffstown', 'c': 'United States'}, {'n': 'Fort Saskatchewan', 'c': 'Canada'}, {'n': 'Gunbarrel', 'c': 'United States'}, {'n': 'Urcos', 'c': 'Peru'}, {'n': 'Florida Ridge', 'c': 'United States'}, {'n': 'Agoura Hills', 'c': 'United States'}, {'n': 'Beckley', 'c': 'United States'}, {'n': 'Harper Woods', 'c': 'United States'}, {'n': 'Tocaima', 'c': 'Colombia'}, {'n': 'Keene', 'c': 'United States'}, {'n': 'Mechanicstown', 'c': 'United States'}], 'africa': [{'n': 'Sodo', 'c': 'Ethiopia'}, {'n': 'Monrovia', 'c': 'Liberia'}, {'n': 'Ashton', 'c': 'South Africa'}, {'n': 'Kerugoya', 'c': 'Kenya'}, {'n': 'Kilosa', 'c': 'Tanzania'}, {'n': 'Imilchil', 'c': 'Morocco'}, {'n': 'Konza', 'c': 'Kenya'}, {'n': 'Cullinan', 'c': 'South Africa'}, {'n': 'Chefchaouene', 'c': 'Morocco'}, {'n': 'Benslimane', 'c': 'Morocco'}, {'n': 'Errachidia', 'c': 'Morocco'}, {'n': 'Chebli', 'c': 'Algeria'}, {'n': 'Kidal', 'c': 'Mali'}, {'n': 'Kenitra', 'c': 'Morocco'}, {'n': 'Nola', 'c': 'Central African Republic'}, {'n': 'Soliman', 'c': 'Tunisia'}, {'n': 'Blantyre', 'c': 'Malawi'}, {'n': 'Caledon', 'c': 'South Africa'}, {'n': 'Dundee', 'c': 'South Africa'}, {'n': 'El Affroun', 'c': 'Algeria'}], 'australia': [{'n': 'Katoomba', 'c': 'Australia'}, {'n': 'Brisbane', 'c': 'Australia'}, {'n': 'Thames', 'c': 'New Zealand'}, {'n': 'Moss Vale', 'c': 'Australia'}, {'n': 'Wanaka', 'c': 'New Zealand'}, {'n': 'Wallan', 'c': 'Australia'}, {'n': 'Parkes', 'c': 'Australia'}, {'n': 'Hokitika', 'c': 'New Zealand'}, {'n': 'Wollert', 'c': 'Australia'}, {'n': 'Coomera', 'c': 'Australia'}, {'n': 'Northcote', 'c': 'New Zealand'}, {'n': 'Queenstown', 'c': 'Australia'}, {'n': 'Tweed Heads', 'c': 'Australia'}, {'n': 'Colac', 'c': 'Australia'}, {'n': 'Ormeau', 'c': 'Australia'}, {'n': 'Christchurch', 'c': 'New Zealand'}, {'n': 'Tumut', 'c': 'Australia'}, {'n': 'Geelong', 'c': 'Australia'}, {'n': 'Charleville', 'c': 'Australia'}, {'n': 'Laverton', 'c': 'Australia'}], 'europe': [{'n': 'Bunkeflostrand', 'c': 'Sweden'}, {'n': 'Merelbeke', 'c': 'Belgium'}, {'n': 'Saint-Chamas', 'c': 'France'}, {'n': 'Rawa Mazowiecka', 'c': 'Poland'}, {'n': 'Mierlo', 'c': 'Netherlands'}, {'n': 'Karczew', 'c': 'Poland'}, {'n': 'Lauffen am Neckar', 'c': 'Germany'}, {'n': 'Lutterworth', 'c': 'United Kingdom'}, {'n': 'Jerez de la Frontera', 'c': 'Spain'}, {'n': 'Venosa', 'c': 'Italy'}, {'n': 'Nivelles', 'c': 'Belgium'}, {'n': 'Ludwigsburg', 'c': 'Germany'}, {'n': 'Prato', 'c': 'Italy'}, {'n': 'Eboli', 'c': 'Italy'}, {'n': 'Port-de-Bouc', 'c': 'France'}, {'n': 'Balashikha', 'c': 'Russia'}, {'n': 'Kidderminster', 'c': 'United Kingdom'}, {'n': 'Campodarsego', 'c': 'Italy'}, {'n': 'Fiesole', 'c': 'Italy'}, {'n': 'Lille', 'c': 'France'}]}\n",
      "102\n"
     ]
    }
   ],
   "source": [
    "#1. generate random cities to show in homepage\n",
    "home_cities, homepageCityUUIDs = generate_cities_for_homepage()\n",
    "print(home_cities)\n",
    "print(str(len(homepageCityUUIDs)))"
   ]
  },
  {
   "cell_type": "code",
   "execution_count": 23,
   "metadata": {},
   "outputs": [
    {
     "name": "stdout",
     "output_type": "stream",
     "text": [
      "asia : 4115\n",
      "america : 7780\n",
      "africa : 1356\n",
      "australia : 345\n",
      "europe : 8217\n",
      "All cities count: 21813\n"
     ]
    }
   ],
   "source": [
    "##export ALL cities that had data in db -> the file size should limit to 2 MB (reduce key name)\n",
    "#export all cities into json file\n",
    "all_cities = [] #data to export\n",
    "city_continent_map = {} #key: city, value: continent (just for counting how many cities in each continent)\n",
    "for continent in continents:\n",
    "    num_city_in_continent = 0\n",
    "    db_city = tb_city.find({'continent':continent, 'error': None})\n",
    "    for document in db_city:\n",
    "        #count how many cities in a continent\n",
    "        if document['name'] not in city_continent_map:\n",
    "            num_city_in_continent += 1\n",
    "        #save this city into the list\n",
    "        if (document['name'] == home_cities['top_banner']['n'] and document['country'] == home_cities['top_banner']['c']) or (document['name'] == home_cities['random_pick']['n'] and document['country'] == home_cities['random_pick']['c']):\n",
    "            newImgUrls = []\n",
    "            for imgUrl in document['imgUrls']:\n",
    "                newImgUrls.append(imgUrl.replace(IMAGE_URI, ''))\n",
    "            #get full info\n",
    "            all_cities.append({\n",
    "                \"n\" : document['name'],\n",
    "                \"c\" : document['country'],\n",
    "                \"o\": map_continent_key(document['continent']),\n",
    "                \"t\" : document['city_id'],\n",
    "                \"w\" : document['wonder_id'],\n",
    "                \"r\" : document['review'],\n",
    "                \"i\" : document['img'].replace(IMAGE_URI, ''),  #remove domain to reduce file size\n",
    "                'l': newImgUrls,\n",
    "            })\n",
    "        elif document['uuid'] in homepageCityUUIDs: #this belongs to homepage, need image\n",
    "            #get info with 1 image, DO NOT save other images\n",
    "            all_cities.append({\n",
    "                \"n\" : document['name'],\n",
    "                \"c\" : document['country'],\n",
    "                \"o\": map_continent_key(document['continent']),\n",
    "                \"t\" : document['city_id'],\n",
    "                \"w\" : document['wonder_id'],\n",
    "                \"r\" : document['review'],\n",
    "                \"i\" : document['img'].replace(IMAGE_URI, '')\n",
    "            })\n",
    "        else:\n",
    "            #get simple data for searching only (no other relevant info)\n",
    "            minInfo = {\n",
    "                \"n\" : document['name'],\n",
    "                \"c\" : document['country'],\n",
    "                \"t\" : document['city_id'],\n",
    "                \"w\" : document['wonder_id']\n",
    "            }\n",
    "            if document['review'] != None and document['review'] > 10000:\n",
    "                #those cities will be shown up in continent list, need image there\n",
    "                minInfo['r'] = document['review']\n",
    "                minInfo['i'] = document['img'].replace(IMAGE_URI, '')\n",
    "                minInfo['o'] = map_continent_key(document['continent'])\n",
    "            all_cities.append(minInfo)\n",
    "    print(continent + ' : ' + str(num_city_in_continent))\n",
    "#finish\n",
    "print('All cities count: ' + str(len(all_cities)))\n",
    "#export to json file\n",
    "try:\n",
    "    with open('city_db.json', 'w', encoding='utf-8') as f:  # Use utf-8 encoding\n",
    "            json.dump(all_cities, f, separators=(',', ':'))  #no break line or extra spaces\n",
    "except (TypeError, OSError, json.JSONDecodeError) as e:  # Catch potential errors\n",
    "    print(f\"Error exporting to JSON: {e}\")"
   ]
  },
  {
   "cell_type": "code",
   "execution_count": null,
   "metadata": {},
   "outputs": [],
   "source": []
  }
 ],
 "metadata": {
  "kernelspec": {
   "display_name": "3.9.10",
   "language": "python",
   "name": "python3"
  },
  "language_info": {
   "codemirror_mode": {
    "name": "ipython",
    "version": 3
   },
   "file_extension": ".py",
   "mimetype": "text/x-python",
   "name": "python",
   "nbconvert_exporter": "python",
   "pygments_lexer": "ipython3",
   "version": "3.9.10"
  }
 },
 "nbformat": 4,
 "nbformat_minor": 2
}
