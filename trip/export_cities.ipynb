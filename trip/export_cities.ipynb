{
 "cells": [
  {
   "cell_type": "code",
   "execution_count": 71,
   "metadata": {},
   "outputs": [],
   "source": [
    "import csv\n",
    "from pathlib import Path\n",
    "from dotenv import load_dotenv\n",
    "import os\n",
    "import pymongo\n",
    "import uuid\n",
    "import random"
   ]
  },
  {
   "cell_type": "code",
   "execution_count": 72,
   "metadata": {},
   "outputs": [],
   "source": [
    "db_client = pymongo.MongoClient('mongodb://localhost:27017')\n",
    "collections = db_client['db_ai_travel_planner']\n",
    "tb_city = collections['tb_city']"
   ]
  },
  {
   "cell_type": "code",
   "execution_count": 73,
   "metadata": {},
   "outputs": [],
   "source": [
    "def load_csv(filepath):\n",
    "    data = []\n",
    "    with open(filepath, 'r', newline='', encoding='utf-8') as csvfile:  # Handle encoding!\n",
    "        reader = csv.reader(csvfile)  # Or csv.DictReader for dictionaries\n",
    "        header = next(reader)  # Read the header row (if it exists)\n",
    "        for row in reader:\n",
    "            data.append(row)  # Or data.append(dict(zip(header, row))) for DictReader\n",
    "    return header, data  # Return header and data"
   ]
  },
  {
   "cell_type": "code",
   "execution_count": 87,
   "metadata": {},
   "outputs": [],
   "source": [
    "continent_map = {}  #key: country, value: continent\n",
    "continents = {} #key: continent, value: 1\n",
    "#read continent info\n",
    "header, data = load_csv(Path(\"./countries.csv\"))\n",
    "for row in data:\n",
    "    continent = row[12].replace('Americas', 'America').replace('Oceania', 'Australia').lower()\n",
    "    if continent != '' and continent != 'Polar':\n",
    "        continent_map[row[1]] = continent\n",
    "#print(continent_map)"
   ]
  },
  {
   "cell_type": "code",
   "execution_count": null,
   "metadata": {},
   "outputs": [],
   "source": [
    "header, data = load_csv(Path(\"./city_country_shortened.csv\"))\n",
    "for row in data:\n",
    "    if row[1] in continent_map:\n",
    "        #print(row[0] + ',' + row[1] + ',' + continent_map[row[1]])\n",
    "        a = 1\n",
    "    else:\n",
    "        print('Not found continent for this country ------ ' + row[1]) #replace country name in file countries.csv -> run code again to update the map\n"
   ]
  },
  {
   "cell_type": "code",
   "execution_count": 89,
   "metadata": {},
   "outputs": [
    {
     "name": "stdout",
     "output_type": "stream",
     "text": [
      "asia : 1094\n",
      "america : 744\n",
      "africa : 285\n",
      "australia : 22\n",
      "europe : 427\n"
     ]
    }
   ],
   "source": [
    "#export ALL cities that had data in db -> the file show limit to 2 MB\n",
    "city_continent_map = {} #key: city, value: continent\n",
    "continents = ['asia', 'america', 'africa', 'australia', 'europe']\n",
    "for continent in continents:\n",
    "    num_city_in_continent = 0\n",
    "    db_city = tb_city.find({'continent':continent, 'error': None})\n",
    "    for document in db_city:\n",
    "        if document['name'] not in city_continent_map:\n",
    "            city_continent_map[document['name']] = document['continent']\n",
    "            num_city_in_continent += 1\n",
    "    print(continent + ' : ' + str(num_city_in_continent))\n",
    "\n",
    "#print(city_continent_map)"
   ]
  },
  {
   "cell_type": "markdown",
   "metadata": {},
   "source": [
    "\"home_cities\":{\n",
    "    \"top_banner\": \"def4a760-7414-4554-8642-a90fa191743d\",\n",
    "    \"random_pick\":\"96981e13-8322-4f46-890b-f68bde008913\",\n",
    "    \"europe\":[\"96981e13-8322-4f46-890b-f68bde008913\", \"def4a760-7414-4554-8642-a90fa191743d\", \"bff29e88-e132-4bc6-99ce-8b7cc2b8c764\"],\n",
    "      \"america\":[\"55818f76-e53d-47eb-9ea5-d1edac65a8e1\"\n",
    "      ],\n",
    "      \"Australia\":[\"fb3a8270-21c7-4b91-a41d-06bf760e6d42\"\n",
    "      ],\n",
    "      \"Africa\":[\"be9ff3d3-2374-4fd6-8d7a-a5b75683cc6e\"\n",
    "      ],\n",
    "      \"Asia\":[\"ca97e354-188a-493f-a21b-345383004e37\"\n",
    "      ]\n",
    "  }"
   ]
  },
  {
   "cell_type": "code",
   "execution_count": 95,
   "metadata": {},
   "outputs": [
    {
     "name": "stdout",
     "output_type": "stream",
     "text": [
      "Top banner city: London country: United Kingdom\n",
      "Random pick city: Mingguang country: China\n"
     ]
    },
    {
     "data": {
      "text/plain": [
       "{'top_banner': '630eeb1c-ddf4-4612-b8a3-6d12e1b39e12',\n",
       " 'random_pick': '93965f36-efb0-42e6-8b8a-b27ec542eebc',\n",
       " 'asia': ['bc2356b7-523b-4ef9-be75-4d3e4789cee0',\n",
       "  'fcab7672-0690-464c-98c5-4cac5a0886f3',\n",
       "  '0c0cbc9a-c105-4ba8-b0e7-d2fb022fc44b',\n",
       "  'd61e4573-a88d-4348-abf2-9d46a52e4882',\n",
       "  'cc0eecf4-dac8-4409-bd1c-8629b1ebbffe',\n",
       "  '5bf1b512-85af-4048-8770-26f0a3c424e8',\n",
       "  'c256786a-1b44-4251-b591-3e356785df50',\n",
       "  'bbd17821-c03f-4fc5-84b4-d6a90322fbd7',\n",
       "  'd709a283-c327-4c09-98b6-25b9c9b2e088',\n",
       "  '7569e020-3408-478e-9ed9-5a75a7b14606',\n",
       "  '1e30f048-7727-4a42-87fd-3bcdf4eb7d0e',\n",
       "  'ba278bf7-ad5c-43dd-b509-a1927ad3a8d3',\n",
       "  'c369d9c0-f69a-4935-8868-c9eb85fb1e3f',\n",
       "  '432a1088-7a5c-4012-97b4-60d3e1ce60dd',\n",
       "  '35157640-1c21-4513-bcf5-e40a9824db78',\n",
       "  'c1a0c8d7-bd47-4336-91f1-b0fd5863ea0c',\n",
       "  '1800a907-49c0-4eaa-8da4-678afd279292',\n",
       "  'e67a20ad-9564-4ada-9bda-33e526cea4a9',\n",
       "  '52c54f87-6dd0-4981-880a-34df7355e428',\n",
       "  '2646d5b2-8ef1-47e8-b04e-d8adc9cc293f'],\n",
       " 'america': ['bc2b718a-912b-4843-a08c-b3dbe8f92e61',\n",
       "  '8c792faf-f743-450d-a069-b6cf037af3b4',\n",
       "  'b14a5e47-ef5f-4fb9-9701-cf7dd1850c5d',\n",
       "  '5fa3184e-da14-48b2-a445-8893dffbea4c',\n",
       "  'a1170a77-ee85-4e22-b709-289883a417d5',\n",
       "  'e6e3bb97-811e-43bc-b496-b62b087b9ccc',\n",
       "  'b6586d0e-4aec-4282-a633-3ab939280cd2',\n",
       "  '70441655-685f-4b54-ae86-527736e1ac44',\n",
       "  'f98a2381-53ee-415b-b2ad-ede4ae4816ba',\n",
       "  '5cb8e473-d4b0-4ee5-8b09-25ee54311d58',\n",
       "  'bfc6b283-fffd-46cd-a724-c67aa99a355c',\n",
       "  '50c773a3-21e4-45c1-8708-e6c01fc7e357',\n",
       "  '2a6447ea-327b-4aeb-8e6b-1fc6a0494cea',\n",
       "  'f57c9b06-2200-41d1-a54f-a2844ecd449b',\n",
       "  'afe3d84e-e262-41fc-bf8b-a4be11849bf2',\n",
       "  '1c46245c-a1b0-4d44-9dae-a7ec19bf8b0a',\n",
       "  'ab73d046-8ceb-4ebe-9311-477f21c4c5ec',\n",
       "  '57e32556-0827-4f38-8fa9-54d95b0ab12b',\n",
       "  '504eb0e3-9fd8-4860-83ac-1edea884f487',\n",
       "  'f00914e9-ac2f-4272-8af0-53eef1f99564'],\n",
       " 'africa': ['c2e7f938-9ed1-4055-8ee0-d621ba80fedb',\n",
       "  'e5f88773-98af-4899-add3-8aa956ac9948',\n",
       "  'f22c0b06-115a-4fa8-8614-1495b95144f3',\n",
       "  '2c2ffd53-ad25-46eb-9572-95e80b671f1c',\n",
       "  '74978167-9a54-4aa9-b58f-9b187891b6ed',\n",
       "  '848193ec-45d5-4efa-bdaa-41f92c66ae29',\n",
       "  'bc9e40ff-051d-4b98-8ece-c44919b89156',\n",
       "  'e56a9636-817a-4dbd-8716-8f3726b3a5e5',\n",
       "  '55a47108-a1a0-45db-a422-98e89a1e54bd',\n",
       "  'daf9e89b-9440-4a5a-9619-212d5bd8bd2e',\n",
       "  'c774894c-5fe6-4e02-8484-2f73d7ac328f',\n",
       "  '3c02cdb0-f7be-4610-bc56-26a8c67adedc',\n",
       "  'a060c305-85dd-42aa-8624-90eff20ea040',\n",
       "  'bb78ba4c-7574-4805-a2f5-f6c4e4f2a0ca',\n",
       "  'd33d08cc-c4d5-490f-914c-6841adb6dcff',\n",
       "  '5b581935-0d7f-4f27-9aa3-45792aba59de',\n",
       "  '04b78e68-6a3e-4426-a64c-60aae3a5b97b',\n",
       "  '066fad24-9958-4cb5-a879-379718c21836',\n",
       "  'a5a19e2f-d787-4d49-8825-531bc2fddd4c',\n",
       "  '7f89fb29-bab4-499d-bcf8-865e42ed0d8a'],\n",
       " 'australia': ['75b7e23b-b801-4e6a-a9bd-c655311ef54b',\n",
       "  '25845670-e620-4eb2-bc3d-f6736710191e',\n",
       "  '333b9ff8-2b3f-4b34-a834-7f2d5b0af8b4',\n",
       "  '5b8a0e49-347e-4d49-8e3f-ac92b0f50a53',\n",
       "  '28dd58aa-3cbb-456c-9b18-b12c80d01eda',\n",
       "  '79b5373d-c3de-4957-8321-8a67e20e9a6c',\n",
       "  'f06b4e4f-ea69-4cc3-b36b-6469486205a2',\n",
       "  'a435cf37-82d4-4579-b32a-bc7cda9894d6',\n",
       "  '523058cf-7bf4-467d-aac9-0d0ea0a8cc4c',\n",
       "  'b5a427f3-5cf2-4a75-97ab-ee496a408737',\n",
       "  '19e1e28d-00b6-4562-8d3c-0be5ce40da91',\n",
       "  '57770066-be3a-4bb9-bc2e-dd4ecf6d8e59',\n",
       "  '484e061d-c12f-4d2b-bcd0-dc038269d512',\n",
       "  '6df3531c-07ab-43ba-b2dc-9d913a56ea57',\n",
       "  '4ecc6946-c131-445d-8c47-5d06c6f2a941',\n",
       "  'f085bbe1-1dd1-400f-b75f-1a0f82887d04'],\n",
       " 'europe': ['df5ac7e4-0ba0-4821-94dd-a33df0a61fc7',\n",
       "  'a53272c5-de02-45aa-8c3c-b1802db61998',\n",
       "  '92374e16-d5de-4ba3-8729-2ce2560ea8bc',\n",
       "  '15bbf775-75db-44b9-a4db-f599b5964e3a',\n",
       "  '6c3f5fa1-775f-405b-bbfe-c28ff5b4aa55',\n",
       "  'c6da07aa-b1dd-43ad-91c7-d72874447608',\n",
       "  '867b58b0-6569-40fe-bf18-c325c9db0adc',\n",
       "  '630eeb1c-ddf4-4612-b8a3-6d12e1b39e12',\n",
       "  'fdf2fad6-2d8a-4a53-a972-bb811ebab274',\n",
       "  '6eec8e92-b1d7-4e97-8142-4a11916f23c7',\n",
       "  '9af6f67e-c089-4088-9f9c-8b20f08fae67',\n",
       "  'dce98bbd-5f71-4730-8152-ec9af187df3a',\n",
       "  'c92e30bd-71f5-4a4a-a7ef-3903f2c12859',\n",
       "  '14358dfd-9bb0-4e06-bbaf-827e96f7532f',\n",
       "  '9f20f26b-6f40-43b4-b43b-cf6718a00615',\n",
       "  '9f200537-24ed-403f-9b92-4f5e634cefc0',\n",
       "  'c999259a-7683-4690-81a9-2b6e3ba80cfe',\n",
       "  '0e06eaa6-9bff-47b6-996d-585f9abda78a',\n",
       "  '084d763d-ef8d-4a14-ba51-59f78ea8ac05',\n",
       "  'a175865e-7668-4771-8b24-896bbadb1a30']}"
      ]
     },
     "execution_count": 95,
     "metadata": {},
     "output_type": "execute_result"
    }
   ],
   "source": [
    "#select most commented cities for HOMEPAGE\n",
    "MIN_REVIEW_COUNT = 100\n",
    "def generate_cities_for_home():\n",
    "    home_cities = {}\n",
    "    cities_with_image = []  #list of city UUIDs that has image Urls\n",
    "    #top banner (randomly pick a city in europe) ~ 100 cities\n",
    "    query = {'continent':'europe', 'error': None, 'review': {'$gt': MIN_REVIEW_COUNT}}\n",
    "    top_review_cities = tb_city.find(query).sort({'review': -1}).limit(100)\n",
    "    total_docs = tb_city.count_documents(query)\n",
    "    rand_top_index = random.randint(0, total_docs)\n",
    "    top_banner_city = top_review_cities[rand_top_index]\n",
    "    cities_with_image.append(top_banner_city['uuid'])\n",
    "    home_cities['top_banner'] = top_banner_city['uuid']\n",
    "    print('Top banner city: ' + top_banner_city['name'] + ' country: ' + top_banner_city['country'])\n",
    "    #random pick (randomly pick a city in america or asia) ~ 100 cities\n",
    "    query = {'$or': [{'continent':'america'}, {'continent':'asia'}], 'error': None, 'review': {'$gt': MIN_REVIEW_COUNT}}\n",
    "    random_pick_cities = tb_city.find(query).sort({'review': -1}).limit(100)\n",
    "    total_docs = tb_city.count_documents(query)\n",
    "    rand_top_index = random.randint(0, total_docs)\n",
    "    rand_pick_city = random_pick_cities[rand_top_index]\n",
    "    cities_with_image.append(rand_pick_city['uuid'])\n",
    "    home_cities['random_pick'] = rand_pick_city['uuid']\n",
    "    print('Random pick city: ' + rand_pick_city['name'] + ' country: ' + rand_pick_city['country'])\n",
    "    #each continent get randomly 20 cities (get 20 cities, sort by review count)\n",
    "    for continent in continents:\n",
    "        cities_in_continent = []\n",
    "        query = {'continent':continent, 'error': None, 'review': {'$gt': MIN_REVIEW_COUNT}}\n",
    "        pipeline = [\n",
    "            {\"$match\": query},\n",
    "            {\"$sample\": {\"size\": 20}}  #X random documents\n",
    "        ]\n",
    "        cities = list(tb_city.aggregate(pipeline))\n",
    "        for city in cities:\n",
    "            cities_in_continent.append(city['uuid'])\n",
    "        home_cities[continent] = cities_in_continent\n",
    "    #\n",
    "    return home_cities\n",
    "#test\n",
    "generate_cities_for_home()"
   ]
  },
  {
   "cell_type": "code",
   "execution_count": null,
   "metadata": {},
   "outputs": [],
   "source": []
  }
 ],
 "metadata": {
  "kernelspec": {
   "display_name": "3.9.10",
   "language": "python",
   "name": "python3"
  },
  "language_info": {
   "codemirror_mode": {
    "name": "ipython",
    "version": 3
   },
   "file_extension": ".py",
   "mimetype": "text/x-python",
   "name": "python",
   "nbconvert_exporter": "python",
   "pygments_lexer": "ipython3",
   "version": "3.9.10"
  }
 },
 "nbformat": 4,
 "nbformat_minor": 2
}
