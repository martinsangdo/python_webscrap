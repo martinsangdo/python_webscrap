{
 "cells": [
  {
   "cell_type": "code",
   "execution_count": 1,
   "metadata": {},
   "outputs": [],
   "source": [
    "import csv\n",
    "from pathlib import Path\n",
    "from dotenv import load_dotenv\n",
    "import os\n",
    "import pymongo\n",
    "import uuid\n",
    "import random\n",
    "import json\n"
   ]
  },
  {
   "cell_type": "code",
   "execution_count": 2,
   "metadata": {},
   "outputs": [],
   "source": [
    "db_client = pymongo.MongoClient('mongodb://localhost:27017')\n",
    "collections = db_client['db_ai_travel_planner']\n",
    "tb_city = collections['tb_city']"
   ]
  },
  {
   "cell_type": "code",
   "execution_count": 3,
   "metadata": {},
   "outputs": [],
   "source": [
    "def load_csv(filepath):\n",
    "    data = []\n",
    "    with open(filepath, 'r', newline='', encoding='utf-8') as csvfile:  # Handle encoding!\n",
    "        reader = csv.reader(csvfile)  # Or csv.DictReader for dictionaries\n",
    "        header = next(reader)  # Read the header row (if it exists)\n",
    "        for row in reader:\n",
    "            data.append(row)  # Or data.append(dict(zip(header, row))) for DictReader\n",
    "    return header, data  # Return header and data"
   ]
  },
  {
   "cell_type": "code",
   "execution_count": 4,
   "metadata": {},
   "outputs": [],
   "source": [
    "continent_map = {}  #key: country, value: continent\n",
    "continents = {} #key: continent, value: 1\n",
    "#read continent info\n",
    "header, data = load_csv(Path(\"./countries.csv\"))\n",
    "for row in data:\n",
    "    continent = row[12].replace('Americas', 'America').replace('Oceania', 'Australia').lower()\n",
    "    if continent != '' and continent != 'Polar':\n",
    "        continent_map[row[1]] = continent\n",
    "#print(continent_map)"
   ]
  },
  {
   "cell_type": "code",
   "execution_count": 5,
   "metadata": {},
   "outputs": [],
   "source": [
    "header, data = load_csv(Path(\"./city_country_shortened.csv\"))\n",
    "for row in data:\n",
    "    if row[1] in continent_map:\n",
    "        #print(row[0] + ',' + row[1] + ',' + continent_map[row[1]])\n",
    "        a = 1\n",
    "    else:\n",
    "        print('Not found continent for this country ------ ' + row[1]) #replace country name in file countries.csv -> run code again to update the map\n"
   ]
  },
  {
   "cell_type": "code",
   "execution_count": 6,
   "metadata": {},
   "outputs": [],
   "source": [
    "continents = ['asia', 'america', 'africa', 'australia', 'europe']"
   ]
  },
  {
   "cell_type": "code",
   "execution_count": 7,
   "metadata": {},
   "outputs": [],
   "source": [
    "#select most commented cities for HOMEPAGE\n",
    "MIN_REVIEW_COUNT = 100\n",
    "\n",
    "def generate_cities_for_home():\n",
    "    cities_with_image = []  #list of city UUIDs that has image Urls\n",
    "    home_cities = {}\n",
    "    #top banner (randomly pick a city in europe) ~ 100 cities\n",
    "    query = {'continent':'europe', 'error': None, 'review': {'$gt': MIN_REVIEW_COUNT}}\n",
    "    top_review_cities = tb_city.find(query).sort({'review': -1}).limit(100)\n",
    "    total_docs = tb_city.count_documents(query)\n",
    "    rand_top_index = random.randint(0, total_docs)\n",
    "    top_banner_city = top_review_cities[rand_top_index]\n",
    "    cities_with_image.append(top_banner_city['uuid'])\n",
    "    home_cities['top_banner'] = {'n': top_banner_city['name'], 'c': top_banner_city['country']}\n",
    "    #print('Top banner city: ' + top_banner_city['name'] + ' country: ' + top_banner_city['country'])\n",
    "    #random pick (randomly pick a city in america or asia) ~ 100 cities\n",
    "    query = {'$or': [{'continent':'america'}, {'continent':'asia'}], 'error': None, 'review': {'$gt': MIN_REVIEW_COUNT}}\n",
    "    random_pick_cities = tb_city.find(query).sort({'review': -1}).limit(100)\n",
    "    total_docs = tb_city.count_documents(query)\n",
    "    rand_top_index = random.randint(0, total_docs)\n",
    "    rand_pick_city = random_pick_cities[rand_top_index]\n",
    "    cities_with_image.append(rand_pick_city['uuid'])\n",
    "    home_cities['random_pick'] = {'n': rand_pick_city['name'], 'c': rand_pick_city['country']}\n",
    "    #print('Random pick city: ' + rand_pick_city['name'] + ' country: ' + rand_pick_city['country'])\n",
    "    #each continent get randomly 20 cities (get 20 cities, sort by review count)\n",
    "    for continent in continents:\n",
    "        cities_in_continent = []\n",
    "        query = {'continent':continent, 'error': None, 'review': {'$gt': MIN_REVIEW_COUNT}}\n",
    "        pipeline = [\n",
    "            {\"$match\": query},\n",
    "            {\"$sample\": {\"size\": 20}}  #X random documents\n",
    "        ]\n",
    "        cities = list(tb_city.aggregate(pipeline))\n",
    "        for city in cities:\n",
    "            cities_with_image.append(city['uuid'])\n",
    "            cities_in_continent.append({'n': city['name'], 'c': city['country']})\n",
    "        home_cities[continent] = cities_in_continent\n",
    "    #\n",
    "    return home_cities, cities_with_image\n"
   ]
  },
  {
   "cell_type": "code",
   "execution_count": 8,
   "metadata": {},
   "outputs": [
    {
     "name": "stdout",
     "output_type": "stream",
     "text": [
      "{'top_banner': {'n': 'Wiesbaden', 'c': 'Germany'}, 'random_pick': {'n': 'Jiamusi', 'c': 'China'}, 'asia': [{'n': 'Jiangmen', 'c': 'China'}, {'n': 'Yokkaichi', 'c': 'Japan'}, {'n': 'Longjing', 'c': 'China'}, {'n': 'Sakado', 'c': 'Japan'}, {'n': 'Bacoor', 'c': 'Philippines'}, {'n': 'Chongqing', 'c': 'China'}, {'n': 'Yima', 'c': 'China'}, {'n': 'Leiyang', 'c': 'China'}, {'n': 'Bulacan', 'c': 'Philippines'}, {'n': 'Compostela', 'c': 'Philippines'}, {'n': 'Kumagaya', 'c': 'Japan'}, {'n': 'Nagasaki', 'c': 'Japan'}, {'n': 'Santa Ana', 'c': 'Philippines'}, {'n': 'Taihe', 'c': 'China'}, {'n': 'Beipiao', 'c': 'China'}, {'n': 'Cibinong', 'c': 'Indonesia'}, {'n': 'Settsu', 'c': 'Japan'}, {'n': 'Yangquan', 'c': 'China'}, {'n': 'Zhongshan', 'c': 'China'}, {'n': 'Didim', 'c': 'Turkey'}], 'america': [{'n': 'Westland', 'c': 'United States'}, {'n': 'Bronx', 'c': 'United States'}, {'n': 'Itapevi', 'c': 'Brazil'}, {'n': 'Chilliwack', 'c': 'Canada'}, {'n': 'Oceanside', 'c': 'United States'}, {'n': 'Mogi das Cruzes', 'c': 'Brazil'}, {'n': 'Temecula', 'c': 'United States'}, {'n': 'Santana', 'c': 'Brazil'}, {'n': 'Waukegan', 'c': 'United States'}, {'n': 'Tacoma', 'c': 'United States'}, {'n': 'Burlington', 'c': 'Canada'}, {'n': 'Edison', 'c': 'United States'}, {'n': 'Denver', 'c': 'United States'}, {'n': 'Bowling Green', 'c': 'United States'}, {'n': 'Indaiatuba', 'c': 'Brazil'}, {'n': 'Salt Lake City', 'c': 'United States'}, {'n': 'Resende', 'c': 'Brazil'}, {'n': 'Cerro', 'c': 'Cuba'}, {'n': 'Birmingham', 'c': 'United States'}, {'n': 'Concord', 'c': 'United States'}], 'africa': [{'n': 'Saint-Denis', 'c': 'Reunion'}, {'n': 'Randfontein', 'c': 'South Africa'}, {'n': 'Luanda', 'c': 'Angola'}, {'n': 'Boksburg', 'c': 'South Africa'}, {'n': 'Kikuyu', 'c': 'Kenya'}, {'n': 'Tangier', 'c': 'Morocco'}, {'n': 'Athi River', 'c': 'Kenya'}, {'n': 'Rosetta', 'c': 'Egypt'}, {'n': 'Krugersdorp', 'c': 'South Africa'}, {'n': 'Ben Arous', 'c': 'Tunisia'}, {'n': 'Sapele', 'c': 'Nigeria'}, {'n': 'Giza', 'c': 'Egypt'}, {'n': 'Luxor', 'c': 'Egypt'}, {'n': 'Vereeniging', 'c': 'South Africa'}, {'n': 'Benoni', 'c': 'South Africa'}, {'n': 'Larache', 'c': 'Morocco'}, {'n': 'Tunis', 'c': 'Tunisia'}, {'n': 'Ismailia', 'c': 'Egypt'}, {'n': 'Settat', 'c': 'Morocco'}, {'n': 'Kimberley', 'c': 'South Africa'}], 'australia': [{'n': 'Lower Hutt', 'c': 'New Zealand'}, {'n': 'Cranbourne', 'c': 'Australia'}, {'n': 'Cairns', 'c': 'Australia'}, {'n': 'Geelong', 'c': 'Australia'}, {'n': 'Brisbane', 'c': 'Australia'}, {'n': 'Ballarat', 'c': 'Australia'}, {'n': 'Lae', 'c': 'Papua New Guinea'}, {'n': 'Christchurch', 'c': 'New Zealand'}, {'n': 'Mandurah', 'c': 'Australia'}, {'n': 'Bendigo', 'c': 'Australia'}, {'n': 'Melbourne', 'c': 'Australia'}, {'n': 'Tauranga', 'c': 'New Zealand'}, {'n': 'Hamilton', 'c': 'New Zealand'}, {'n': 'Hobart', 'c': 'Australia'}, {'n': 'Wollongong', 'c': 'Australia'}, {'n': 'Auckland', 'c': 'New Zealand'}, {'n': 'Sydney', 'c': 'Australia'}, {'n': 'Canberra', 'c': 'Australia'}, {'n': 'Northcote', 'c': 'New Zealand'}, {'n': 'Perth', 'c': 'Australia'}], 'europe': [{'n': 'Leiden', 'c': 'Netherlands'}, {'n': 'Moers', 'c': 'Germany'}, {'n': 'Paredes', 'c': 'Portugal'}, {'n': 'Hagen', 'c': 'Germany'}, {'n': 'Sevilla', 'c': 'Spain'}, {'n': 'Telford', 'c': 'United Kingdom'}, {'n': 'Aalst', 'c': 'Belgium'}, {'n': 'Parla', 'c': 'Spain'}, {'n': 'Marseille', 'c': 'France'}, {'n': 'Talavera de la Reina', 'c': 'Spain'}, {'n': 'Aachen', 'c': 'Germany'}, {'n': 'Sint-Niklaas', 'c': 'Belgium'}, {'n': 'Ussuriysk', 'c': 'Russia'}, {'n': 'Konstanz', 'c': 'Germany'}, {'n': 'Marl', 'c': 'Germany'}, {'n': 'Matosinhos', 'c': 'Portugal'}, {'n': 'Lausanne', 'c': 'Switzerland'}, {'n': 'Klin', 'c': 'Russia'}, {'n': 'Nuneaton', 'c': 'United Kingdom'}, {'n': 'Giugliano in Campania', 'c': 'Italy'}]}\n",
      "102\n",
      "asia : 1540\n",
      "america : 1308\n",
      "africa : 439\n",
      "australia : 32\n",
      "europe : 788\n",
      "All cities count: 4107\n"
     ]
    }
   ],
   "source": [
    "##export ALL cities that had data in db -> the file size should limit to 2 MB (reduce key name)\n",
    "continent_keys = {  #map for reducing exported file\n",
    "    'asia': 1, \n",
    "    'america': 2, \n",
    "    'africa': 3, \n",
    "    'australia': 4, \n",
    "    'europe': 5\n",
    "}\n",
    "#1. generate random cities to show in homepage\n",
    "home_cities, cities_with_image = generate_cities_for_home()\n",
    "print(home_cities)\n",
    "print(str(len(cities_with_image)))\n",
    "#export all cities into json file\n",
    "all_cities = [] #data to export\n",
    "city_continent_map = {} #key: city, value: continent (just for counting how many cities in each continent)\n",
    "for continent in continents:\n",
    "    num_city_in_continent = 0\n",
    "    db_city = tb_city.find({'continent':continent, 'error': None})\n",
    "    for document in db_city:\n",
    "        #count how many cities in a continent\n",
    "        if document['name'] not in city_continent_map:\n",
    "            num_city_in_continent += 1\n",
    "        #save this city into the list\n",
    "        if (document['name'] == home_cities['top_banner']['n'] and document['country'] == home_cities['top_banner']['c']) or (document['name'] == home_cities['random_pick']['n'] and document['country'] == home_cities['random_pick']['c']):\n",
    "            #get full info\n",
    "            all_cities.append({\n",
    "                \"n\" : document['name'],\n",
    "                \"c\" : document['country'],\n",
    "                \"ci\" : document['city_id'],\n",
    "                \"wi\" : document['wonder_id'],\n",
    "                #\"r\" : continent_keys[document['continent']],\n",
    "                \"rc\" : document['review'],\n",
    "                \"i\" : document['img'],\n",
    "                'li': document['imgUrls'],\n",
    "            })\n",
    "        elif document['uuid'] in cities_with_image:\n",
    "            #get info with 1 image, DO NOT save other images\n",
    "            all_cities.append({\n",
    "                \"n\" : document['name'],\n",
    "                \"c\" : document['country'],\n",
    "                \"ci\" : document['city_id'],\n",
    "                \"wi\" : document['wonder_id'],\n",
    "                \"rc\" : document['review'],\n",
    "                \"i\" : document['img']\n",
    "            })\n",
    "        else:\n",
    "            #get simple data for searching only (no image or other relevant info)\n",
    "            all_cities.append({\n",
    "                \"n\" : document['name'],\n",
    "                \"c\" : document['country'],\n",
    "                \"ci\" : document['city_id'],\n",
    "                \"wi\" : document['wonder_id']\n",
    "            })\n",
    "    print(continent + ' : ' + str(num_city_in_continent))\n",
    "#finish\n",
    "print('All cities count: ' + str(len(all_cities)))\n",
    "#export to json file\n",
    "try:\n",
    "    with open('city_db.json', 'w', encoding='utf-8') as f:  # Use utf-8 encoding\n",
    "            json.dump(all_cities, f, separators=(',', ':'))  #no break line or extra spaces\n",
    "except (TypeError, OSError, json.JSONDecodeError) as e:  # Catch potential errors\n",
    "    print(f\"Error exporting to JSON: {e}\")"
   ]
  },
  {
   "cell_type": "code",
   "execution_count": null,
   "metadata": {},
   "outputs": [],
   "source": []
  },
  {
   "cell_type": "code",
   "execution_count": null,
   "metadata": {},
   "outputs": [],
   "source": []
  }
 ],
 "metadata": {
  "kernelspec": {
   "display_name": "3.9.10",
   "language": "python",
   "name": "python3"
  },
  "language_info": {
   "codemirror_mode": {
    "name": "ipython",
    "version": 3
   },
   "file_extension": ".py",
   "mimetype": "text/x-python",
   "name": "python",
   "nbconvert_exporter": "python",
   "pygments_lexer": "ipython3",
   "version": "3.9.10"
  }
 },
 "nbformat": 4,
 "nbformat_minor": 2
}
