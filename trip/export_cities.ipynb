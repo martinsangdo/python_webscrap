{
 "cells": [
  {
   "cell_type": "code",
   "execution_count": 1,
   "metadata": {},
   "outputs": [],
   "source": [
    "import requests\n",
    "import csv\n",
    "from pathlib import Path\n",
    "from dotenv import load_dotenv\n",
    "import os\n",
    "import pymongo\n",
    "import uuid"
   ]
  },
  {
   "cell_type": "code",
   "execution_count": 2,
   "metadata": {},
   "outputs": [],
   "source": [
    "db_client = pymongo.MongoClient('mongodb://localhost:27017')\n",
    "collections = db_client['db_ai_travel_planner']\n",
    "tb_city = collections['tb_city']"
   ]
  },
  {
   "cell_type": "code",
   "execution_count": 3,
   "metadata": {},
   "outputs": [],
   "source": [
    "def load_csv(filepath):\n",
    "    data = []\n",
    "    with open(filepath, 'r', newline='', encoding='utf-8') as csvfile:  # Handle encoding!\n",
    "        reader = csv.reader(csvfile)  # Or csv.DictReader for dictionaries\n",
    "        header = next(reader)  # Read the header row (if it exists)\n",
    "        for row in reader:\n",
    "            data.append(row)  # Or data.append(dict(zip(header, row))) for DictReader\n",
    "    return header, data  # Return header and data"
   ]
  },
  {
   "cell_type": "code",
   "execution_count": 5,
   "metadata": {},
   "outputs": [
    {
     "name": "stdout",
     "output_type": "stream",
     "text": [
      "{'Afghanistan': 'asia', 'Aland Islands': 'europe', 'Albania': 'europe', 'Algeria': 'africa', 'American Samoa': 'australia', 'Andorra': 'europe', 'Angola': 'africa', 'Anguilla': 'america', 'Antarctica': 'polar', 'Antigua and Barbuda': 'america', 'Argentina': 'america', 'Armenia': 'asia', 'Aruba': 'america', 'Australia': 'australia', 'Austria': 'europe', 'Azerbaijan': 'asia', 'Bahrain': 'asia', 'Bangladesh': 'asia', 'Barbados': 'america', 'Belarus': 'europe', 'Belgium': 'europe', 'Belize': 'america', 'Benin': 'africa', 'Bermuda': 'america', 'Bhutan': 'asia', 'Bolivia': 'america', 'Bonaire, Sint Eustatius and Saba': 'america', 'Bosnia and Herzegovina': 'europe', 'Botswana': 'africa', 'Brazil': 'america', 'British Indian Ocean Territory': 'africa', 'Brunei': 'asia', 'Bulgaria': 'europe', 'Burkina Faso': 'africa', 'Burundi': 'africa', 'Cambodia': 'asia', 'Cameroon': 'africa', 'Canada': 'america', 'Cape Verde': 'africa', 'Cayman Islands': 'america', 'Central African Republic': 'africa', 'Chad': 'africa', 'Chile': 'america', 'China': 'asia', 'Christmas Island': 'australia', 'Cocos (Keeling) Islands': 'australia', 'Colombia': 'america', 'Comoros': 'africa', 'Congo': 'africa', 'Cook Islands': 'australia', 'Costa Rica': 'america', \"Cote D'Ivoire (Ivory Coast)\": 'africa', 'Croatia': 'europe', 'Cuba': 'america', 'Curaçao': 'america', 'Cyprus': 'europe', 'Czech Republic': 'europe', 'Democratic Republic of the Congo': 'africa', 'Denmark': 'europe', 'Djibouti': 'africa', 'Dominica': 'america', 'Dominican Republic': 'america', 'Ecuador': 'america', 'Egypt': 'africa', 'El Salvador': 'america', 'Equatorial Guinea': 'africa', 'Eritrea': 'africa', 'Estonia': 'europe', 'Eswatini': 'africa', 'Ethiopia': 'africa', 'Falkland Islands': 'america', 'Faroe Islands': 'europe', 'Fiji Islands': 'australia', 'Finland': 'europe', 'France': 'europe', 'French Guiana': 'america', 'French Polynesia': 'australia', 'French Southern Territories': 'africa', 'Gabon': 'africa', 'Georgia': 'asia', 'Germany': 'europe', 'Ghana': 'africa', 'Gibraltar': 'europe', 'Greece': 'europe', 'Greenland': 'america', 'Grenada': 'america', 'Guadeloupe': 'america', 'Guam': 'australia', 'Guatemala': 'america', 'Guernsey and Alderney': 'europe', 'Guinea': 'africa', 'Guinea-Bissau': 'africa', 'Guyana': 'america', 'Haiti': 'america', 'Honduras': 'america', 'Hong Kong S.A.R.': 'asia', 'Hungary': 'europe', 'Iceland': 'europe', 'India': 'asia', 'Indonesia': 'asia', 'Iran': 'asia', 'Iraq': 'asia', 'Ireland': 'europe', 'Israel': 'asia', 'Italy': 'europe', 'Jamaica': 'america', 'Japan': 'asia', 'Jersey': 'europe', 'Jordan': 'asia', 'Kazakhstan': 'asia', 'Kenya': 'africa', 'Kiribati': 'australia', 'Kosovo': 'europe', 'Kuwait': 'asia', 'Kyrgyzstan': 'asia', 'Laos': 'asia', 'Latvia': 'europe', 'Lebanon': 'asia', 'Lesotho': 'africa', 'Liberia': 'africa', 'Libya': 'africa', 'Liechtenstein': 'europe', 'Lithuania': 'europe', 'Luxembourg': 'europe', 'Macau S.A.R.': 'asia', 'Madagascar': 'africa', 'Malawi': 'africa', 'Malaysia': 'asia', 'Maldives': 'asia', 'Mali': 'africa', 'Malta': 'europe', 'Man (Isle of)': 'europe', 'Marshall Islands': 'australia', 'Martinique': 'america', 'Mauritania': 'africa', 'Mauritius': 'africa', 'Mayotte': 'africa', 'Mexico': 'america', 'Micronesia': 'australia', 'Moldova': 'europe', 'Monaco': 'europe', 'Mongolia': 'asia', 'Montenegro': 'europe', 'Montserrat': 'america', 'Morocco': 'africa', 'Mozambique': 'africa', 'Myanmar': 'asia', 'Namibia': 'africa', 'Nauru': 'australia', 'Nepal': 'asia', 'Netherlands': 'europe', 'New Caledonia': 'australia', 'New Zealand': 'australia', 'Nicaragua': 'america', 'Niger': 'africa', 'Nigeria': 'africa', 'Niue': 'australia', 'Norfolk Island': 'australia', 'North Korea': 'asia', 'North Macedonia': 'europe', 'Northern Mariana Islands': 'australia', 'Norway': 'europe', 'Oman': 'asia', 'Pakistan': 'asia', 'Palau': 'australia', 'Palestinian Territory Occupied': 'asia', 'Panama': 'america', 'Papua New Guinea': 'australia', 'Paraguay': 'america', 'Peru': 'america', 'Philippines': 'asia', 'Pitcairn Island': 'australia', 'Poland': 'europe', 'Portugal': 'europe', 'Puerto Rico': 'america', 'Qatar': 'asia', 'Reunion': 'africa', 'Romania': 'europe', 'Russia': 'europe', 'Rwanda': 'africa', 'Saint Helena': 'africa', 'Saint Kitts and Nevis': 'america', 'Saint Lucia': 'america', 'Saint Pierre and Miquelon': 'america', 'Saint Vincent and the Grenadines': 'america', 'Saint-Barthelemy': 'america', 'Saint-Martin (French part)': 'america', 'Samoa': 'australia', 'San Marino': 'europe', 'Sao Tome and Principe': 'africa', 'Saudi Arabia': 'asia', 'Senegal': 'africa', 'Serbia': 'europe', 'Seychelles': 'africa', 'Sierra Leone': 'africa', 'Singapore': 'asia', 'Sint Maarten (Dutch part)': 'america', 'Slovakia': 'europe', 'Slovenia': 'europe', 'Solomon Islands': 'australia', 'Somalia': 'africa', 'South Africa': 'africa', 'South Georgia': 'america', 'South Korea': 'asia', 'South Sudan': 'africa', 'Spain': 'europe', 'Sri Lanka': 'asia', 'Sudan': 'africa', 'Suriname': 'america', 'Svalbard and Jan Mayen Islands': 'europe', 'Sweden': 'europe', 'Switzerland': 'europe', 'Syria': 'asia', 'Taiwan': 'asia', 'Tajikistan': 'asia', 'Tanzania': 'africa', 'Thailand': 'asia', 'The Bahamas': 'america', 'The Gambia ': 'africa', 'Timor-Leste': 'asia', 'Togo': 'africa', 'Tokelau': 'australia', 'Tonga': 'australia', 'Trinidad and Tobago': 'america', 'Tunisia': 'africa', 'Turkey': 'asia', 'Turkmenistan': 'asia', 'Turks and Caicos Islands': 'america', 'Tuvalu': 'australia', 'Uganda': 'africa', 'Ukraine': 'europe', 'United Arab Emirates': 'asia', 'United Kingdom': 'europe', 'United States': 'america', 'United States Minor Outlying Islands': 'america', 'Uruguay': 'america', 'Uzbekistan': 'asia', 'Vanuatu': 'australia', 'Vatican City State (Holy See)': 'europe', 'Venezuela': 'america', 'Vietnam': 'asia', 'Virgin Islands (British)': 'america', 'Virgin Islands (US)': 'america', 'Wallis and Futuna Islands': 'australia', 'Western Sahara': 'africa', 'Yemen': 'asia', 'Zambia': 'africa', 'Zimbabwe': 'africa'}\n"
     ]
    }
   ],
   "source": [
    "continent_map = {}  #key: country, value: continent\n",
    "continents = {} #key: continent, value: 1\n",
    "#read continent info\n",
    "header, data = load_csv(Path(\"./countries.csv\"))\n",
    "for row in data:\n",
    "    continent = row[12].replace('Americas', 'America').replace('Oceania', 'Australia').lower()\n",
    "    if continent != '' and continent != 'Polar':\n",
    "        continent_map[row[1]] = continent\n",
    "print(continent_map)"
   ]
  },
  {
   "cell_type": "code",
   "execution_count": null,
   "metadata": {},
   "outputs": [
    {
     "name": "stdout",
     "output_type": "stream",
     "text": [
      "Not found country ------ UAE\n",
      "Not found country ------ UAE\n",
      "Not found country ------ UAE\n",
      "Not found country ------ UAE\n"
     ]
    }
   ],
   "source": [
    "header, data = load_csv(Path(\"./city_country_shortened.csv\"))\n",
    "for row in data:\n",
    "    if row[1] in continent_map:\n",
    "        #print(row[0] + ',' + row[1] + ',' + continent_map[row[1]])\n",
    "        a = 1\n",
    "    else:\n",
    "        print('Not found country ------ ' + row[1]) #UAE\n"
   ]
  },
  {
   "cell_type": "code",
   "execution_count": null,
   "metadata": {},
   "outputs": [],
   "source": []
  }
 ],
 "metadata": {
  "kernelspec": {
   "display_name": "3.9.10",
   "language": "python",
   "name": "python3"
  },
  "language_info": {
   "codemirror_mode": {
    "name": "ipython",
    "version": 3
   },
   "file_extension": ".py",
   "mimetype": "text/x-python",
   "name": "python",
   "nbconvert_exporter": "python",
   "pygments_lexer": "ipython3",
   "version": "3.9.10"
  }
 },
 "nbformat": 4,
 "nbformat_minor": 2
}
