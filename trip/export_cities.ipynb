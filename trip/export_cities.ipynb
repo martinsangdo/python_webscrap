{
 "cells": [
  {
   "cell_type": "code",
   "execution_count": 1,
   "metadata": {},
   "outputs": [],
   "source": [
    "import csv\n",
    "from pathlib import Path\n",
    "from dotenv import load_dotenv\n",
    "import os\n",
    "import pymongo\n",
    "import uuid\n",
    "import random\n",
    "import json\n"
   ]
  },
  {
   "cell_type": "code",
   "execution_count": 2,
   "metadata": {},
   "outputs": [],
   "source": [
    "db_client = pymongo.MongoClient('mongodb://localhost:27017')\n",
    "collections = db_client['db_ai_travel_planner']\n",
    "tb_city = collections['tb_city']"
   ]
  },
  {
   "cell_type": "code",
   "execution_count": 3,
   "metadata": {},
   "outputs": [],
   "source": [
    "IMAGE_URI = 'https://ak-d.tripcdn.com/images/'  #used to replace url when exporting data"
   ]
  },
  {
   "cell_type": "code",
   "execution_count": 4,
   "metadata": {},
   "outputs": [],
   "source": [
    "def load_csv(filepath):\n",
    "    data = []\n",
    "    with open(filepath, 'r', newline='', encoding='utf-8') as csvfile:  # Handle encoding!\n",
    "        reader = csv.reader(csvfile)  # Or csv.DictReader for dictionaries\n",
    "        header = next(reader)  # Read the header row (if it exists)\n",
    "        for row in reader:\n",
    "            data.append(row)  # Or data.append(dict(zip(header, row))) for DictReader\n",
    "    return header, data  # Return header and data"
   ]
  },
  {
   "cell_type": "code",
   "execution_count": 5,
   "metadata": {},
   "outputs": [],
   "source": [
    "continent_map = {}  #key: country, value: continent\n",
    "continents = {} #key: continent, value: 1\n",
    "#read continent info\n",
    "header, data = load_csv(Path(\"./countries.csv\"))\n",
    "for row in data:\n",
    "    continent = row[12].replace('Americas', 'America').replace('Oceania', 'Australia').lower()\n",
    "    if continent != '' and continent != 'Polar':\n",
    "        continent_map[row[1]] = continent\n",
    "#print(continent_map)"
   ]
  },
  {
   "cell_type": "code",
   "execution_count": 6,
   "metadata": {},
   "outputs": [],
   "source": [
    "header, data = load_csv(Path(\"./city_country_shortened.csv\"))\n",
    "for row in data:\n",
    "    if row[1] in continent_map:\n",
    "        #print(row[0] + ',' + row[1] + ',' + continent_map[row[1]])\n",
    "        a = 1\n",
    "    else:\n",
    "        print('Not found continent for this country ------ ' + row[1]) #replace country name in file countries.csv -> run code again to update the map\n"
   ]
  },
  {
   "cell_type": "code",
   "execution_count": 7,
   "metadata": {},
   "outputs": [],
   "source": [
    "continents = ['asia', 'america', 'africa', 'australia', 'europe']"
   ]
  },
  {
   "cell_type": "code",
   "execution_count": 8,
   "metadata": {},
   "outputs": [],
   "source": [
    "#select most commented cities for HOMEPAGE\n",
    "MIN_REVIEW_COUNT = 100\n",
    "\n",
    "def generate_cities_for_homepage():\n",
    "    homepageCityUUIDs = []  #list of city UUIDs that has image Urls\n",
    "    home_cities = {}\n",
    "    #top banner (randomly pick a city in europe) ~ 100 cities\n",
    "    query = {'continent':'europe', 'error': None, 'review': {'$gt': MIN_REVIEW_COUNT}}\n",
    "    top_review_cities = tb_city.find(query).sort({'review': -1}).limit(100)\n",
    "    total_docs = tb_city.count_documents(query)\n",
    "    rand_top_index = random.randint(0, total_docs)\n",
    "    top_banner_city = top_review_cities[rand_top_index]\n",
    "    homepageCityUUIDs.append(top_banner_city['uuid'])\n",
    "    home_cities['top_banner'] = {'n': top_banner_city['name'], 'c': top_banner_city['country']}\n",
    "    #print('Top banner city: ' + top_banner_city['name'] + ' country: ' + top_banner_city['country'])\n",
    "    #random pick (randomly pick a city in america or asia) ~ 100 cities\n",
    "    query = {'$or': [{'continent':'america'}, {'continent':'asia'}], 'error': None, 'review': {'$gt': MIN_REVIEW_COUNT}}\n",
    "    random_pick_cities = tb_city.find(query).sort({'review': -1}).limit(100)\n",
    "    total_docs = tb_city.count_documents(query)\n",
    "    rand_top_index = random.randint(0, total_docs)\n",
    "    rand_pick_city = random_pick_cities[rand_top_index]\n",
    "    homepageCityUUIDs.append(rand_pick_city['uuid'])\n",
    "    home_cities['random_pick'] = {'n': rand_pick_city['name'], 'c': rand_pick_city['country']}\n",
    "    #print('Random pick city: ' + rand_pick_city['name'] + ' country: ' + rand_pick_city['country'])\n",
    "    #each continent get randomly 20 cities (get 20 cities, sort by review count)\n",
    "    for continent in continents:\n",
    "        cities_in_continent = []\n",
    "        query = {'continent':continent, 'error': None, 'review': {'$gt': MIN_REVIEW_COUNT}}\n",
    "        pipeline = [\n",
    "            {\"$match\": query},\n",
    "            {\"$sample\": {\"size\": 20}}  #X random documents to show in homepage\n",
    "        ]\n",
    "        cities = list(tb_city.aggregate(pipeline))\n",
    "        for city in cities:\n",
    "            homepageCityUUIDs.append(city['uuid'])\n",
    "            cities_in_continent.append({'n': city['name'], 'c': city['country']})\n",
    "        home_cities[continent] = cities_in_continent\n",
    "    #\n",
    "    return home_cities, homepageCityUUIDs\n"
   ]
  },
  {
   "cell_type": "code",
   "execution_count": 9,
   "metadata": {},
   "outputs": [],
   "source": [
    "continent_keys = {  #map for reducing exported file\n",
    "    'asia': 1, \n",
    "    'america': 2, \n",
    "    'africa': 3, \n",
    "    'australia': 4, \n",
    "    'europe': 5\n",
    "}\n",
    "\n",
    "def map_continent_key(str_continent):\n",
    "    return continent_keys[str_continent]"
   ]
  },
  {
   "cell_type": "code",
   "execution_count": 10,
   "metadata": {},
   "outputs": [
    {
     "name": "stdout",
     "output_type": "stream",
     "text": [
      "{'top_banner': {'n': 'Vosselaar', 'c': 'Belgium'}, 'random_pick': {'n': 'Sasaguri', 'c': 'Japan'}, 'asia': [{'n': 'Sugito', 'c': 'Japan'}, {'n': 'Anan', 'c': 'Japan'}, {'n': 'Renqiu', 'c': 'China'}, {'n': 'Linxi', 'c': 'China'}, {'n': 'Kawasaki', 'c': 'Japan'}, {'n': 'Inazawa', 'c': 'Japan'}, {'n': 'Lingyuan', 'c': 'China'}, {'n': 'Koganei', 'c': 'Japan'}, {'n': 'Don Sak', 'c': 'Thailand'}, {'n': 'Dongxing', 'c': 'China'}, {'n': 'Leshan', 'c': 'China'}, {'n': 'Melikgazi', 'c': 'Turkey'}, {'n': 'Sai Mai', 'c': 'Thailand'}, {'n': 'Nikaho', 'c': 'Japan'}, {'n': 'Wuxue', 'c': 'China'}, {'n': 'Suzaka', 'c': 'Japan'}, {'n': 'Limay', 'c': 'Philippines'}, {'n': 'Yorii', 'c': 'Japan'}, {'n': 'Moalboal', 'c': 'Philippines'}, {'n': 'Balete', 'c': 'Philippines'}], 'america': [{'n': 'Centereach', 'c': 'United States'}, {'n': 'Lake Arbor', 'c': 'United States'}, {'n': 'Absecon', 'c': 'United States'}, {'n': 'San Dimas', 'c': 'United States'}, {'n': 'Gibsonton', 'c': 'United States'}, {'n': 'Westwood', 'c': 'United States'}, {'n': 'Panorama', 'c': 'Brazil'}, {'n': 'Columbia', 'c': 'United States'}, {'n': 'Sylvan Lake', 'c': 'Canada'}, {'n': 'Elias Fausto', 'c': 'Brazil'}, {'n': 'Dranesville', 'c': 'United States'}, {'n': 'Jiutepec', 'c': 'Mexico'}, {'n': 'DeBary', 'c': 'United States'}, {'n': 'Forney', 'c': 'United States'}, {'n': 'Calverton', 'c': 'United States'}, {'n': 'Iguaba Grande', 'c': 'Brazil'}, {'n': 'Valley Stream', 'c': 'United States'}, {'n': 'Cedar Hills', 'c': 'United States'}, {'n': 'El Palmar', 'c': 'Guatemala'}, {'n': 'Saint-Pierre', 'c': 'Saint Pierre and Miquelon'}], 'africa': [{'n': 'Bloemhof', 'c': 'South Africa'}, {'n': 'Sapele', 'c': 'Nigeria'}, {'n': 'Plaine Magnien', 'c': 'Mauritius'}, {'n': 'Al Fashn', 'c': 'Egypt'}, {'n': 'Takelsa', 'c': 'Tunisia'}, {'n': 'Oued Amlil', 'c': 'Morocco'}, {'n': 'Mata', 'c': 'Chad'}, {'n': 'Mojo', 'c': 'Ethiopia'}, {'n': 'Zoumi', 'c': 'Morocco'}, {'n': 'Embu', 'c': 'Kenya'}, {'n': 'Sefrou', 'c': 'Morocco'}, {'n': 'Cape Town', 'c': 'South Africa'}, {'n': 'Boksburg', 'c': 'South Africa'}, {'n': 'Alice', 'c': 'South Africa'}, {'n': 'Tangier', 'c': 'Morocco'}, {'n': 'Kazo', 'c': 'Uganda'}, {'n': 'Seva', 'c': 'Ghana'}, {'n': 'Brakpan', 'c': 'South Africa'}, {'n': 'Arbaoua', 'c': 'Morocco'}, {'n': 'Piketberg', 'c': 'South Africa'}], 'australia': [{'n': 'Ormeau', 'c': 'Australia'}, {'n': 'Gisborne', 'c': 'New Zealand'}, {'n': 'Forster', 'c': 'Australia'}, {'n': 'Smithton', 'c': 'Australia'}, {'n': 'Rockhampton', 'c': 'Australia'}, {'n': 'Ballarat', 'c': 'Australia'}, {'n': 'Cairns', 'c': 'Australia'}, {'n': 'Caloundra', 'c': 'Australia'}, {'n': 'Redlynch', 'c': 'Australia'}, {'n': 'Laverton', 'c': 'Australia'}, {'n': 'Mount Eliza', 'c': 'Australia'}, {'n': 'Mount Evelyn', 'c': 'Australia'}, {'n': 'Gingin', 'c': 'Australia'}, {'n': 'Horsham', 'c': 'Australia'}, {'n': 'Proserpine', 'c': 'Australia'}, {'n': 'Griffith', 'c': 'Australia'}, {'n': 'Hamilton', 'c': 'New Zealand'}, {'n': 'Victor Harbor', 'c': 'Australia'}, {'n': 'Narangba', 'c': 'Australia'}, {'n': 'Kangaroo Flat', 'c': 'Australia'}], 'europe': [{'n': 'Balabanovo', 'c': 'Russia'}, {'n': 'Niederkassel', 'c': 'Germany'}, {'n': 'Pithiviers', 'c': 'France'}, {'n': 'Cluses', 'c': 'France'}, {'n': 'Lyss', 'c': 'Switzerland'}, {'n': 'Bideford', 'c': 'United Kingdom'}, {'n': 'Caprino Veronese', 'c': 'Italy'}, {'n': 'Krasnoznamensk', 'c': 'Russia'}, {'n': 'Beaune', 'c': 'France'}, {'n': 'Trebbin', 'c': 'Germany'}, {'n': 'Eutin', 'c': 'Germany'}, {'n': 'Muttenz', 'c': 'Switzerland'}, {'n': 'Oppeano', 'c': 'Italy'}, {'n': 'Isaszeg', 'c': 'Hungary'}, {'n': 'Marcon', 'c': 'Italy'}, {'n': 'Bussy', 'c': 'Switzerland'}, {'n': 'Abensberg', 'c': 'Germany'}, {'n': 'Argelato', 'c': 'Italy'}, {'n': 'Stord', 'c': 'Norway'}, {'n': 'Kranj', 'c': 'Slovenia'}]}\n",
      "102\n"
     ]
    }
   ],
   "source": [
    "#1. generate random cities to show in homepage\n",
    "home_cities, homepageCityUUIDs = generate_cities_for_homepage()\n",
    "print(home_cities)\n",
    "print(str(len(homepageCityUUIDs)))"
   ]
  },
  {
   "cell_type": "code",
   "execution_count": 12,
   "metadata": {},
   "outputs": [
    {
     "name": "stdout",
     "output_type": "stream",
     "text": [
      "asia : 4115\n",
      "america : 7780\n",
      "africa : 1356\n",
      "australia : 345\n",
      "europe : 8217\n",
      "All cities count: 21813\n"
     ]
    }
   ],
   "source": [
    "##export ALL cities that had data in db -> the file size should limit to 2 MB (reduce key name)\n",
    "#export all cities into json file\n",
    "all_cities = [] #data to export\n",
    "city_continent_map = {} #key: city, value: continent (just for counting how many cities in each continent)\n",
    "for continent in continents:\n",
    "    num_city_in_continent = 0\n",
    "    db_city = tb_city.find({'continent':continent, 'error': None})\n",
    "    for document in db_city:\n",
    "        #count how many cities in a continent\n",
    "        if document['name'] not in city_continent_map:\n",
    "            num_city_in_continent += 1\n",
    "        #save this city into the list\n",
    "        if (document['name'] == home_cities['top_banner']['n'] and document['country'] == home_cities['top_banner']['c']) or (document['name'] == home_cities['random_pick']['n'] and document['country'] == home_cities['random_pick']['c']):\n",
    "            newImgUrls = []\n",
    "            for imgUrl in document['imgUrls']:\n",
    "                newImgUrls.append(imgUrl.replace(IMAGE_URI, ''))\n",
    "            #get full info\n",
    "            all_cities.append({\n",
    "                \"n\" : document['name'],\n",
    "                \"c\" : document['country'],\n",
    "                \"o\": map_continent_key(document['continent']),\n",
    "                \"t\" : document['city_id'],\n",
    "                \"w\" : document['wonder_id'],\n",
    "                \"r\" : document['review'],\n",
    "                \"i\" : document['img'].replace(IMAGE_URI, ''),  #remove domain to reduce file size\n",
    "                'l': newImgUrls,\n",
    "            })\n",
    "        elif document['uuid'] in homepageCityUUIDs: #this belongs to homepage, need image\n",
    "            #get info with 1 image, DO NOT save other images\n",
    "            all_cities.append({\n",
    "                \"n\" : document['name'],\n",
    "                \"c\" : document['country'],\n",
    "                \"o\": map_continent_key(document['continent']),\n",
    "                \"t\" : document['city_id'],\n",
    "                \"w\" : document['wonder_id'],\n",
    "                \"r\" : document['review'],\n",
    "                \"i\" : document['img'].replace(IMAGE_URI, '')\n",
    "            })\n",
    "        else:\n",
    "            #get simple data for searching only (no other relevant info)\n",
    "            minInfo = {\n",
    "                \"n\" : document['name'],\n",
    "                \"c\" : document['country'],\n",
    "                \"t\" : document['city_id'],\n",
    "                \"w\" : document['wonder_id']\n",
    "            }\n",
    "            if document['review'] != None and document['review'] > 10000:\n",
    "                #those cities will be shown up in continent list, need image there\n",
    "                minInfo['r'] = document['review']\n",
    "                minInfo['i'] = document['img'].replace(IMAGE_URI, '')\n",
    "                minInfo['o'] = map_continent_key(document['continent'])\n",
    "            all_cities.append(minInfo)\n",
    "    print(continent + ' : ' + str(num_city_in_continent))\n",
    "#finish\n",
    "print('All cities count: ' + str(len(all_cities)))\n",
    "#export to json file\n",
    "try:\n",
    "    with open('city_db.json', 'w', encoding='utf-8') as f:  # Use utf-8 encoding\n",
    "            json.dump(all_cities, f, separators=(',', ':'))  #no break line or extra spaces\n",
    "except (TypeError, OSError, json.JSONDecodeError) as e:  # Catch potential errors\n",
    "    print(f\"Error exporting to JSON: {e}\")"
   ]
  },
  {
   "cell_type": "code",
   "execution_count": null,
   "metadata": {},
   "outputs": [],
   "source": []
  }
 ],
 "metadata": {
  "kernelspec": {
   "display_name": "3.9.10",
   "language": "python",
   "name": "python3"
  },
  "language_info": {
   "codemirror_mode": {
    "name": "ipython",
    "version": 3
   },
   "file_extension": ".py",
   "mimetype": "text/x-python",
   "name": "python",
   "nbconvert_exporter": "python",
   "pygments_lexer": "ipython3",
   "version": "3.9.10"
  }
 },
 "nbformat": 4,
 "nbformat_minor": 2
}
