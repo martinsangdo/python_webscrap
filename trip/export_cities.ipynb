{
 "cells": [
  {
   "cell_type": "code",
   "execution_count": 149,
   "metadata": {},
   "outputs": [],
   "source": [
    "import csv\n",
    "from pathlib import Path\n",
    "from dotenv import load_dotenv\n",
    "import os\n",
    "import pymongo\n",
    "import uuid\n",
    "import random\n",
    "import json\n"
   ]
  },
  {
   "cell_type": "code",
   "execution_count": 150,
   "metadata": {},
   "outputs": [],
   "source": [
    "db_client = pymongo.MongoClient('mongodb://localhost:27017')\n",
    "collections = db_client['db_ai_travel_planner']\n",
    "tb_city = collections['tb_city']"
   ]
  },
  {
   "cell_type": "code",
   "execution_count": 151,
   "metadata": {},
   "outputs": [],
   "source": [
    "def load_csv(filepath):\n",
    "    data = []\n",
    "    with open(filepath, 'r', newline='', encoding='utf-8') as csvfile:  # Handle encoding!\n",
    "        reader = csv.reader(csvfile)  # Or csv.DictReader for dictionaries\n",
    "        header = next(reader)  # Read the header row (if it exists)\n",
    "        for row in reader:\n",
    "            data.append(row)  # Or data.append(dict(zip(header, row))) for DictReader\n",
    "    return header, data  # Return header and data"
   ]
  },
  {
   "cell_type": "code",
   "execution_count": 152,
   "metadata": {},
   "outputs": [],
   "source": [
    "continent_map = {}  #key: country, value: continent\n",
    "continents = {} #key: continent, value: 1\n",
    "#read continent info\n",
    "header, data = load_csv(Path(\"./countries.csv\"))\n",
    "for row in data:\n",
    "    continent = row[12].replace('Americas', 'America').replace('Oceania', 'Australia').lower()\n",
    "    if continent != '' and continent != 'Polar':\n",
    "        continent_map[row[1]] = continent\n",
    "#print(continent_map)"
   ]
  },
  {
   "cell_type": "code",
   "execution_count": 153,
   "metadata": {},
   "outputs": [],
   "source": [
    "header, data = load_csv(Path(\"./city_country_shortened.csv\"))\n",
    "for row in data:\n",
    "    if row[1] in continent_map:\n",
    "        #print(row[0] + ',' + row[1] + ',' + continent_map[row[1]])\n",
    "        a = 1\n",
    "    else:\n",
    "        print('Not found continent for this country ------ ' + row[1]) #replace country name in file countries.csv -> run code again to update the map\n"
   ]
  },
  {
   "cell_type": "code",
   "execution_count": 154,
   "metadata": {},
   "outputs": [],
   "source": [
    "continents = ['asia', 'america', 'africa', 'australia', 'europe']"
   ]
  },
  {
   "cell_type": "code",
   "execution_count": 159,
   "metadata": {},
   "outputs": [],
   "source": [
    "#select most commented cities for HOMEPAGE\n",
    "MIN_REVIEW_COUNT = 100\n",
    "\n",
    "def generate_cities_for_home():\n",
    "    cities_with_image = []  #list of city UUIDs that has image Urls\n",
    "    home_cities = {}\n",
    "    #top banner (randomly pick a city in europe) ~ 100 cities\n",
    "    query = {'continent':'europe', 'error': None, 'review': {'$gt': MIN_REVIEW_COUNT}}\n",
    "    top_review_cities = tb_city.find(query).sort({'review': -1}).limit(100)\n",
    "    total_docs = tb_city.count_documents(query)\n",
    "    rand_top_index = random.randint(0, total_docs)\n",
    "    top_banner_city = top_review_cities[rand_top_index]\n",
    "    cities_with_image.append(top_banner_city['uuid'])\n",
    "    home_cities['top_banner'] = {'n': top_banner_city['name'], 'c': top_banner_city['country']}\n",
    "    #print('Top banner city: ' + top_banner_city['name'] + ' country: ' + top_banner_city['country'])\n",
    "    #random pick (randomly pick a city in america or asia) ~ 100 cities\n",
    "    query = {'$or': [{'continent':'america'}, {'continent':'asia'}], 'error': None, 'review': {'$gt': MIN_REVIEW_COUNT}}\n",
    "    random_pick_cities = tb_city.find(query).sort({'review': -1}).limit(100)\n",
    "    total_docs = tb_city.count_documents(query)\n",
    "    rand_top_index = random.randint(0, total_docs)\n",
    "    rand_pick_city = random_pick_cities[rand_top_index]\n",
    "    cities_with_image.append(rand_pick_city['uuid'])\n",
    "    home_cities['random_pick'] = {'n': rand_pick_city['name'], 'c': rand_pick_city['country']}\n",
    "    #print('Random pick city: ' + rand_pick_city['name'] + ' country: ' + rand_pick_city['country'])\n",
    "    #each continent get randomly 20 cities (get 20 cities, sort by review count)\n",
    "    for continent in continents:\n",
    "        cities_in_continent = []\n",
    "        query = {'continent':continent, 'error': None, 'review': {'$gt': MIN_REVIEW_COUNT}}\n",
    "        pipeline = [\n",
    "            {\"$match\": query},\n",
    "            {\"$sample\": {\"size\": 20}}  #X random documents\n",
    "        ]\n",
    "        cities = list(tb_city.aggregate(pipeline))\n",
    "        for city in cities:\n",
    "            cities_with_image.append(city['uuid'])\n",
    "            cities_in_continent.append({'n': city['name'], 'c': city['country']})\n",
    "        home_cities[continent] = cities_in_continent\n",
    "    #\n",
    "    return home_cities, cities_with_image\n"
   ]
  },
  {
   "cell_type": "code",
   "execution_count": null,
   "metadata": {},
   "outputs": [
    {
     "name": "stdout",
     "output_type": "stream",
     "text": [
      "{'top_banner': {'n': 'Neuss', 'c': 'Germany'}, 'random_pick': {'n': 'Malolos', 'c': 'Philippines'}, 'asia': [{'n': 'Wuchuan', 'c': 'China'}, {'n': 'Huaihua', 'c': 'China'}, {'n': 'Yunfu', 'c': 'China'}, {'n': 'Kunming', 'c': 'China'}, {'n': 'Mojokerto', 'c': 'Indonesia'}, {'n': 'Nagahama', 'c': 'Japan'}, {'n': 'Baisha', 'c': 'China'}, {'n': 'Gaozhou', 'c': 'China'}, {'n': 'Moriguchi', 'c': 'Japan'}, {'n': 'Manila', 'c': 'Philippines'}, {'n': 'Taihe', 'c': 'China'}, {'n': 'Wuhai', 'c': 'China'}, {'n': 'Fuyuan', 'c': 'China'}, {'n': 'Tehran', 'c': 'Iran'}, {'n': 'Ezhou', 'c': 'China'}, {'n': 'Bayawan', 'c': 'Philippines'}, {'n': 'Nantou', 'c': 'Taiwan'}, {'n': 'Mudanya', 'c': 'Turkey'}, {'n': 'Fujimi', 'c': 'Japan'}, {'n': 'Gaizhou', 'c': 'China'}], 'america': [{'n': 'Manzanillo', 'c': 'Cuba'}, {'n': 'Boca Raton', 'c': 'United States'}, {'n': 'Kissimmee', 'c': 'United States'}, {'n': 'Delta', 'c': 'Canada'}, {'n': 'New York', 'c': 'United States'}, {'n': 'Santa Marta', 'c': 'Colombia'}, {'n': 'Pompano Beach', 'c': 'United States'}, {'n': 'Palermo', 'c': 'Colombia'}, {'n': 'San Leandro', 'c': 'United States'}, {'n': 'Fairfield', 'c': 'United States'}, {'n': 'Mogi das Cruzes', 'c': 'Brazil'}, {'n': 'Dearborn', 'c': 'United States'}, {'n': 'Edmonton', 'c': 'Canada'}, {'n': 'Indaiatuba', 'c': 'Brazil'}, {'n': 'Santa Ana', 'c': 'El Salvador'}, {'n': 'Bremerton', 'c': 'United States'}, {'n': 'Mission Viejo', 'c': 'United States'}, {'n': 'Oshawa', 'c': 'Canada'}, {'n': 'Danbury', 'c': 'United States'}, {'n': 'Oceanside', 'c': 'United States'}], 'africa': [{'n': 'Larache', 'c': 'Morocco'}, {'n': 'Springs', 'c': 'South Africa'}, {'n': 'Sodo', 'c': 'Ethiopia'}, {'n': 'Temara', 'c': 'Morocco'}, {'n': 'Paarl', 'c': 'South Africa'}, {'n': 'Rosetta', 'c': 'Egypt'}, {'n': 'Sapele', 'c': 'Nigeria'}, {'n': 'Rustenburg', 'c': 'South Africa'}, {'n': 'Kibaha', 'c': 'Tanzania'}, {'n': 'Ede', 'c': 'Nigeria'}, {'n': 'Kiambu', 'c': 'Kenya'}, {'n': 'Al Fashn', 'c': 'Egypt'}, {'n': 'Boksburg', 'c': 'South Africa'}, {'n': 'Blantyre', 'c': 'Malawi'}, {'n': 'Monrovia', 'c': 'Liberia'}, {'n': 'Saint-Denis', 'c': 'Reunion'}, {'n': 'Pretoria', 'c': 'South Africa'}, {'n': 'Baraki', 'c': 'Algeria'}, {'n': 'Huambo', 'c': 'Angola'}, {'n': 'Rabat', 'c': 'Morocco'}], 'australia': [{'n': 'Perth', 'c': 'Australia'}, {'n': 'Brisbane', 'c': 'Australia'}, {'n': 'Cranbourne', 'c': 'Australia'}, {'n': 'Hobart', 'c': 'Australia'}, {'n': 'Tauranga', 'c': 'New Zealand'}, {'n': 'Bendigo', 'c': 'Australia'}, {'n': 'Mandurah', 'c': 'Australia'}, {'n': 'Canberra', 'c': 'Australia'}, {'n': 'Christchurch', 'c': 'New Zealand'}, {'n': 'Geelong', 'c': 'Australia'}, {'n': 'Ballarat', 'c': 'Australia'}, {'n': 'Sydney', 'c': 'Australia'}, {'n': 'Auckland', 'c': 'New Zealand'}, {'n': 'Northcote', 'c': 'New Zealand'}, {'n': 'Melbourne', 'c': 'Australia'}, {'n': 'Cairns', 'c': 'Australia'}, {'n': 'Lower Hutt', 'c': 'New Zealand'}, {'n': 'Wollongong', 'c': 'Australia'}, {'n': 'Hamilton', 'c': 'New Zealand'}, {'n': 'Lae', 'c': 'Papua New Guinea'}], 'europe': [{'n': 'Turin', 'c': 'Italy'}, {'n': 'Bergen', 'c': 'Norway'}, {'n': 'Valongo', 'c': 'Portugal'}, {'n': 'Watford', 'c': 'United Kingdom'}, {'n': 'Monza', 'c': 'Italy'}, {'n': 'Breda', 'c': 'Netherlands'}, {'n': 'Nice', 'c': 'France'}, {'n': 'Matosinhos', 'c': 'Portugal'}, {'n': 'Halle', 'c': 'Germany'}, {'n': 'Roubaix', 'c': 'France'}, {'n': 'Jerez de la Frontera', 'c': 'Spain'}, {'n': 'Luxembourg', 'c': 'Luxembourg'}, {'n': 'Bern', 'c': 'Switzerland'}, {'n': 'Brescia', 'c': 'Italy'}, {'n': 'Brest', 'c': 'France'}, {'n': 'Las Rozas de Madrid', 'c': 'Spain'}, {'n': 'Wigan', 'c': 'United Kingdom'}, {'n': 'Kolpino', 'c': 'Russia'}, {'n': 'Islington', 'c': 'United Kingdom'}, {'n': 'Lyubertsy', 'c': 'Russia'}]}\n",
      "102\n",
      "asia : 1416\n",
      "america : 1170\n",
      "africa : 411\n",
      "australia : 30\n",
      "europe : 689\n",
      "All cities count: 3716\n"
     ]
    }
   ],
   "source": [
    "##export ALL cities that had data in db -> the file size should limit to 2 MB (reduce key name)\n",
    "continent_keys = {  #map for reducing exported file\n",
    "    'asia': 1, \n",
    "    'america': 2, \n",
    "    'africa': 3, \n",
    "    'australia': 4, \n",
    "    'europe': 5\n",
    "}\n",
    "#1. generate random cities to show in homepage\n",
    "home_cities, cities_with_image = generate_cities_for_home()\n",
    "print(home_cities)\n",
    "print(str(len(cities_with_image)))\n",
    "#export all cities into json file\n",
    "all_cities = [] #data to export\n",
    "city_continent_map = {} #key: city, value: continent (just for counting how many cities in each continent)\n",
    "for continent in continents:\n",
    "    num_city_in_continent = 0\n",
    "    db_city = tb_city.find({'continent':continent, 'error': None})\n",
    "    for document in db_city:\n",
    "        #count how many cities in a continent\n",
    "        if document['name'] not in city_continent_map:\n",
    "            num_city_in_continent += 1\n",
    "        #save this city into the list\n",
    "        if (document['name'] == home_cities['top_banner']['n'] and document['country'] == home_cities['top_banner']['c']) or (document['name'] == home_cities['random_pick']['n'] and document['country'] == home_cities['random_pick']['c']):\n",
    "            #get full info\n",
    "            all_cities.append({\n",
    "                \"n\" : document['name'],\n",
    "                \"c\" : document['country'],\n",
    "                \"ci\" : document['city_id'],\n",
    "                \"wi\" : document['wonder_id'],\n",
    "                #\"r\" : continent_keys[document['continent']],\n",
    "                \"rc\" : document['review'],\n",
    "                \"i\" : document['img'],\n",
    "                'li': document['imgUrls'],\n",
    "            })\n",
    "        elif document['uuid'] in cities_with_image:\n",
    "            #get info with 1 image, DO NOT save other images\n",
    "            all_cities.append({\n",
    "                \"n\" : document['name'],\n",
    "                \"c\" : document['country'],\n",
    "                \"ci\" : document['city_id'],\n",
    "                \"wi\" : document['wonder_id'],\n",
    "                \"rc\" : document['review'],\n",
    "                \"i\" : document['img']\n",
    "            })\n",
    "        else:\n",
    "            #get simple data for searching only (no image or other relevant info)\n",
    "            all_cities.append({\n",
    "                \"n\" : document['name'],\n",
    "                \"c\" : document['country'],\n",
    "                \"ci\" : document['city_id'],\n",
    "                \"wi\" : document['wonder_id']\n",
    "            })\n",
    "    print(continent + ' : ' + str(num_city_in_continent))\n",
    "#finish\n",
    "print('All cities count: ' + str(len(all_cities)))\n",
    "#export to json file\n",
    "try:\n",
    "    with open('city_db.json', 'w', encoding='utf-8') as f:  # Use utf-8 encoding\n",
    "            json.dump(all_cities, f, separators=(',', ':'))  #no break line or extra spaces\n",
    "except (TypeError, OSError, json.JSONDecodeError) as e:  # Catch potential errors\n",
    "    print(f\"Error exporting to JSON: {e}\")"
   ]
  },
  {
   "cell_type": "code",
   "execution_count": null,
   "metadata": {},
   "outputs": [],
   "source": []
  },
  {
   "cell_type": "code",
   "execution_count": null,
   "metadata": {},
   "outputs": [],
   "source": []
  }
 ],
 "metadata": {
  "kernelspec": {
   "display_name": "3.9.10",
   "language": "python",
   "name": "python3"
  },
  "language_info": {
   "codemirror_mode": {
    "name": "ipython",
    "version": 3
   },
   "file_extension": ".py",
   "mimetype": "text/x-python",
   "name": "python",
   "nbconvert_exporter": "python",
   "pygments_lexer": "ipython3",
   "version": "3.9.10"
  }
 },
 "nbformat": 4,
 "nbformat_minor": 2
}
