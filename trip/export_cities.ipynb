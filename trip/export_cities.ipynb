{
 "cells": [
  {
   "cell_type": "code",
   "execution_count": 149,
   "metadata": {},
   "outputs": [],
   "source": [
    "import csv\n",
    "from pathlib import Path\n",
    "from dotenv import load_dotenv\n",
    "import os\n",
    "import pymongo\n",
    "import uuid\n",
    "import random\n",
    "import json\n"
   ]
  },
  {
   "cell_type": "code",
   "execution_count": 150,
   "metadata": {},
   "outputs": [],
   "source": [
    "db_client = pymongo.MongoClient('mongodb://localhost:27017')\n",
    "collections = db_client['db_ai_travel_planner']\n",
    "tb_city = collections['tb_city']"
   ]
  },
  {
   "cell_type": "code",
   "execution_count": 151,
   "metadata": {},
   "outputs": [],
   "source": [
    "def load_csv(filepath):\n",
    "    data = []\n",
    "    with open(filepath, 'r', newline='', encoding='utf-8') as csvfile:  # Handle encoding!\n",
    "        reader = csv.reader(csvfile)  # Or csv.DictReader for dictionaries\n",
    "        header = next(reader)  # Read the header row (if it exists)\n",
    "        for row in reader:\n",
    "            data.append(row)  # Or data.append(dict(zip(header, row))) for DictReader\n",
    "    return header, data  # Return header and data"
   ]
  },
  {
   "cell_type": "code",
   "execution_count": 152,
   "metadata": {},
   "outputs": [],
   "source": [
    "continent_map = {}  #key: country, value: continent\n",
    "continents = {} #key: continent, value: 1\n",
    "#read continent info\n",
    "header, data = load_csv(Path(\"./countries.csv\"))\n",
    "for row in data:\n",
    "    continent = row[12].replace('Americas', 'America').replace('Oceania', 'Australia').lower()\n",
    "    if continent != '' and continent != 'Polar':\n",
    "        continent_map[row[1]] = continent\n",
    "#print(continent_map)"
   ]
  },
  {
   "cell_type": "code",
   "execution_count": 153,
   "metadata": {},
   "outputs": [],
   "source": [
    "header, data = load_csv(Path(\"./city_country_shortened.csv\"))\n",
    "for row in data:\n",
    "    if row[1] in continent_map:\n",
    "        #print(row[0] + ',' + row[1] + ',' + continent_map[row[1]])\n",
    "        a = 1\n",
    "    else:\n",
    "        print('Not found continent for this country ------ ' + row[1]) #replace country name in file countries.csv -> run code again to update the map\n"
   ]
  },
  {
   "cell_type": "code",
   "execution_count": 154,
   "metadata": {},
   "outputs": [],
   "source": [
    "continents = ['asia', 'america', 'africa', 'australia', 'europe']"
   ]
  },
  {
   "cell_type": "code",
   "execution_count": 159,
   "metadata": {},
   "outputs": [],
   "source": [
    "#select most commented cities for HOMEPAGE\n",
    "MIN_REVIEW_COUNT = 100\n",
    "\n",
    "def generate_cities_for_home():\n",
    "    cities_with_image = []  #list of city UUIDs that has image Urls\n",
    "    home_cities = {}\n",
    "    #top banner (randomly pick a city in europe) ~ 100 cities\n",
    "    query = {'continent':'europe', 'error': None, 'review': {'$gt': MIN_REVIEW_COUNT}}\n",
    "    top_review_cities = tb_city.find(query).sort({'review': -1}).limit(100)\n",
    "    total_docs = tb_city.count_documents(query)\n",
    "    rand_top_index = random.randint(0, total_docs)\n",
    "    top_banner_city = top_review_cities[rand_top_index]\n",
    "    cities_with_image.append(top_banner_city['uuid'])\n",
    "    home_cities['top_banner'] = {'n': top_banner_city['name'], 'c': top_banner_city['country']}\n",
    "    #print('Top banner city: ' + top_banner_city['name'] + ' country: ' + top_banner_city['country'])\n",
    "    #random pick (randomly pick a city in america or asia) ~ 100 cities\n",
    "    query = {'$or': [{'continent':'america'}, {'continent':'asia'}], 'error': None, 'review': {'$gt': MIN_REVIEW_COUNT}}\n",
    "    random_pick_cities = tb_city.find(query).sort({'review': -1}).limit(100)\n",
    "    total_docs = tb_city.count_documents(query)\n",
    "    rand_top_index = random.randint(0, total_docs)\n",
    "    rand_pick_city = random_pick_cities[rand_top_index]\n",
    "    cities_with_image.append(rand_pick_city['uuid'])\n",
    "    home_cities['random_pick'] = {'n': rand_pick_city['name'], 'c': rand_pick_city['country']}\n",
    "    #print('Random pick city: ' + rand_pick_city['name'] + ' country: ' + rand_pick_city['country'])\n",
    "    #each continent get randomly 20 cities (get 20 cities, sort by review count)\n",
    "    for continent in continents:\n",
    "        cities_in_continent = []\n",
    "        query = {'continent':continent, 'error': None, 'review': {'$gt': MIN_REVIEW_COUNT}}\n",
    "        pipeline = [\n",
    "            {\"$match\": query},\n",
    "            {\"$sample\": {\"size\": 20}}  #X random documents\n",
    "        ]\n",
    "        cities = list(tb_city.aggregate(pipeline))\n",
    "        for city in cities:\n",
    "            cities_with_image.append(city['uuid'])\n",
    "            cities_in_continent.append({'n': city['name'], 'c': city['country']})\n",
    "        home_cities[continent] = cities_in_continent\n",
    "    #\n",
    "    return home_cities, cities_with_image\n"
   ]
  },
  {
   "cell_type": "code",
   "execution_count": 161,
   "metadata": {},
   "outputs": [
    {
     "name": "stdout",
     "output_type": "stream",
     "text": [
      "{'top_banner': {'n': 'Bruges', 'c': 'Belgium'}, 'random_pick': {'n': 'Guangshui', 'c': 'China'}, 'asia': [{'n': 'Yantai', 'c': 'China'}, {'n': 'Petaling Jaya', 'c': 'Malaysia'}, {'n': 'Korla', 'c': 'China'}, {'n': 'Tongren', 'c': 'China'}, {'n': 'Baisha', 'c': 'China'}, {'n': 'Kabul', 'c': 'Afghanistan'}, {'n': 'Ungaran', 'c': 'Indonesia'}, {'n': 'Kasugai', 'c': 'Japan'}, {'n': 'Kamagaya', 'c': 'Japan'}, {'n': 'Etah', 'c': 'India'}, {'n': 'Digos', 'c': 'Philippines'}, {'n': 'Arayat', 'c': 'Philippines'}, {'n': 'Nenjiang', 'c': 'China'}, {'n': 'Chifeng', 'c': 'China'}, {'n': 'Taipei', 'c': 'Taiwan'}, {'n': 'Fukuyama', 'c': 'Japan'}, {'n': 'Fukuoka', 'c': 'Japan'}, {'n': 'Kuwana', 'c': 'Japan'}, {'n': 'Qamdo', 'c': 'China'}, {'n': 'Leshan', 'c': 'China'}], 'america': [{'n': 'Medford', 'c': 'United States'}, {'n': 'Huixquilucan', 'c': 'Mexico'}, {'n': 'Edison', 'c': 'United States'}, {'n': 'Kanata', 'c': 'Canada'}, {'n': 'Santa Clarita', 'c': 'United States'}, {'n': 'Durham', 'c': 'United States'}, {'n': 'San Felipe del Progreso', 'c': 'Mexico'}, {'n': 'Pompano Beach', 'c': 'United States'}, {'n': 'Boca Raton', 'c': 'United States'}, {'n': 'Escondido', 'c': 'United States'}, {'n': 'Omaha', 'c': 'United States'}, {'n': 'Santa Ana', 'c': 'United States'}, {'n': 'San Martin Texmelucan de Labastida', 'c': 'Mexico'}, {'n': 'Osasco', 'c': 'Brazil'}, {'n': 'Des Moines', 'c': 'United States'}, {'n': 'Lo Barnechea', 'c': 'Chile'}, {'n': 'Edmonton', 'c': 'Canada'}, {'n': 'Cerro', 'c': 'Cuba'}, {'n': 'Arroyo Naranjo', 'c': 'Cuba'}, {'n': 'Carolina', 'c': 'Puerto Rico'}], 'africa': [{'n': 'Bordj el Kiffan', 'c': 'Algeria'}, {'n': 'Durban', 'c': 'South Africa'}, {'n': 'Bab Ezzouar', 'c': 'Algeria'}, {'n': 'Kenitra', 'c': 'Morocco'}, {'n': 'Bouskoura', 'c': 'Morocco'}, {'n': 'Benoni', 'c': 'South Africa'}, {'n': 'Nairobi', 'c': 'Kenya'}, {'n': 'Vereeniging', 'c': 'South Africa'}, {'n': 'Saint-Denis', 'c': 'Reunion'}, {'n': 'Kibaha', 'c': 'Tanzania'}, {'n': 'Lafia', 'c': 'Nigeria'}, {'n': 'Lalo', 'c': 'Benin'}, {'n': 'Roodepoort', 'c': 'South Africa'}, {'n': 'Mohammedia', 'c': 'Morocco'}, {'n': 'Tunis', 'c': 'Tunisia'}, {'n': 'Larache', 'c': 'Morocco'}, {'n': 'Pretoria', 'c': 'South Africa'}, {'n': 'Blantyre', 'c': 'Malawi'}, {'n': 'Ede', 'c': 'Nigeria'}, {'n': 'Vanderbijlpark', 'c': 'South Africa'}], 'australia': [{'n': 'Cairns', 'c': 'Australia'}, {'n': 'Cranbourne', 'c': 'Australia'}, {'n': 'Auckland', 'c': 'New Zealand'}, {'n': 'Lower Hutt', 'c': 'New Zealand'}, {'n': 'Hobart', 'c': 'Australia'}, {'n': 'Christchurch', 'c': 'New Zealand'}, {'n': 'Geelong', 'c': 'Australia'}, {'n': 'Perth', 'c': 'Australia'}, {'n': 'Melbourne', 'c': 'Australia'}, {'n': 'Lae', 'c': 'Papua New Guinea'}, {'n': 'Brisbane', 'c': 'Australia'}, {'n': 'Hamilton', 'c': 'New Zealand'}, {'n': 'Canberra', 'c': 'Australia'}, {'n': 'Ballarat', 'c': 'Australia'}, {'n': 'Wollongong', 'c': 'Australia'}, {'n': 'Bendigo', 'c': 'Australia'}, {'n': 'Tauranga', 'c': 'New Zealand'}, {'n': 'Northcote', 'c': 'New Zealand'}, {'n': 'Sydney', 'c': 'Australia'}], 'europe': [{'n': 'Santander', 'c': 'Spain'}, {'n': 'Mulhouse', 'c': 'France'}, {'n': 'Oslo', 'c': 'Norway'}, {'n': 'Las Rozas de Madrid', 'c': 'Spain'}, {'n': 'Villeurbanne', 'c': 'France'}, {'n': 'Saint-Denis', 'c': 'France'}, {'n': 'Bergamo', 'c': 'Italy'}, {'n': 'Arad', 'c': 'Romania'}, {'n': 'Budapest', 'c': 'Hungary'}, {'n': 'Odense', 'c': 'Denmark'}, {'n': 'Argenteuil', 'c': 'France'}, {'n': 'Erlangen', 'c': 'Germany'}, {'n': 'Herne', 'c': 'Germany'}, {'n': 'Reutov', 'c': 'Russia'}, {'n': 'Saint Helens', 'c': 'United Kingdom'}, {'n': 'Dublin', 'c': 'Ireland'}, {'n': 'Coventry', 'c': 'United Kingdom'}, {'n': 'Salerno', 'c': 'Italy'}, {'n': 'Bottrop', 'c': 'Germany'}, {'n': 'Pforzheim', 'c': 'Germany'}]}\n",
      "101\n",
      "asia : 1393\n",
      "america : 1140\n",
      "africa : 398\n",
      "australia : 29\n",
      "europe : 666\n",
      "All cities count: 3626\n"
     ]
    }
   ],
   "source": [
    "#test\n",
    "home_cities, cities_with_image = generate_cities_for_home()\n",
    "print(home_cities)\n",
    "print(str(len(cities_with_image)))\n",
    "#export ALL cities that had data in db -> the file size should limit to 2 MB (reduce key name)\n",
    "all_cities = []\n",
    "city_continent_map = {} #key: city, value: continent\n",
    "for continent in continents:\n",
    "    num_city_in_continent = 0\n",
    "    db_city = tb_city.find({'continent':continent, 'error': None})\n",
    "    for document in db_city:\n",
    "        #count how many cities in a continent\n",
    "        if document['name'] not in city_continent_map:\n",
    "            num_city_in_continent += 1\n",
    "        #save this city into the list\n",
    "        if (document['name'] == home_cities['top_banner']['n'] and document['country'] == home_cities['top_banner']['c']) or (document['name'] == home_cities['random_pick']['n'] and document['country'] == home_cities['random_pick']['c']):\n",
    "            #get full info\n",
    "            all_cities.append({\n",
    "                #\"id\" : document['uuid'],\n",
    "                \"n\" : document['name'],\n",
    "                \"c\" : document['country'],\n",
    "                \"ci\" : document['city_id'],\n",
    "                \"r\" : document['continent'],\n",
    "                \"rc\" : document['review'],\n",
    "                \"i\" : document['img'],\n",
    "                'li': document['imgUrls'],\n",
    "                \"wi\" : document['wonder_id']\n",
    "            })\n",
    "        elif document['uuid'] in cities_with_image:\n",
    "            #get info with 1 image, DO NOT save other images\n",
    "            all_cities.append({\n",
    "                #\"id\" : document['uuid'],\n",
    "                \"n\" : document['name'],\n",
    "                \"c\" : document['country'],\n",
    "                \"ci\" : document['city_id'],\n",
    "                \"r\" : document['continent'],\n",
    "                \"rc\" : document['review'],\n",
    "                \"i\" : document['img'],\n",
    "                \"wi\" : document['wonder_id']\n",
    "            })\n",
    "        else:\n",
    "            #get simple data for searching only (no image or other relevant info)\n",
    "            all_cities.append({\n",
    "                \"n\" : document['name'],\n",
    "                \"c\" : document['country'],\n",
    "                \"r\" : document['continent'],\n",
    "                \"cid\" : document['city_id'],\n",
    "                \"wid\" : document['wonder_id']\n",
    "            })\n",
    "    print(continent + ' : ' + str(num_city_in_continent))\n",
    "#finish\n",
    "print('All cities count: ' + str(len(all_cities)))\n",
    "#export to json file\n",
    "try:\n",
    "    with open('city_db.json', 'w', encoding='utf-8') as f:  # Use utf-8 encoding\n",
    "            json.dump(all_cities, f, separators=(',', ':'))  #no break line or extra spaces\n",
    "except (TypeError, OSError, json.JSONDecodeError) as e:  # Catch potential errors\n",
    "    print(f\"Error exporting to JSON: {e}\")"
   ]
  },
  {
   "cell_type": "code",
   "execution_count": null,
   "metadata": {},
   "outputs": [],
   "source": []
  },
  {
   "cell_type": "code",
   "execution_count": null,
   "metadata": {},
   "outputs": [],
   "source": []
  }
 ],
 "metadata": {
  "kernelspec": {
   "display_name": "3.9.10",
   "language": "python",
   "name": "python3"
  },
  "language_info": {
   "codemirror_mode": {
    "name": "ipython",
    "version": 3
   },
   "file_extension": ".py",
   "mimetype": "text/x-python",
   "name": "python",
   "nbconvert_exporter": "python",
   "pygments_lexer": "ipython3",
   "version": "3.9.10"
  }
 },
 "nbformat": 4,
 "nbformat_minor": 2
}
