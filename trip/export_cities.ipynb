{
 "cells": [
  {
   "cell_type": "code",
   "execution_count": 1,
   "metadata": {},
   "outputs": [],
   "source": [
    "import csv\n",
    "from pathlib import Path\n",
    "from dotenv import load_dotenv\n",
    "import os\n",
    "import pymongo\n",
    "import uuid\n",
    "import random\n",
    "import json\n"
   ]
  },
  {
   "cell_type": "code",
   "execution_count": 2,
   "metadata": {},
   "outputs": [],
   "source": [
    "db_client = pymongo.MongoClient('mongodb://localhost:27017')\n",
    "collections = db_client['db_ai_travel_planner']\n",
    "tb_city = collections['tb_city']"
   ]
  },
  {
   "cell_type": "code",
   "execution_count": 3,
   "metadata": {},
   "outputs": [],
   "source": [
    "IMAGE_URI = 'https://ak-d.tripcdn.com/images/'  #used to replace url when exporting data"
   ]
  },
  {
   "cell_type": "code",
   "execution_count": 4,
   "metadata": {},
   "outputs": [],
   "source": [
    "def load_csv(filepath):\n",
    "    data = []\n",
    "    with open(filepath, 'r', newline='', encoding='utf-8') as csvfile:  # Handle encoding!\n",
    "        reader = csv.reader(csvfile)  # Or csv.DictReader for dictionaries\n",
    "        header = next(reader)  # Read the header row (if it exists)\n",
    "        for row in reader:\n",
    "            data.append(row)  # Or data.append(dict(zip(header, row))) for DictReader\n",
    "    return header, data  # Return header and data"
   ]
  },
  {
   "cell_type": "code",
   "execution_count": 5,
   "metadata": {},
   "outputs": [],
   "source": [
    "continent_map = {}  #key: country, value: continent\n",
    "continents = {} #key: continent, value: 1\n",
    "#read continent info\n",
    "header, data = load_csv(Path(\"./countries.csv\"))\n",
    "for row in data:\n",
    "    continent = row[12].replace('Americas', 'America').replace('Oceania', 'Australia').lower()\n",
    "    if continent != '' and continent != 'Polar':\n",
    "        continent_map[row[1]] = continent\n",
    "#print(continent_map)"
   ]
  },
  {
   "cell_type": "code",
   "execution_count": 6,
   "metadata": {},
   "outputs": [],
   "source": [
    "header, data = load_csv(Path(\"./city_country_shortened.csv\"))\n",
    "for row in data:\n",
    "    if row[1] in continent_map:\n",
    "        #print(row[0] + ',' + row[1] + ',' + continent_map[row[1]])\n",
    "        a = 1\n",
    "    else:\n",
    "        print('Not found continent for this country ------ ' + row[1]) #replace country name in file countries.csv -> run code again to update the map\n"
   ]
  },
  {
   "cell_type": "code",
   "execution_count": 7,
   "metadata": {},
   "outputs": [],
   "source": [
    "continents = ['asia', 'america', 'africa', 'australia', 'europe']"
   ]
  },
  {
   "cell_type": "code",
   "execution_count": 8,
   "metadata": {},
   "outputs": [],
   "source": [
    "#select most commented cities for HOMEPAGE\n",
    "MIN_REVIEW_COUNT = 100\n",
    "\n",
    "def generate_cities_for_home():\n",
    "    cities_with_image = []  #list of city UUIDs that has image Urls\n",
    "    home_cities = {}\n",
    "    #top banner (randomly pick a city in europe) ~ 100 cities\n",
    "    query = {'continent':'europe', 'error': None, 'review': {'$gt': MIN_REVIEW_COUNT}}\n",
    "    top_review_cities = tb_city.find(query).sort({'review': -1}).limit(100)\n",
    "    total_docs = tb_city.count_documents(query)\n",
    "    rand_top_index = random.randint(0, total_docs)\n",
    "    top_banner_city = top_review_cities[rand_top_index]\n",
    "    cities_with_image.append(top_banner_city['uuid'])\n",
    "    home_cities['top_banner'] = {'n': top_banner_city['name'], 'c': top_banner_city['country']}\n",
    "    #print('Top banner city: ' + top_banner_city['name'] + ' country: ' + top_banner_city['country'])\n",
    "    #random pick (randomly pick a city in america or asia) ~ 100 cities\n",
    "    query = {'$or': [{'continent':'america'}, {'continent':'asia'}], 'error': None, 'review': {'$gt': MIN_REVIEW_COUNT}}\n",
    "    random_pick_cities = tb_city.find(query).sort({'review': -1}).limit(100)\n",
    "    total_docs = tb_city.count_documents(query)\n",
    "    rand_top_index = random.randint(0, total_docs)\n",
    "    rand_pick_city = random_pick_cities[rand_top_index]\n",
    "    cities_with_image.append(rand_pick_city['uuid'])\n",
    "    home_cities['random_pick'] = {'n': rand_pick_city['name'], 'c': rand_pick_city['country']}\n",
    "    #print('Random pick city: ' + rand_pick_city['name'] + ' country: ' + rand_pick_city['country'])\n",
    "    #each continent get randomly 20 cities (get 20 cities, sort by review count)\n",
    "    for continent in continents:\n",
    "        cities_in_continent = []\n",
    "        query = {'continent':continent, 'error': None, 'review': {'$gt': MIN_REVIEW_COUNT}}\n",
    "        pipeline = [\n",
    "            {\"$match\": query},\n",
    "            {\"$sample\": {\"size\": 20}}  #X random documents to show in homepage\n",
    "        ]\n",
    "        cities = list(tb_city.aggregate(pipeline))\n",
    "        for city in cities:\n",
    "            cities_with_image.append(city['uuid'])\n",
    "            cities_in_continent.append({'n': city['name'], 'c': city['country']})\n",
    "        home_cities[continent] = cities_in_continent\n",
    "    #\n",
    "    return home_cities, cities_with_image\n"
   ]
  },
  {
   "cell_type": "code",
   "execution_count": 9,
   "metadata": {},
   "outputs": [
    {
     "name": "stdout",
     "output_type": "stream",
     "text": [
      "{'top_banner': {'n': 'Wervik', 'c': 'Belgium'}, 'random_pick': {'n': 'Melikgazi', 'c': 'Turkey'}, 'asia': [{'n': 'Yatomi', 'c': 'Japan'}, {'n': 'Mibu', 'c': 'Japan'}, {'n': 'Hongjiang', 'c': 'China'}, {'n': 'Owariasahi', 'c': 'Japan'}, {'n': 'Taku', 'c': 'Japan'}, {'n': 'Ganzhou', 'c': 'China'}, {'n': 'Pak Kret', 'c': 'Thailand'}, {'n': 'San Juan', 'c': 'Philippines'}, {'n': 'Shika', 'c': 'Japan'}, {'n': 'Pran Buri', 'c': 'Thailand'}, {'n': 'Prey Veng', 'c': 'Cambodia'}, {'n': 'Owase', 'c': 'Japan'}, {'n': 'Kuqa', 'c': 'China'}, {'n': 'Ube', 'c': 'Japan'}, {'n': 'Tongliao', 'c': 'China'}, {'n': 'Jinchang', 'c': 'China'}, {'n': 'Wuhu', 'c': 'China'}, {'n': 'Wuchuan', 'c': 'China'}, {'n': 'Zhoukou', 'c': 'China'}, {'n': 'Massy', 'c': 'Kyrgyzstan'}], 'america': [{'n': 'Aston', 'c': 'United States'}, {'n': 'Westbury', 'c': 'United States'}, {'n': 'Cunha', 'c': 'Brazil'}, {'n': 'Odenton', 'c': 'United States'}, {'n': 'Saint-Constant', 'c': 'Canada'}, {'n': 'Mundelein', 'c': 'United States'}, {'n': 'Tizayuca', 'c': 'Mexico'}, {'n': 'Planaltina', 'c': 'Brazil'}, {'n': 'Pacho', 'c': 'Colombia'}, {'n': 'Courtenay', 'c': 'Canada'}, {'n': 'Orillia', 'c': 'Canada'}, {'n': 'Castaic', 'c': 'United States'}, {'n': 'Westlake', 'c': 'United States'}, {'n': 'Burlington', 'c': 'Canada'}, {'n': 'Calimaya', 'c': 'Mexico'}, {'n': 'Brockville', 'c': 'Canada'}, {'n': 'Tukwila', 'c': 'United States'}, {'n': 'Temixco', 'c': 'Mexico'}, {'n': 'Southchase', 'c': 'United States'}, {'n': 'Maricopa', 'c': 'United States'}], 'africa': [{'n': 'Dundee', 'c': 'South Africa'}, {'n': 'Menzel Temime', 'c': 'Tunisia'}, {'n': 'Arbaoua', 'c': 'Morocco'}, {'n': 'Beni Khalled', 'c': 'Tunisia'}, {'n': 'Warri', 'c': 'Nigeria'}, {'n': 'Azemmour', 'c': 'Morocco'}, {'n': 'Mazinde', 'c': 'Tanzania'}, {'n': 'Kidal', 'c': 'Mali'}, {'n': 'Pretoria', 'c': 'South Africa'}, {'n': 'Midrand', 'c': 'South Africa'}, {'n': 'Chefchaouene', 'c': 'Morocco'}, {'n': 'Sefrou', 'c': 'Morocco'}, {'n': 'Kade', 'c': 'Ghana'}, {'n': 'Taveta', 'c': 'Kenya'}, {'n': 'Seva', 'c': 'Ghana'}, {'n': 'Vanderbijlpark', 'c': 'South Africa'}, {'n': 'Margate', 'c': 'South Africa'}, {'n': 'Dosso', 'c': 'Niger'}, {'n': 'Bab Ezzouar', 'c': 'Algeria'}, {'n': 'Mbala', 'c': 'Zambia'}], 'australia': [{'n': 'Wollongong', 'c': 'Australia'}, {'n': 'Ballarat', 'c': 'Australia'}, {'n': 'Nerang', 'c': 'Australia'}, {'n': 'Auckland', 'c': 'New Zealand'}, {'n': 'Canberra', 'c': 'Australia'}, {'n': 'Tarawa', 'c': 'Kiribati'}, {'n': 'Ashton', 'c': 'New Zealand'}, {'n': 'Horsham', 'c': 'Australia'}, {'n': 'Banora Point', 'c': 'Australia'}, {'n': 'Upper Hutt', 'c': 'New Zealand'}, {'n': 'Brisbane', 'c': 'Australia'}, {'n': 'Buderim', 'c': 'Australia'}, {'n': 'Richmond', 'c': 'New Zealand'}, {'n': 'Maryborough', 'c': 'Australia'}, {'n': 'Maroochydore', 'c': 'Australia'}, {'n': 'Wallan', 'c': 'Australia'}, {'n': 'Levin', 'c': 'New Zealand'}, {'n': 'Timaru', 'c': 'New Zealand'}, {'n': 'Narangba', 'c': 'Australia'}, {'n': 'Gisborne', 'c': 'New Zealand'}], 'europe': [{'n': 'San Giorgio a Cremano', 'c': 'Italy'}, {'n': 'Zemst', 'c': 'Belgium'}, {'n': 'Mainz', 'c': 'Germany'}, {'n': 'Piossasco', 'c': 'Italy'}, {'n': 'Heidenau', 'c': 'Germany'}, {'n': 'Stuhr', 'c': 'Germany'}, {'n': 'San Giuliano Milanese', 'c': 'Italy'}, {'n': 'Stara Pazova', 'c': 'Serbia'}, {'n': 'Oupeye', 'c': 'Belgium'}, {'n': 'Sittard', 'c': 'Netherlands'}, {'n': 'Qormi', 'c': 'Malta'}, {'n': 'Marcianise', 'c': 'Italy'}, {'n': 'Diepenbeek', 'c': 'Belgium'}, {'n': 'Sitges', 'c': 'Spain'}, {'n': 'Bruges', 'c': 'Belgium'}, {'n': 'Samobor', 'c': 'Croatia'}, {'n': 'Estarreja', 'c': 'Portugal'}, {'n': 'Villingen-Schwenningen', 'c': 'Germany'}, {'n': 'Remagen', 'c': 'Germany'}, {'n': 'Nivelles', 'c': 'Belgium'}]}\n",
      "102\n"
     ]
    }
   ],
   "source": [
    "continent_keys = {  #map for reducing exported file\n",
    "    'asia': 1, \n",
    "    'america': 2, \n",
    "    'africa': 3, \n",
    "    'australia': 4, \n",
    "    'europe': 5\n",
    "}\n",
    "#1. generate random cities to show in homepage\n",
    "home_cities, cities_with_image = generate_cities_for_home()\n",
    "print(home_cities)\n",
    "print(str(len(cities_with_image)))\n"
   ]
  },
  {
   "cell_type": "code",
   "execution_count": 11,
   "metadata": {},
   "outputs": [
    {
     "name": "stdout",
     "output_type": "stream",
     "text": [
      "asia : 3610\n",
      "america : 5482\n",
      "africa : 1102\n",
      "australia : 132\n",
      "europe : 4886\n",
      "All cities count: 15212\n"
     ]
    }
   ],
   "source": [
    "##export ALL cities that had data in db -> the file size should limit to 2 MB (reduce key name)\n",
    "#export all cities into json file\n",
    "all_cities = [] #data to export\n",
    "city_continent_map = {} #key: city, value: continent (just for counting how many cities in each continent)\n",
    "for continent in continents:\n",
    "    num_city_in_continent = 0\n",
    "    db_city = tb_city.find({'continent':continent, 'error': None})\n",
    "    for document in db_city:\n",
    "        #count how many cities in a continent\n",
    "        if document['name'] not in city_continent_map:\n",
    "            num_city_in_continent += 1\n",
    "        #save this city into the list\n",
    "        if (document['name'] == home_cities['top_banner']['n'] and document['country'] == home_cities['top_banner']['c']) or (document['name'] == home_cities['random_pick']['n'] and document['country'] == home_cities['random_pick']['c']):\n",
    "            newImgUrls = []\n",
    "            for imgUrl in document['imgUrls']:\n",
    "                newImgUrls.append(imgUrl.replace(IMAGE_URI, ''))\n",
    "            #get full info\n",
    "            all_cities.append({\n",
    "                \"n\" : document['name'],\n",
    "                \"c\" : document['country'],\n",
    "                \"t\" : document['city_id'],\n",continet
    "                \"w\" : document['wonder_id'],\n",
    "                \"r\" : document['review'],\n",
    "                \"i\" : document['img'].replace(IMAGE_URI, ''),  #remove domain to reduce file size\n",
    "                'l': newImgUrls,\n",
    "            })\n",
    "        elif document['uuid'] in cities_with_image:\n",
    "            #get info with 1 image, DO NOT save other images\n",
    "            all_cities.append({\n",
    "                \"n\" : document['name'],\n",
    "                \"c\" : document['country'],\n",
    "                \"t\" : document['city_id'],\n",
    "                \"w\" : document['wonder_id'],\n",continet
    "                \"r\" : document['review'],\n",
    "                \"i\" : document['img'].replace(IMAGE_URI, '')\n",
    "            })\n",
    "        else:\n",
    "            #get simple data for searching only (no other relevant info)\n",
    "            minInfo = {\n",
    "                \"n\" : document['name'],\n",
    "                \"c\" : document['country'],\n",continet
    "                \"t\" : document['city_id'],\n",
    "                \"w\" : document['wonder_id']\n",
    "            }\n",
    "            if document['review'] != None and document['review'] > 10000:\n",
    "                #those cities will be shown up in homepage + continent list, need image there\n",
    "                minInfo['r'] = document['review']\n",
    "                minInfo['i'] = document['img'].replace(IMAGE_URI, '')\n",
    "            all_cities.append(minInfo)\n",
    "    print(continent + ' : ' + str(num_city_in_continent))\n",
    "#finish\n",
    "print('All cities count: ' + str(len(all_cities)))\n",
    "#export to json file\n",
    "try:\n",
    "    with open('city_db.json', 'w', encoding='utf-8') as f:  # Use utf-8 encoding\n",
    "            json.dump(all_cities, f, separators=(',', ':'))  #no break line or extra spaces\n",
    "except (TypeError, OSError, json.JSONDecodeError) as e:  # Catch potential errors\n",
    "    print(f\"Error exporting to JSON: {e}\")"
   ]
  },
  {
   "cell_type": "code",
   "execution_count": null,
   "metadata": {},
   "outputs": [],
   "source": []
  }
 ],
 "metadata": {
  "kernelspec": {
   "display_name": "3.9.10",
   "language": "python",
   "name": "python3"
  },
  "language_info": {
   "codemirror_mode": {
    "name": "ipython",
    "version": 3
   },
   "file_extension": ".py",
   "mimetype": "text/x-python",
   "name": "python",
   "nbconvert_exporter": "python",
   "pygments_lexer": "ipython3",
   "version": "3.9.10"
  }
 },
 "nbformat": 4,
 "nbformat_minor": 2
}
