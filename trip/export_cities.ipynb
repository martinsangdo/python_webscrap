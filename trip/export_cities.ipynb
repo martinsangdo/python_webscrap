{
 "cells": [
  {
   "cell_type": "code",
   "execution_count": 1,
   "metadata": {},
   "outputs": [],
   "source": [
    "import requests\n",
    "import csv\n",
    "from pathlib import Path\n",
    "from dotenv import load_dotenv\n",
    "import os\n",
    "import pymongo\n",
    "import uuid"
   ]
  },
  {
   "cell_type": "code",
   "execution_count": 2,
   "metadata": {},
   "outputs": [],
   "source": [
    "db_client = pymongo.MongoClient('mongodb://localhost:27017')\n",
    "collections = db_client['db_ai_travel_planner']\n",
    "tb_city = collections['tb_city']"
   ]
  },
  {
   "cell_type": "code",
   "execution_count": 3,
   "metadata": {},
   "outputs": [],
   "source": [
    "def load_csv(filepath):\n",
    "    data = []\n",
    "    with open(filepath, 'r', newline='', encoding='utf-8') as csvfile:  # Handle encoding!\n",
    "        reader = csv.reader(csvfile)  # Or csv.DictReader for dictionaries\n",
    "        header = next(reader)  # Read the header row (if it exists)\n",
    "        for row in reader:\n",
    "            data.append(row)  # Or data.append(dict(zip(header, row))) for DictReader\n",
    "    return header, data  # Return header and data"
   ]
  },
  {
   "cell_type": "code",
   "execution_count": null,
   "metadata": {},
   "outputs": [
    {
     "name": "stdout",
     "output_type": "stream",
     "text": [
      "{'Afghanistan': 'asia', 'Aland Islands': 'europe', 'Albania': 'europe', 'Algeria': 'africa', 'American Samoa': 'australia', 'Andorra': 'europe', 'Angola': 'africa', 'Anguilla': 'america', 'Antarctica': 'polar', 'Antigua and Barbuda': 'america', 'Argentina': 'america', 'Armenia': 'asia', 'Aruba': 'america', 'Australia': 'australia', 'Austria': 'europe', 'Azerbaijan': 'asia', 'Bahrain': 'asia', 'Bangladesh': 'asia', 'Barbados': 'america', 'Belarus': 'europe', 'Belgium': 'europe', 'Belize': 'america', 'Benin': 'africa', 'Bermuda': 'america', 'Bhutan': 'asia', 'Bolivia': 'america', 'Bonaire, Sint Eustatius and Saba': 'america', 'Bosnia and Herzegovina': 'europe', 'Botswana': 'africa', 'Brazil': 'america', 'British Indian Ocean Territory': 'africa', 'Brunei': 'asia', 'Bulgaria': 'europe', 'Burkina Faso': 'africa', 'Burundi': 'africa', 'Cambodia': 'asia', 'Cameroon': 'africa', 'Canada': 'america', 'Cape Verde': 'africa', 'Cayman Islands': 'america', 'Central African Republic': 'africa', 'Chad': 'africa', 'Chile': 'america', 'China': 'asia', 'Christmas Island': 'australia', 'Cocos (Keeling) Islands': 'australia', 'Colombia': 'america', 'Comoros': 'africa', 'Congo': 'africa', 'Cook Islands': 'australia', 'Costa Rica': 'america', \"Cote D'Ivoire (Ivory Coast)\": 'africa', 'Croatia': 'europe', 'Cuba': 'america', 'Curaçao': 'america', 'Cyprus': 'europe', 'Czech Republic': 'europe', 'Democratic Republic of the Congo': 'africa', 'Denmark': 'europe', 'Djibouti': 'africa', 'Dominica': 'america', 'Dominican Republic': 'america', 'Ecuador': 'america', 'Egypt': 'africa', 'El Salvador': 'america', 'Equatorial Guinea': 'africa', 'Eritrea': 'africa', 'Estonia': 'europe', 'Eswatini': 'africa', 'Ethiopia': 'africa', 'Falkland Islands': 'america', 'Faroe Islands': 'europe', 'Fiji Islands': 'australia', 'Finland': 'europe', 'France': 'europe', 'French Guiana': 'america', 'French Polynesia': 'australia', 'French Southern Territories': 'africa', 'Gabon': 'africa', 'Georgia': 'asia', 'Germany': 'europe', 'Ghana': 'africa', 'Gibraltar': 'europe', 'Greece': 'europe', 'Greenland': 'america', 'Grenada': 'america', 'Guadeloupe': 'america', 'Guam': 'australia', 'Guatemala': 'america', 'Guernsey and Alderney': 'europe', 'Guinea': 'africa', 'Guinea-Bissau': 'africa', 'Guyana': 'america', 'Haiti': 'america', 'Honduras': 'america', 'Hong Kong S.A.R.': 'asia', 'Hungary': 'europe', 'Iceland': 'europe', 'India': 'asia', 'Indonesia': 'asia', 'Iran': 'asia', 'Iraq': 'asia', 'Ireland': 'europe', 'Israel': 'asia', 'Italy': 'europe', 'Jamaica': 'america', 'Japan': 'asia', 'Jersey': 'europe', 'Jordan': 'asia', 'Kazakhstan': 'asia', 'Kenya': 'africa', 'Kiribati': 'australia', 'Kosovo': 'europe', 'Kuwait': 'asia', 'Kyrgyzstan': 'asia', 'Laos': 'asia', 'Latvia': 'europe', 'Lebanon': 'asia', 'Lesotho': 'africa', 'Liberia': 'africa', 'Libya': 'africa', 'Liechtenstein': 'europe', 'Lithuania': 'europe', 'Luxembourg': 'europe', 'Macau S.A.R.': 'asia', 'Madagascar': 'africa', 'Malawi': 'africa', 'Malaysia': 'asia', 'Maldives': 'asia', 'Mali': 'africa', 'Malta': 'europe', 'Man (Isle of)': 'europe', 'Marshall Islands': 'australia', 'Martinique': 'america', 'Mauritania': 'africa', 'Mauritius': 'africa', 'Mayotte': 'africa', 'Mexico': 'america', 'Micronesia': 'australia', 'Moldova': 'europe', 'Monaco': 'europe', 'Mongolia': 'asia', 'Montenegro': 'europe', 'Montserrat': 'america', 'Morocco': 'africa', 'Mozambique': 'africa', 'Myanmar': 'asia', 'Namibia': 'africa', 'Nauru': 'australia', 'Nepal': 'asia', 'Netherlands': 'europe', 'New Caledonia': 'australia', 'New Zealand': 'australia', 'Nicaragua': 'america', 'Niger': 'africa', 'Nigeria': 'africa', 'Niue': 'australia', 'Norfolk Island': 'australia', 'North Korea': 'asia', 'North Macedonia': 'europe', 'Northern Mariana Islands': 'australia', 'Norway': 'europe', 'Oman': 'asia', 'Pakistan': 'asia', 'Palau': 'australia', 'Palestinian Territory Occupied': 'asia', 'Panama': 'america', 'Papua New Guinea': 'australia', 'Paraguay': 'america', 'Peru': 'america', 'Philippines': 'asia', 'Pitcairn Island': 'australia', 'Poland': 'europe', 'Portugal': 'europe', 'Puerto Rico': 'america', 'Qatar': 'asia', 'Reunion': 'africa', 'Romania': 'europe', 'Russia': 'europe', 'Rwanda': 'africa', 'Saint Helena': 'africa', 'Saint Kitts and Nevis': 'america', 'Saint Lucia': 'america', 'Saint Pierre and Miquelon': 'america', 'Saint Vincent and the Grenadines': 'america', 'Saint-Barthelemy': 'america', 'Saint-Martin (French part)': 'america', 'Samoa': 'australia', 'San Marino': 'europe', 'Sao Tome and Principe': 'africa', 'Saudi Arabia': 'asia', 'Senegal': 'africa', 'Serbia': 'europe', 'Seychelles': 'africa', 'Sierra Leone': 'africa', 'Singapore': 'asia', 'Sint Maarten (Dutch part)': 'america', 'Slovakia': 'europe', 'Slovenia': 'europe', 'Solomon Islands': 'australia', 'Somalia': 'africa', 'South Africa': 'africa', 'South Georgia': 'america', 'South Korea': 'asia', 'South Sudan': 'africa', 'Spain': 'europe', 'Sri Lanka': 'asia', 'Sudan': 'africa', 'Suriname': 'america', 'Svalbard and Jan Mayen Islands': 'europe', 'Sweden': 'europe', 'Switzerland': 'europe', 'Syria': 'asia', 'Taiwan': 'asia', 'Tajikistan': 'asia', 'Tanzania': 'africa', 'Thailand': 'asia', 'The Bahamas': 'america', 'The Gambia ': 'africa', 'Timor-Leste': 'asia', 'Togo': 'africa', 'Tokelau': 'australia', 'Tonga': 'australia', 'Trinidad and Tobago': 'america', 'Tunisia': 'africa', 'Turkey': 'asia', 'Turkmenistan': 'asia', 'Turks and Caicos Islands': 'america', 'Tuvalu': 'australia', 'Uganda': 'africa', 'Ukraine': 'europe', 'United Arab Emirates': 'asia', 'United Kingdom': 'europe', 'United States': 'america', 'United States Minor Outlying Islands': 'america', 'Uruguay': 'america', 'Uzbekistan': 'asia', 'Vanuatu': 'australia', 'Vatican City State (Holy See)': 'europe', 'Venezuela': 'america', 'Vietnam': 'asia', 'Virgin Islands (British)': 'america', 'Virgin Islands (US)': 'america', 'Wallis and Futuna Islands': 'australia', 'Western Sahara': 'africa', 'Yemen': 'asia', 'Zambia': 'africa', 'Zimbabwe': 'africa'}\n"
     ]
    }
   ],
   "source": [
    "continent_map = {}  #key: country, value: continent\n",
    "continents = {} #key: continent, value: 1\n",
    "#read continent info\n",
    "header, data = load_csv(Path(\"./countries.csv\"))\n",
    "for row in data:\n",
    "    continent = row[12].replace('Americas', 'America').replace('Oceania', 'Australia').lower()\n",
    "    if continent != '' and continent != 'Polar':\n",
    "        continent_map[row[1]] = continent\n",
    "#print(continent_map)"
   ]
  },
  {
   "cell_type": "code",
   "execution_count": 9,
   "metadata": {},
   "outputs": [],
   "source": [
    "continent_map['UAE'] = 'asia'"
   ]
  },
  {
   "cell_type": "code",
   "execution_count": 10,
   "metadata": {},
   "outputs": [],
   "source": [
    "header, data = load_csv(Path(\"./city_country_shortened.csv\"))\n",
    "for row in data:\n",
    "    if row[1] in continent_map:\n",
    "        #print(row[0] + ',' + row[1] + ',' + continent_map[row[1]])\n",
    "        a = 1\n",
    "    else:\n",
    "        print('Not found country ------ ' + row[1]) #UAE\n"
   ]
  },
  {
   "cell_type": "code",
   "execution_count": 21,
   "metadata": {},
   "outputs": [
    {
     "name": "stdout",
     "output_type": "stream",
     "text": [
      "asia : 542\n",
      "america : 198\n",
      "africa : 105\n",
      "australia : 7\n",
      "europe : 119\n",
      "{'Tokyo': 'asia', 'Jakarta': 'asia', 'Delhi': 'asia', 'Guangzhou': 'asia', 'Mumbai': 'asia', 'Manila': 'asia', 'Shanghai': 'asia', 'Dhaka': 'asia', 'Beijing': 'asia', 'Bangkok': 'asia', 'Shenzhen': 'asia', 'Karachi': 'asia', 'Ho Chi Minh City': 'asia', 'Chengdu': 'asia', 'Tehran': 'asia', 'Chennai': 'asia', 'Lahore': 'asia', 'Chongqing': 'asia', 'Baoding': 'asia', 'Linyi': 'asia', 'Dongguan': 'asia', 'Tianjin': 'asia', 'Wuhan': 'asia', 'Nanyang': 'asia', 'Hangzhou': 'asia', 'Foshan': 'asia', 'Nagoya': 'asia', 'Tongshan': 'asia', 'Zhoukou': 'asia', 'Ganzhou': 'asia', 'Kuala Lumpur': 'asia', 'Heze': 'asia', 'Quanzhou': 'asia', 'Nanjing': 'asia', 'Jining': 'asia', 'Hanoi': 'asia', 'Pune': 'asia', 'Fuyang': 'asia', 'Ahmedabad': 'asia', 'Shenyang': 'asia', 'Shangqiu': 'asia', 'Cangzhou': 'asia', 'Riyadh': 'asia', 'Xingtai': 'asia', 'Zhumadian': 'asia', 'Surabaya': 'asia', 'Zhanjiang': 'asia', 'Bijie': 'asia', 'Yancheng': 'asia', 'Hengyang': 'asia', 'Zunyi': 'asia', 'Shangrao': 'asia', 'Xinyang': 'asia', 'Baghdad': 'asia', 'Maoming': 'asia', 'Jieyang': 'asia', 'Singapore': 'asia', 'Liaocheng': 'asia', 'Huanggang': 'asia', 'Dalian': 'asia', 'Qingdao': 'asia', 'Yulin': 'asia', 'Qujing': 'asia', 'Zhengzhou': 'asia', 'Dezhou': 'asia', 'Nanchong': 'asia', 'Jinan': 'asia', 'Ankara': 'asia', 'Langfang': 'asia', 'Dazhou': 'asia', 'Suzhou': 'asia', 'Yongzhou': 'asia', 'Changde': 'asia', 'Xiangyang': 'asia', 'Zhaotong': 'asia', 'Zhangzhou': 'asia', 'Yichun': 'asia', 'Bozhou': 'asia', 'Suqian': 'asia', 'Guilin': 'asia', 'Pingdingshan': 'asia', 'Mianyang': 'asia', 'Yuncheng': 'asia', 'Changsha': 'asia', 'Jeddah': 'asia', 'Weinan': 'asia', 'Chenzhou': 'asia', 'Jiangmen': 'asia', 'Jiujiang': 'asia', 'Yibin': 'asia', 'Huaihua': 'asia', 'Yangzhou': 'asia', 'Taizhou': 'asia', 'Kunming': 'asia', 'Yiyang': 'asia', 'Changchun': 'asia', 'Meizhou': 'asia', 'Guigang': 'asia', 'Shantou': 'asia', 'Kabul': 'asia', 'Luzhou': 'asia', 'Hefei': 'asia', 'Hengshui': 'asia', 'Anqing': 'asia', 'Liuzhou': 'asia', 'Zhangjiakou': 'asia', 'Zhaoqing': 'asia', 'Shijiazhuang': 'asia', 'Ningbo': 'asia', 'Qiqihar': 'asia', 'Fuzhou': 'asia', 'Chifeng': 'asia', 'Amman': 'asia', 'Chuzhou': 'asia', 'Linfen': 'asia', 'Qingyuan': 'asia', 'Xianyang': 'asia', 'Loudi': 'asia', 'Binzhou': 'asia', 'Zhuzhou': 'asia', 'Taiyuan': 'asia', 'Nanning': 'asia', 'Harbin': 'asia', 'Yokohama': 'asia', 'Suihua': 'asia', 'Zaozhuang': 'asia', 'Xiamen': 'asia', 'Neijiang': 'asia', 'Baicheng': 'asia', 'Wuhu': 'asia', 'Medan': 'asia', 'Wenzhou': 'asia', 'Changzhou': 'asia', 'Puyang': 'asia', 'Jiaozuo': 'asia', 'Nanchang': 'asia', 'Deyang': 'asia', 'Hohhot': 'asia', 'Hechi': 'asia', 'Tangshan': 'asia', 'Lucknow': 'asia', 'Mashhad': 'asia', 'Dubai': 'asia', 'Anshan': 'asia', 'Qinzhou': 'asia', 'Guiyang': 'asia', 'Bengbu': 'asia', 'Suining': 'asia', 'Wuxi': 'asia', 'Hanzhong': 'asia', 'Putian': 'asia', 'Zhenjiang': 'asia', 'Faisalabad': 'asia', 'Changzhi': 'asia', 'Tongren': 'asia', 'Leshan': 'asia', 'Qinhuangdao': 'asia', 'Jaipur': 'asia', 'Xinzhou': 'asia', 'Lanzhou': 'asia', 'Wuzhou': 'asia', 'Taichung': 'asia', 'Huainan': 'asia', 'Rizhao': 'asia', 'Quezon City': 'asia', 'Tashkent': 'asia', 'Meishan': 'asia', 'Ningde': 'asia', 'Zhongshan': 'asia', 'Weihai': 'asia', 'Haikou': 'asia', 'Tongliao': 'asia', 'Chaoyang': 'asia', 'Shaoguan': 'asia', 'Heyuan': 'asia', 'Daqing': 'asia', 'Kaohsiung': 'asia', 'Xiangtan': 'asia', 'Longyan': 'asia', 'Baotou': 'asia', 'Handan': 'asia', 'Jinzhou': 'asia', 'Kanpur': 'asia', 'Shanwei': 'asia', 'Chaozhou': 'asia', 'Weifang': 'asia', 'Zibo': 'asia', 'Ankang': 'asia', 'Taipei': 'asia', 'Damascus': 'asia', 'Sanming': 'asia', 'Yangjiang': 'asia', 'Jiamusi': 'asia', 'Luohe': 'asia', 'Dingxi': 'asia', 'Shaoxing': 'asia', 'Yantai': 'asia', 'Huizhou': 'asia', 'Lishui': 'asia', 'Zigong': 'asia', 'Guangyuan': 'asia', 'Huangshi': 'asia', 'Xining': 'asia', 'Zhuhai': 'asia', 'Huludao': 'asia', 'Baoshan': 'asia', 'Mecca': 'asia', 'Lianshan': 'asia', 'Beirut': 'asia', 'Jilin': 'asia', 'Tieling': 'asia', 'Yunfu': 'asia', 'Luoyang': 'asia', 'Anshun': 'asia', 'Yingkou': 'asia', 'Colombo': 'asia', 'Baku': 'asia', 'Mudanjiang': 'asia', 'Fukuoka': 'asia', 'Jincheng': 'asia', 'Nantong': 'asia', 'Lincang': 'asia', 'Yuxi': 'asia', 'Tangerang': 'asia', 'Laibin': 'asia', 'Konya': 'asia', 'Supaul': 'asia', 'Dandong': 'asia', 'Gaoping': 'asia', 'Phnom Penh': 'asia', 'Depok': 'asia', 'Puning': 'asia', 'Huaibei': 'asia', 'Haiphong': 'asia', 'Chongzuo': 'asia', 'Rawalpindi': 'asia', 'Yushan': 'asia', 'Pingliang': 'asia', 'Vadodara': 'asia', 'Qingyang': 'asia', 'Gujranwala': 'asia', 'Aleppo': 'asia', 'Indore': 'asia', 'Karaj': 'asia', 'Peshawar': 'asia', 'Sapporo': 'asia', 'Pingxiang': 'asia', 'Almaty': 'asia', 'Yinchuan': 'asia', 'Tainan': 'asia', 'Multan': 'asia', 'Jixi': 'asia', 'Fushun': 'asia', 'Beihai': 'asia', 'Fuxin': 'asia', 'Wuwei': 'asia', 'Siping': 'asia', 'Mersin': 'asia', 'Mosul': 'asia', 'Davao': 'asia', 'Shuozhou': 'asia', 'Patna': 'asia', 'Changshu': 'asia', 'Heihe': 'asia', 'Semarang': 'asia', 'Jingdezhen': 'asia', 'Liaoyang': 'asia', 'Jiangyin': 'asia', 'Hebi': 'asia', 'Madurai': 'asia', 'Huzhou': 'asia', 'Jamshedpur': 'asia', 'Palembang': 'asia', 'Kawasaki': 'asia', 'Jiaxing': 'asia', 'Zhangjiajie': 'asia', 'Baiyin': 'asia', 'Guiping': 'asia', 'Lianjiang': 'asia', 'Yucheng': 'asia', 'Abu Dhabi': 'asia', 'Huazhou': 'asia', 'Jinhua': 'asia', 'Pizhou': 'asia', 'Muscat': 'asia', 'Wenling': 'asia', 'Gaozhou': 'asia', 'Medina': 'asia', 'Khulna': 'asia', 'Fuqing': 'asia', 'Wuzhong': 'asia', 'Pingdu': 'asia', 'Yangquan': 'asia', 'Yutan': 'asia', 'Chizhou': 'asia', 'Makassar': 'asia', 'Huangshan': 'asia', 'Benxi': 'asia', 'Saitama': 'asia', 'Xintai': 'asia', 'Meerut': 'asia', 'Yushu': 'asia', 'Baishan': 'asia', 'Haicheng': 'asia', 'Yicheng': 'asia', 'Jabalpur': 'asia', 'Rucheng': 'asia', 'Sharjah': 'asia', 'Yiwu': 'asia', 'Shuangyashan': 'asia', 'Xinyu': 'asia', 'Qom': 'asia', 'Zhangye': 'asia', 'Hiroshima': 'asia', 'Chiang Mai': 'asia', 'Doha': 'asia', 'Liaoyuan': 'asia', 'Bandar Lampung': 'asia', 'Lianyuan': 'asia', 'Kaiyuan': 'asia', 'Zhuji': 'asia', 'Leiyang': 'asia', 'Xiantao': 'asia', 'Amritsar': 'asia', 'Bogor': 'asia', 'Bishkek': 'asia', 'Tbilisi': 'asia', 'Dongtai': 'asia', 'Dingzhou': 'asia', 'Yuyao': 'asia', 'Hanchuan': 'asia', 'Gongzhuling': 'asia', 'Ezhou': 'asia', 'Astana': 'asia', 'Yerevan': 'asia', 'Gwalior': 'asia', 'Zhongwei': 'asia', 'Sendai': 'asia', 'Hegang': 'asia', 'Fangchenggang': 'asia', 'Shouguang': 'asia', 'Jodhpur': 'asia', 'Sanya': 'asia', 'Ashgabat': 'asia', 'Linhai': 'asia', 'Wafangdian': 'asia', 'Zhongxiang': 'asia', 'Islamabad': 'asia', 'Xinyi': 'asia', 'Raipur': 'asia', 'Zaoyang': 'asia', 'Kota': 'asia', 'Quetta': 'asia', 'Bareilly': 'asia', 'Xingcheng': 'asia', 'Taixing': 'asia', 'Yingcheng': 'asia', 'Luocheng': 'asia', 'Pekanbaru': 'asia', 'Chiba': 'asia', 'Kirkuk': 'asia', 'Wuchuan': 'asia', 'Cebu City': 'asia', 'Coimbatore': 'asia', 'Taishan': 'asia', 'Vientiane': 'asia', 'Anqiu': 'asia', 'Feicheng': 'asia', 'Jerusalem': 'asia', 'Taihe': 'asia', 'Kashgar': 'asia', 'Qingzhou': 'asia', 'Daye': 'asia', 'Padang': 'asia', 'Zhuanghe': 'asia', 'Quzhou': 'asia', 'Jiaozhou': 'asia', 'Yangchun': 'asia', 'Osmangazi': 'asia', 'Esenyurt': 'asia', 'Antipolo': 'asia', 'Zhoushan': 'asia', 'Klang': 'asia', 'Laiyang': 'asia', 'Jalandhar': 'asia', 'Gaomi': 'asia', 'Lhasa': 'asia', 'Ipoh': 'asia', 'Shache': 'asia', 'Hailun': 'asia', 'Macheng': 'asia', 'Erbil': 'asia', 'Kathmandu': 'asia', 'Dehui': 'asia', 'Denpasar': 'asia', 'Tongchuan': 'asia', 'Samarinda': 'asia', 'Sakai': 'asia', 'Renqiu': 'asia', 'Gaoyou': 'asia', 'Bhayandar': 'asia', 'Danyang': 'asia', 'Dongyang': 'asia', 'Qamdo': 'asia', 'Seyhan': 'asia', 'Niigata': 'asia', 'Hamamatsu': 'asia', 'Xiangxiang': 'asia', 'Homs': 'asia', 'Dali': 'asia', 'Korla': 'asia', 'Laixi': 'asia', 'Zhongba': 'asia', 'Bahawalpur': 'asia', 'Guangshui': 'asia', 'Lichuan': 'asia', 'Licheng': 'asia', 'Thiruvananthapuram': 'asia', 'Nehe': 'asia', 'Kumamoto': 'asia', 'Zunhua': 'asia', 'Langzhong': 'asia', 'Cagayan de Oro': 'asia', 'Guli': 'asia', 'Sagamihara': 'asia', 'Okayama': 'asia', 'Anlu': 'asia', 'Songyang': 'asia', 'Shihezi': 'asia', 'Valenzuela': 'asia', 'Xichang': 'asia', 'Bhiwandi': 'asia', 'George Town': 'asia', 'Dashiqiao': 'asia', 'Yenimahalle': 'asia', 'Warangal': 'asia', 'Latakia': 'asia', 'General Santos': 'asia', 'Qianxi': 'asia', 'Salem': 'asia', 'Gaizhou': 'asia', 'Mamak': 'asia', 'Shizuoka': 'asia', 'Xinmin': 'asia', 'Rasht': 'asia', 'Tasikmalaya': 'asia', 'Gorakhpur': 'asia', 'Zhaodong': 'asia', 'Bacoor': 'asia', 'Wenchang': 'asia', 'Shulan': 'asia', 'Banjarmasin': 'asia', 'Narela': 'asia', 'Sargodha': 'asia', 'Tondo': 'asia', 'Jieshou': 'asia', 'Guixi': 'asia', 'Wuxue': 'asia', 'Jinghong': 'asia', 'Qufu': 'asia', 'Petaling Jaya': 'asia', 'Noida': 'asia', 'Manama': 'asia', 'Chuxiong': 'asia', 'Xinxing': 'asia', 'Namangan': 'asia', 'Bhilai': 'asia', 'Kaihua': 'asia', 'Turpan': 'asia', 'Jambi': 'asia', 'Pontianak': 'asia', 'Meihekou': 'asia', 'Xinji': 'asia', 'Etimesgut': 'asia', 'Serang': 'asia', 'Kuantan': 'asia', 'Kawaguchi': 'asia', 'Cuttack': 'asia', 'Tianchang': 'asia', 'Bacolod': 'asia', 'Haifa': 'asia', 'Balikpapan': 'asia', 'Melikgazi': 'asia', 'Kagoshima': 'asia', 'Cimahi': 'asia', 'Shangzhi': 'asia', 'Shah Alam': 'asia', 'Botou': 'asia', 'Iloilo': 'asia', 'Sincan': 'asia', 'Kottayam': 'asia', 'Lingyuan': 'asia', 'Irbid': 'asia', 'Lanxi': 'asia', 'Surakarta': 'asia', 'Ajmer': 'asia', 'Wuhai': 'asia', 'Yanji': 'asia', 'Nellore': 'asia', 'Samarkand': 'asia', 'Sungai Petani': 'asia', 'Fengcheng': 'asia', 'Fuding': 'asia', 'Aksu': 'asia', 'Dispur': 'asia', 'Mingguang': 'asia', 'Yazd': 'asia', 'Himeji': 'asia', 'Agartala': 'asia', 'Buca': 'asia', 'Anda': 'asia', 'Utsunomiya': 'asia', 'Loni': 'asia', 'Ujjain': 'asia', 'Aden': 'asia', 'Matsuyama': 'asia', 'Nagqu': 'asia', 'Vellore': 'asia', 'Jammu': 'asia', 'Nenjiang': 'asia', 'Sukkur': 'asia', 'Hsinchu': 'asia', 'Hongjiang': 'asia', 'Lapu-Lapu City': 'asia', 'Matsudo': 'asia', 'Johor Bahru': 'asia', 'Imus': 'asia', 'Beipiao': 'asia', 'Zhijiang': 'asia', 'Duyun': 'asia', 'Ichikawa': 'asia', 'Kota Bharu': 'asia', 'Yuanping': 'asia', 'Karamay': 'asia', 'Shahe': 'asia', 'Dunhua': 'asia', 'Sylhet': 'asia', 'Chiniot': 'asia', 'Nangong': 'asia', 'Kurashiki': 'asia', 'Gaya': 'asia', 'Laohekou': 'asia', 'New York': 'america', 'Buenos Aires': 'america', 'Rio de Janeiro': 'america', 'Los Angeles': 'america', 'Lima': 'america', 'Chicago': 'america', 'Santiago': 'america', 'Miami': 'america', 'Houston': 'america', 'Dallas': 'america', 'Philadelphia': 'america', 'Toronto': 'america', 'Guadalajara': 'america', 'Monterrey': 'america', 'Belo Horizonte': 'america', 'Atlanta': 'america', 'Washington': 'america', 'Boston': 'america', 'Fortaleza': 'america', 'Phoenix': 'america', 'Detroit': 'america', 'Seattle': 'america', 'San Francisco': 'america', 'Santa Cruz de la Sierra': 'america', 'San Diego': 'america', 'Guatemala City': 'america', 'Minneapolis': 'america', 'La Paz': 'america', 'Tampa': 'america', 'Brooklyn': 'america', 'Denver': 'america', 'Guayaquil': 'america', 'Cali': 'america', 'Vancouver': 'america', 'Salvador': 'america', 'Queens': 'america', 'Riverside': 'america', 'Las Vegas': 'america', 'Caracas': 'america', 'Baltimore': 'america', 'St. Louis': 'america', 'Portland': 'america', 'Havana': 'america', 'Manaus': 'america', 'San Antonio': 'america', 'Tijuana': 'america', 'Sacramento': 'america', 'Austin': 'america', 'Santos': 'america', 'Orlando': 'america', 'Santa Cruz': 'america', 'San Juan': 'america', 'Curitiba': 'america', 'San Jose': 'america', 'Quito': 'america', 'Pittsburgh': 'america', 'Indianapolis': 'america', 'Montevideo': 'america', 'Manhattan': 'america', 'Cincinnati': 'america', 'Kansas City': 'america', 'Tegucigalpa': 'america', 'Cleveland': 'america', 'Puebla': 'america', 'Columbus': 'america', 'Maracaibo': 'america', 'Panama City': 'america', 'Recife': 'america', 'Valencia': 'america', 'Zapopan': 'america', 'Bronx': 'america', 'Virginia Beach': 'america', 'Charlotte': 'america', 'Porto Alegre': 'america', 'Barranquilla': 'america', 'Guarulhos': 'america', 'Calgary': 'america', 'Milwaukee': 'america', 'Providence': 'america', 'Jacksonville': 'america', 'Rosario': 'america', 'Campinas': 'america', 'Nashville': 'america', 'Salt Lake City': 'america', 'Raleigh': 'america', 'Edmonton': 'america', 'Santo Domingo': 'america', 'Mexicali': 'america', 'Richmond': 'america', 'Ottawa': 'america', 'Barquisimeto': 'america', 'Managua': 'america', 'Memphis': 'america', 'Morelia': 'america', 'Arequipa': 'america', 'Oklahoma City': 'america', 'Natal': 'america', 'Hartford': 'america', 'Louisville': 'america', 'Teresina': 'america', 'Santo Domingo Este': 'america', 'Buffalo': 'america', 'El Alto': 'america', 'Trujillo': 'america', 'Aguascalientes': 'america', 'New Orleans': 'america', 'Fort Worth': 'america', 'Cartagena': 'america', 'Santiago del Estero': 'america', 'Bridgeport': 'america', 'Campo Grande': 'america', 'Bucaramanga': 'america', 'Tucson': 'america', 'Chihuahua': 'america', 'Barinas': 'america', 'El Paso': 'america', 'Saltillo': 'america', 'El Dorado': 'america', 'Cochabamba': 'america', 'Hermosillo': 'america', 'Omaha': 'america', 'Palermo': 'america', 'McAllen': 'america', 'San Pedro Sula': 'america', 'Hempstead': 'america', 'Birmingham': 'america', 'Albuquerque': 'america', 'Winnipeg': 'america', 'Osasco': 'america', 'Tulsa': 'america', 'Comodoro Rivadavia': 'america', 'Hamilton': 'america', 'Fresno': 'america', 'Sorocaba': 'america', 'Mississauga': 'america', 'Charleston': 'america', 'Rochester': 'america', 'Guadalupe': 'america', 'Soledad': 'america', 'Dayton': 'america', 'Aracaju': 'america', 'Tlaquepaque': 'america', 'Villavicencio': 'america', 'Catia La Mar': 'america', 'Brampton': 'america', 'Durango': 'america', 'Cape Coral': 'america', 'Tlalnepantla': 'america', 'Mission Viejo': 'america', 'Colorado Springs': 'america', 'Baton Rouge': 'america', 'Allentown': 'america', 'Ogden': 'america', 'Contagem': 'america', 'Provo': 'america', 'Feira de Santana': 'america', 'Knoxville': 'america', 'Grand Rapids': 'america', 'Columbia': 'america', 'Irapuato': 'america', 'Albany': 'america', 'Pereira': 'america', 'Reynosa': 'america', 'Kingston': 'america', 'Puente Alto': 'america', 'Bakersfield': 'america', 'Surrey': 'america', 'New Haven': 'america', 'Bello': 'america', 'Londrina': 'america', 'Chiclayo': 'america', 'Des Moines': 'america', 'Valledupar': 'america', 'Ixtapaluca': 'america', 'Akron': 'america', 'Juiz de Fora': 'america', 'Salta': 'america', 'Palm Bay': 'america', 'Concord': 'america', 'Santa Teresa del Tuy': 'america', 'Kitchener': 'america', 'Soacha': 'america', 'Serra': 'america', 'Mixco': 'america', 'Santa Marta': 'america', 'Carrefour': 'america', 'Campos': 'america', 'Wichita': 'america', 'Mesa': 'america', 'Harrisburg': 'america', 'Staten Island': 'america', 'Toledo': 'america', 'Brookhaven': 'america', 'Worcester': 'america', 'Villa Nueva': 'america', 'Ananindeua': 'america', 'Piura': 'america', 'Vila Velha': 'america', 'Cairo': 'africa', 'Lagos': 'africa', 'Luanda': 'africa', 'Johannesburg': 'africa', 'Dar es Salaam': 'africa', 'Khartoum': 'africa', 'Douala': 'africa', 'Giza': 'africa', 'Nairobi': 'africa', 'Alexandria': 'africa', 'Cape Town': 'africa', 'Bamako': 'africa', 'Abuja': 'africa', 'Ibadan': 'africa', 'Casablanca': 'africa', 'Kumasi': 'africa', 'Algiers': 'africa', 'Addis Ababa': 'africa', 'Mogadishu': 'africa', 'Lusaka': 'africa', 'Ouagadougou': 'africa', 'Accra': 'africa', 'Awka': 'africa', 'Harare': 'africa', 'Kano': 'africa', 'Bamenda': 'africa', 'Blantyre': 'africa', 'Port Harcourt': 'africa', 'Kampala': 'africa', 'Conakry': 'africa', 'Masvingo': 'africa', 'Kigali': 'africa', 'Dakar': 'africa', 'Soweto': 'africa', 'Mombasa': 'africa', 'Baidoa': 'africa', 'Maiduguri': 'africa', 'Tripoli': 'africa', 'Aba': 'africa', 'Benin City': 'africa', 'Bujumbura': 'africa', 'Maputo': 'africa', 'Mwanza': 'africa', 'Tamale': 'africa', 'Matola': 'africa', 'Monrovia': 'africa', 'Lilongwe': 'africa', 'Marrakech': 'africa', 'Asmara': 'africa', 'Freetown': 'africa', 'Tangier': 'africa', 'Owerri': 'africa', 'Bangui': 'africa', 'Abeokuta': 'africa', 'Ikeja': 'africa', 'Sale': 'africa', 'Akure': 'africa', 'Ilorin': 'africa', 'Pietermaritzburg': 'africa', 'Durban': 'africa', 'Libreville': 'africa', 'Lubango': 'africa', 'Kaduna': 'africa', 'Nampula': 'africa', 'Pretoria': 'africa', 'Cabinda': 'africa', 'Osogbo': 'africa', 'Marka': 'africa', 'Enugu': 'africa', 'Bauchi': 'africa', 'Lokoja': 'africa', 'Cotonou': 'africa', 'Bulawayo': 'africa', 'Huambo': 'africa', 'Jalingo': 'africa', 'Benghazi': 'africa', 'Jos': 'africa', 'Malanje': 'africa', 'Djibouti': 'africa', 'Tunis': 'africa', 'Garoua': 'africa', 'Bafoussam': 'africa', 'Mbale': 'africa', 'Port Sudan': 'africa', 'Rabat': 'africa', 'Nakuru': 'africa', 'Uyo': 'africa', 'Rustenburg': 'africa', 'Mbeya': 'africa', 'Kassala': 'africa', 'Beira': 'africa', 'Touba': 'africa', 'Ndola': 'africa', 'Port Said': 'africa', 'Suez': 'africa', 'Benguela': 'africa', 'Al Fashn': 'africa', 'Newcastle': 'africa', 'Kitwe': 'africa', 'El Fasher': 'africa', 'Belas': 'africa', 'Nyala': 'africa', 'Bissau': 'africa', 'Berbera': 'africa', 'Eldoret': 'africa', 'Melbourne': 'australia', 'Sydney': 'australia', 'Brisbane': 'australia', 'Perth': 'australia', 'Auckland': 'australia', 'Adelaide': 'australia', 'Port Moresby': 'australia', 'Moscow': 'europe', 'London': 'europe', 'Paris': 'europe', 'Madrid': 'europe', 'Saint Petersburg': 'europe', 'Berlin': 'europe', 'Barcelona': 'europe', 'Athens': 'europe', 'Budapest': 'europe', 'Kyiv': 'europe', 'Stuttgart': 'europe', 'Rome': 'europe', 'Munich': 'europe', 'Hamburg': 'europe', 'Bucharest': 'europe', 'Vienna': 'europe', 'Stockholm': 'europe', 'Minsk': 'europe', 'Tilburg': 'europe', 'Warsaw': 'europe', 'Novosibirsk': 'europe', 'Sofia': 'europe', 'Yekaterinburg': 'europe', 'Amsterdam': 'europe', 'Kharkiv': 'europe', 'Copenhagen': 'europe', 'Helsinki': 'europe', 'Milan': 'europe', 'Porto': 'europe', 'Dublin': 'europe', 'Kazan': 'europe', 'Brussels': 'europe', 'Belgrade': 'europe', 'Chelyabinsk': 'europe', 'Omsk': 'europe', 'Samara': 'europe', 'Rostov': 'europe', 'Ufa': 'europe', 'Sevilla': 'europe', 'Cologne': 'europe', 'Krasnoyarsk': 'europe', 'Oslo': 'europe', 'Voronezh': 'europe', 'Perm': 'europe', 'Odesa': 'europe', 'Volgograd': 'europe', 'Bordeaux': 'europe', 'Dnipro': 'europe', 'Krasnodar': 'europe', 'Riga': 'europe', 'Naples': 'europe', 'Donetsk': 'europe', 'Marseille': 'europe', 'Portsmouth': 'europe', 'Tyumen': 'europe', 'Southampton': 'europe', 'Saratov': 'europe', 'Turin': 'europe', 'Leeds': 'europe', 'Bilbao': 'europe', 'Frankfurt': 'europe', 'Zagreb': 'europe', 'Nottingham': 'europe', 'Lviv': 'europe', 'Vilnius': 'europe', 'Bristol': 'europe', 'Chisinau': 'europe', 'Zaragoza': 'europe', 'Murcia': 'europe', 'Rotterdam': 'europe', 'Makhachkala': 'europe', 'Izhevsk': 'europe', 'Las Palmas': 'europe', 'Barnaul': 'europe', 'Glasgow': 'europe', 'Ulyanovsk': 'europe', 'Irkutsk': 'europe', 'Khabarovsk': 'europe', 'Leipzig': 'europe', 'Tallinn': 'europe', 'Gothenburg': 'europe', 'Kryvyi Rih': 'europe', 'Yaroslavl': 'europe', 'Vladivostok': 'europe', 'Dortmund': 'europe', 'Essen': 'europe', 'Tomsk': 'europe', 'Bremen': 'europe', 'Orenburg': 'europe', 'Dresden': 'europe', 'Kemerovo': 'europe', 'Genoa': 'europe', 'Novokuznetsk': 'europe', 'Lisbon': 'europe', 'Manchester': 'europe', 'Hannover': 'europe', 'Ryazan': 'europe', 'Antwerp': 'europe', 'Naberezhnyye Chelny': 'europe', 'Skopje': 'europe', 'Astrakhan': 'europe', 'Lyon': 'europe', 'Sheffield': 'europe', 'Penza': 'europe', 'Liverpool': 'europe', 'Leicester': 'europe', 'Toulouse': 'europe', 'Lipetsk': 'europe', 'Duisburg': 'europe', 'Kirov': 'europe', 'Kaliningrad': 'europe', 'Cheboksary': 'europe', 'Edinburgh': 'europe', 'Sevastopol': 'europe', 'Valletta': 'europe', 'Bratislava': 'europe', 'Worthing': 'europe', 'Mykolaiv': 'europe', 'Balashikha': 'europe'}\n"
     ]
    }
   ],
   "source": [
    "#export ALL cities that had data in db -> the file show limit to 2 MB\n",
    "city_continent_map = {} #key: city, value: continent\n",
    "continents = ['asia', 'america', 'africa', 'australia', 'europe']\n",
    "for continent in continents:\n",
    "    num_city_in_continent = 0\n",
    "    db_city = tb_city.find({'continent':continent, 'error': None})\n",
    "    for document in db_city:\n",
    "        if document['name'] not in city_continent_map:\n",
    "            city_continent_map[document['name']] = document['continent']\n",
    "            num_city_in_continent += 1\n",
    "    print(continent + ' : ' + str(num_city_in_continent))\n",
    "\n",
    "print(city_continent_map)"
   ]
  },
  {
   "cell_type": "code",
   "execution_count": null,
   "metadata": {},
   "outputs": [],
   "source": [
    "#select most commented cities for HOMEPAGE, each continent get random 20 cities\n"
   ]
  },
  {
   "cell_type": "code",
   "execution_count": null,
   "metadata": {},
   "outputs": [],
   "source": [
    "#select "
   ]
  }
 ],
 "metadata": {
  "kernelspec": {
   "display_name": "3.9.10",
   "language": "python",
   "name": "python3"
  },
  "language_info": {
   "codemirror_mode": {
    "name": "ipython",
    "version": 3
   },
   "file_extension": ".py",
   "mimetype": "text/x-python",
   "name": "python",
   "nbconvert_exporter": "python",
   "pygments_lexer": "ipython3",
   "version": "3.9.10"
  }
 },
 "nbformat": 4,
 "nbformat_minor": 2
}
