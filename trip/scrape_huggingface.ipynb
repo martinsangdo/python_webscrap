{
 "cells": [
  {
   "cell_type": "markdown",
   "metadata": {},
   "source": [
    "# Scrape models info from Hugging face"
   ]
  },
  {
   "cell_type": "code",
   "execution_count": 2,
   "metadata": {},
   "outputs": [],
   "source": [
    "import requests\n",
    "from bs4 import BeautifulSoup\n"
   ]
  },
  {
   "cell_type": "markdown",
   "metadata": {},
   "source": [
    "Output:\n",
    "- List of categories\n",
    "- List of models inside each category\n",
    "- Model:\n",
    "    + Name\n",
    "    + ..."
   ]
  },
  {
   "cell_type": "code",
   "execution_count": 3,
   "metadata": {},
   "outputs": [],
   "source": [
    "#define list of tasks\n",
    "categories = ['Multimodal', 'Computer Vision', 'Natural Language Processing', 'Audio', 'Tabular', 'Reinforcement Learning']\n",
    "task_list = []"
   ]
  },
  {
   "cell_type": "code",
   "execution_count": 4,
   "metadata": {},
   "outputs": [
    {
     "name": "stdout",
     "output_type": "stream",
     "text": [
      "Multimodal\n",
      "\t\t\t\t\n",
      "Computer Vision\n",
      "\t\t\t\t\n",
      "Natural Language Processing\n",
      "\t\t\t\t\n",
      "Audio\n",
      "\t\t\t\t\n",
      "Tabular\n",
      "\t\t\t\t\n",
      "Reinforcement Learning\n",
      "\t\t\t\t\n",
      "Other\n",
      "\t\t\t\t\n"
     ]
    }
   ],
   "source": [
    "list_url = 'https://huggingface.co/models?sort=trending'\n",
    "response = requests.get(list_url)\n",
    "\n",
    "soup = BeautifulSoup(response.content, 'html.parser')\n",
    "items = soup.find_all('div', attrs={'class': 'mb-3 text-sm font-medium text-gray-500'})\n",
    "for item in items:\n",
    "    print(item.text)\n"
   ]
  },
  {
   "cell_type": "code",
   "execution_count": null,
   "metadata": {},
   "outputs": [],
   "source": []
  }
 ],
 "metadata": {
  "kernelspec": {
   "display_name": "3.9.10",
   "language": "python",
   "name": "python3"
  },
  "language_info": {
   "codemirror_mode": {
    "name": "ipython",
    "version": 3
   },
   "file_extension": ".py",
   "mimetype": "text/x-python",
   "name": "python",
   "nbconvert_exporter": "python",
   "pygments_lexer": "ipython3",
   "version": "3.9.10"
  }
 },
 "nbformat": 4,
 "nbformat_minor": 2
}
